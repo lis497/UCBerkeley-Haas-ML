{
 "cells": [
  {
   "cell_type": "markdown",
   "id": "490833db-ed99-4853-83aa-0c2934f5e990",
   "metadata": {},
   "source": [
    "### Comparing Models and Vectorization Strategies for Text Classification\n",
    "\n",
    "This try-it focuses on weighing the positives and negatives of different estimators and vectorization strategies for a text classification problem.  In order to consider each of these components, you should make use of the `Pipeline` and `GridSearchCV` objects in scikitlearn to try different combinations of vectorizers with different estimators.  For each of these, you also want to use the `.cv_results_` to examine the time for the estimator to fit the data."
   ]
  },
  {
   "cell_type": "markdown",
   "id": "60a4cf35-68de-4a8a-8f75-cdc169301f51",
   "metadata": {},
   "source": [
    "### The Data\n",
    "\n",
    "The dataset below is from [kaggle]() and contains a dataset named the \"ColBert Dataset\" created for this [paper](https://arxiv.org/pdf/2004.12765.pdf).  You are to use the text column to classify whether or not the text was humorous.  It is loaded and displayed below.\n",
    "\n",
    "**Note:** The original dataset contains 200K rows of data. It is best to try to use the full dtaset. If the original dataset is too large for your computer, please use the 'dataset-minimal.csv', which has been reduced to 100K."
   ]
  },
  {
   "cell_type": "code",
   "execution_count": 1,
   "id": "800d16fc-c227-42c5-815b-49103ae14827",
   "metadata": {},
   "outputs": [],
   "source": [
    "import pandas as pd"
   ]
  },
  {
   "cell_type": "code",
   "execution_count": 17,
   "id": "23d1d8b6-f379-46a5-954e-0de3740a000c",
   "metadata": {},
   "outputs": [],
   "source": [
    "df = pd.read_csv('try-it_18_1_starter/text_data/dataset.csv')"
   ]
  },
  {
   "cell_type": "code",
   "execution_count": 18,
   "id": "af343087-e52d-4e2c-ba35-64d4f60b2609",
   "metadata": {},
   "outputs": [
    {
     "data": {
      "text/html": [
       "<div>\n",
       "<style scoped>\n",
       "    .dataframe tbody tr th:only-of-type {\n",
       "        vertical-align: middle;\n",
       "    }\n",
       "\n",
       "    .dataframe tbody tr th {\n",
       "        vertical-align: top;\n",
       "    }\n",
       "\n",
       "    .dataframe thead th {\n",
       "        text-align: right;\n",
       "    }\n",
       "</style>\n",
       "<table border=\"1\" class=\"dataframe\">\n",
       "  <thead>\n",
       "    <tr style=\"text-align: right;\">\n",
       "      <th></th>\n",
       "      <th>text</th>\n",
       "      <th>humor</th>\n",
       "    </tr>\n",
       "  </thead>\n",
       "  <tbody>\n",
       "    <tr>\n",
       "      <th>0</th>\n",
       "      <td>Joe biden rules out 2020 bid: 'guys, i'm not r...</td>\n",
       "      <td>False</td>\n",
       "    </tr>\n",
       "    <tr>\n",
       "      <th>1</th>\n",
       "      <td>Watch: darvish gave hitter whiplash with slow ...</td>\n",
       "      <td>False</td>\n",
       "    </tr>\n",
       "    <tr>\n",
       "      <th>2</th>\n",
       "      <td>What do you call a turtle without its shell? d...</td>\n",
       "      <td>True</td>\n",
       "    </tr>\n",
       "    <tr>\n",
       "      <th>3</th>\n",
       "      <td>5 reasons the 2016 election feels so personal</td>\n",
       "      <td>False</td>\n",
       "    </tr>\n",
       "    <tr>\n",
       "      <th>4</th>\n",
       "      <td>Pasco police shot mexican migrant from behind,...</td>\n",
       "      <td>False</td>\n",
       "    </tr>\n",
       "  </tbody>\n",
       "</table>\n",
       "</div>"
      ],
      "text/plain": [
       "                                                text  humor\n",
       "0  Joe biden rules out 2020 bid: 'guys, i'm not r...  False\n",
       "1  Watch: darvish gave hitter whiplash with slow ...  False\n",
       "2  What do you call a turtle without its shell? d...   True\n",
       "3      5 reasons the 2016 election feels so personal  False\n",
       "4  Pasco police shot mexican migrant from behind,...  False"
      ]
     },
     "execution_count": 18,
     "metadata": {},
     "output_type": "execute_result"
    }
   ],
   "source": [
    "df.head()"
   ]
  },
  {
   "cell_type": "code",
   "execution_count": 19,
   "id": "2980f800-ac9b-47f0-bc53-c443369bf168",
   "metadata": {},
   "outputs": [
    {
     "name": "stdout",
     "output_type": "stream",
     "text": [
      "<class 'pandas.core.frame.DataFrame'>\n",
      "RangeIndex: 200000 entries, 0 to 199999\n",
      "Data columns (total 2 columns):\n",
      " #   Column  Non-Null Count   Dtype \n",
      "---  ------  --------------   ----- \n",
      " 0   text    200000 non-null  object\n",
      " 1   humor   200000 non-null  bool  \n",
      "dtypes: bool(1), object(1)\n",
      "memory usage: 1.7+ MB\n"
     ]
    }
   ],
   "source": [
    "df.info()"
   ]
  },
  {
   "cell_type": "markdown",
   "id": "330d8bc1-9f20-430b-93dd-9b356e489530",
   "metadata": {},
   "source": [
    "#### Task\n",
    "\n",
    "\n",
    "**Text preprocessing:** As a pre-processing step, perform both `stemming` and `lemmatizing` to normalize your text before classifying. For each technique use both the `CountVectorize`r and `TfidifVectorizer` and use options for stop words and max features to prepare the text data for your estimator.\n",
    "\n",
    "**Classification:** Once you have prepared the text data with stemming lemmatizing techniques, consider `LogisticRegression`, `DecisionTreeClassifier`, and `MultinomialNB` as classification algorithms for the data. Compare their performance in terms of accuracy and speed.\n",
    "\n",
    "Share the results of your best classifier in the form of a table with the best version of each estimator, a dictionary of the best parameters and the best score."
   ]
  },
  {
   "cell_type": "code",
   "execution_count": 5,
   "id": "52825745-0f13-4ac0-b29a-4e735fcf72a1",
   "metadata": {},
   "outputs": [
    {
     "data": {
      "text/html": [
       "<div>\n",
       "<style scoped>\n",
       "    .dataframe tbody tr th:only-of-type {\n",
       "        vertical-align: middle;\n",
       "    }\n",
       "\n",
       "    .dataframe tbody tr th {\n",
       "        vertical-align: top;\n",
       "    }\n",
       "\n",
       "    .dataframe thead th {\n",
       "        text-align: right;\n",
       "    }\n",
       "</style>\n",
       "<table border=\"1\" class=\"dataframe\">\n",
       "  <thead>\n",
       "    <tr style=\"text-align: right;\">\n",
       "      <th></th>\n",
       "      <th>best_params</th>\n",
       "      <th>best_score</th>\n",
       "    </tr>\n",
       "    <tr>\n",
       "      <th>model</th>\n",
       "      <th></th>\n",
       "      <th></th>\n",
       "    </tr>\n",
       "  </thead>\n",
       "  <tbody>\n",
       "    <tr>\n",
       "      <th>Logistic</th>\n",
       "      <td></td>\n",
       "      <td></td>\n",
       "    </tr>\n",
       "    <tr>\n",
       "      <th>Decision Tree</th>\n",
       "      <td></td>\n",
       "      <td></td>\n",
       "    </tr>\n",
       "    <tr>\n",
       "      <th>Bayes</th>\n",
       "      <td></td>\n",
       "      <td></td>\n",
       "    </tr>\n",
       "  </tbody>\n",
       "</table>\n",
       "</div>"
      ],
      "text/plain": [
       "              best_params best_score\n",
       "model                               \n",
       "Logistic                            \n",
       "Decision Tree                       \n",
       "Bayes                               "
      ]
     },
     "execution_count": 5,
     "metadata": {},
     "output_type": "execute_result"
    }
   ],
   "source": [
    "pd.DataFrame({'model': ['Logistic', 'Decision Tree', 'Bayes'], \n",
    "             'best_params': ['', '', ''],\n",
    "             'best_score': ['', '', '']}).set_index('model')"
   ]
  },
  {
   "cell_type": "code",
   "execution_count": 16,
   "id": "53c969b9-e012-49fb-8633-4f807327d00d",
   "metadata": {},
   "outputs": [
    {
     "name": "stderr",
     "output_type": "stream",
     "text": [
      "[nltk_data] Downloading package punkt to /Users/kellen/nltk_data...\n",
      "[nltk_data]   Package punkt is already up-to-date!\n",
      "[nltk_data] Downloading package wordnet to /Users/kellen/nltk_data...\n",
      "[nltk_data]   Package wordnet is already up-to-date!\n",
      "[nltk_data] Downloading package omw-1.4 to /Users/kellen/nltk_data...\n",
      "[nltk_data]   Package omw-1.4 is already up-to-date!\n"
     ]
    },
    {
     "data": {
      "text/plain": [
       "True"
      ]
     },
     "execution_count": 16,
     "metadata": {},
     "output_type": "execute_result"
    }
   ],
   "source": [
    "import nltk\n",
    "from nltk import word_tokenize, sent_tokenize\n",
    "from nltk.stem import PorterStemmer, WordNetLemmatizer\n",
    "nltk.download('punkt')\n",
    "nltk.download('wordnet')\n",
    "nltk.download('omw-1.4')"
   ]
  },
  {
   "cell_type": "markdown",
   "id": "c526c613-b671-46da-b1c4-24c56750365d",
   "metadata": {},
   "source": [
    "### Stemming"
   ]
  },
  {
   "cell_type": "code",
   "execution_count": 21,
   "id": "af701b71-dd72-4096-9f3c-a4b90aaa5efd",
   "metadata": {},
   "outputs": [],
   "source": [
    "def stemmer(text):\n",
    "    lst = word_tokenize(text)\n",
    "    stem = PorterStemmer()\n",
    "    return ' '.join([stem.stem(i) for i in lst])\n"
   ]
  },
  {
   "cell_type": "code",
   "execution_count": 15,
   "id": "a3d55d2f-9615-4843-a496-fe104d263d80",
   "metadata": {},
   "outputs": [
    {
     "name": "stdout",
     "output_type": "stream",
     "text": [
      "joebidenruleout2020bid:'guy,i'mnot\n"
     ]
    }
   ],
   "source": [
    "print(stemmer(\"Joe biden rules out 2020 bid: 'guys, i'm not\"))"
   ]
  },
  {
   "cell_type": "code",
   "execution_count": 22,
   "id": "b6c6c8a6-5206-459c-af5c-ef19d6cd82b4",
   "metadata": {},
   "outputs": [
    {
     "data": {
      "text/html": [
       "<div>\n",
       "<style scoped>\n",
       "    .dataframe tbody tr th:only-of-type {\n",
       "        vertical-align: middle;\n",
       "    }\n",
       "\n",
       "    .dataframe tbody tr th {\n",
       "        vertical-align: top;\n",
       "    }\n",
       "\n",
       "    .dataframe thead th {\n",
       "        text-align: right;\n",
       "    }\n",
       "</style>\n",
       "<table border=\"1\" class=\"dataframe\">\n",
       "  <thead>\n",
       "    <tr style=\"text-align: right;\">\n",
       "      <th></th>\n",
       "      <th>text</th>\n",
       "      <th>humor</th>\n",
       "      <th>stemmer</th>\n",
       "    </tr>\n",
       "  </thead>\n",
       "  <tbody>\n",
       "    <tr>\n",
       "      <th>0</th>\n",
       "      <td>Joe biden rules out 2020 bid: 'guys, i'm not r...</td>\n",
       "      <td>False</td>\n",
       "      <td>joe biden rule out 2020 bid : 'guy , i 'm not ...</td>\n",
       "    </tr>\n",
       "    <tr>\n",
       "      <th>1</th>\n",
       "      <td>Watch: darvish gave hitter whiplash with slow ...</td>\n",
       "      <td>False</td>\n",
       "      <td>watch : darvish gave hitter whiplash with slow...</td>\n",
       "    </tr>\n",
       "    <tr>\n",
       "      <th>2</th>\n",
       "      <td>What do you call a turtle without its shell? d...</td>\n",
       "      <td>True</td>\n",
       "      <td>what do you call a turtl without it shell ? de...</td>\n",
       "    </tr>\n",
       "    <tr>\n",
       "      <th>3</th>\n",
       "      <td>5 reasons the 2016 election feels so personal</td>\n",
       "      <td>False</td>\n",
       "      <td>5 reason the 2016 elect feel so person</td>\n",
       "    </tr>\n",
       "    <tr>\n",
       "      <th>4</th>\n",
       "      <td>Pasco police shot mexican migrant from behind,...</td>\n",
       "      <td>False</td>\n",
       "      <td>pasco polic shot mexican migrant from behind ,...</td>\n",
       "    </tr>\n",
       "  </tbody>\n",
       "</table>\n",
       "</div>"
      ],
      "text/plain": [
       "                                                text  humor  \\\n",
       "0  Joe biden rules out 2020 bid: 'guys, i'm not r...  False   \n",
       "1  Watch: darvish gave hitter whiplash with slow ...  False   \n",
       "2  What do you call a turtle without its shell? d...   True   \n",
       "3      5 reasons the 2016 election feels so personal  False   \n",
       "4  Pasco police shot mexican migrant from behind,...  False   \n",
       "\n",
       "                                             stemmer  \n",
       "0  joe biden rule out 2020 bid : 'guy , i 'm not ...  \n",
       "1  watch : darvish gave hitter whiplash with slow...  \n",
       "2  what do you call a turtl without it shell ? de...  \n",
       "3             5 reason the 2016 elect feel so person  \n",
       "4  pasco polic shot mexican migrant from behind ,...  "
      ]
     },
     "execution_count": 22,
     "metadata": {},
     "output_type": "execute_result"
    }
   ],
   "source": [
    "df['stemmer'] = df['text'].apply(stemmer)\n",
    "df.head()"
   ]
  },
  {
   "cell_type": "markdown",
   "id": "a1fd38c7-1d2e-4101-bd25-2e0270a695ca",
   "metadata": {},
   "source": [
    "### Lemmatizing"
   ]
  },
  {
   "cell_type": "code",
   "execution_count": 25,
   "id": "b9f84252-1b60-4869-b689-ca62ee22ad7c",
   "metadata": {},
   "outputs": [],
   "source": [
    "def lemma(text):\n",
    "    lst = word_tokenize(text)\n",
    "    lemma = WordNetLemmatizer()\n",
    "    return ' '.join([lemma.lemmatize(i) for i in lst])\n",
    "    "
   ]
  },
  {
   "cell_type": "code",
   "execution_count": 26,
   "id": "60dde45c-3dde-48e6-ac33-72ddc8b8408b",
   "metadata": {},
   "outputs": [
    {
     "name": "stdout",
     "output_type": "stream",
     "text": [
      "Joe biden rule out 2020 bid : 'guys , i 'm not\n"
     ]
    }
   ],
   "source": [
    "print(lemma(\"Joe biden rules out 2020 bid: 'guys, i'm not\"))"
   ]
  },
  {
   "cell_type": "code",
   "execution_count": 27,
   "id": "63f3d008-fd9a-4439-9486-b0deb52c48f2",
   "metadata": {},
   "outputs": [
    {
     "data": {
      "text/html": [
       "<div>\n",
       "<style scoped>\n",
       "    .dataframe tbody tr th:only-of-type {\n",
       "        vertical-align: middle;\n",
       "    }\n",
       "\n",
       "    .dataframe tbody tr th {\n",
       "        vertical-align: top;\n",
       "    }\n",
       "\n",
       "    .dataframe thead th {\n",
       "        text-align: right;\n",
       "    }\n",
       "</style>\n",
       "<table border=\"1\" class=\"dataframe\">\n",
       "  <thead>\n",
       "    <tr style=\"text-align: right;\">\n",
       "      <th></th>\n",
       "      <th>text</th>\n",
       "      <th>humor</th>\n",
       "      <th>stemmer</th>\n",
       "      <th>lemma</th>\n",
       "    </tr>\n",
       "  </thead>\n",
       "  <tbody>\n",
       "    <tr>\n",
       "      <th>0</th>\n",
       "      <td>Joe biden rules out 2020 bid: 'guys, i'm not r...</td>\n",
       "      <td>False</td>\n",
       "      <td>joe biden rule out 2020 bid : 'guy , i 'm not ...</td>\n",
       "      <td>Joe biden rule out 2020 bid : 'guys , i 'm not...</td>\n",
       "    </tr>\n",
       "    <tr>\n",
       "      <th>1</th>\n",
       "      <td>Watch: darvish gave hitter whiplash with slow ...</td>\n",
       "      <td>False</td>\n",
       "      <td>watch : darvish gave hitter whiplash with slow...</td>\n",
       "      <td>Watch : darvish gave hitter whiplash with slow...</td>\n",
       "    </tr>\n",
       "    <tr>\n",
       "      <th>2</th>\n",
       "      <td>What do you call a turtle without its shell? d...</td>\n",
       "      <td>True</td>\n",
       "      <td>what do you call a turtl without it shell ? de...</td>\n",
       "      <td>What do you call a turtle without it shell ? d...</td>\n",
       "    </tr>\n",
       "    <tr>\n",
       "      <th>3</th>\n",
       "      <td>5 reasons the 2016 election feels so personal</td>\n",
       "      <td>False</td>\n",
       "      <td>5 reason the 2016 elect feel so person</td>\n",
       "      <td>5 reason the 2016 election feel so personal</td>\n",
       "    </tr>\n",
       "    <tr>\n",
       "      <th>4</th>\n",
       "      <td>Pasco police shot mexican migrant from behind,...</td>\n",
       "      <td>False</td>\n",
       "      <td>pasco polic shot mexican migrant from behind ,...</td>\n",
       "      <td>Pasco police shot mexican migrant from behind ...</td>\n",
       "    </tr>\n",
       "  </tbody>\n",
       "</table>\n",
       "</div>"
      ],
      "text/plain": [
       "                                                text  humor  \\\n",
       "0  Joe biden rules out 2020 bid: 'guys, i'm not r...  False   \n",
       "1  Watch: darvish gave hitter whiplash with slow ...  False   \n",
       "2  What do you call a turtle without its shell? d...   True   \n",
       "3      5 reasons the 2016 election feels so personal  False   \n",
       "4  Pasco police shot mexican migrant from behind,...  False   \n",
       "\n",
       "                                             stemmer  \\\n",
       "0  joe biden rule out 2020 bid : 'guy , i 'm not ...   \n",
       "1  watch : darvish gave hitter whiplash with slow...   \n",
       "2  what do you call a turtl without it shell ? de...   \n",
       "3             5 reason the 2016 elect feel so person   \n",
       "4  pasco polic shot mexican migrant from behind ,...   \n",
       "\n",
       "                                               lemma  \n",
       "0  Joe biden rule out 2020 bid : 'guys , i 'm not...  \n",
       "1  Watch : darvish gave hitter whiplash with slow...  \n",
       "2  What do you call a turtle without it shell ? d...  \n",
       "3        5 reason the 2016 election feel so personal  \n",
       "4  Pasco police shot mexican migrant from behind ...  "
      ]
     },
     "execution_count": 27,
     "metadata": {},
     "output_type": "execute_result"
    }
   ],
   "source": [
    "df['lemma'] = df['text'].apply(lemma)\n",
    "df.head()"
   ]
  },
  {
   "cell_type": "markdown",
   "id": "a5008559-2b28-4de4-b039-734b9abf6e7b",
   "metadata": {},
   "source": [
    "### Count Vectorization"
   ]
  },
  {
   "cell_type": "code",
   "execution_count": 28,
   "id": "b1b03f44-e727-4035-bd61-8d4fd11f0dd2",
   "metadata": {},
   "outputs": [],
   "source": [
    "import numpy as np\n",
    "import pandas as pd\n",
    "import matplotlib.pyplot as plt\n",
    "\n",
    "from sklearn.linear_model import LogisticRegression\n",
    "from sklearn.feature_extraction.text import CountVectorizer\n",
    "from sklearn.pipeline import Pipeline\n",
    "from sklearn.model_selection import train_test_split, GridSearchCV\n",
    "from sklearn.metrics import mean_squared_error"
   ]
  },
  {
   "cell_type": "code",
   "execution_count": 29,
   "id": "8e3dd843-db41-4f89-8a59-2ab3a44d822f",
   "metadata": {},
   "outputs": [],
   "source": [
    "X1 = df[['stemmer']]\n",
    "y1 = df['humor']"
   ]
  },
  {
   "cell_type": "code",
   "execution_count": 30,
   "id": "6a03fd63-81a9-4992-a65c-89c8bdac0693",
   "metadata": {},
   "outputs": [
    {
     "data": {
      "text/html": [
       "<div>\n",
       "<style scoped>\n",
       "    .dataframe tbody tr th:only-of-type {\n",
       "        vertical-align: middle;\n",
       "    }\n",
       "\n",
       "    .dataframe tbody tr th {\n",
       "        vertical-align: top;\n",
       "    }\n",
       "\n",
       "    .dataframe thead th {\n",
       "        text-align: right;\n",
       "    }\n",
       "</style>\n",
       "<table border=\"1\" class=\"dataframe\">\n",
       "  <thead>\n",
       "    <tr style=\"text-align: right;\">\n",
       "      <th></th>\n",
       "      <th>stemmer</th>\n",
       "    </tr>\n",
       "  </thead>\n",
       "  <tbody>\n",
       "    <tr>\n",
       "      <th>21743</th>\n",
       "      <td>9 fact you probabl would n't believ 50 year ago</td>\n",
       "    </tr>\n",
       "    <tr>\n",
       "      <th>124554</th>\n",
       "      <td>knock knock ? ? who 's there ? ? jehovah wit ....</td>\n",
       "    </tr>\n",
       "    <tr>\n",
       "      <th>10351</th>\n",
       "      <td>i 'm not an expert on masturb but i hold my own</td>\n",
       "    </tr>\n",
       "    <tr>\n",
       "      <th>135164</th>\n",
       "      <td>dad demand apolog from ann coulter for use 're...</td>\n",
       "    </tr>\n",
       "    <tr>\n",
       "      <th>49969</th>\n",
       "      <td>whi us it not good to have an oili face ? the ...</td>\n",
       "    </tr>\n",
       "  </tbody>\n",
       "</table>\n",
       "</div>"
      ],
      "text/plain": [
       "                                                  stemmer\n",
       "21743     9 fact you probabl would n't believ 50 year ago\n",
       "124554  knock knock ? ? who 's there ? ? jehovah wit ....\n",
       "10351     i 'm not an expert on masturb but i hold my own\n",
       "135164  dad demand apolog from ann coulter for use 're...\n",
       "49969   whi us it not good to have an oili face ? the ..."
      ]
     },
     "execution_count": 30,
     "metadata": {},
     "output_type": "execute_result"
    }
   ],
   "source": [
    "X1_train, X1_test, y1_train, y1_test = train_test_split(X1,y1,random_state = 42)\n",
    "X1_train.head()"
   ]
  },
  {
   "cell_type": "code",
   "execution_count": 31,
   "id": "94ba4e0b-0572-4cb2-8a9f-876e3bdf3673",
   "metadata": {},
   "outputs": [
    {
     "name": "stdout",
     "output_type": "stream",
     "text": [
      "<class 'pandas.core.frame.DataFrame'>\n",
      "Index: 150000 entries, 21743 to 121958\n",
      "Data columns (total 1 columns):\n",
      " #   Column   Non-Null Count   Dtype \n",
      "---  ------   --------------   ----- \n",
      " 0   stemmer  150000 non-null  object\n",
      "dtypes: object(1)\n",
      "memory usage: 2.3+ MB\n"
     ]
    }
   ],
   "source": [
    "X1_train.info()"
   ]
  },
  {
   "cell_type": "code",
   "execution_count": null,
   "id": "50dd1ed0-a172-4a75-a2a8-f76b9536b885",
   "metadata": {},
   "outputs": [],
   "source": []
  },
  {
   "cell_type": "code",
   "execution_count": null,
   "id": "3f7e999f-511b-415b-a7c7-f6bf20664baf",
   "metadata": {},
   "outputs": [],
   "source": []
  }
 ],
 "metadata": {
  "kernelspec": {
   "display_name": "Python 3 (ipykernel)",
   "language": "python",
   "name": "python3"
  },
  "language_info": {
   "codemirror_mode": {
    "name": "ipython",
    "version": 3
   },
   "file_extension": ".py",
   "mimetype": "text/x-python",
   "name": "python",
   "nbconvert_exporter": "python",
   "pygments_lexer": "ipython3",
   "version": "3.13.2"
  }
 },
 "nbformat": 4,
 "nbformat_minor": 5
}
