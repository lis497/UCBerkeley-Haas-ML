{
 "cells": [
  {
   "cell_type": "markdown",
   "id": "a4e3b497-98a6-466b-b058-aa8fb85b6997",
   "metadata": {},
   "source": [
    "## Codio Activity 2.4: Measures of Center and Spread with `pandas`\n",
    "\n",
    "Measures of central tendency for datasets are typically mean, median, mode, variance, and standard deviation. We will explore mode in later modules. This assignment focuses on using pandas to compute numerical summaries of data. You will load in a dataset and compute the mean, median, variance, and standard deviation of numeric features in the data. You will also examine the spread of the data using quartiles and the interquartile range, also identifying outliers using the  1.5×𝐼𝑄𝑅  rule.\n",
    "\n",
    "\n",
    "## Index:\n",
    "\n",
    "- [Problem 1](#Problem-1:-Load-the-Data)\n",
    "- [Problem 2](#Problem-2:-Base-Salary-Distribution-Mean)\n",
    "- [Problem 3](#Problem-3:-Base-Salary-Distribution-Median)\n",
    "- [Problem 4](#Problem-4:-Determining-Quartiles)\n",
    "- [Problem 5](#Problem-5:-Interquartile-Range)\n",
    "- [Problem 6](#Problem-6:-Rule-for-Outliers)\n",
    "- [Problem 7](#Problem-7:-Dropping-Outliers)\n",
    "- [Problem 8](#Finding-the-Mean-with-no-Outliers)\n",
    "- [Problem 9]()\n",
    "- [Problem 10](#Standard-Deviation-with-`numpy`)\n",
    "- [Problem 11](#Standard-Deviation-with-`pandas`)\n",
    "- [Problem 12]()\n",
    "- [Problem 13](#Measure-of-Center)"
   ]
  },
  {
   "cell_type": "code",
   "execution_count": 1,
   "id": "cb9d9384-10dd-4c1e-b7e0-6d7712b8ba16",
   "metadata": {},
   "outputs": [],
   "source": [
    "import pandas as pd\n",
    "import numpy as np\n",
    "import matplotlib.pyplot as plt"
   ]
  },
  {
   "cell_type": "markdown",
   "id": "999fea7f-2181-485a-acfe-d35d917f6dc4",
   "metadata": {},
   "source": [
    "### The Data\n",
    "\n",
    "\n",
    "![](images/payroll.png)\n",
    "The dataset for this assignment comes from New York City's Open Data, and contains information about the citywide payroll data.  Below, you are to load the data from a `.csv` file.  "
   ]
  },
  {
   "cell_type": "markdown",
   "id": "a5b2c57b-6f5c-450a-8580-794afdc48b45",
   "metadata": {},
   "source": [
    "### Problem 1:  Load the Data\n",
    "\n",
    "Below, load the data file located in the `data` folder named `nyc_salaries.csv`.  Assign your DataFrame to `nyc_salary_data`."
   ]
  },
  {
   "cell_type": "code",
   "execution_count": 2,
   "id": "de4ef558-fc54-482e-9074-1af0ea26d332",
   "metadata": {},
   "outputs": [
    {
     "data": {
      "text/html": [
       "<div>\n",
       "<style scoped>\n",
       "    .dataframe tbody tr th:only-of-type {\n",
       "        vertical-align: middle;\n",
       "    }\n",
       "\n",
       "    .dataframe tbody tr th {\n",
       "        vertical-align: top;\n",
       "    }\n",
       "\n",
       "    .dataframe thead th {\n",
       "        text-align: right;\n",
       "    }\n",
       "</style>\n",
       "<table border=\"1\" class=\"dataframe\">\n",
       "  <thead>\n",
       "    <tr style=\"text-align: right;\">\n",
       "      <th></th>\n",
       "      <th>fiscal_year</th>\n",
       "      <th>payroll_number</th>\n",
       "      <th>agency_name</th>\n",
       "      <th>last_name</th>\n",
       "      <th>first_name</th>\n",
       "      <th>agency_start_date</th>\n",
       "      <th>work_location_borough</th>\n",
       "      <th>title_description</th>\n",
       "      <th>leave_status_as_of_july_31</th>\n",
       "      <th>base_salary</th>\n",
       "      <th>pay_basis</th>\n",
       "      <th>regular_hours</th>\n",
       "      <th>regular_gross_paid</th>\n",
       "      <th>ot_hours</th>\n",
       "      <th>total_ot_paid</th>\n",
       "      <th>total_other_pay</th>\n",
       "      <th>mid_init</th>\n",
       "    </tr>\n",
       "  </thead>\n",
       "  <tbody>\n",
       "    <tr>\n",
       "      <th>0</th>\n",
       "      <td>2020</td>\n",
       "      <td>17</td>\n",
       "      <td>OFFICE OF EMERGENCY MANAGEMENT</td>\n",
       "      <td>BEREZIN</td>\n",
       "      <td>MIKHAIL</td>\n",
       "      <td>2015-08-10T00:00:00.000</td>\n",
       "      <td>BROOKLYN</td>\n",
       "      <td>EMERGENCY PREPAREDNESS MANAGER</td>\n",
       "      <td>ACTIVE</td>\n",
       "      <td>86005.0</td>\n",
       "      <td>per Annum</td>\n",
       "      <td>1820.0</td>\n",
       "      <td>84698.21</td>\n",
       "      <td>0.0</td>\n",
       "      <td>0.0</td>\n",
       "      <td>0.0</td>\n",
       "      <td>NaN</td>\n",
       "    </tr>\n",
       "    <tr>\n",
       "      <th>1</th>\n",
       "      <td>2020</td>\n",
       "      <td>17</td>\n",
       "      <td>OFFICE OF EMERGENCY MANAGEMENT</td>\n",
       "      <td>GEAGER</td>\n",
       "      <td>VERONICA</td>\n",
       "      <td>2016-09-12T00:00:00.000</td>\n",
       "      <td>BROOKLYN</td>\n",
       "      <td>EMERGENCY PREPAREDNESS MANAGER</td>\n",
       "      <td>ACTIVE</td>\n",
       "      <td>86005.0</td>\n",
       "      <td>per Annum</td>\n",
       "      <td>1820.0</td>\n",
       "      <td>84698.21</td>\n",
       "      <td>0.0</td>\n",
       "      <td>0.0</td>\n",
       "      <td>0.0</td>\n",
       "      <td>M</td>\n",
       "    </tr>\n",
       "    <tr>\n",
       "      <th>2</th>\n",
       "      <td>2020</td>\n",
       "      <td>17</td>\n",
       "      <td>OFFICE OF EMERGENCY MANAGEMENT</td>\n",
       "      <td>RAMANI</td>\n",
       "      <td>SHRADDHA</td>\n",
       "      <td>2016-02-22T00:00:00.000</td>\n",
       "      <td>BROOKLYN</td>\n",
       "      <td>EMERGENCY PREPAREDNESS MANAGER</td>\n",
       "      <td>ACTIVE</td>\n",
       "      <td>86005.0</td>\n",
       "      <td>per Annum</td>\n",
       "      <td>1820.0</td>\n",
       "      <td>84698.21</td>\n",
       "      <td>0.0</td>\n",
       "      <td>0.0</td>\n",
       "      <td>0.0</td>\n",
       "      <td>NaN</td>\n",
       "    </tr>\n",
       "    <tr>\n",
       "      <th>3</th>\n",
       "      <td>2020</td>\n",
       "      <td>17</td>\n",
       "      <td>OFFICE OF EMERGENCY MANAGEMENT</td>\n",
       "      <td>ROTTA</td>\n",
       "      <td>JONATHAN</td>\n",
       "      <td>2013-09-16T00:00:00.000</td>\n",
       "      <td>BROOKLYN</td>\n",
       "      <td>EMERGENCY PREPAREDNESS MANAGER</td>\n",
       "      <td>ACTIVE</td>\n",
       "      <td>86005.0</td>\n",
       "      <td>per Annum</td>\n",
       "      <td>1820.0</td>\n",
       "      <td>84698.21</td>\n",
       "      <td>0.0</td>\n",
       "      <td>0.0</td>\n",
       "      <td>0.0</td>\n",
       "      <td>D</td>\n",
       "    </tr>\n",
       "    <tr>\n",
       "      <th>4</th>\n",
       "      <td>2020</td>\n",
       "      <td>17</td>\n",
       "      <td>OFFICE OF EMERGENCY MANAGEMENT</td>\n",
       "      <td>WILSON II</td>\n",
       "      <td>ROBERT</td>\n",
       "      <td>2018-04-30T00:00:00.000</td>\n",
       "      <td>BROOKLYN</td>\n",
       "      <td>EMERGENCY PREPAREDNESS MANAGER</td>\n",
       "      <td>ACTIVE</td>\n",
       "      <td>86005.0</td>\n",
       "      <td>per Annum</td>\n",
       "      <td>1820.0</td>\n",
       "      <td>84698.21</td>\n",
       "      <td>0.0</td>\n",
       "      <td>0.0</td>\n",
       "      <td>0.0</td>\n",
       "      <td>P</td>\n",
       "    </tr>\n",
       "  </tbody>\n",
       "</table>\n",
       "</div>"
      ],
      "text/plain": [
       "   fiscal_year  payroll_number                     agency_name  last_name  \\\n",
       "0         2020              17  OFFICE OF EMERGENCY MANAGEMENT    BEREZIN   \n",
       "1         2020              17  OFFICE OF EMERGENCY MANAGEMENT     GEAGER   \n",
       "2         2020              17  OFFICE OF EMERGENCY MANAGEMENT     RAMANI   \n",
       "3         2020              17  OFFICE OF EMERGENCY MANAGEMENT      ROTTA   \n",
       "4         2020              17  OFFICE OF EMERGENCY MANAGEMENT  WILSON II   \n",
       "\n",
       "  first_name        agency_start_date work_location_borough  \\\n",
       "0    MIKHAIL  2015-08-10T00:00:00.000              BROOKLYN   \n",
       "1   VERONICA  2016-09-12T00:00:00.000              BROOKLYN   \n",
       "2   SHRADDHA  2016-02-22T00:00:00.000              BROOKLYN   \n",
       "3   JONATHAN  2013-09-16T00:00:00.000              BROOKLYN   \n",
       "4     ROBERT  2018-04-30T00:00:00.000              BROOKLYN   \n",
       "\n",
       "                title_description leave_status_as_of_july_31  base_salary  \\\n",
       "0  EMERGENCY PREPAREDNESS MANAGER                     ACTIVE      86005.0   \n",
       "1  EMERGENCY PREPAREDNESS MANAGER                     ACTIVE      86005.0   \n",
       "2  EMERGENCY PREPAREDNESS MANAGER                     ACTIVE      86005.0   \n",
       "3  EMERGENCY PREPAREDNESS MANAGER                     ACTIVE      86005.0   \n",
       "4  EMERGENCY PREPAREDNESS MANAGER                     ACTIVE      86005.0   \n",
       "\n",
       "   pay_basis  regular_hours  regular_gross_paid  ot_hours  total_ot_paid  \\\n",
       "0  per Annum         1820.0            84698.21       0.0            0.0   \n",
       "1  per Annum         1820.0            84698.21       0.0            0.0   \n",
       "2  per Annum         1820.0            84698.21       0.0            0.0   \n",
       "3  per Annum         1820.0            84698.21       0.0            0.0   \n",
       "4  per Annum         1820.0            84698.21       0.0            0.0   \n",
       "\n",
       "   total_other_pay mid_init  \n",
       "0              0.0      NaN  \n",
       "1              0.0        M  \n",
       "2              0.0      NaN  \n",
       "3              0.0        D  \n",
       "4              0.0        P  "
      ]
     },
     "execution_count": 2,
     "metadata": {},
     "output_type": "execute_result"
    }
   ],
   "source": [
    "nyc_salary_data = pd.read_csv(\"data/nyc_salaries.csv\")\n",
    "nyc_salary_data.head()"
   ]
  },
  {
   "cell_type": "markdown",
   "id": "3c39301a-d5e7-4e8d-ba13-1807cc446532",
   "metadata": {},
   "source": [
    "### Examine the Data\n",
    "\n",
    "Now that the data is loaded, information about the datatypes and missing values as well as a quick look at the first five rows of the data can be retrieved using the `.info()` and `.head()` methods."
   ]
  },
  {
   "cell_type": "code",
   "execution_count": 3,
   "id": "80a4ad2a-110d-4bff-9cd0-91c42885c779",
   "metadata": {},
   "outputs": [
    {
     "name": "stdout",
     "output_type": "stream",
     "text": [
      "<class 'pandas.core.frame.DataFrame'>\n",
      "RangeIndex: 590210 entries, 0 to 590209\n",
      "Data columns (total 17 columns):\n",
      " #   Column                      Non-Null Count   Dtype  \n",
      "---  ------                      --------------   -----  \n",
      " 0   fiscal_year                 590210 non-null  int64  \n",
      " 1   payroll_number              590210 non-null  int64  \n",
      " 2   agency_name                 590210 non-null  object \n",
      " 3   last_name                   589838 non-null  object \n",
      " 4   first_name                  589835 non-null  object \n",
      " 5   agency_start_date           590147 non-null  object \n",
      " 6   work_location_borough       590207 non-null  object \n",
      " 7   title_description           590204 non-null  object \n",
      " 8   leave_status_as_of_july_31  590210 non-null  object \n",
      " 9   base_salary                 590210 non-null  float64\n",
      " 10  pay_basis                   590210 non-null  object \n",
      " 11  regular_hours               590210 non-null  float64\n",
      " 12  regular_gross_paid          590210 non-null  float64\n",
      " 13  ot_hours                    590210 non-null  float64\n",
      " 14  total_ot_paid               590210 non-null  float64\n",
      " 15  total_other_pay             590210 non-null  float64\n",
      " 16  mid_init                    349608 non-null  object \n",
      "dtypes: float64(6), int64(2), object(9)\n",
      "memory usage: 76.6+ MB\n"
     ]
    }
   ],
   "source": [
    "nyc_salary_data.info()"
   ]
  },
  {
   "cell_type": "markdown",
   "id": "c52cfc0c-e78b-4006-a0f4-09a729a8cb40",
   "metadata": {},
   "source": [
    "### Problem 2: Base Salary Distribution Mean\n",
    "\n",
    "Use pandas to determine the mean of the `base_salary` column.  Assign your answer to the variable `ans_2` below."
   ]
  },
  {
   "cell_type": "code",
   "execution_count": 4,
   "id": "f7f9a2e5-18ba-4547-94c0-90461f564248",
   "metadata": {},
   "outputs": [
    {
     "data": {
      "text/plain": [
       "base_salary    46719.464393\n",
       "dtype: float64"
      ]
     },
     "execution_count": 4,
     "metadata": {},
     "output_type": "execute_result"
    }
   ],
   "source": [
    "ans_2 = nyc_salary_data[['base_salary']].mean()\n",
    "ans_2"
   ]
  },
  {
   "cell_type": "code",
   "execution_count": 5,
   "id": "5b701bc1-2ef7-46bb-af73-f2eb8db6c99e",
   "metadata": {},
   "outputs": [
    {
     "data": {
      "text/plain": [
       "array([[<Axes: title={'center': 'base_salary'}>]], dtype=object)"
      ]
     },
     "execution_count": 5,
     "metadata": {},
     "output_type": "execute_result"
    },
    {
     "data": {
      "image/png": "[encoded data removed]",
      "text/plain": [
       "<Figure size 640x480 with 1 Axes>"
      ]
     },
     "metadata": {},
     "output_type": "display_data"
    }
   ],
   "source": [
    "nyc_salary_data[['base_salary']].hist()"
   ]
  },
  {
   "cell_type": "markdown",
   "id": "f00acf51-fb9c-4881-ac0e-a2987a422ee9",
   "metadata": {},
   "source": [
    "### Problem 3: Base Salary Distribution Median\n",
    "\n",
    "Use the pandas `.median()` method to find the median of the `base_salary` column. Assign your answer to the variable `ans_3` below."
   ]
  },
  {
   "cell_type": "code",
   "execution_count": 6,
   "id": "b53822cb-b9e2-4881-b7d5-d90e47ef8fb5",
   "metadata": {},
   "outputs": [
    {
     "data": {
      "text/plain": [
       "base_salary    44930.0\n",
       "dtype: float64"
      ]
     },
     "execution_count": 6,
     "metadata": {},
     "output_type": "execute_result"
    }
   ],
   "source": [
    "ans_3 = nyc_salary_data[['base_salary']].median()\n",
    "ans_3"
   ]
  },
  {
   "cell_type": "markdown",
   "id": "fb773c8a-32d0-4394-8c26-5be639d2e38e",
   "metadata": {},
   "source": [
    "### Problem 4: Determining Quartiles\n",
    "\n",
    "The first quartile in our data is found by arranging the data from least to greatest and determining the median of the lower half of the data.  \n",
    "\n",
    "The third quartile is the median of the upper half of the data.  \n",
    "\n",
    "Pandas has a `.quantile()` method that accepts an argument as a single value or list of values of quantiles to compute.  \n",
    "\n",
    "- Use the `.quantile()` method  with argument equal to `.25` to determine the first quartile of the `base_salary` column. Assign your answer to the variable `first_quartile`.\n",
    "- Use the `.quantile()` method  with argument equal to `.75` to determine the third quartile of the `base_salary` column. Assign your answer to the variable `third_quartile`.\n"
   ]
  },
  {
   "cell_type": "code",
   "execution_count": 7,
   "id": "f4b6b4e5-1934-489a-a49f-c218589ca9f7",
   "metadata": {},
   "outputs": [
    {
     "data": {
      "text/html": [
       "<div>\n",
       "<style scoped>\n",
       "    .dataframe tbody tr th:only-of-type {\n",
       "        vertical-align: middle;\n",
       "    }\n",
       "\n",
       "    .dataframe tbody tr th {\n",
       "        vertical-align: top;\n",
       "    }\n",
       "\n",
       "    .dataframe thead th {\n",
       "        text-align: right;\n",
       "    }\n",
       "</style>\n",
       "<table border=\"1\" class=\"dataframe\">\n",
       "  <thead>\n",
       "    <tr style=\"text-align: right;\">\n",
       "      <th></th>\n",
       "      <th>base_salary</th>\n",
       "    </tr>\n",
       "  </thead>\n",
       "  <tbody>\n",
       "    <tr>\n",
       "      <th>count</th>\n",
       "      <td>590210.000000</td>\n",
       "    </tr>\n",
       "    <tr>\n",
       "      <th>mean</th>\n",
       "      <td>46719.464393</td>\n",
       "    </tr>\n",
       "    <tr>\n",
       "      <th>std</th>\n",
       "      <td>45027.001693</td>\n",
       "    </tr>\n",
       "    <tr>\n",
       "      <th>min</th>\n",
       "      <td>1.000000</td>\n",
       "    </tr>\n",
       "    <tr>\n",
       "      <th>25%</th>\n",
       "      <td>33.180000</td>\n",
       "    </tr>\n",
       "    <tr>\n",
       "      <th>50%</th>\n",
       "      <td>44930.000000</td>\n",
       "    </tr>\n",
       "    <tr>\n",
       "      <th>75%</th>\n",
       "      <td>85292.000000</td>\n",
       "    </tr>\n",
       "    <tr>\n",
       "      <th>max</th>\n",
       "      <td>414707.000000</td>\n",
       "    </tr>\n",
       "  </tbody>\n",
       "</table>\n",
       "</div>"
      ],
      "text/plain": [
       "         base_salary\n",
       "count  590210.000000\n",
       "mean    46719.464393\n",
       "std     45027.001693\n",
       "min         1.000000\n",
       "25%        33.180000\n",
       "50%     44930.000000\n",
       "75%     85292.000000\n",
       "max    414707.000000"
      ]
     },
     "execution_count": 7,
     "metadata": {},
     "output_type": "execute_result"
    }
   ],
   "source": [
    "nyc_salary_data[['base_salary']].describe()"
   ]
  },
  {
   "cell_type": "code",
   "execution_count": 9,
   "id": "cfa44d9f-b621-403d-a331-de8b4339dfaa",
   "metadata": {},
   "outputs": [
    {
     "data": {
      "text/plain": [
       "base_salary    33.18\n",
       "Name: 0.25, dtype: float64"
      ]
     },
     "execution_count": 9,
     "metadata": {},
     "output_type": "execute_result"
    }
   ],
   "source": [
    "nyc_salary_data[['base_salary']].quantile(.25)"
   ]
  },
  {
   "cell_type": "code",
   "execution_count": 8,
   "id": "1c2b3cae-b9c5-4510-9064-4dd8e2075333",
   "metadata": {},
   "outputs": [
    {
     "data": {
      "text/plain": [
       "base_salary    44930.0\n",
       "Name: 0.5, dtype: float64"
      ]
     },
     "execution_count": 8,
     "metadata": {},
     "output_type": "execute_result"
    }
   ],
   "source": [
    "nyc_salary_data[['base_salary']].quantile(.5)"
   ]
  },
  {
   "cell_type": "code",
   "execution_count": 18,
   "id": "92f86ebd-7e19-4d4c-817a-f19c49890887",
   "metadata": {},
   "outputs": [
    {
     "data": {
      "text/plain": [
       "base_salary    85292.0\n",
       "Name: 0.75, dtype: float64"
      ]
     },
     "execution_count": 18,
     "metadata": {},
     "output_type": "execute_result"
    }
   ],
   "source": [
    "nyc_salary_data[['base_salary']].quantile(.75)"
   ]
  },
  {
   "cell_type": "code",
   "execution_count": 19,
   "id": "91cd4726-6445-4959-a1dd-4e363abb3422",
   "metadata": {},
   "outputs": [
    {
     "data": {
      "text/plain": [
       "base_salary    108150.0\n",
       "Name: 0.908, dtype: float64"
      ]
     },
     "execution_count": 19,
     "metadata": {},
     "output_type": "execute_result"
    }
   ],
   "source": [
    "nyc_salary_data[['base_salary']].quantile(.908)"
   ]
  },
  {
   "cell_type": "code",
   "execution_count": 20,
   "id": "18bb9d95-5ca3-4ec8-ae31-b8d9f4189f35",
   "metadata": {},
   "outputs": [
    {
     "data": {
      "text/plain": [
       "base_salary    121986.0\n",
       "Name: 0.95, dtype: float64"
      ]
     },
     "execution_count": 20,
     "metadata": {},
     "output_type": "execute_result"
    }
   ],
   "source": [
    "nyc_salary_data[['base_salary']].quantile(.95)"
   ]
  },
  {
   "cell_type": "code",
   "execution_count": 12,
   "id": "55c62c8e-fb8a-4866-81c8-8bd540bbd35c",
   "metadata": {},
   "outputs": [
    {
     "data": {
      "text/plain": [
       "<Axes: >"
      ]
     },
     "execution_count": 12,
     "metadata": {},
     "output_type": "execute_result"
    },
    {
     "data": {
      "image/png": "[encoded data removed]",
      "text/plain": [
       "<Figure size 640x480 with 1 Axes>"
      ]
     },
     "metadata": {},
     "output_type": "display_data"
    }
   ],
   "source": [
    "nyc_salary_data[['base_salary']].sort_values('base_salary').plot()"
   ]
  },
  {
   "cell_type": "code",
   "execution_count": 16,
   "id": "715ed2a0-f3fb-4fc7-b42a-020846688614",
   "metadata": {},
   "outputs": [
    {
     "data": {
      "text/plain": [
       "<Axes: >"
      ]
     },
     "execution_count": 16,
     "metadata": {},
     "output_type": "execute_result"
    },
    {
     "data": {
      "image/png": "[encoded data removed]",
      "text/plain": [
       "<Figure size 640x480 with 1 Axes>"
      ]
     },
     "metadata": {},
     "output_type": "display_data"
    }
   ],
   "source": [
    "nyc_salary_data[['base_salary']].sort_values('base_salary').reset_index().plot(y='base_salary')\n"
   ]
  },
  {
   "cell_type": "code",
   "execution_count": 17,
   "id": "56ff6d7c-b223-4250-b7d8-a85510c82a64",
   "metadata": {},
   "outputs": [
    {
     "data": {
      "text/plain": [
       "(590210, 17)"
      ]
     },
     "execution_count": 17,
     "metadata": {},
     "output_type": "execute_result"
    }
   ],
   "source": [
    "nyc_salary_data.shape"
   ]
  },
  {
   "cell_type": "code",
   "execution_count": 25,
   "id": "2dde2ee4-6737-42b6-964b-5f75906485df",
   "metadata": {},
   "outputs": [
    {
     "data": {
      "text/plain": [
       "<Axes: >"
      ]
     },
     "execution_count": 25,
     "metadata": {},
     "output_type": "execute_result"
    },
    {
     "data": {
      "image/png": "[encoded data removed]",
      "text/plain": [
       "<Figure size 640x480 with 1 Axes>"
      ]
     },
     "metadata": {},
     "output_type": "display_data"
    }
   ],
   "source": [
    "nyc_salary_data[['base_salary']].plot(kind = 'box', showmeans = True, ylim=(0, 50))"
   ]
  },
  {
   "cell_type": "code",
   "execution_count": 26,
   "id": "a1e96b6e-bfe0-4ffd-a5ea-50175066c04d",
   "metadata": {},
   "outputs": [
    {
     "data": {
      "text/plain": [
       "<Axes: >"
      ]
     },
     "execution_count": 26,
     "metadata": {},
     "output_type": "execute_result"
    },
    {
     "data": {
      "image/png": "[encoded data removed]",
      "text/plain": [
       "<Figure size 640x480 with 1 Axes>"
      ]
     },
     "metadata": {},
     "output_type": "display_data"
    }
   ],
   "source": [
    "nyc_salary_data[['base_salary']].plot(kind = 'box', showmeans = True)"
   ]
  },
  {
   "cell_type": "markdown",
   "id": "7645b84c-2118-4ae6-a2ec-8fb5528c71c1",
   "metadata": {},
   "source": [
    "### Problem 5: Interquartile Range\n",
    "\n",
    "The Interquartile Range (IQR) is the difference between the third and first quartile:\n",
    "\n",
    "$$\\text{IQR} = Q_3 - Q_1$$\n",
    "\n",
    "\n",
    "Use your work from Problem 4 to determine the IQR for the `base_salary` column and assign it to the `iqr` variable below."
   ]
  },
  {
   "cell_type": "code",
   "execution_count": 28,
   "id": "3422e65e-bbd6-44f6-8083-caf15095c550",
   "metadata": {},
   "outputs": [
    {
     "data": {
      "text/plain": [
       "base_salary    85258.82\n",
       "dtype: float64"
      ]
     },
     "execution_count": 28,
     "metadata": {},
     "output_type": "execute_result"
    }
   ],
   "source": [
    "iqr = nyc_salary_data[['base_salary']].quantile(0.75) - nyc_salary_data[['base_salary']].quantile(0.25)\n",
    "iqr"
   ]
  },
  {
   "cell_type": "markdown",
   "id": "6e8d8ee1-da62-4ccc-ae0f-5abd4927b081",
   "metadata": {},
   "source": [
    "### Problem 6: Rule for Outliers\n",
    "\n",
    "We can use the IQR to determine boundaries for outliers. As a rule of thumb, any values greater than the third quartile plus $1.5 \\times IQR$ or any values that are less than the first quartile by $1.5 \\times IQR$  are considered outliers.  \n",
    "\n",
    "Calculate the lower and upper boundaries for outliers for the `base_salary` column using the IQR rule above.\n",
    "\n",
    "Assign your solutions to the variables `lower` and `upper` below."
   ]
  },
  {
   "cell_type": "code",
   "execution_count": 37,
   "id": "4f1374f2-2c84-4438-b3d3-221fc4f8a762",
   "metadata": {},
   "outputs": [
    {
     "data": {
      "text/plain": [
       "base_salary   -127855.05\n",
       "dtype: float64"
      ]
     },
     "execution_count": 37,
     "metadata": {},
     "output_type": "execute_result"
    }
   ],
   "source": [
    "lower = nyc_salary_data['base_salary'].quantile(0.25) - 1.5*iqr\n",
    "lower"
   ]
  },
  {
   "cell_type": "code",
   "execution_count": 38,
   "id": "721b4f57-4bd8-4ede-8edc-45482ea69d16",
   "metadata": {},
   "outputs": [
    {
     "data": {
      "text/plain": [
       "base_salary    213180.23\n",
       "dtype: float64"
      ]
     },
     "execution_count": 38,
     "metadata": {},
     "output_type": "execute_result"
    }
   ],
   "source": [
    "upper = nyc_salary_data['base_salary'].quantile(0.75) + 1.5*iqr\n",
    "upper"
   ]
  },
  {
   "cell_type": "markdown",
   "id": "1a8282bb-6c5a-4801-9364-45d3e523b417",
   "metadata": {},
   "source": [
    "### Problem 7: Dropping Outliers\n",
    "\n",
    "With the upper and lower boundaries in place, drop the outliers from the dataset.  \n",
    "\n",
    "Use the pandas `loc[]` method to limit the data in the `base_salary` column based on the outliers bounds using the $1.5 \\times IQR$ rule.  \n",
    "\n",
    "Assign the resulting DataFrame to `salaries_no_outlier` below."
   ]
  },
  {
   "cell_type": "code",
   "execution_count": 39,
   "id": "22975bfb-6447-463b-b994-1b8f736f4ea4",
   "metadata": {},
   "outputs": [
    {
     "data": {
      "text/plain": [
       "pandas.core.series.Series"
      ]
     },
     "execution_count": 39,
     "metadata": {},
     "output_type": "execute_result"
    }
   ],
   "source": [
    "type(lower)"
   ]
  },
  {
   "cell_type": "code",
   "execution_count": 40,
   "id": "bd363683-39da-4bd1-a8fd-f6fddf6d1fcb",
   "metadata": {},
   "outputs": [
    {
     "data": {
      "text/plain": [
       "Index(['base_salary'], dtype='object')"
      ]
     },
     "execution_count": 40,
     "metadata": {},
     "output_type": "execute_result"
    }
   ],
   "source": [
    "lower.index\n"
   ]
  },
  {
   "cell_type": "code",
   "execution_count": 45,
   "id": "9e66d77c-524d-44bc-b0b8-2ac4ed9ba494",
   "metadata": {},
   "outputs": [
    {
     "data": {
      "text/plain": [
       "-127855.05000000002"
      ]
     },
     "execution_count": 45,
     "metadata": {},
     "output_type": "execute_result"
    }
   ],
   "source": [
    "# Important: to get Series inside number \n",
    "lower.item()"
   ]
  },
  {
   "cell_type": "code",
   "execution_count": 43,
   "id": "4f64402a-3f5e-403c-9c62-21c825e44c13",
   "metadata": {},
   "outputs": [
    {
     "data": {
      "text/html": [
       "<div>\n",
       "<style scoped>\n",
       "    .dataframe tbody tr th:only-of-type {\n",
       "        vertical-align: middle;\n",
       "    }\n",
       "\n",
       "    .dataframe tbody tr th {\n",
       "        vertical-align: top;\n",
       "    }\n",
       "\n",
       "    .dataframe thead th {\n",
       "        text-align: right;\n",
       "    }\n",
       "</style>\n",
       "<table border=\"1\" class=\"dataframe\">\n",
       "  <thead>\n",
       "    <tr style=\"text-align: right;\">\n",
       "      <th></th>\n",
       "      <th>fiscal_year</th>\n",
       "      <th>payroll_number</th>\n",
       "      <th>agency_name</th>\n",
       "      <th>last_name</th>\n",
       "      <th>first_name</th>\n",
       "      <th>agency_start_date</th>\n",
       "      <th>work_location_borough</th>\n",
       "      <th>title_description</th>\n",
       "      <th>leave_status_as_of_july_31</th>\n",
       "      <th>base_salary</th>\n",
       "      <th>pay_basis</th>\n",
       "      <th>regular_hours</th>\n",
       "      <th>regular_gross_paid</th>\n",
       "      <th>ot_hours</th>\n",
       "      <th>total_ot_paid</th>\n",
       "      <th>total_other_pay</th>\n",
       "      <th>mid_init</th>\n",
       "    </tr>\n",
       "  </thead>\n",
       "  <tbody>\n",
       "    <tr>\n",
       "      <th>0</th>\n",
       "      <td>2020</td>\n",
       "      <td>17</td>\n",
       "      <td>OFFICE OF EMERGENCY MANAGEMENT</td>\n",
       "      <td>BEREZIN</td>\n",
       "      <td>MIKHAIL</td>\n",
       "      <td>2015-08-10T00:00:00.000</td>\n",
       "      <td>BROOKLYN</td>\n",
       "      <td>EMERGENCY PREPAREDNESS MANAGER</td>\n",
       "      <td>ACTIVE</td>\n",
       "      <td>86005.00</td>\n",
       "      <td>per Annum</td>\n",
       "      <td>1820.0</td>\n",
       "      <td>84698.21</td>\n",
       "      <td>0.0</td>\n",
       "      <td>0.0</td>\n",
       "      <td>0.00</td>\n",
       "      <td>NaN</td>\n",
       "    </tr>\n",
       "    <tr>\n",
       "      <th>1</th>\n",
       "      <td>2020</td>\n",
       "      <td>17</td>\n",
       "      <td>OFFICE OF EMERGENCY MANAGEMENT</td>\n",
       "      <td>GEAGER</td>\n",
       "      <td>VERONICA</td>\n",
       "      <td>2016-09-12T00:00:00.000</td>\n",
       "      <td>BROOKLYN</td>\n",
       "      <td>EMERGENCY PREPAREDNESS MANAGER</td>\n",
       "      <td>ACTIVE</td>\n",
       "      <td>86005.00</td>\n",
       "      <td>per Annum</td>\n",
       "      <td>1820.0</td>\n",
       "      <td>84698.21</td>\n",
       "      <td>0.0</td>\n",
       "      <td>0.0</td>\n",
       "      <td>0.00</td>\n",
       "      <td>M</td>\n",
       "    </tr>\n",
       "    <tr>\n",
       "      <th>2</th>\n",
       "      <td>2020</td>\n",
       "      <td>17</td>\n",
       "      <td>OFFICE OF EMERGENCY MANAGEMENT</td>\n",
       "      <td>RAMANI</td>\n",
       "      <td>SHRADDHA</td>\n",
       "      <td>2016-02-22T00:00:00.000</td>\n",
       "      <td>BROOKLYN</td>\n",
       "      <td>EMERGENCY PREPAREDNESS MANAGER</td>\n",
       "      <td>ACTIVE</td>\n",
       "      <td>86005.00</td>\n",
       "      <td>per Annum</td>\n",
       "      <td>1820.0</td>\n",
       "      <td>84698.21</td>\n",
       "      <td>0.0</td>\n",
       "      <td>0.0</td>\n",
       "      <td>0.00</td>\n",
       "      <td>NaN</td>\n",
       "    </tr>\n",
       "    <tr>\n",
       "      <th>3</th>\n",
       "      <td>2020</td>\n",
       "      <td>17</td>\n",
       "      <td>OFFICE OF EMERGENCY MANAGEMENT</td>\n",
       "      <td>ROTTA</td>\n",
       "      <td>JONATHAN</td>\n",
       "      <td>2013-09-16T00:00:00.000</td>\n",
       "      <td>BROOKLYN</td>\n",
       "      <td>EMERGENCY PREPAREDNESS MANAGER</td>\n",
       "      <td>ACTIVE</td>\n",
       "      <td>86005.00</td>\n",
       "      <td>per Annum</td>\n",
       "      <td>1820.0</td>\n",
       "      <td>84698.21</td>\n",
       "      <td>0.0</td>\n",
       "      <td>0.0</td>\n",
       "      <td>0.00</td>\n",
       "      <td>D</td>\n",
       "    </tr>\n",
       "    <tr>\n",
       "      <th>4</th>\n",
       "      <td>2020</td>\n",
       "      <td>17</td>\n",
       "      <td>OFFICE OF EMERGENCY MANAGEMENT</td>\n",
       "      <td>WILSON II</td>\n",
       "      <td>ROBERT</td>\n",
       "      <td>2018-04-30T00:00:00.000</td>\n",
       "      <td>BROOKLYN</td>\n",
       "      <td>EMERGENCY PREPAREDNESS MANAGER</td>\n",
       "      <td>ACTIVE</td>\n",
       "      <td>86005.00</td>\n",
       "      <td>per Annum</td>\n",
       "      <td>1820.0</td>\n",
       "      <td>84698.21</td>\n",
       "      <td>0.0</td>\n",
       "      <td>0.0</td>\n",
       "      <td>0.00</td>\n",
       "      <td>P</td>\n",
       "    </tr>\n",
       "    <tr>\n",
       "      <th>...</th>\n",
       "      <td>...</td>\n",
       "      <td>...</td>\n",
       "      <td>...</td>\n",
       "      <td>...</td>\n",
       "      <td>...</td>\n",
       "      <td>...</td>\n",
       "      <td>...</td>\n",
       "      <td>...</td>\n",
       "      <td>...</td>\n",
       "      <td>...</td>\n",
       "      <td>...</td>\n",
       "      <td>...</td>\n",
       "      <td>...</td>\n",
       "      <td>...</td>\n",
       "      <td>...</td>\n",
       "      <td>...</td>\n",
       "      <td>...</td>\n",
       "    </tr>\n",
       "    <tr>\n",
       "      <th>590205</th>\n",
       "      <td>2020</td>\n",
       "      <td>747</td>\n",
       "      <td>DEPT OF ED PER SESSION TEACHER</td>\n",
       "      <td>RUGG</td>\n",
       "      <td>ISAAC</td>\n",
       "      <td>2016-11-21T00:00:00.000</td>\n",
       "      <td>MANHATTAN</td>\n",
       "      <td>TEACHER- PER SESSION</td>\n",
       "      <td>CEASED</td>\n",
       "      <td>33.18</td>\n",
       "      <td>per Day</td>\n",
       "      <td>0.0</td>\n",
       "      <td>0.00</td>\n",
       "      <td>0.0</td>\n",
       "      <td>0.0</td>\n",
       "      <td>0.62</td>\n",
       "      <td>NaN</td>\n",
       "    </tr>\n",
       "    <tr>\n",
       "      <th>590206</th>\n",
       "      <td>2020</td>\n",
       "      <td>747</td>\n",
       "      <td>DEPT OF ED PER SESSION TEACHER</td>\n",
       "      <td>SMITH</td>\n",
       "      <td>MICHAEL</td>\n",
       "      <td>1993-03-04T00:00:00.000</td>\n",
       "      <td>MANHATTAN</td>\n",
       "      <td>TEACHER- PER SESSION</td>\n",
       "      <td>CEASED</td>\n",
       "      <td>33.18</td>\n",
       "      <td>per Day</td>\n",
       "      <td>0.0</td>\n",
       "      <td>0.00</td>\n",
       "      <td>0.0</td>\n",
       "      <td>0.0</td>\n",
       "      <td>0.62</td>\n",
       "      <td>A</td>\n",
       "    </tr>\n",
       "    <tr>\n",
       "      <th>590207</th>\n",
       "      <td>2020</td>\n",
       "      <td>747</td>\n",
       "      <td>DEPT OF ED PER SESSION TEACHER</td>\n",
       "      <td>KOWALCZYK</td>\n",
       "      <td>MEGAN</td>\n",
       "      <td>2014-12-05T00:00:00.000</td>\n",
       "      <td>MANHATTAN</td>\n",
       "      <td>TEACHER- PER SESSION</td>\n",
       "      <td>CEASED</td>\n",
       "      <td>33.18</td>\n",
       "      <td>per Day</td>\n",
       "      <td>0.0</td>\n",
       "      <td>0.00</td>\n",
       "      <td>0.0</td>\n",
       "      <td>0.0</td>\n",
       "      <td>0.61</td>\n",
       "      <td>NaN</td>\n",
       "    </tr>\n",
       "    <tr>\n",
       "      <th>590208</th>\n",
       "      <td>2020</td>\n",
       "      <td>747</td>\n",
       "      <td>DEPT OF ED PER SESSION TEACHER</td>\n",
       "      <td>MUGGEO</td>\n",
       "      <td>DAWN</td>\n",
       "      <td>1997-09-02T00:00:00.000</td>\n",
       "      <td>MANHATTAN</td>\n",
       "      <td>TEACHER- PER SESSION</td>\n",
       "      <td>CEASED</td>\n",
       "      <td>33.18</td>\n",
       "      <td>per Day</td>\n",
       "      <td>0.0</td>\n",
       "      <td>0.00</td>\n",
       "      <td>0.0</td>\n",
       "      <td>0.0</td>\n",
       "      <td>0.61</td>\n",
       "      <td>M</td>\n",
       "    </tr>\n",
       "    <tr>\n",
       "      <th>590209</th>\n",
       "      <td>2020</td>\n",
       "      <td>747</td>\n",
       "      <td>DEPT OF ED PER SESSION TEACHER</td>\n",
       "      <td>CABAN</td>\n",
       "      <td>CHERYL</td>\n",
       "      <td>2006-08-31T00:00:00.000</td>\n",
       "      <td>MANHATTAN</td>\n",
       "      <td>TEACHER- PER SESSION</td>\n",
       "      <td>CEASED</td>\n",
       "      <td>33.18</td>\n",
       "      <td>per Day</td>\n",
       "      <td>0.0</td>\n",
       "      <td>0.00</td>\n",
       "      <td>0.0</td>\n",
       "      <td>0.0</td>\n",
       "      <td>0.60</td>\n",
       "      <td>M</td>\n",
       "    </tr>\n",
       "  </tbody>\n",
       "</table>\n",
       "<p>589728 rows × 17 columns</p>\n",
       "</div>"
      ],
      "text/plain": [
       "        fiscal_year  payroll_number                     agency_name  \\\n",
       "0              2020              17  OFFICE OF EMERGENCY MANAGEMENT   \n",
       "1              2020              17  OFFICE OF EMERGENCY MANAGEMENT   \n",
       "2              2020              17  OFFICE OF EMERGENCY MANAGEMENT   \n",
       "3              2020              17  OFFICE OF EMERGENCY MANAGEMENT   \n",
       "4              2020              17  OFFICE OF EMERGENCY MANAGEMENT   \n",
       "...             ...             ...                             ...   \n",
       "590205         2020             747  DEPT OF ED PER SESSION TEACHER   \n",
       "590206         2020             747  DEPT OF ED PER SESSION TEACHER   \n",
       "590207         2020             747  DEPT OF ED PER SESSION TEACHER   \n",
       "590208         2020             747  DEPT OF ED PER SESSION TEACHER   \n",
       "590209         2020             747  DEPT OF ED PER SESSION TEACHER   \n",
       "\n",
       "        last_name first_name        agency_start_date work_location_borough  \\\n",
       "0         BEREZIN    MIKHAIL  2015-08-10T00:00:00.000              BROOKLYN   \n",
       "1          GEAGER   VERONICA  2016-09-12T00:00:00.000              BROOKLYN   \n",
       "2          RAMANI   SHRADDHA  2016-02-22T00:00:00.000              BROOKLYN   \n",
       "3           ROTTA   JONATHAN  2013-09-16T00:00:00.000              BROOKLYN   \n",
       "4       WILSON II     ROBERT  2018-04-30T00:00:00.000              BROOKLYN   \n",
       "...           ...        ...                      ...                   ...   \n",
       "590205       RUGG      ISAAC  2016-11-21T00:00:00.000             MANHATTAN   \n",
       "590206      SMITH    MICHAEL  1993-03-04T00:00:00.000             MANHATTAN   \n",
       "590207  KOWALCZYK      MEGAN  2014-12-05T00:00:00.000             MANHATTAN   \n",
       "590208     MUGGEO       DAWN  1997-09-02T00:00:00.000             MANHATTAN   \n",
       "590209      CABAN     CHERYL  2006-08-31T00:00:00.000             MANHATTAN   \n",
       "\n",
       "                     title_description leave_status_as_of_july_31  \\\n",
       "0       EMERGENCY PREPAREDNESS MANAGER                     ACTIVE   \n",
       "1       EMERGENCY PREPAREDNESS MANAGER                     ACTIVE   \n",
       "2       EMERGENCY PREPAREDNESS MANAGER                     ACTIVE   \n",
       "3       EMERGENCY PREPAREDNESS MANAGER                     ACTIVE   \n",
       "4       EMERGENCY PREPAREDNESS MANAGER                     ACTIVE   \n",
       "...                                ...                        ...   \n",
       "590205            TEACHER- PER SESSION                     CEASED   \n",
       "590206            TEACHER- PER SESSION                     CEASED   \n",
       "590207            TEACHER- PER SESSION                     CEASED   \n",
       "590208            TEACHER- PER SESSION                     CEASED   \n",
       "590209            TEACHER- PER SESSION                     CEASED   \n",
       "\n",
       "        base_salary  pay_basis  regular_hours  regular_gross_paid  ot_hours  \\\n",
       "0          86005.00  per Annum         1820.0            84698.21       0.0   \n",
       "1          86005.00  per Annum         1820.0            84698.21       0.0   \n",
       "2          86005.00  per Annum         1820.0            84698.21       0.0   \n",
       "3          86005.00  per Annum         1820.0            84698.21       0.0   \n",
       "4          86005.00  per Annum         1820.0            84698.21       0.0   \n",
       "...             ...        ...            ...                 ...       ...   \n",
       "590205        33.18    per Day            0.0                0.00       0.0   \n",
       "590206        33.18    per Day            0.0                0.00       0.0   \n",
       "590207        33.18    per Day            0.0                0.00       0.0   \n",
       "590208        33.18    per Day            0.0                0.00       0.0   \n",
       "590209        33.18    per Day            0.0                0.00       0.0   \n",
       "\n",
       "        total_ot_paid  total_other_pay mid_init  \n",
       "0                 0.0             0.00      NaN  \n",
       "1                 0.0             0.00        M  \n",
       "2                 0.0             0.00      NaN  \n",
       "3                 0.0             0.00        D  \n",
       "4                 0.0             0.00        P  \n",
       "...               ...              ...      ...  \n",
       "590205            0.0             0.62      NaN  \n",
       "590206            0.0             0.62        A  \n",
       "590207            0.0             0.61      NaN  \n",
       "590208            0.0             0.61        M  \n",
       "590209            0.0             0.60        M  \n",
       "\n",
       "[589728 rows x 17 columns]"
      ]
     },
     "execution_count": 43,
     "metadata": {},
     "output_type": "execute_result"
    }
   ],
   "source": [
    "salaries_no_outlier = nyc_salary_data.loc[(nyc_salary_data['base_salary']> lower.item()) & (nyc_salary_data['base_salary']< upper.item())]\n",
    "salaries_no_outlier"
   ]
  },
  {
   "cell_type": "code",
   "execution_count": 47,
   "id": "04ff6bda-4215-4012-af57-6c4886ac7fac",
   "metadata": {},
   "outputs": [
    {
     "ename": "TypeError",
     "evalue": "'int' object is not callable",
     "output_type": "error",
     "traceback": [
      "\u001b[31m---------------------------------------------------------------------------\u001b[39m",
      "\u001b[31mTypeError\u001b[39m                                 Traceback (most recent call last)",
      "\u001b[36mCell\u001b[39m\u001b[36m \u001b[39m\u001b[32mIn[47]\u001b[39m\u001b[32m, line 2\u001b[39m\n\u001b[32m      1\u001b[39m \u001b[38;5;28mlist\u001b[39m = \u001b[32m15\u001b[39m\n\u001b[32m----> \u001b[39m\u001b[32m2\u001b[39m \u001b[38;5;28mlist\u001b[39m(\u001b[33m'\u001b[39m\u001b[33mabc\u001b[39m\u001b[33m'\u001b[39m)\n",
      "\u001b[31mTypeError\u001b[39m: 'int' object is not callable"
     ]
    }
   ],
   "source": [
    "list = 15\n",
    "list('abc')"
   ]
  },
  {
   "cell_type": "code",
   "execution_count": 48,
   "id": "945d45fe-9bc2-407b-8dea-0fd0ab715c73",
   "metadata": {},
   "outputs": [
    {
     "ename": "TypeError",
     "evalue": "'int' object is not callable",
     "output_type": "error",
     "traceback": [
      "\u001b[31m---------------------------------------------------------------------------\u001b[39m",
      "\u001b[31mTypeError\u001b[39m                                 Traceback (most recent call last)",
      "\u001b[36mCell\u001b[39m\u001b[36m \u001b[39m\u001b[32mIn[48]\u001b[39m\u001b[32m, line 1\u001b[39m\n\u001b[32m----> \u001b[39m\u001b[32m1\u001b[39m \u001b[38;5;28mlist\u001b[39m()\n",
      "\u001b[31mTypeError\u001b[39m: 'int' object is not callable"
     ]
    }
   ],
   "source": [
    "list()"
   ]
  },
  {
   "cell_type": "code",
   "execution_count": 49,
   "id": "5dfca7f3-e69f-41ff-ae71-dd49af73a6d7",
   "metadata": {},
   "outputs": [],
   "source": [
    "list = []"
   ]
  },
  {
   "cell_type": "code",
   "execution_count": 50,
   "id": "ee44d71b-bdd0-4154-9e42-bb7645ac25ae",
   "metadata": {},
   "outputs": [
    {
     "data": {
      "text/plain": [
       "[]"
      ]
     },
     "execution_count": 50,
     "metadata": {},
     "output_type": "execute_result"
    }
   ],
   "source": [
    "list"
   ]
  },
  {
   "cell_type": "code",
   "execution_count": 51,
   "id": "b424bbbf-a8a3-4b2a-bc83-508dcc8a0681",
   "metadata": {},
   "outputs": [
    {
     "ename": "TypeError",
     "evalue": "'list' object is not callable",
     "output_type": "error",
     "traceback": [
      "\u001b[31m---------------------------------------------------------------------------\u001b[39m",
      "\u001b[31mTypeError\u001b[39m                                 Traceback (most recent call last)",
      "\u001b[36mCell\u001b[39m\u001b[36m \u001b[39m\u001b[32mIn[51]\u001b[39m\u001b[32m, line 1\u001b[39m\n\u001b[32m----> \u001b[39m\u001b[32m1\u001b[39m \u001b[38;5;28mlist\u001b[39m()\n",
      "\u001b[31mTypeError\u001b[39m: 'list' object is not callable"
     ]
    }
   ],
   "source": [
    "list()"
   ]
  },
  {
   "cell_type": "code",
   "execution_count": 54,
   "id": "d93b87ce-c525-4a5e-a941-25b34283aef3",
   "metadata": {},
   "outputs": [
    {
     "ename": "NameError",
     "evalue": "name 'list' is not defined",
     "output_type": "error",
     "traceback": [
      "\u001b[31m---------------------------------------------------------------------------\u001b[39m",
      "\u001b[31mNameError\u001b[39m                                 Traceback (most recent call last)",
      "\u001b[36mCell\u001b[39m\u001b[36m \u001b[39m\u001b[32mIn[54]\u001b[39m\u001b[32m, line 2\u001b[39m\n\u001b[32m      1\u001b[39m \u001b[38;5;66;03m# Important: if you use the keyword by mistake, you can delete the variable\u001b[39;00m\n\u001b[32m----> \u001b[39m\u001b[32m2\u001b[39m \u001b[38;5;28;01mdel\u001b[39;00m \u001b[38;5;28mlist\u001b[39m\n",
      "\u001b[31mNameError\u001b[39m: name 'list' is not defined"
     ]
    }
   ],
   "source": [
    "# Important: if you use the keyword by mistake, you can delete the variable\n",
    "del list"
   ]
  },
  {
   "cell_type": "code",
   "execution_count": 55,
   "id": "31d2089e-2c8a-4065-978f-f58be3c3ed64",
   "metadata": {},
   "outputs": [
    {
     "data": {
      "text/plain": [
       "['b', 'b', 'c']"
      ]
     },
     "execution_count": 55,
     "metadata": {},
     "output_type": "execute_result"
    }
   ],
   "source": [
    "list('bbc')"
   ]
  },
  {
   "cell_type": "markdown",
   "id": "b6acc9b3-8071-4a5e-8824-ba0dbb566e09",
   "metadata": {},
   "source": [
    "### Problem 8: Finding the Mean with no Outliers\n",
    "\n",
    "Now that the outliers have been removed, use the function `mean()` on the column `base_salary` of `salaries_no_outlier` to find the mean of your data without outliers.  \n",
    "\n",
    "Assign your answer to `mean_no_outliers` below."
   ]
  },
  {
   "cell_type": "code",
   "execution_count": 56,
   "id": "c6049bc4-749c-4fc7-ab83-a41492a1ec36",
   "metadata": {},
   "outputs": [
    {
     "data": {
      "text/plain": [
       "np.float64(46568.13546421399)"
      ]
     },
     "execution_count": 56,
     "metadata": {},
     "output_type": "execute_result"
    }
   ],
   "source": [
    "mean_no_outliers = salaries_no_outlier['base_salary'].mean()\n",
    "mean_no_outliers"
   ]
  },
  {
   "cell_type": "markdown",
   "id": "ffbbe633-9b79-4e9a-a224-09813f869daa",
   "metadata": {},
   "source": [
    "### Problem 9: Finding the Median with no Outliers\n",
    "\n",
    "Use the function `median()` on the column `base_salary` of `salaries_no_outlier` to find the median of your data without outliers.  \n",
    "\n",
    "Assign your solution to the variable `median_no_outliers` below."
   ]
  },
  {
   "cell_type": "code",
   "execution_count": 57,
   "id": "22b0a11c-278b-4a15-953d-4b27a2fa2413",
   "metadata": {},
   "outputs": [
    {
     "data": {
      "text/plain": [
       "44930.0"
      ]
     },
     "execution_count": 57,
     "metadata": {},
     "output_type": "execute_result"
    }
   ],
   "source": [
    "median_no_outliers = salaries_no_outlier['base_salary'].median()\n",
    "median_no_outliers"
   ]
  },
  {
   "cell_type": "markdown",
   "id": "c4c5a1f1-285e-4100-9574-4b64f68382c4",
   "metadata": {},
   "source": [
    "### Problem 10: Standard Deviation with `numpy`\n",
    "\n",
    "An alternative measure for the spread of a dataset to the IQR is the **standard deviation**.  \n",
    "\n",
    "Both pandas and NumPy have functions for computing the standard deviation, however they have different assumptions about the data.  \n",
    "\n",
    "- Use the  `np.std()` method to determine the standard deviation of the `base_salary` column of `nyc_salary_data` to compute the standard deviation on the entire dataset.  Assign your result to the variable `std_numpy_outliers` .\n",
    "\n",
    "- Use the  `np.std()` method to determine the standard deviation of the `base_salary` column of `salaries_no_outlier` to compute the standard deviation on the entire dataset.  Assign your result to the variable `std_numpy_no_outliers` ."
   ]
  },
  {
   "cell_type": "code",
   "execution_count": 58,
   "id": "cb90a27b-2850-42f3-b4ad-84ac40517f10",
   "metadata": {},
   "outputs": [
    {
     "data": {
      "text/plain": [
       "45026.96354845374"
      ]
     },
     "execution_count": 58,
     "metadata": {},
     "output_type": "execute_result"
    }
   ],
   "source": [
    "std_numpy_outliers = np.std(nyc_salary_data['base_salary'])\n",
    "std_numpy_outliers"
   ]
  },
  {
   "cell_type": "code",
   "execution_count": 59,
   "id": "7da1daf7-8c2f-4c02-b223-3dd397257462",
   "metadata": {},
   "outputs": [
    {
     "data": {
      "text/plain": [
       "44730.382624481594"
      ]
     },
     "execution_count": 59,
     "metadata": {},
     "output_type": "execute_result"
    }
   ],
   "source": [
    "std_numpy_no_outliers = np.std(salaries_no_outlier['base_salary'])\n",
    "std_numpy_no_outliers"
   ]
  },
  {
   "cell_type": "markdown",
   "id": "a75e2edf-777e-4566-b439-380eb2ccd170",
   "metadata": {},
   "source": [
    "### Problem 11: Standard Deviation with `pandas`\n",
    "\n",
    "In the next exercise, you will use pandas to determine the standard deviation of the `base_salary` column.  \n",
    "\n",
    "- Use the  `std()` pandas method to determine the standard deviation of the `base_salary` column of `nyc_salary_data` to compute the standard deviation on the entire dataset.  Assign your result to the variable `std_pandas_outliers` .\n",
    "\n",
    "- Use the  `std()` pandas method to determine the standard deviation of the `base_salary` column of `salaries_no_outlier` to compute the standard deviation on the entire dataset.  Assign your result to the variable `std_pandas_no_outliers` .\n"
   ]
  },
  {
   "cell_type": "code",
   "execution_count": 60,
   "id": "035f9c07-5d7b-45fa-bec8-e4a6cae87cda",
   "metadata": {},
   "outputs": [
    {
     "data": {
      "text/plain": [
       "45027.00169336892"
      ]
     },
     "execution_count": 60,
     "metadata": {},
     "output_type": "execute_result"
    }
   ],
   "source": [
    "std_pandas_outliers = nyc_salary_data['base_salary'].std()\n",
    "std_pandas_outliers"
   ]
  },
  {
   "cell_type": "code",
   "execution_count": 62,
   "id": "b71d3ea5-9c86-435c-adc1-ff02836b73f0",
   "metadata": {},
   "outputs": [
    {
     "data": {
      "text/plain": [
       "44730.42054911762"
      ]
     },
     "execution_count": 62,
     "metadata": {},
     "output_type": "execute_result"
    }
   ],
   "source": [
    "std_pandas_no_outliers = salaries_no_outlier['base_salary'].std()\n",
    "std_pandas_no_outliers"
   ]
  },
  {
   "cell_type": "markdown",
   "id": "71c9caec-c4ec-4250-aa32-d04ed5253e74",
   "metadata": {},
   "source": [
    "### Why are these different?\n",
    "\n",
    "Pandas and NumPy make different assumptions about the data, which is why we receive slightly different results.  This involves the default degree of freedom argument in the functions.  From the numpy docs we have:\n",
    "\n",
    "```\n",
    "ddof: int, optional\n",
    "Means Delta Degrees of Freedom. The divisor used in calculations is N - ddof, where N represents the number of elements. By default ddof is zero.\n",
    "```\n",
    "\n",
    "and from pandas we find:\n",
    "\n",
    "```\n",
    "ddof: int, default 1\n",
    "Delta Degrees of Freedom. The divisor used in calculations is N - ddof, where N represents the number of elements.\n",
    "```\n",
    "\n",
    "The main reason for the different assumptions is motivated by the fact that all the deviations from the mean will add to zero.  This means we would always know the the last deviation if we know the previous $n-1$.  Only $n-1$ are able to vary freely so the average is determined by dividing the total by $n-1$.  In practice the values won't differ greatly, it is important to recognize that there are some different assumptions however.  "
   ]
  },
  {
   "cell_type": "markdown",
   "id": "dbc022c8-6d0e-494b-bc6c-5f25057ccf45",
   "metadata": {},
   "source": [
    "### Problem 12: Calculating the Mode\n",
    "\n",
    "Determine the mode of the `nyc_salary_data` DataFrame and assign the result to `df_mode`.\n",
    "\n",
    "The pandas mode() function is a method used to find the most frequently occurring value(s) in a pandas Series or DataFrame. It is a crucial tool for statistical analysis in Python, allowing for efficient identification of the most common values in a dataset. "
   ]
  },
  {
   "cell_type": "code",
   "execution_count": 71,
   "id": "d2060b85-2c4d-4064-9689-7c71c5857e29",
   "metadata": {},
   "outputs": [
    {
     "data": {
      "text/html": [
       "<div>\n",
       "<style scoped>\n",
       "    .dataframe tbody tr th:only-of-type {\n",
       "        vertical-align: middle;\n",
       "    }\n",
       "\n",
       "    .dataframe tbody tr th {\n",
       "        vertical-align: top;\n",
       "    }\n",
       "\n",
       "    .dataframe thead th {\n",
       "        text-align: right;\n",
       "    }\n",
       "</style>\n",
       "<table border=\"1\" class=\"dataframe\">\n",
       "  <thead>\n",
       "    <tr style=\"text-align: right;\">\n",
       "      <th></th>\n",
       "      <th>fiscal_year</th>\n",
       "      <th>payroll_number</th>\n",
       "      <th>agency_name</th>\n",
       "      <th>last_name</th>\n",
       "      <th>first_name</th>\n",
       "      <th>agency_start_date</th>\n",
       "      <th>work_location_borough</th>\n",
       "      <th>title_description</th>\n",
       "      <th>leave_status_as_of_july_31</th>\n",
       "      <th>base_salary</th>\n",
       "      <th>pay_basis</th>\n",
       "      <th>regular_hours</th>\n",
       "      <th>regular_gross_paid</th>\n",
       "      <th>ot_hours</th>\n",
       "      <th>total_ot_paid</th>\n",
       "      <th>total_other_pay</th>\n",
       "      <th>mid_init</th>\n",
       "    </tr>\n",
       "  </thead>\n",
       "  <tbody>\n",
       "    <tr>\n",
       "      <th>0</th>\n",
       "      <td>2020</td>\n",
       "      <td>742</td>\n",
       "      <td>DEPT OF ED PEDAGOGICAL</td>\n",
       "      <td>RODRIGUEZ</td>\n",
       "      <td>MICHAEL</td>\n",
       "      <td>2010-01-01T00:00:00.000</td>\n",
       "      <td>MANHATTAN</td>\n",
       "      <td>TEACHER- PER SESSION</td>\n",
       "      <td>ACTIVE</td>\n",
       "      <td>33.18</td>\n",
       "      <td>per Annum</td>\n",
       "      <td>0.0</td>\n",
       "      <td>0.0</td>\n",
       "      <td>0.0</td>\n",
       "      <td>0.0</td>\n",
       "      <td>0.0</td>\n",
       "      <td>A</td>\n",
       "    </tr>\n",
       "  </tbody>\n",
       "</table>\n",
       "</div>"
      ],
      "text/plain": [
       "   fiscal_year  payroll_number             agency_name  last_name first_name  \\\n",
       "0         2020             742  DEPT OF ED PEDAGOGICAL  RODRIGUEZ    MICHAEL   \n",
       "\n",
       "         agency_start_date work_location_borough     title_description  \\\n",
       "0  2010-01-01T00:00:00.000             MANHATTAN  TEACHER- PER SESSION   \n",
       "\n",
       "  leave_status_as_of_july_31  base_salary  pay_basis  regular_hours  \\\n",
       "0                     ACTIVE        33.18  per Annum            0.0   \n",
       "\n",
       "   regular_gross_paid  ot_hours  total_ot_paid  total_other_pay mid_init  \n",
       "0                 0.0       0.0            0.0              0.0        A  "
      ]
     },
     "execution_count": 71,
     "metadata": {},
     "output_type": "execute_result"
    }
   ],
   "source": [
    "# pandas mode shows the most frequent item for each column\n",
    "df_mode = nyc_salary_data.mode()\n",
    "df_mode"
   ]
  },
  {
   "cell_type": "code",
   "execution_count": 72,
   "id": "c17f32ac-34d1-476f-8278-d61dccb74df2",
   "metadata": {},
   "outputs": [
    {
     "data": {
      "text/plain": [
       "first_name\n",
       "MICHAEL     8626\n",
       "JOHN        5389\n",
       "JOSEPH      4801\n",
       "MARIA       4591\n",
       "JENNIFER    4475\n",
       "            ... \n",
       "KARELY         1\n",
       "KARELYS        1\n",
       "KAREME         1\n",
       "KARESA         1\n",
       "ZZZY           1\n",
       "Name: count, Length: 61465, dtype: int64"
      ]
     },
     "execution_count": 72,
     "metadata": {},
     "output_type": "execute_result"
    }
   ],
   "source": [
    "nyc_salary_data.value_counts(\"first_name\")"
   ]
  },
  {
   "cell_type": "code",
   "execution_count": 66,
   "id": "b4380ab8-5248-4255-a285-306cedc06972",
   "metadata": {},
   "outputs": [
    {
     "data": {
      "text/html": [
       "<div>\n",
       "<style scoped>\n",
       "    .dataframe tbody tr th:only-of-type {\n",
       "        vertical-align: middle;\n",
       "    }\n",
       "\n",
       "    .dataframe tbody tr th {\n",
       "        vertical-align: top;\n",
       "    }\n",
       "\n",
       "    .dataframe thead th {\n",
       "        text-align: right;\n",
       "    }\n",
       "</style>\n",
       "<table border=\"1\" class=\"dataframe\">\n",
       "  <thead>\n",
       "    <tr style=\"text-align: right;\">\n",
       "      <th></th>\n",
       "      <th>fiscal_year</th>\n",
       "      <th>payroll_number</th>\n",
       "      <th>agency_name</th>\n",
       "      <th>last_name</th>\n",
       "      <th>first_name</th>\n",
       "      <th>agency_start_date</th>\n",
       "      <th>work_location_borough</th>\n",
       "      <th>title_description</th>\n",
       "      <th>leave_status_as_of_july_31</th>\n",
       "      <th>base_salary</th>\n",
       "      <th>pay_basis</th>\n",
       "      <th>regular_hours</th>\n",
       "      <th>regular_gross_paid</th>\n",
       "      <th>ot_hours</th>\n",
       "      <th>total_ot_paid</th>\n",
       "      <th>total_other_pay</th>\n",
       "      <th>mid_init</th>\n",
       "    </tr>\n",
       "  </thead>\n",
       "  <tbody>\n",
       "  </tbody>\n",
       "</table>\n",
       "</div>"
      ],
      "text/plain": [
       "Empty DataFrame\n",
       "Columns: [fiscal_year, payroll_number, agency_name, last_name, first_name, agency_start_date, work_location_borough, title_description, leave_status_as_of_july_31, base_salary, pay_basis, regular_hours, regular_gross_paid, ot_hours, total_ot_paid, total_other_pay, mid_init]\n",
       "Index: []"
      ]
     },
     "execution_count": 66,
     "metadata": {},
     "output_type": "execute_result"
    }
   ],
   "source": [
    "nyc_salary_data[nyc_salary_data.duplicated(keep=False)]"
   ]
  },
  {
   "cell_type": "code",
   "execution_count": 68,
   "id": "a7a231f9-1659-4838-b481-c4c7aa6c0d4a",
   "metadata": {},
   "outputs": [],
   "source": [
    "from scipy.stats import mode"
   ]
  },
  {
   "cell_type": "code",
   "execution_count": 70,
   "id": "4cd1bda7-c120-491b-b353-91d9bb6113c2",
   "metadata": {},
   "outputs": [
    {
     "data": {
      "text/plain": [
       "ModeResult(mode=np.int64(4), count=np.int64(3))"
      ]
     },
     "execution_count": 70,
     "metadata": {},
     "output_type": "execute_result"
    }
   ],
   "source": [
    "mode([1,2,2,3,4,4,4])"
   ]
  },
  {
   "cell_type": "markdown",
   "id": "8e396c76-830d-4ba2-926a-5da4f2bab8e3",
   "metadata": {},
   "source": [
    "### A Second Small Example\n",
    "\n",
    "The data below relates to salmon smolts (young salmon) and the reflectance of their skin as a measure for readiness for migration."
   ]
  },
  {
   "cell_type": "code",
   "execution_count": 74,
   "id": "dcfa1faf-1023-4d81-9d95-3ffdbe577f56",
   "metadata": {},
   "outputs": [
    {
     "data": {
      "text/html": [
       "<div>\n",
       "<style scoped>\n",
       "    .dataframe tbody tr th:only-of-type {\n",
       "        vertical-align: middle;\n",
       "    }\n",
       "\n",
       "    .dataframe tbody tr th {\n",
       "        vertical-align: top;\n",
       "    }\n",
       "\n",
       "    .dataframe thead th {\n",
       "        text-align: right;\n",
       "    }\n",
       "</style>\n",
       "<table border=\"1\" class=\"dataframe\">\n",
       "  <thead>\n",
       "    <tr style=\"text-align: right;\">\n",
       "      <th></th>\n",
       "      <th>Reflectance</th>\n",
       "    </tr>\n",
       "    <tr>\n",
       "      <th>ID</th>\n",
       "      <th></th>\n",
       "    </tr>\n",
       "  </thead>\n",
       "  <tbody>\n",
       "    <tr>\n",
       "      <th>1</th>\n",
       "      <td>57.62747</td>\n",
       "    </tr>\n",
       "    <tr>\n",
       "      <th>2</th>\n",
       "      <td>54.83248</td>\n",
       "    </tr>\n",
       "    <tr>\n",
       "      <th>3</th>\n",
       "      <td>63.44216</td>\n",
       "    </tr>\n",
       "    <tr>\n",
       "      <th>4</th>\n",
       "      <td>57.01707</td>\n",
       "    </tr>\n",
       "    <tr>\n",
       "      <th>5</th>\n",
       "      <td>54.71893</td>\n",
       "    </tr>\n",
       "  </tbody>\n",
       "</table>\n",
       "</div>"
      ],
      "text/plain": [
       "    Reflectance\n",
       "ID             \n",
       "1      57.62747\n",
       "2      54.83248\n",
       "3      63.44216\n",
       "4      57.01707\n",
       "5      54.71893"
      ]
     },
     "execution_count": 74,
     "metadata": {},
     "output_type": "execute_result"
    }
   ],
   "source": [
    "smolt = pd.read_csv('data/smolts.csv',index_col = 0)\n",
    "smolt.head()"
   ]
  },
  {
   "cell_type": "markdown",
   "id": "7fe9e969-cb44-479a-93a1-a048f890b711",
   "metadata": {},
   "source": [
    "### Problem 13: Measure of Center\n",
    "\n",
    "Determine the mean and median of the `Reflectance` column, save these to the variable `smolt_mean` and `smolt_median` below.  "
   ]
  },
  {
   "cell_type": "code",
   "execution_count": 75,
   "id": "90945fcd-f377-4831-8425-5bd880ce5f40",
   "metadata": {},
   "outputs": [
    {
     "data": {
      "text/plain": [
       "Reflectance    50.892072\n",
       "dtype: float64"
      ]
     },
     "execution_count": 75,
     "metadata": {},
     "output_type": "execute_result"
    }
   ],
   "source": [
    "smolt_mean = smolt.mean()\n",
    "smolt_mean"
   ]
  },
  {
   "cell_type": "code",
   "execution_count": 76,
   "id": "8e75b0b4-accb-46c0-8b37-00f0738890bf",
   "metadata": {},
   "outputs": [
    {
     "data": {
      "text/plain": [
       "Reflectance    49.51086\n",
       "dtype: float64"
      ]
     },
     "execution_count": 76,
     "metadata": {},
     "output_type": "execute_result"
    }
   ],
   "source": [
    "smolt_median = smolt.median()\n",
    "smolt_median"
   ]
  }
 ],
 "metadata": {
  "kernelspec": {
   "display_name": "Python 3 (ipykernel)",
   "language": "python",
   "name": "python3"
  },
  "language_info": {
   "codemirror_mode": {
    "name": "ipython",
    "version": 3
   },
   "file_extension": ".py",
   "mimetype": "text/x-python",
   "name": "python",
   "nbconvert_exporter": "python",
   "pygments_lexer": "ipython3",
   "version": "3.13.2"
  }
 },
 "nbformat": 4,
 "nbformat_minor": 5
}
