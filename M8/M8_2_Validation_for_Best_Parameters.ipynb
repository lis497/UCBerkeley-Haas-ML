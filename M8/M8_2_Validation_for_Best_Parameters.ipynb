{
 "cells": [
  {
   "cell_type": "markdown",
   "id": "721ebe4f-4908-427d-80ca-b694b460e6ed",
   "metadata": {},
   "source": [
    "## Codio Activity 8.6: Using Validation to Select the Best Combination of Parameters\n",
    "\n",
    "This activity focuses on using a train/test split to select the best hyperparameters for a linear regression model complexity.  You will become familiar with scikit-learn's `train_test_split` function to generate a train/test split, and use the results to evaluate the appropriate model complexity.  The datasets used are synthetic so as to allow a comparison with the learned best complexity to that which generated the data.  \n",
    "\n",
    "## Index:\n",
    "\n",
    "- [Problem 1](#Problem-1)\n",
    "- [Problem 2](#Problem-2)\n",
    "- [Problem 3](#Problem-3)\n",
    "- [Problem 4](#Problem-4)"
   ]
  },
  {
   "cell_type": "code",
   "execution_count": 1,
   "id": "eb995daf-34ac-4077-aa73-99c6368b2c0b",
   "metadata": {},
   "outputs": [],
   "source": [
    "import numpy as np\n",
    "import pandas as pd\n",
    "import matplotlib.pyplot as plt\n",
    "import seaborn as sns\n",
    "from sklearn.linear_model import LinearRegression\n",
    "from sklearn.metrics import mean_squared_error\n",
    "from sklearn.preprocessing import PolynomialFeatures\n",
    "from sklearn.pipeline import Pipeline\n",
    "from sklearn.model_selection import train_test_split"
   ]
  },
  {
   "cell_type": "markdown",
   "id": "ba60cd55-21b4-4937-9ce1-1bb700229d68",
   "metadata": {},
   "source": [
    "### Three Synthetic Datasets\n",
    "\n",
    "Below, polynomial functions of different degrees were created and noise is added to generate three basic synthetic datasets.  The relationships are then plotted. They are of varying true complexity -- cubic, quadratic, and quintic (polynomials of degree 5).  Your goal is to use cross validation to determine the appropriate model and examine its mean squared error on a set of validation data. "
   ]
  },
  {
   "cell_type": "code",
   "execution_count": 2,
   "id": "6eb5f103-b89c-4310-9c30-01b4ce0b1b27",
   "metadata": {},
   "outputs": [
    {
     "data": {
      "text/html": [
       "<div>\n",
       "<style scoped>\n",
       "    .dataframe tbody tr th:only-of-type {\n",
       "        vertical-align: middle;\n",
       "    }\n",
       "\n",
       "    .dataframe tbody tr th {\n",
       "        vertical-align: top;\n",
       "    }\n",
       "\n",
       "    .dataframe thead th {\n",
       "        text-align: right;\n",
       "    }\n",
       "</style>\n",
       "<table border=\"1\" class=\"dataframe\">\n",
       "  <thead>\n",
       "    <tr style=\"text-align: right;\">\n",
       "      <th></th>\n",
       "      <th>x</th>\n",
       "      <th>y1</th>\n",
       "      <th>y2</th>\n",
       "      <th>y3</th>\n",
       "    </tr>\n",
       "  </thead>\n",
       "  <tbody>\n",
       "    <tr>\n",
       "      <th>0</th>\n",
       "      <td>-2.000000</td>\n",
       "      <td>-0.522368</td>\n",
       "      <td>5.698300</td>\n",
       "      <td>3.880352</td>\n",
       "    </tr>\n",
       "    <tr>\n",
       "      <th>1</th>\n",
       "      <td>-1.929293</td>\n",
       "      <td>-0.711336</td>\n",
       "      <td>-0.257942</td>\n",
       "      <td>8.643553</td>\n",
       "    </tr>\n",
       "    <tr>\n",
       "      <th>2</th>\n",
       "      <td>-1.858586</td>\n",
       "      <td>-4.759917</td>\n",
       "      <td>12.775233</td>\n",
       "      <td>6.116844</td>\n",
       "    </tr>\n",
       "    <tr>\n",
       "      <th>3</th>\n",
       "      <td>-1.787879</td>\n",
       "      <td>-10.255472</td>\n",
       "      <td>22.140157</td>\n",
       "      <td>12.493956</td>\n",
       "    </tr>\n",
       "    <tr>\n",
       "      <th>4</th>\n",
       "      <td>-1.717172</td>\n",
       "      <td>-3.503845</td>\n",
       "      <td>27.656110</td>\n",
       "      <td>10.335220</td>\n",
       "    </tr>\n",
       "  </tbody>\n",
       "</table>\n",
       "</div>"
      ],
      "text/plain": [
       "          x         y1         y2         y3\n",
       "0 -2.000000  -0.522368   5.698300   3.880352\n",
       "1 -1.929293  -0.711336  -0.257942   8.643553\n",
       "2 -1.858586  -4.759917  12.775233   6.116844\n",
       "3 -1.787879 -10.255472  22.140157  12.493956\n",
       "4 -1.717172  -3.503845  27.656110  10.335220"
      ]
     },
     "execution_count": 2,
     "metadata": {},
     "output_type": "execute_result"
    }
   ],
   "source": [
    "df = pd.read_csv('download85 2/data/synthetic_8.6.csv')\n",
    "df.head()"
   ]
  },
  {
   "cell_type": "code",
   "execution_count": 9,
   "id": "7d1b5cfe-aeb9-4307-998a-f5e773b91828",
   "metadata": {},
   "outputs": [
    {
     "data": {
      "text/plain": [
       "[<matplotlib.lines.Line2D at 0x1628bd090>,\n",
       " <matplotlib.lines.Line2D at 0x1628bd1d0>,\n",
       " <matplotlib.lines.Line2D at 0x1628bd310>,\n",
       " <matplotlib.lines.Line2D at 0x1628bd450>]"
      ]
     },
     "execution_count": 9,
     "metadata": {},
     "output_type": "execute_result"
    },
    {
     "data": {
      "image/png": "[encoded data removed]",
      "text/plain": [
       "<Figure size 640x480 with 1 Axes>"
      ]
     },
     "metadata": {},
     "output_type": "display_data"
    }
   ],
   "source": [
    "plt.plot(df)"
   ]
  },
  {
   "cell_type": "code",
   "execution_count": 10,
   "id": "794557d6-96ff-412d-89ee-bf1cc003839a",
   "metadata": {},
   "outputs": [
    {
     "data": {
      "text/plain": [
       "<Axes: >"
      ]
     },
     "execution_count": 10,
     "metadata": {},
     "output_type": "execute_result"
    },
    {
     "data": {
      "image/png": "[encoded data removed]",
      "text/plain": [
       "<Figure size 640x480 with 1 Axes>"
      ]
     },
     "metadata": {},
     "output_type": "display_data"
    }
   ],
   "source": [
    "df[['x','y1']].plot()"
   ]
  },
  {
   "cell_type": "code",
   "execution_count": 11,
   "id": "5d38edd8-8467-4673-b966-a87ad10800c8",
   "metadata": {},
   "outputs": [
    {
     "data": {
      "text/plain": [
       "<Axes: >"
      ]
     },
     "execution_count": 11,
     "metadata": {},
     "output_type": "execute_result"
    },
    {
     "data": {
      "image/png": "[encoded data removed]",
      "text/plain": [
       "<Figure size 640x480 with 1 Axes>"
      ]
     },
     "metadata": {},
     "output_type": "display_data"
    }
   ],
   "source": [
    "df[['x','y2']].plot()"
   ]
  },
  {
   "cell_type": "code",
   "execution_count": 12,
   "id": "0f998850-b811-4a8b-acc2-4ad745f4ddf8",
   "metadata": {},
   "outputs": [
    {
     "data": {
      "text/plain": [
       "<Axes: >"
      ]
     },
     "execution_count": 12,
     "metadata": {},
     "output_type": "execute_result"
    },
    {
     "data": {
      "image/png": "[encoded data removed]",
      "text/plain": [
       "<Figure size 640x480 with 1 Axes>"
      ]
     },
     "metadata": {},
     "output_type": "display_data"
    }
   ],
   "source": [
    "df[['x','y3']].plot()"
   ]
  },
  {
   "cell_type": "markdown",
   "id": "eb37303a-8593-426a-a9eb-f8fd43aafd5b",
   "metadata": {},
   "source": [
    "### Problem 1\n",
    "\n",
    "#### Creating the Train and Test sets\n",
    "\n",
    "**5 Points**\n",
    "\n",
    "Scikit-learn has a built in function called `train_test_split` that accepts one or many arrays and returns a randomized split of the data.  Use the `train_test_split` function to split `x` and `y1` into train and test sets.  Set `random_state = 32` and create a test set using 30% of the data.  Assign your results as array's to `X_train, X_test, y1_train, y1_test` below.  \n",
    "\n",
    "- In anticipation of using `LinearRegression` estimator, make sure your `X_train` and `X_test` are of shapes (70, 1) and (30, 1) respectively."
   ]
  },
  {
   "cell_type": "code",
   "execution_count": 4,
   "id": "eacd5143-8ac4-4c47-9ea3-71323e84e4ba",
   "metadata": {},
   "outputs": [
    {
     "data": {
      "text/html": [
       "<div>\n",
       "<style scoped>\n",
       "    .dataframe tbody tr th:only-of-type {\n",
       "        vertical-align: middle;\n",
       "    }\n",
       "\n",
       "    .dataframe tbody tr th {\n",
       "        vertical-align: top;\n",
       "    }\n",
       "\n",
       "    .dataframe thead th {\n",
       "        text-align: right;\n",
       "    }\n",
       "</style>\n",
       "<table border=\"1\" class=\"dataframe\">\n",
       "  <thead>\n",
       "    <tr style=\"text-align: right;\">\n",
       "      <th></th>\n",
       "      <th>x</th>\n",
       "    </tr>\n",
       "  </thead>\n",
       "  <tbody>\n",
       "    <tr>\n",
       "      <th>91</th>\n",
       "      <td>4.434343</td>\n",
       "    </tr>\n",
       "    <tr>\n",
       "      <th>21</th>\n",
       "      <td>-0.515152</td>\n",
       "    </tr>\n",
       "    <tr>\n",
       "      <th>61</th>\n",
       "      <td>2.313131</td>\n",
       "    </tr>\n",
       "    <tr>\n",
       "      <th>0</th>\n",
       "      <td>-2.000000</td>\n",
       "    </tr>\n",
       "    <tr>\n",
       "      <th>31</th>\n",
       "      <td>0.191919</td>\n",
       "    </tr>\n",
       "  </tbody>\n",
       "</table>\n",
       "</div>"
      ],
      "text/plain": [
       "           x\n",
       "91  4.434343\n",
       "21 -0.515152\n",
       "61  2.313131\n",
       "0  -2.000000\n",
       "31  0.191919"
      ]
     },
     "execution_count": 4,
     "metadata": {},
     "output_type": "execute_result"
    }
   ],
   "source": [
    "X = df[['x']]\n",
    "y = df['y1']\n",
    "X_train,X_test,y1_train,y1_test = train_test_split(X, y, random_state = 32,test_size = 0.3)\n",
    "X_train.head()"
   ]
  },
  {
   "cell_type": "code",
   "execution_count": 14,
   "id": "7e40bb26-f6e4-484f-8042-7a93a02bbba7",
   "metadata": {},
   "outputs": [
    {
     "data": {
      "text/html": [
       "<div>\n",
       "<style scoped>\n",
       "    .dataframe tbody tr th:only-of-type {\n",
       "        vertical-align: middle;\n",
       "    }\n",
       "\n",
       "    .dataframe tbody tr th {\n",
       "        vertical-align: top;\n",
       "    }\n",
       "\n",
       "    .dataframe thead th {\n",
       "        text-align: right;\n",
       "    }\n",
       "</style>\n",
       "<table border=\"1\" class=\"dataframe\">\n",
       "  <thead>\n",
       "    <tr style=\"text-align: right;\">\n",
       "      <th></th>\n",
       "      <th>x</th>\n",
       "    </tr>\n",
       "  </thead>\n",
       "  <tbody>\n",
       "    <tr>\n",
       "      <th>91</th>\n",
       "      <td>4.434343</td>\n",
       "    </tr>\n",
       "    <tr>\n",
       "      <th>21</th>\n",
       "      <td>-0.515152</td>\n",
       "    </tr>\n",
       "    <tr>\n",
       "      <th>61</th>\n",
       "      <td>2.313131</td>\n",
       "    </tr>\n",
       "    <tr>\n",
       "      <th>0</th>\n",
       "      <td>-2.000000</td>\n",
       "    </tr>\n",
       "    <tr>\n",
       "      <th>31</th>\n",
       "      <td>0.191919</td>\n",
       "    </tr>\n",
       "  </tbody>\n",
       "</table>\n",
       "</div>"
      ],
      "text/plain": [
       "           x\n",
       "91  4.434343\n",
       "21 -0.515152\n",
       "61  2.313131\n",
       "0  -2.000000\n",
       "31  0.191919"
      ]
     },
     "execution_count": 14,
     "metadata": {},
     "output_type": "execute_result"
    }
   ],
   "source": [
    "X_train,X_test,y1_train,y1_test = train_test_split(df[['x']],df['y1'], random_state = 32,test_size = 0.3)\n",
    "X_train.head()"
   ]
  },
  {
   "cell_type": "markdown",
   "id": "1faa4e5c-7b18-4757-9d82-d2143a5f9291",
   "metadata": {},
   "source": [
    "### Problem 2\n",
    "\n",
    "Use the `train_test_split` function to create similar splits of `y2` and `y3`.  Use the `random_state = 32` and `test_size` argument as before to assure the same rows of data are used and the same size train and test sets result.  Assign your results as numpy arrays shape (70,) and (30,) respectively to `y2_train`, `y2_test` and `y3_train`, `y3_test` below. "
   ]
  },
  {
   "cell_type": "code",
   "execution_count": 8,
   "id": "22e0b704-b547-4d71-8e61-044c638579f7",
   "metadata": {},
   "outputs": [
    {
     "data": {
      "text/html": [
       "<div>\n",
       "<style scoped>\n",
       "    .dataframe tbody tr th:only-of-type {\n",
       "        vertical-align: middle;\n",
       "    }\n",
       "\n",
       "    .dataframe tbody tr th {\n",
       "        vertical-align: top;\n",
       "    }\n",
       "\n",
       "    .dataframe thead th {\n",
       "        text-align: right;\n",
       "    }\n",
       "</style>\n",
       "<table border=\"1\" class=\"dataframe\">\n",
       "  <thead>\n",
       "    <tr style=\"text-align: right;\">\n",
       "      <th></th>\n",
       "      <th>x</th>\n",
       "    </tr>\n",
       "  </thead>\n",
       "  <tbody>\n",
       "    <tr>\n",
       "      <th>91</th>\n",
       "      <td>4.434343</td>\n",
       "    </tr>\n",
       "    <tr>\n",
       "      <th>21</th>\n",
       "      <td>-0.515152</td>\n",
       "    </tr>\n",
       "    <tr>\n",
       "      <th>61</th>\n",
       "      <td>2.313131</td>\n",
       "    </tr>\n",
       "    <tr>\n",
       "      <th>0</th>\n",
       "      <td>-2.000000</td>\n",
       "    </tr>\n",
       "    <tr>\n",
       "      <th>31</th>\n",
       "      <td>0.191919</td>\n",
       "    </tr>\n",
       "  </tbody>\n",
       "</table>\n",
       "</div>"
      ],
      "text/plain": [
       "           x\n",
       "91  4.434343\n",
       "21 -0.515152\n",
       "61  2.313131\n",
       "0  -2.000000\n",
       "31  0.191919"
      ]
     },
     "metadata": {},
     "output_type": "display_data"
    },
    {
     "data": {
      "text/plain": [
       "91   -173.744136\n",
       "21    -28.021552\n",
       "61    -15.806732\n",
       "0       5.698300\n",
       "31    -21.696552\n",
       "Name: y2, dtype: float64"
      ]
     },
     "execution_count": 8,
     "metadata": {},
     "output_type": "execute_result"
    }
   ],
   "source": [
    "X_train, X_test, y2_train, y2_test = train_test_split(df[['x']], df['y2'],random_state = 32, test_size = 0.3)\n",
    "display(X_train.head())\n",
    "y2_train.head()"
   ]
  },
  {
   "cell_type": "code",
   "execution_count": 6,
   "id": "167ff444-57d0-4e26-9619-50488e01e189",
   "metadata": {},
   "outputs": [
    {
     "data": {
      "text/plain": [
       "91   -12.007850\n",
       "21    -8.383127\n",
       "61    13.738057\n",
       "0      3.880352\n",
       "31    -9.543759\n",
       "Name: y3, dtype: float64"
      ]
     },
     "execution_count": 6,
     "metadata": {},
     "output_type": "execute_result"
    }
   ],
   "source": [
    "y3_train, y3_test = train_test_split(df['y3'],random_state = 32, test_size = 0.3)\n",
    "y3_train.head()"
   ]
  },
  {
   "cell_type": "code",
   "execution_count": 10,
   "id": "158b852a-74a9-453d-8ecf-224cb8168036",
   "metadata": {},
   "outputs": [],
   "source": [
    "a,b,c,d,e,f,g, h = train_test_split(df[\"x\"], df['y1'], df['y2'], df['y3'], random_state = 32, test_size = 0.3)"
   ]
  },
  {
   "cell_type": "code",
   "execution_count": 12,
   "id": "d2476eb5-f79e-4759-9d0a-b0a4dfcbbf04",
   "metadata": {},
   "outputs": [
    {
     "data": {
      "text/plain": [
       "91    4.434343\n",
       "21   -0.515152\n",
       "61    2.313131\n",
       "0    -2.000000\n",
       "31    0.191919\n",
       "Name: x, dtype: float64"
      ]
     },
     "metadata": {},
     "output_type": "display_data"
    },
    {
     "data": {
      "text/plain": [
       "(70,)"
      ]
     },
     "metadata": {},
     "output_type": "display_data"
    },
    {
     "data": {
      "text/plain": [
       "91   -12.007850\n",
       "21    -8.383127\n",
       "61    13.738057\n",
       "0      3.880352\n",
       "31    -9.543759\n",
       "Name: y3, dtype: float64"
      ]
     },
     "execution_count": 12,
     "metadata": {},
     "output_type": "execute_result"
    }
   ],
   "source": [
    "display(a.head())\n",
    "display(g.shape)\n",
    "g.head()"
   ]
  },
  {
   "cell_type": "code",
   "execution_count": 15,
   "id": "8d665543-be13-449b-923a-a9b273d9865f",
   "metadata": {},
   "outputs": [
    {
     "data": {
      "text/plain": [
       "91   -173.744136\n",
       "21    -28.021552\n",
       "61    -15.806732\n",
       "0       5.698300\n",
       "31    -21.696552\n",
       "Name: y2, dtype: float64"
      ]
     },
     "execution_count": 15,
     "metadata": {},
     "output_type": "execute_result"
    }
   ],
   "source": [
    "y2_train,y2_test,y3_train,y3_test = train_test_split(df['y2'],df['y3'],random_state = 32, test_size = 0.3)\n",
    "y2_train.head()"
   ]
  },
  {
   "cell_type": "markdown",
   "id": "cb480b40-107e-4e06-bd3c-af28f1024cc5",
   "metadata": {},
   "source": [
    "### Problem 3\n",
    "\n",
    "Use a loop to build models of degree 1 through 20 on `X_train` with `y1_train` as the target.  Evaluate the `mean_squared_error` on the training data *and* the testing data and save these values as the lists `train_mses` and `test_mses` respectively.  Determine the model complexity that minimizes the `mean_squared_error` on the **test** data, and assign this as an integer to `best_model_complexity` below."
   ]
  },
  {
   "cell_type": "code",
   "execution_count": 36,
   "id": "e907224b-1ae1-4ae1-91f9-c7c623a69fce",
   "metadata": {},
   "outputs": [
    {
     "data": {
      "text/plain": [
       "array([[ 4.43434343],\n",
       "       [-0.51515152],\n",
       "       [ 2.31313131],\n",
       "       [-2.        ],\n",
       "       [ 0.19191919],\n",
       "       [ 3.3030303 ],\n",
       "       [ 2.73737374],\n",
       "       [-0.23232323],\n",
       "       [-1.01010101],\n",
       "       [ 1.74747475],\n",
       "       [-0.86868687],\n",
       "       [ 1.46464646],\n",
       "       [-0.7979798 ],\n",
       "       [-0.72727273],\n",
       "       [-0.58585859],\n",
       "       [-0.02020202],\n",
       "       [ 4.64646465],\n",
       "       [ 2.94949495],\n",
       "       [ 0.8989899 ],\n",
       "       [ 3.86868687],\n",
       "       [ 2.24242424],\n",
       "       [ 1.95959596],\n",
       "       [ 4.92929293],\n",
       "       [ 3.44444444],\n",
       "       [ 4.50505051],\n",
       "       [ 1.60606061],\n",
       "       [ 2.80808081],\n",
       "       [ 1.32323232],\n",
       "       [ 4.08080808],\n",
       "       [ 1.18181818],\n",
       "       [ 3.37373737],\n",
       "       [ 3.7979798 ],\n",
       "       [ 3.58585859],\n",
       "       [ 0.61616162],\n",
       "       [ 3.51515152],\n",
       "       [ 0.12121212],\n",
       "       [ 3.16161616],\n",
       "       [-1.57575758],\n",
       "       [ 3.09090909],\n",
       "       [ 2.52525253],\n",
       "       [ 1.67676768],\n",
       "       [ 0.05050505],\n",
       "       [ 3.23232323],\n",
       "       [ 4.71717172],\n",
       "       [ 5.        ],\n",
       "       [ 0.68686869],\n",
       "       [ 2.87878788],\n",
       "       [ 2.03030303],\n",
       "       [ 1.53535354],\n",
       "       [-1.29292929],\n",
       "       [ 0.96969697],\n",
       "       [-0.3030303 ],\n",
       "       [ 0.47474747],\n",
       "       [ 0.4040404 ],\n",
       "       [ 2.5959596 ],\n",
       "       [ 4.36363636],\n",
       "       [ 3.72727273],\n",
       "       [-1.22222222],\n",
       "       [-1.71717172],\n",
       "       [-1.36363636],\n",
       "       [-1.78787879],\n",
       "       [ 4.29292929],\n",
       "       [ 3.02020202],\n",
       "       [-0.65656566],\n",
       "       [ 4.22222222],\n",
       "       [ 2.38383838],\n",
       "       [ 1.81818182],\n",
       "       [-1.64646465],\n",
       "       [ 1.04040404],\n",
       "       [ 4.15151515]])"
      ]
     },
     "execution_count": 36,
     "metadata": {},
     "output_type": "execute_result"
    }
   ],
   "source": [
    "a.values.reshape(-1,1)"
   ]
  },
  {
   "cell_type": "code",
   "execution_count": 40,
   "id": "0cfbe54b-b771-4378-9002-11b6029705a8",
   "metadata": {
    "scrolled": true
   },
   "outputs": [
    {
     "data": {
      "text/plain": [
       "array([[ 4.43434343e+00,  1.96634017e+01],\n",
       "       [-5.15151515e-01,  2.65381084e-01],\n",
       "       [ 2.31313131e+00,  5.35057647e+00],\n",
       "       [-2.00000000e+00,  4.00000000e+00],\n",
       "       [ 1.91919192e-01,  3.68329762e-02],\n",
       "       [ 3.30303030e+00,  1.09100092e+01],\n",
       "       [ 2.73737374e+00,  7.49321498e+00],\n",
       "       [-2.32323232e-01,  5.39740843e-02],\n",
       "       [-1.01010101e+00,  1.02030405e+00],\n",
       "       [ 1.74747475e+00,  3.05366799e+00],\n",
       "       [-8.68686869e-01,  7.54616876e-01],\n",
       "       [ 1.46464646e+00,  2.14518927e+00],\n",
       "       [-7.97979798e-01,  6.36771758e-01],\n",
       "       [-7.27272727e-01,  5.28925620e-01],\n",
       "       [-5.85858586e-01,  3.43230283e-01],\n",
       "       [-2.02020202e-02,  4.08121620e-04],\n",
       "       [ 4.64646465e+00,  2.15896337e+01],\n",
       "       [ 2.94949495e+00,  8.69952046e+00],\n",
       "       [ 8.98989899e-01,  8.08182838e-01],\n",
       "       [ 3.86868687e+00,  1.49667381e+01],\n",
       "       [ 2.24242424e+00,  5.02846648e+00],\n",
       "       [ 1.95959596e+00,  3.84001632e+00],\n",
       "       [ 4.92929293e+00,  2.42979288e+01],\n",
       "       [ 3.44444444e+00,  1.18641975e+01],\n",
       "       [ 4.50505051e+00,  2.02954801e+01],\n",
       "       [ 1.60606061e+00,  2.57943067e+00],\n",
       "       [ 2.80808081e+00,  7.88531782e+00],\n",
       "       [ 1.32323232e+00,  1.75094378e+00],\n",
       "       [ 4.08080808e+00,  1.66529946e+01],\n",
       "       [ 1.18181818e+00,  1.39669421e+00],\n",
       "       [ 3.37373737e+00,  1.13821039e+01],\n",
       "       [ 3.79797980e+00,  1.44246505e+01],\n",
       "       [ 3.58585859e+00,  1.28583818e+01],\n",
       "       [ 6.16161616e-01,  3.79655137e-01],\n",
       "       [ 3.51515152e+00,  1.23562902e+01],\n",
       "       [ 1.21212121e-01,  1.46923783e-02],\n",
       "       [ 3.16161616e+00,  9.99581675e+00],\n",
       "       [-1.57575758e+00,  2.48301194e+00],\n",
       "       [ 3.09090909e+00,  9.55371901e+00],\n",
       "       [ 2.52525253e+00,  6.37690032e+00],\n",
       "       [ 1.67676768e+00,  2.81154984e+00],\n",
       "       [ 5.05050505e-02,  2.55076013e-03],\n",
       "       [ 3.23232323e+00,  1.04479135e+01],\n",
       "       [ 4.71717172e+00,  2.22517090e+01],\n",
       "       [ 5.00000000e+00,  2.50000000e+01],\n",
       "       [ 6.86868687e-01,  4.71788593e-01],\n",
       "       [ 2.87878788e+00,  8.28741965e+00],\n",
       "       [ 2.03030303e+00,  4.12213039e+00],\n",
       "       [ 1.53535354e+00,  2.35731048e+00],\n",
       "       [-1.29292929e+00,  1.67166616e+00],\n",
       "       [ 9.69696970e-01,  9.40312213e-01],\n",
       "       [-3.03030303e-01,  9.18273646e-02],\n",
       "       [ 4.74747475e-01,  2.25385165e-01],\n",
       "       [ 4.04040404e-01,  1.63248648e-01],\n",
       "       [ 2.59595960e+00,  6.73900622e+00],\n",
       "       [ 4.36363636e+00,  1.90413223e+01],\n",
       "       [ 3.72727273e+00,  1.38925620e+01],\n",
       "       [-1.22222222e+00,  1.49382716e+00],\n",
       "       [-1.71717172e+00,  2.94867871e+00],\n",
       "       [-1.36363636e+00,  1.85950413e+00],\n",
       "       [-1.78787879e+00,  3.19651056e+00],\n",
       "       [ 4.29292929e+00,  1.84292419e+01],\n",
       "       [ 3.02020202e+00,  9.12162024e+00],\n",
       "       [-6.56565657e-01,  4.31078461e-01],\n",
       "       [ 4.22222222e+00,  1.78271605e+01],\n",
       "       [ 2.38383838e+00,  5.68268544e+00],\n",
       "       [ 1.81818182e+00,  3.30578512e+00],\n",
       "       [-1.64646465e+00,  2.71084583e+00],\n",
       "       [ 1.04040404e+00,  1.08244057e+00],\n",
       "       [ 4.15151515e+00,  1.72350781e+01]])"
      ]
     },
     "execution_count": 40,
     "metadata": {},
     "output_type": "execute_result"
    }
   ],
   "source": [
    "\n",
    "test_df = pd.DataFrame({\"Ori_X\": a.values, \"Ori_y\": c.values})\n",
    "# display(test_df)\n",
    "temp_model1 = PolynomialFeatures(degree=2, include_bias=False)\n",
    "temp_model1.fit_transform(a.values.reshape(-1,1))"
   ]
  },
  {
   "cell_type": "code",
   "execution_count": 41,
   "id": "b94f5951-1a7a-438d-9367-90aeeee356c1",
   "metadata": {},
   "outputs": [
    {
     "data": {
      "text/plain": [
       "array([[ 1.00000000e+00,  4.43434343e+00,  1.96634017e+01],\n",
       "       [ 1.00000000e+00, -5.15151515e-01,  2.65381084e-01],\n",
       "       [ 1.00000000e+00,  2.31313131e+00,  5.35057647e+00],\n",
       "       [ 1.00000000e+00, -2.00000000e+00,  4.00000000e+00],\n",
       "       [ 1.00000000e+00,  1.91919192e-01,  3.68329762e-02],\n",
       "       [ 1.00000000e+00,  3.30303030e+00,  1.09100092e+01],\n",
       "       [ 1.00000000e+00,  2.73737374e+00,  7.49321498e+00],\n",
       "       [ 1.00000000e+00, -2.32323232e-01,  5.39740843e-02],\n",
       "       [ 1.00000000e+00, -1.01010101e+00,  1.02030405e+00],\n",
       "       [ 1.00000000e+00,  1.74747475e+00,  3.05366799e+00],\n",
       "       [ 1.00000000e+00, -8.68686869e-01,  7.54616876e-01],\n",
       "       [ 1.00000000e+00,  1.46464646e+00,  2.14518927e+00],\n",
       "       [ 1.00000000e+00, -7.97979798e-01,  6.36771758e-01],\n",
       "       [ 1.00000000e+00, -7.27272727e-01,  5.28925620e-01],\n",
       "       [ 1.00000000e+00, -5.85858586e-01,  3.43230283e-01],\n",
       "       [ 1.00000000e+00, -2.02020202e-02,  4.08121620e-04],\n",
       "       [ 1.00000000e+00,  4.64646465e+00,  2.15896337e+01],\n",
       "       [ 1.00000000e+00,  2.94949495e+00,  8.69952046e+00],\n",
       "       [ 1.00000000e+00,  8.98989899e-01,  8.08182838e-01],\n",
       "       [ 1.00000000e+00,  3.86868687e+00,  1.49667381e+01],\n",
       "       [ 1.00000000e+00,  2.24242424e+00,  5.02846648e+00],\n",
       "       [ 1.00000000e+00,  1.95959596e+00,  3.84001632e+00],\n",
       "       [ 1.00000000e+00,  4.92929293e+00,  2.42979288e+01],\n",
       "       [ 1.00000000e+00,  3.44444444e+00,  1.18641975e+01],\n",
       "       [ 1.00000000e+00,  4.50505051e+00,  2.02954801e+01],\n",
       "       [ 1.00000000e+00,  1.60606061e+00,  2.57943067e+00],\n",
       "       [ 1.00000000e+00,  2.80808081e+00,  7.88531782e+00],\n",
       "       [ 1.00000000e+00,  1.32323232e+00,  1.75094378e+00],\n",
       "       [ 1.00000000e+00,  4.08080808e+00,  1.66529946e+01],\n",
       "       [ 1.00000000e+00,  1.18181818e+00,  1.39669421e+00],\n",
       "       [ 1.00000000e+00,  3.37373737e+00,  1.13821039e+01],\n",
       "       [ 1.00000000e+00,  3.79797980e+00,  1.44246505e+01],\n",
       "       [ 1.00000000e+00,  3.58585859e+00,  1.28583818e+01],\n",
       "       [ 1.00000000e+00,  6.16161616e-01,  3.79655137e-01],\n",
       "       [ 1.00000000e+00,  3.51515152e+00,  1.23562902e+01],\n",
       "       [ 1.00000000e+00,  1.21212121e-01,  1.46923783e-02],\n",
       "       [ 1.00000000e+00,  3.16161616e+00,  9.99581675e+00],\n",
       "       [ 1.00000000e+00, -1.57575758e+00,  2.48301194e+00],\n",
       "       [ 1.00000000e+00,  3.09090909e+00,  9.55371901e+00],\n",
       "       [ 1.00000000e+00,  2.52525253e+00,  6.37690032e+00],\n",
       "       [ 1.00000000e+00,  1.67676768e+00,  2.81154984e+00],\n",
       "       [ 1.00000000e+00,  5.05050505e-02,  2.55076013e-03],\n",
       "       [ 1.00000000e+00,  3.23232323e+00,  1.04479135e+01],\n",
       "       [ 1.00000000e+00,  4.71717172e+00,  2.22517090e+01],\n",
       "       [ 1.00000000e+00,  5.00000000e+00,  2.50000000e+01],\n",
       "       [ 1.00000000e+00,  6.86868687e-01,  4.71788593e-01],\n",
       "       [ 1.00000000e+00,  2.87878788e+00,  8.28741965e+00],\n",
       "       [ 1.00000000e+00,  2.03030303e+00,  4.12213039e+00],\n",
       "       [ 1.00000000e+00,  1.53535354e+00,  2.35731048e+00],\n",
       "       [ 1.00000000e+00, -1.29292929e+00,  1.67166616e+00],\n",
       "       [ 1.00000000e+00,  9.69696970e-01,  9.40312213e-01],\n",
       "       [ 1.00000000e+00, -3.03030303e-01,  9.18273646e-02],\n",
       "       [ 1.00000000e+00,  4.74747475e-01,  2.25385165e-01],\n",
       "       [ 1.00000000e+00,  4.04040404e-01,  1.63248648e-01],\n",
       "       [ 1.00000000e+00,  2.59595960e+00,  6.73900622e+00],\n",
       "       [ 1.00000000e+00,  4.36363636e+00,  1.90413223e+01],\n",
       "       [ 1.00000000e+00,  3.72727273e+00,  1.38925620e+01],\n",
       "       [ 1.00000000e+00, -1.22222222e+00,  1.49382716e+00],\n",
       "       [ 1.00000000e+00, -1.71717172e+00,  2.94867871e+00],\n",
       "       [ 1.00000000e+00, -1.36363636e+00,  1.85950413e+00],\n",
       "       [ 1.00000000e+00, -1.78787879e+00,  3.19651056e+00],\n",
       "       [ 1.00000000e+00,  4.29292929e+00,  1.84292419e+01],\n",
       "       [ 1.00000000e+00,  3.02020202e+00,  9.12162024e+00],\n",
       "       [ 1.00000000e+00, -6.56565657e-01,  4.31078461e-01],\n",
       "       [ 1.00000000e+00,  4.22222222e+00,  1.78271605e+01],\n",
       "       [ 1.00000000e+00,  2.38383838e+00,  5.68268544e+00],\n",
       "       [ 1.00000000e+00,  1.81818182e+00,  3.30578512e+00],\n",
       "       [ 1.00000000e+00, -1.64646465e+00,  2.71084583e+00],\n",
       "       [ 1.00000000e+00,  1.04040404e+00,  1.08244057e+00],\n",
       "       [ 1.00000000e+00,  4.15151515e+00,  1.72350781e+01]])"
      ]
     },
     "execution_count": 41,
     "metadata": {},
     "output_type": "execute_result"
    }
   ],
   "source": [
    "temp_model2 = PolynomialFeatures(degree=2, include_bias=True)\n",
    "temp_model2.fit_transform(a.values.reshape(-1,1))"
   ]
  },
  {
   "cell_type": "code",
   "execution_count": 18,
   "id": "a1f2d1d0-3914-4915-9d33-83727746d9be",
   "metadata": {},
   "outputs": [
    {
     "name": "stdout",
     "output_type": "stream",
     "text": [
      "[36.78588544670158, 16.901689288923034, 16.792233140921063, 16.75265525198859, 16.51825939695342, 16.34773057992363, 16.34732563666119, 15.478184370042877, 15.41362488939858, 14.686083681497387, 14.530810630303073, 14.397125499213093, 14.29020338579148, 14.279994616199138, 13.900424512073453, 13.418030656401411, 12.813932248801171, 12.767345220344435, 13.133499070261413, 14.034270167848662]\n"
     ]
    },
    {
     "data": {
      "text/plain": [
       "[32.8171722183602,\n",
       " 6.429420760051614,\n",
       " 6.778496813459423,\n",
       " 6.788845115002885,\n",
       " 6.971695801707449,\n",
       " 6.760354460952867,\n",
       " 6.727808544971183,\n",
       " 6.670479979847718,\n",
       " 7.020859570052164,\n",
       " 7.291059476348022,\n",
       " 7.799829067427354,\n",
       " 8.100948615970514,\n",
       " 7.897998287055468,\n",
       " 8.04523241928214,\n",
       " 10.70147344062831,\n",
       " 17.126314228014884,\n",
       " 31.61742959896897,\n",
       " 34.52097430361668,\n",
       " 30.29362828786417,\n",
       " 20.696754308217976]"
      ]
     },
     "execution_count": 18,
     "metadata": {},
     "output_type": "execute_result"
    }
   ],
   "source": [
    "train_mses = []\n",
    "test_mses = []\n",
    "for i in range(1,21):\n",
    "    pipe = Pipeline([('pfeat',PolynomialFeatures(degree = i, include_bias = False)), ('linreg',LinearRegression())])\n",
    "    pipe.fit(X_train,y1_train)\n",
    "    train_pred = pipe.predict(X_train)\n",
    "    test_pred = pipe.predict(X_test)\n",
    "    train_mses.append(mean_squared_error(train_pred,y1_train))\n",
    "    test_mses.append(mean_squared_error(test_pred,y1_test))\n",
    "print(train_mses)\n",
    "test_mses"
   ]
  },
  {
   "cell_type": "code",
   "execution_count": 19,
   "id": "df337c77-139d-4fc5-aaaf-3b982c233f3e",
   "metadata": {},
   "outputs": [
    {
     "data": {
      "text/plain": [
       "2"
      ]
     },
     "execution_count": 19,
     "metadata": {},
     "output_type": "execute_result"
    }
   ],
   "source": [
    "best_model_complexity = test_mses.index(min(test_mses)) + 1\n",
    "best_model_complexity"
   ]
  },
  {
   "cell_type": "markdown",
   "id": "8f8193ca-8a6b-48e5-9636-15f3dc913f5b",
   "metadata": {},
   "source": [
    "Uncomment the code below to visualize the results of your model fitting.  Note that the data in `y1` were created from a quadratic model originally."
   ]
  },
  {
   "cell_type": "code",
   "execution_count": 20,
   "id": "c745d685-f4bd-4b75-83b0-821980ef15ad",
   "metadata": {},
   "outputs": [
    {
     "name": "stdout",
     "output_type": "stream",
     "text": [
      "The Complexity that minimized Test Error was: 2\n"
     ]
    },
    {
     "data": {
      "image/png": "[encoded data removed]",
      "text/plain": [
       "<Figure size 640x480 with 1 Axes>"
      ]
     },
     "metadata": {},
     "output_type": "display_data"
    }
   ],
   "source": [
    "print(f'The Complexity that minimized Test Error was: {test_mses.index(min(test_mses)) + 1}')\n",
    "plt.plot(range(1, 21), train_mses, '--o', label = 'training error')\n",
    "plt.plot(range(1, 21), test_mses, '--o', label = 'testing error')\n",
    "plt.xticks(range(1, 21), range(1, 21))\n",
    "plt.xlabel('Degree Complexity')\n",
    "plt.ylabel('Mean Squared Error')\n",
    "plt.legend();"
   ]
  },
  {
   "cell_type": "markdown",
   "id": "6c83018b-c04f-4a36-befb-bb06b54253f1",
   "metadata": {},
   "source": [
    "### Problem 4\n",
    "\n",
    "#### Write a function to determine best model complexity\n",
    "\n",
    "Now, use what you have learned above to complete the function `simple_cross_validation`.  This function will take in split data, and use the split data to build Linear Regression models of varying complexity, returning the model with the lowest mean squared error on the train set.  \n",
    "\n",
    "One added piece is the return of the best pipeline -- below comments suggest comparing the mean squared error to the best mean squared error and assigning the pipe to a variable inside the function.  Your function will be tested on the second and third dataset from above. "
   ]
  },
  {
   "cell_type": "code",
   "execution_count": 60,
   "id": "2e670395-a621-4162-b23d-78599ef97138",
   "metadata": {},
   "outputs": [],
   "source": [
    "def simple_cross_validation(X_train, y_train, X_test, y_test):\n",
    "    best_mse = np.inf\n",
    "    best_pipe = None\n",
    "    for i in range(1,21):\n",
    "        pipe = Pipeline([('pfeat',PolynomialFeatures(degree = i, include_bias = False)),('linreg',LinearRegression())])\n",
    "        pipe.fit(X_train,y_train)\n",
    "        test_mse = mean_squared_error(pipe.predict(X_test),y_test)\n",
    "        if test_mse < best_mse:\n",
    "            best_mse = test_mse\n",
    "            best_pipe = pipe\n",
    "            # print(f\"best pipe={best_pipe} at {test_mse} < {best_mse} when {i=}\")\n",
    "            # print(pipe.predict(X_test)[:5])\n",
    "            # print(y_test.values[:5])\n",
    "            # print(\"===========================\")\n",
    "    return best_pipe"
   ]
  },
  {
   "cell_type": "code",
   "execution_count": 53,
   "id": "a1a57d93-4c29-46d3-a058-39130f53ec44",
   "metadata": {},
   "outputs": [
    {
     "name": "stdout",
     "output_type": "stream",
     "text": [
      "best pipe=Pipeline(steps=[('pfeat', PolynomialFeatures(degree=1, include_bias=False)),\n",
      "                ('linreg', LinearRegression())]) at 1654.0367196440632 < 1654.0367196440632 when i=1\n",
      "[   4.87588283  -26.26080334 -110.51301297 -132.49185027  -55.56591973]\n",
      "[ -16.4988015    12.58586533 -183.22867587  -63.74371444   -7.50755208]\n",
      "===========================\n",
      "best pipe=Pipeline(steps=[('pfeat', PolynomialFeatures(include_bias=False)),\n",
      "                ('linreg', LinearRegression())]) at 1333.6355369805335 < 1333.6355369805335 when i=2\n",
      "[   5.82642662  -11.70328177 -119.23588968 -161.72165572  -39.15159602]\n",
      "[ -16.4988015    12.58586533 -183.22867587  -63.74371444   -7.50755208]\n",
      "===========================\n",
      "best pipe=Pipeline(steps=[('pfeat', PolynomialFeatures(degree=3, include_bias=False)),\n",
      "                ('linreg', LinearRegression())]) at 1225.9965125073638 < 1225.9965125073638 when i=3\n",
      "[  16.44670777   -3.20723604 -122.71961552 -142.94307807  -41.94818294]\n",
      "[ -16.4988015    12.58586533 -183.22867587  -63.74371444   -7.50755208]\n",
      "===========================\n",
      "best pipe=Pipeline(steps=[('pfeat', PolynomialFeatures(degree=4, include_bias=False)),\n",
      "                ('linreg', LinearRegression())]) at 506.7569771875712 < 506.7569771875712 when i=4\n",
      "[ -18.91416785   16.07393881 -156.94352885  -90.32936618   -9.32618   ]\n",
      "[ -16.4988015    12.58586533 -183.22867587  -63.74371444   -7.50755208]\n",
      "===========================\n",
      "best pipe=Pipeline(steps=[('pfeat', PolynomialFeatures(degree=5, include_bias=False)),\n",
      "                ('linreg', LinearRegression())]) at 109.9275681244179 < 109.9275681244179 when i=5\n",
      "[ -16.05837681   -8.89045884 -182.53056321  -64.04053676    1.90011489]\n",
      "[ -16.4988015    12.58586533 -183.22867587  -63.74371444   -7.50755208]\n",
      "===========================\n",
      "best pipe=Pipeline(steps=[('pfeat', PolynomialFeatures(degree=6, include_bias=False)),\n",
      "                ('linreg', LinearRegression())]) at 106.68060858137433 < 106.68060858137433 when i=6\n",
      "[ -15.40446447   -8.93068467 -182.85941989  -63.68930711    1.25548692]\n",
      "[ -16.4988015    12.58586533 -183.22867587  -63.74371444   -7.50755208]\n",
      "===========================\n",
      "best pipe=Pipeline(steps=[('pfeat', PolynomialFeatures(degree=7, include_bias=False)),\n",
      "                ('linreg', LinearRegression())]) at 106.36969353813427 < 106.36969353813427 when i=7\n",
      "[ -16.80317403   -7.4135199  -182.19522108  -64.03534534    0.27518066]\n",
      "[ -16.4988015    12.58586533 -183.22867587  -63.74371444   -7.50755208]\n",
      "===========================\n",
      "best pipe=Pipeline(steps=[('pfeat', PolynomialFeatures(degree=8, include_bias=False)),\n",
      "                ('linreg', LinearRegression())]) at 105.20420410395802 < 105.20420410395802 when i=8\n",
      "[ -17.09002796   -6.92336771 -184.22237361  -62.36867496   -0.73667077]\n",
      "[ -16.4988015    12.58586533 -183.22867587  -63.74371444   -7.50755208]\n",
      "===========================\n",
      "best pipe=Pipeline(steps=[('pfeat', PolynomialFeatures(degree=9, include_bias=False)),\n",
      "                ('linreg', LinearRegression())]) at 104.08288684324647 < 104.08288684324647 when i=9\n",
      "[ -17.69609339   -6.21064463 -185.05148261  -61.24938601   -1.33984379]\n",
      "[ -16.4988015    12.58586533 -183.22867587  -63.74371444   -7.50755208]\n",
      "===========================\n",
      "best pipe=Pipeline(steps=[('pfeat', PolynomialFeatures(degree=10, include_bias=False)),\n",
      "                ('linreg', LinearRegression())]) at 103.46084842953184 < 103.46084842953184 when i=10\n",
      "[ -17.55543866   -6.2996648  -185.12155154  -60.98525405   -1.29280478]\n",
      "[ -16.4988015    12.58586533 -183.22867587  -63.74371444   -7.50755208]\n",
      "===========================\n"
     ]
    },
    {
     "data": {
      "text/html": [
       "<style>#sk-container-id-7 {\n",
       "  /* Definition of color scheme common for light and dark mode */\n",
       "  --sklearn-color-text: #000;\n",
       "  --sklearn-color-text-muted: #666;\n",
       "  --sklearn-color-line: gray;\n",
       "  /* Definition of color scheme for unfitted estimators */\n",
       "  --sklearn-color-unfitted-level-0: #fff5e6;\n",
       "  --sklearn-color-unfitted-level-1: #f6e4d2;\n",
       "  --sklearn-color-unfitted-level-2: #ffe0b3;\n",
       "  --sklearn-color-unfitted-level-3: chocolate;\n",
       "  /* Definition of color scheme for fitted estimators */\n",
       "  --sklearn-color-fitted-level-0: #f0f8ff;\n",
       "  --sklearn-color-fitted-level-1: #d4ebff;\n",
       "  --sklearn-color-fitted-level-2: #b3dbfd;\n",
       "  --sklearn-color-fitted-level-3: cornflowerblue;\n",
       "\n",
       "  /* Specific color for light theme */\n",
       "  --sklearn-color-text-on-default-background: var(--sg-text-color, var(--theme-code-foreground, var(--jp-content-font-color1, black)));\n",
       "  --sklearn-color-background: var(--sg-background-color, var(--theme-background, var(--jp-layout-color0, white)));\n",
       "  --sklearn-color-border-box: var(--sg-text-color, var(--theme-code-foreground, var(--jp-content-font-color1, black)));\n",
       "  --sklearn-color-icon: #696969;\n",
       "\n",
       "  @media (prefers-color-scheme: dark) {\n",
       "    /* Redefinition of color scheme for dark theme */\n",
       "    --sklearn-color-text-on-default-background: var(--sg-text-color, var(--theme-code-foreground, var(--jp-content-font-color1, white)));\n",
       "    --sklearn-color-background: var(--sg-background-color, var(--theme-background, var(--jp-layout-color0, #111)));\n",
       "    --sklearn-color-border-box: var(--sg-text-color, var(--theme-code-foreground, var(--jp-content-font-color1, white)));\n",
       "    --sklearn-color-icon: #878787;\n",
       "  }\n",
       "}\n",
       "\n",
       "#sk-container-id-7 {\n",
       "  color: var(--sklearn-color-text);\n",
       "}\n",
       "\n",
       "#sk-container-id-7 pre {\n",
       "  padding: 0;\n",
       "}\n",
       "\n",
       "#sk-container-id-7 input.sk-hidden--visually {\n",
       "  border: 0;\n",
       "  clip: rect(1px 1px 1px 1px);\n",
       "  clip: rect(1px, 1px, 1px, 1px);\n",
       "  height: 1px;\n",
       "  margin: -1px;\n",
       "  overflow: hidden;\n",
       "  padding: 0;\n",
       "  position: absolute;\n",
       "  width: 1px;\n",
       "}\n",
       "\n",
       "#sk-container-id-7 div.sk-dashed-wrapped {\n",
       "  border: 1px dashed var(--sklearn-color-line);\n",
       "  margin: 0 0.4em 0.5em 0.4em;\n",
       "  box-sizing: border-box;\n",
       "  padding-bottom: 0.4em;\n",
       "  background-color: var(--sklearn-color-background);\n",
       "}\n",
       "\n",
       "#sk-container-id-7 div.sk-container {\n",
       "  /* jupyter's `normalize.less` sets `[hidden] { display: none; }`\n",
       "     but bootstrap.min.css set `[hidden] { display: none !important; }`\n",
       "     so we also need the `!important` here to be able to override the\n",
       "     default hidden behavior on the sphinx rendered scikit-learn.org.\n",
       "     See: https://github.com/scikit-learn/scikit-learn/issues/21755 */\n",
       "  display: inline-block !important;\n",
       "  position: relative;\n",
       "}\n",
       "\n",
       "#sk-container-id-7 div.sk-text-repr-fallback {\n",
       "  display: none;\n",
       "}\n",
       "\n",
       "div.sk-parallel-item,\n",
       "div.sk-serial,\n",
       "div.sk-item {\n",
       "  /* draw centered vertical line to link estimators */\n",
       "  background-image: linear-gradient(var(--sklearn-color-text-on-default-background), var(--sklearn-color-text-on-default-background));\n",
       "  background-size: 2px 100%;\n",
       "  background-repeat: no-repeat;\n",
       "  background-position: center center;\n",
       "}\n",
       "\n",
       "/* Parallel-specific style estimator block */\n",
       "\n",
       "#sk-container-id-7 div.sk-parallel-item::after {\n",
       "  content: \"\";\n",
       "  width: 100%;\n",
       "  border-bottom: 2px solid var(--sklearn-color-text-on-default-background);\n",
       "  flex-grow: 1;\n",
       "}\n",
       "\n",
       "#sk-container-id-7 div.sk-parallel {\n",
       "  display: flex;\n",
       "  align-items: stretch;\n",
       "  justify-content: center;\n",
       "  background-color: var(--sklearn-color-background);\n",
       "  position: relative;\n",
       "}\n",
       "\n",
       "#sk-container-id-7 div.sk-parallel-item {\n",
       "  display: flex;\n",
       "  flex-direction: column;\n",
       "}\n",
       "\n",
       "#sk-container-id-7 div.sk-parallel-item:first-child::after {\n",
       "  align-self: flex-end;\n",
       "  width: 50%;\n",
       "}\n",
       "\n",
       "#sk-container-id-7 div.sk-parallel-item:last-child::after {\n",
       "  align-self: flex-start;\n",
       "  width: 50%;\n",
       "}\n",
       "\n",
       "#sk-container-id-7 div.sk-parallel-item:only-child::after {\n",
       "  width: 0;\n",
       "}\n",
       "\n",
       "/* Serial-specific style estimator block */\n",
       "\n",
       "#sk-container-id-7 div.sk-serial {\n",
       "  display: flex;\n",
       "  flex-direction: column;\n",
       "  align-items: center;\n",
       "  background-color: var(--sklearn-color-background);\n",
       "  padding-right: 1em;\n",
       "  padding-left: 1em;\n",
       "}\n",
       "\n",
       "\n",
       "/* Toggleable style: style used for estimator/Pipeline/ColumnTransformer box that is\n",
       "clickable and can be expanded/collapsed.\n",
       "- Pipeline and ColumnTransformer use this feature and define the default style\n",
       "- Estimators will overwrite some part of the style using the `sk-estimator` class\n",
       "*/\n",
       "\n",
       "/* Pipeline and ColumnTransformer style (default) */\n",
       "\n",
       "#sk-container-id-7 div.sk-toggleable {\n",
       "  /* Default theme specific background. It is overwritten whether we have a\n",
       "  specific estimator or a Pipeline/ColumnTransformer */\n",
       "  background-color: var(--sklearn-color-background);\n",
       "}\n",
       "\n",
       "/* Toggleable label */\n",
       "#sk-container-id-7 label.sk-toggleable__label {\n",
       "  cursor: pointer;\n",
       "  display: flex;\n",
       "  width: 100%;\n",
       "  margin-bottom: 0;\n",
       "  padding: 0.5em;\n",
       "  box-sizing: border-box;\n",
       "  text-align: center;\n",
       "  align-items: start;\n",
       "  justify-content: space-between;\n",
       "  gap: 0.5em;\n",
       "}\n",
       "\n",
       "#sk-container-id-7 label.sk-toggleable__label .caption {\n",
       "  font-size: 0.6rem;\n",
       "  font-weight: lighter;\n",
       "  color: var(--sklearn-color-text-muted);\n",
       "}\n",
       "\n",
       "#sk-container-id-7 label.sk-toggleable__label-arrow:before {\n",
       "  /* Arrow on the left of the label */\n",
       "  content: \"▸\";\n",
       "  float: left;\n",
       "  margin-right: 0.25em;\n",
       "  color: var(--sklearn-color-icon);\n",
       "}\n",
       "\n",
       "#sk-container-id-7 label.sk-toggleable__label-arrow:hover:before {\n",
       "  color: var(--sklearn-color-text);\n",
       "}\n",
       "\n",
       "/* Toggleable content - dropdown */\n",
       "\n",
       "#sk-container-id-7 div.sk-toggleable__content {\n",
       "  max-height: 0;\n",
       "  max-width: 0;\n",
       "  overflow: hidden;\n",
       "  text-align: left;\n",
       "  /* unfitted */\n",
       "  background-color: var(--sklearn-color-unfitted-level-0);\n",
       "}\n",
       "\n",
       "#sk-container-id-7 div.sk-toggleable__content.fitted {\n",
       "  /* fitted */\n",
       "  background-color: var(--sklearn-color-fitted-level-0);\n",
       "}\n",
       "\n",
       "#sk-container-id-7 div.sk-toggleable__content pre {\n",
       "  margin: 0.2em;\n",
       "  border-radius: 0.25em;\n",
       "  color: var(--sklearn-color-text);\n",
       "  /* unfitted */\n",
       "  background-color: var(--sklearn-color-unfitted-level-0);\n",
       "}\n",
       "\n",
       "#sk-container-id-7 div.sk-toggleable__content.fitted pre {\n",
       "  /* unfitted */\n",
       "  background-color: var(--sklearn-color-fitted-level-0);\n",
       "}\n",
       "\n",
       "#sk-container-id-7 input.sk-toggleable__control:checked~div.sk-toggleable__content {\n",
       "  /* Expand drop-down */\n",
       "  max-height: 200px;\n",
       "  max-width: 100%;\n",
       "  overflow: auto;\n",
       "}\n",
       "\n",
       "#sk-container-id-7 input.sk-toggleable__control:checked~label.sk-toggleable__label-arrow:before {\n",
       "  content: \"▾\";\n",
       "}\n",
       "\n",
       "/* Pipeline/ColumnTransformer-specific style */\n",
       "\n",
       "#sk-container-id-7 div.sk-label input.sk-toggleable__control:checked~label.sk-toggleable__label {\n",
       "  color: var(--sklearn-color-text);\n",
       "  background-color: var(--sklearn-color-unfitted-level-2);\n",
       "}\n",
       "\n",
       "#sk-container-id-7 div.sk-label.fitted input.sk-toggleable__control:checked~label.sk-toggleable__label {\n",
       "  background-color: var(--sklearn-color-fitted-level-2);\n",
       "}\n",
       "\n",
       "/* Estimator-specific style */\n",
       "\n",
       "/* Colorize estimator box */\n",
       "#sk-container-id-7 div.sk-estimator input.sk-toggleable__control:checked~label.sk-toggleable__label {\n",
       "  /* unfitted */\n",
       "  background-color: var(--sklearn-color-unfitted-level-2);\n",
       "}\n",
       "\n",
       "#sk-container-id-7 div.sk-estimator.fitted input.sk-toggleable__control:checked~label.sk-toggleable__label {\n",
       "  /* fitted */\n",
       "  background-color: var(--sklearn-color-fitted-level-2);\n",
       "}\n",
       "\n",
       "#sk-container-id-7 div.sk-label label.sk-toggleable__label,\n",
       "#sk-container-id-7 div.sk-label label {\n",
       "  /* The background is the default theme color */\n",
       "  color: var(--sklearn-color-text-on-default-background);\n",
       "}\n",
       "\n",
       "/* On hover, darken the color of the background */\n",
       "#sk-container-id-7 div.sk-label:hover label.sk-toggleable__label {\n",
       "  color: var(--sklearn-color-text);\n",
       "  background-color: var(--sklearn-color-unfitted-level-2);\n",
       "}\n",
       "\n",
       "/* Label box, darken color on hover, fitted */\n",
       "#sk-container-id-7 div.sk-label.fitted:hover label.sk-toggleable__label.fitted {\n",
       "  color: var(--sklearn-color-text);\n",
       "  background-color: var(--sklearn-color-fitted-level-2);\n",
       "}\n",
       "\n",
       "/* Estimator label */\n",
       "\n",
       "#sk-container-id-7 div.sk-label label {\n",
       "  font-family: monospace;\n",
       "  font-weight: bold;\n",
       "  display: inline-block;\n",
       "  line-height: 1.2em;\n",
       "}\n",
       "\n",
       "#sk-container-id-7 div.sk-label-container {\n",
       "  text-align: center;\n",
       "}\n",
       "\n",
       "/* Estimator-specific */\n",
       "#sk-container-id-7 div.sk-estimator {\n",
       "  font-family: monospace;\n",
       "  border: 1px dotted var(--sklearn-color-border-box);\n",
       "  border-radius: 0.25em;\n",
       "  box-sizing: border-box;\n",
       "  margin-bottom: 0.5em;\n",
       "  /* unfitted */\n",
       "  background-color: var(--sklearn-color-unfitted-level-0);\n",
       "}\n",
       "\n",
       "#sk-container-id-7 div.sk-estimator.fitted {\n",
       "  /* fitted */\n",
       "  background-color: var(--sklearn-color-fitted-level-0);\n",
       "}\n",
       "\n",
       "/* on hover */\n",
       "#sk-container-id-7 div.sk-estimator:hover {\n",
       "  /* unfitted */\n",
       "  background-color: var(--sklearn-color-unfitted-level-2);\n",
       "}\n",
       "\n",
       "#sk-container-id-7 div.sk-estimator.fitted:hover {\n",
       "  /* fitted */\n",
       "  background-color: var(--sklearn-color-fitted-level-2);\n",
       "}\n",
       "\n",
       "/* Specification for estimator info (e.g. \"i\" and \"?\") */\n",
       "\n",
       "/* Common style for \"i\" and \"?\" */\n",
       "\n",
       ".sk-estimator-doc-link,\n",
       "a:link.sk-estimator-doc-link,\n",
       "a:visited.sk-estimator-doc-link {\n",
       "  float: right;\n",
       "  font-size: smaller;\n",
       "  line-height: 1em;\n",
       "  font-family: monospace;\n",
       "  background-color: var(--sklearn-color-background);\n",
       "  border-radius: 1em;\n",
       "  height: 1em;\n",
       "  width: 1em;\n",
       "  text-decoration: none !important;\n",
       "  margin-left: 0.5em;\n",
       "  text-align: center;\n",
       "  /* unfitted */\n",
       "  border: var(--sklearn-color-unfitted-level-1) 1pt solid;\n",
       "  color: var(--sklearn-color-unfitted-level-1);\n",
       "}\n",
       "\n",
       ".sk-estimator-doc-link.fitted,\n",
       "a:link.sk-estimator-doc-link.fitted,\n",
       "a:visited.sk-estimator-doc-link.fitted {\n",
       "  /* fitted */\n",
       "  border: var(--sklearn-color-fitted-level-1) 1pt solid;\n",
       "  color: var(--sklearn-color-fitted-level-1);\n",
       "}\n",
       "\n",
       "/* On hover */\n",
       "div.sk-estimator:hover .sk-estimator-doc-link:hover,\n",
       ".sk-estimator-doc-link:hover,\n",
       "div.sk-label-container:hover .sk-estimator-doc-link:hover,\n",
       ".sk-estimator-doc-link:hover {\n",
       "  /* unfitted */\n",
       "  background-color: var(--sklearn-color-unfitted-level-3);\n",
       "  color: var(--sklearn-color-background);\n",
       "  text-decoration: none;\n",
       "}\n",
       "\n",
       "div.sk-estimator.fitted:hover .sk-estimator-doc-link.fitted:hover,\n",
       ".sk-estimator-doc-link.fitted:hover,\n",
       "div.sk-label-container:hover .sk-estimator-doc-link.fitted:hover,\n",
       ".sk-estimator-doc-link.fitted:hover {\n",
       "  /* fitted */\n",
       "  background-color: var(--sklearn-color-fitted-level-3);\n",
       "  color: var(--sklearn-color-background);\n",
       "  text-decoration: none;\n",
       "}\n",
       "\n",
       "/* Span, style for the box shown on hovering the info icon */\n",
       ".sk-estimator-doc-link span {\n",
       "  display: none;\n",
       "  z-index: 9999;\n",
       "  position: relative;\n",
       "  font-weight: normal;\n",
       "  right: .2ex;\n",
       "  padding: .5ex;\n",
       "  margin: .5ex;\n",
       "  width: min-content;\n",
       "  min-width: 20ex;\n",
       "  max-width: 50ex;\n",
       "  color: var(--sklearn-color-text);\n",
       "  box-shadow: 2pt 2pt 4pt #999;\n",
       "  /* unfitted */\n",
       "  background: var(--sklearn-color-unfitted-level-0);\n",
       "  border: .5pt solid var(--sklearn-color-unfitted-level-3);\n",
       "}\n",
       "\n",
       ".sk-estimator-doc-link.fitted span {\n",
       "  /* fitted */\n",
       "  background: var(--sklearn-color-fitted-level-0);\n",
       "  border: var(--sklearn-color-fitted-level-3);\n",
       "}\n",
       "\n",
       ".sk-estimator-doc-link:hover span {\n",
       "  display: block;\n",
       "}\n",
       "\n",
       "/* \"?\"-specific style due to the `<a>` HTML tag */\n",
       "\n",
       "#sk-container-id-7 a.estimator_doc_link {\n",
       "  float: right;\n",
       "  font-size: 1rem;\n",
       "  line-height: 1em;\n",
       "  font-family: monospace;\n",
       "  background-color: var(--sklearn-color-background);\n",
       "  border-radius: 1rem;\n",
       "  height: 1rem;\n",
       "  width: 1rem;\n",
       "  text-decoration: none;\n",
       "  /* unfitted */\n",
       "  color: var(--sklearn-color-unfitted-level-1);\n",
       "  border: var(--sklearn-color-unfitted-level-1) 1pt solid;\n",
       "}\n",
       "\n",
       "#sk-container-id-7 a.estimator_doc_link.fitted {\n",
       "  /* fitted */\n",
       "  border: var(--sklearn-color-fitted-level-1) 1pt solid;\n",
       "  color: var(--sklearn-color-fitted-level-1);\n",
       "}\n",
       "\n",
       "/* On hover */\n",
       "#sk-container-id-7 a.estimator_doc_link:hover {\n",
       "  /* unfitted */\n",
       "  background-color: var(--sklearn-color-unfitted-level-3);\n",
       "  color: var(--sklearn-color-background);\n",
       "  text-decoration: none;\n",
       "}\n",
       "\n",
       "#sk-container-id-7 a.estimator_doc_link.fitted:hover {\n",
       "  /* fitted */\n",
       "  background-color: var(--sklearn-color-fitted-level-3);\n",
       "}\n",
       "</style><div id=\"sk-container-id-7\" class=\"sk-top-container\"><div class=\"sk-text-repr-fallback\"><pre>Pipeline(steps=[(&#x27;pfeat&#x27;, PolynomialFeatures(degree=10, include_bias=False)),\n",
       "                (&#x27;linreg&#x27;, LinearRegression())])</pre><b>In a Jupyter environment, please rerun this cell to show the HTML representation or trust the notebook. <br />On GitHub, the HTML representation is unable to render, please try loading this page with nbviewer.org.</b></div><div class=\"sk-container\" hidden><div class=\"sk-item sk-dashed-wrapped\"><div class=\"sk-label-container\"><div class=\"sk-label fitted sk-toggleable\"><input class=\"sk-toggleable__control sk-hidden--visually\" id=\"sk-estimator-id-17\" type=\"checkbox\" ><label for=\"sk-estimator-id-17\" class=\"sk-toggleable__label fitted sk-toggleable__label-arrow\"><div><div>Pipeline</div></div><div><a class=\"sk-estimator-doc-link fitted\" rel=\"noreferrer\" target=\"_blank\" href=\"https://scikit-learn.org/1.6/modules/generated/sklearn.pipeline.Pipeline.html\">?<span>Documentation for Pipeline</span></a><span class=\"sk-estimator-doc-link fitted\">i<span>Fitted</span></span></div></label><div class=\"sk-toggleable__content fitted\"><pre>Pipeline(steps=[(&#x27;pfeat&#x27;, PolynomialFeatures(degree=10, include_bias=False)),\n",
       "                (&#x27;linreg&#x27;, LinearRegression())])</pre></div> </div></div><div class=\"sk-serial\"><div class=\"sk-item\"><div class=\"sk-estimator fitted sk-toggleable\"><input class=\"sk-toggleable__control sk-hidden--visually\" id=\"sk-estimator-id-18\" type=\"checkbox\" ><label for=\"sk-estimator-id-18\" class=\"sk-toggleable__label fitted sk-toggleable__label-arrow\"><div><div>PolynomialFeatures</div></div><div><a class=\"sk-estimator-doc-link fitted\" rel=\"noreferrer\" target=\"_blank\" href=\"https://scikit-learn.org/1.6/modules/generated/sklearn.preprocessing.PolynomialFeatures.html\">?<span>Documentation for PolynomialFeatures</span></a></div></label><div class=\"sk-toggleable__content fitted\"><pre>PolynomialFeatures(degree=10, include_bias=False)</pre></div> </div></div><div class=\"sk-item\"><div class=\"sk-estimator fitted sk-toggleable\"><input class=\"sk-toggleable__control sk-hidden--visually\" id=\"sk-estimator-id-19\" type=\"checkbox\" ><label for=\"sk-estimator-id-19\" class=\"sk-toggleable__label fitted sk-toggleable__label-arrow\"><div><div>LinearRegression</div></div><div><a class=\"sk-estimator-doc-link fitted\" rel=\"noreferrer\" target=\"_blank\" href=\"https://scikit-learn.org/1.6/modules/generated/sklearn.linear_model.LinearRegression.html\">?<span>Documentation for LinearRegression</span></a></div></label><div class=\"sk-toggleable__content fitted\"><pre>LinearRegression()</pre></div> </div></div></div></div></div></div>"
      ],
      "text/plain": [
       "Pipeline(steps=[('pfeat', PolynomialFeatures(degree=10, include_bias=False)),\n",
       "                ('linreg', LinearRegression())])"
      ]
     },
     "execution_count": 53,
     "metadata": {},
     "output_type": "execute_result"
    }
   ],
   "source": [
    "simple_cross_validation(X_train, y2_train, X_test, y2_test)"
   ]
  },
  {
   "cell_type": "code",
   "execution_count": 61,
   "id": "a349cf8f-6a15-4acc-a354-65c4d6967c23",
   "metadata": {},
   "outputs": [
    {
     "data": {
      "text/plain": [
       "{'memory': None,\n",
       " 'steps': [('pfeat', PolynomialFeatures(degree=10, include_bias=False)),\n",
       "  ('linreg', LinearRegression())],\n",
       " 'transform_input': None,\n",
       " 'verbose': False,\n",
       " 'pfeat': PolynomialFeatures(degree=10, include_bias=False),\n",
       " 'linreg': LinearRegression(),\n",
       " 'pfeat__degree': 10,\n",
       " 'pfeat__include_bias': False,\n",
       " 'pfeat__interaction_only': False,\n",
       " 'pfeat__order': 'C',\n",
       " 'linreg__copy_X': True,\n",
       " 'linreg__fit_intercept': True,\n",
       " 'linreg__n_jobs': None,\n",
       " 'linreg__positive': False}"
      ]
     },
     "execution_count": 61,
     "metadata": {},
     "output_type": "execute_result"
    }
   ],
   "source": [
    "best_model = simple_cross_validation(X_train, y2_train, X_test, y2_test)\n",
    "best_model.get_params() #should be degree = 10"
   ]
  },
  {
   "cell_type": "code",
   "execution_count": 62,
   "id": "e7f2195e-212a-44fa-a5d8-bd2f9a32296b",
   "metadata": {},
   "outputs": [
    {
     "name": "stdout",
     "output_type": "stream",
     "text": [
      "Pipeline(steps=[('pfeat', PolynomialFeatures(include_bias=False)),\n",
      "                ('linreg', LinearRegression())]) Pipeline(steps=[('pfeat', PolynomialFeatures(degree=16, include_bias=False)),\n",
      "                ('linreg', LinearRegression())])\n"
     ]
    }
   ],
   "source": [
    "ans1 = simple_cross_validation(X_train, y1_train, X_test, y1_test)\n",
    "\n",
    "ans2 = simple_cross_validation(X_train, y3_train, X_test, y3_test)\n",
    "\n",
    "print(ans1,ans2)"
   ]
  },
  {
   "cell_type": "code",
   "execution_count": 63,
   "id": "9c80cec1-8ca3-4a5b-a7d1-88f0c92a4ae9",
   "metadata": {},
   "outputs": [
    {
     "data": {
      "text/plain": [
       "{'memory': None,\n",
       " 'steps': [('pfeat', PolynomialFeatures(include_bias=False)),\n",
       "  ('linreg', LinearRegression())],\n",
       " 'transform_input': None,\n",
       " 'verbose': False,\n",
       " 'pfeat': PolynomialFeatures(include_bias=False),\n",
       " 'linreg': LinearRegression(),\n",
       " 'pfeat__degree': 2,\n",
       " 'pfeat__include_bias': False,\n",
       " 'pfeat__interaction_only': False,\n",
       " 'pfeat__order': 'C',\n",
       " 'linreg__copy_X': True,\n",
       " 'linreg__fit_intercept': True,\n",
       " 'linreg__n_jobs': None,\n",
       " 'linreg__positive': False}"
      ]
     },
     "execution_count": 63,
     "metadata": {},
     "output_type": "execute_result"
    }
   ],
   "source": [
    "ans1.get_params()"
   ]
  },
  {
   "cell_type": "code",
   "execution_count": 64,
   "id": "d206c9d4-8533-4374-834c-56028c6f72df",
   "metadata": {},
   "outputs": [
    {
     "data": {
      "text/plain": [
       "{'memory': None,\n",
       " 'steps': [('pfeat', PolynomialFeatures(degree=16, include_bias=False)),\n",
       "  ('linreg', LinearRegression())],\n",
       " 'transform_input': None,\n",
       " 'verbose': False,\n",
       " 'pfeat': PolynomialFeatures(degree=16, include_bias=False),\n",
       " 'linreg': LinearRegression(),\n",
       " 'pfeat__degree': 16,\n",
       " 'pfeat__include_bias': False,\n",
       " 'pfeat__interaction_only': False,\n",
       " 'pfeat__order': 'C',\n",
       " 'linreg__copy_X': True,\n",
       " 'linreg__fit_intercept': True,\n",
       " 'linreg__n_jobs': None,\n",
       " 'linreg__positive': False}"
      ]
     },
     "execution_count": 64,
     "metadata": {},
     "output_type": "execute_result"
    }
   ],
   "source": [
    "ans2.get_params()"
   ]
  },
  {
   "cell_type": "code",
   "execution_count": null,
   "id": "40613f08-88b7-48fc-909c-7de077d545a3",
   "metadata": {},
   "outputs": [],
   "source": []
  }
 ],
 "metadata": {
  "kernelspec": {
   "display_name": "Python 3 (ipykernel)",
   "language": "python",
   "name": "python3"
  },
  "language_info": {
   "codemirror_mode": {
    "name": "ipython",
    "version": 3
   },
   "file_extension": ".py",
   "mimetype": "text/x-python",
   "name": "python",
   "nbconvert_exporter": "python",
   "pygments_lexer": "ipython3",
   "version": "3.13.2"
  }
 },
 "nbformat": 4,
 "nbformat_minor": 5
}
