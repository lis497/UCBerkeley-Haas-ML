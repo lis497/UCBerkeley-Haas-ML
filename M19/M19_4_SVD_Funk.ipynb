{
 "cells": [
  {
   "cell_type": "markdown",
   "id": "9e85880c-c279-4f63-a0b1-006bc5175d5f",
   "metadata": {},
   "source": [
    "### SVD Funk\n",
    "\n",
    "This activity focuses on using gradient descent to provide recommendations with collaborative filtering.  The purpose here is to get a high level introduction to the implementation of SVD Funk.  You will use the earlier ratings and a given user and item matrix to update the user factors.  In the next activity, you will implement the algorithms using `Surprise`.\n"
   ]
  },
  {
   "cell_type": "code",
   "execution_count": 1,
   "id": "5f55f950-bb3f-432f-ac36-98dd46424bed",
   "metadata": {},
   "outputs": [],
   "source": [
    "import pandas as pd\n",
    "import numpy as np\n"
   ]
  },
  {
   "cell_type": "markdown",
   "id": "7f42b075-c621-4d6e-8dd1-2270a0b47d40",
   "metadata": {},
   "source": [
    "#### The Data\n",
    "\n",
    "Below, we load in the user reviews as well as a $Q$ and $P$ matrix with some randomly built values from a similar process to the last activity."
   ]
  },
  {
   "cell_type": "code",
   "execution_count": 4,
   "id": "a386af4e-6bb6-4ea6-bb78-c3875de45ec5",
   "metadata": {},
   "outputs": [],
   "source": [
    "reviews = pd.read_csv('codio_19_4_solution/data/user_rated.csv', index_col=0).iloc[:, :-2]\n",
    "Q = pd.read_csv('codio_19_4_solution/data/Q.csv', index_col=0)\n",
    "P = pd.read_csv('codio_19_4_solution/data/P.csv', index_col=0)\n",
    "Q = Q[['F1', 'F2']]\n",
    "P = P[['F1', 'F2']]"
   ]
  },
  {
   "cell_type": "code",
   "execution_count": 5,
   "id": "b337bc85-d160-48da-8c0e-70369edd6892",
   "metadata": {},
   "outputs": [
    {
     "data": {
      "text/html": [
       "<div>\n",
       "<style scoped>\n",
       "    .dataframe tbody tr th:only-of-type {\n",
       "        vertical-align: middle;\n",
       "    }\n",
       "\n",
       "    .dataframe tbody tr th {\n",
       "        vertical-align: top;\n",
       "    }\n",
       "\n",
       "    .dataframe thead th {\n",
       "        text-align: right;\n",
       "    }\n",
       "</style>\n",
       "<table border=\"1\" class=\"dataframe\">\n",
       "  <thead>\n",
       "    <tr style=\"text-align: right;\">\n",
       "      <th></th>\n",
       "      <th>Michael Jackson</th>\n",
       "      <th>Clint Black</th>\n",
       "      <th>Dropdead</th>\n",
       "      <th>Anti-Cimex</th>\n",
       "      <th>Cardi B</th>\n",
       "    </tr>\n",
       "  </thead>\n",
       "  <tbody>\n",
       "    <tr>\n",
       "      <th>Alfred</th>\n",
       "      <td>3.0</td>\n",
       "      <td>4.0</td>\n",
       "      <td>NaN</td>\n",
       "      <td>4.0</td>\n",
       "      <td>4.0</td>\n",
       "    </tr>\n",
       "    <tr>\n",
       "      <th>Mandy</th>\n",
       "      <td>NaN</td>\n",
       "      <td>9.0</td>\n",
       "      <td>NaN</td>\n",
       "      <td>3.0</td>\n",
       "      <td>8.0</td>\n",
       "    </tr>\n",
       "    <tr>\n",
       "      <th>Lenny</th>\n",
       "      <td>2.0</td>\n",
       "      <td>5.0</td>\n",
       "      <td>8.0</td>\n",
       "      <td>9.0</td>\n",
       "      <td>NaN</td>\n",
       "    </tr>\n",
       "    <tr>\n",
       "      <th>Joan</th>\n",
       "      <td>3.0</td>\n",
       "      <td>NaN</td>\n",
       "      <td>9.0</td>\n",
       "      <td>4.0</td>\n",
       "      <td>9.0</td>\n",
       "    </tr>\n",
       "    <tr>\n",
       "      <th>Tino</th>\n",
       "      <td>1.0</td>\n",
       "      <td>1.0</td>\n",
       "      <td>NaN</td>\n",
       "      <td>9.0</td>\n",
       "      <td>5.0</td>\n",
       "    </tr>\n",
       "  </tbody>\n",
       "</table>\n",
       "</div>"
      ],
      "text/plain": [
       "        Michael Jackson  Clint Black  Dropdead  Anti-Cimex  Cardi B\n",
       "Alfred              3.0          4.0       NaN         4.0      4.0\n",
       "Mandy               NaN          9.0       NaN         3.0      8.0\n",
       "Lenny               2.0          5.0       8.0         9.0      NaN\n",
       "Joan                3.0          NaN       9.0         4.0      9.0\n",
       "Tino                1.0          1.0       NaN         9.0      5.0"
      ]
     },
     "execution_count": 5,
     "metadata": {},
     "output_type": "execute_result"
    }
   ],
   "source": [
    "reviews"
   ]
  },
  {
   "cell_type": "code",
   "execution_count": 6,
   "id": "4f106eaa-a854-4e1e-bb80-8b9f1a0471a0",
   "metadata": {},
   "outputs": [
    {
     "data": {
      "text/html": [
       "<div>\n",
       "<style scoped>\n",
       "    .dataframe tbody tr th:only-of-type {\n",
       "        vertical-align: middle;\n",
       "    }\n",
       "\n",
       "    .dataframe tbody tr th {\n",
       "        vertical-align: top;\n",
       "    }\n",
       "\n",
       "    .dataframe thead th {\n",
       "        text-align: right;\n",
       "    }\n",
       "</style>\n",
       "<table border=\"1\" class=\"dataframe\">\n",
       "  <thead>\n",
       "    <tr style=\"text-align: right;\">\n",
       "      <th></th>\n",
       "      <th>Michael Jackson</th>\n",
       "      <th>Clint Black</th>\n",
       "      <th>Dropdead</th>\n",
       "      <th>Anti-Cimex</th>\n",
       "      <th>Cardi B</th>\n",
       "    </tr>\n",
       "  </thead>\n",
       "  <tbody>\n",
       "    <tr>\n",
       "      <th>F1</th>\n",
       "      <td>-0.510093</td>\n",
       "      <td>0.181804</td>\n",
       "      <td>-7.554766</td>\n",
       "      <td>-0.520113</td>\n",
       "      <td>-0.458392</td>\n",
       "    </tr>\n",
       "    <tr>\n",
       "      <th>F2</th>\n",
       "      <td>-0.480414</td>\n",
       "      <td>-3.227990</td>\n",
       "      <td>-0.348831</td>\n",
       "      <td>-0.533289</td>\n",
       "      <td>-1.413967</td>\n",
       "    </tr>\n",
       "  </tbody>\n",
       "</table>\n",
       "</div>"
      ],
      "text/plain": [
       "    Michael Jackson  Clint Black  Dropdead  Anti-Cimex   Cardi B\n",
       "F1        -0.510093     0.181804 -7.554766   -0.520113 -0.458392\n",
       "F2        -0.480414    -3.227990 -0.348831   -0.533289 -1.413967"
      ]
     },
     "execution_count": 6,
     "metadata": {},
     "output_type": "execute_result"
    }
   ],
   "source": [
    "Q.T.head() #item factors"
   ]
  },
  {
   "cell_type": "code",
   "execution_count": 7,
   "id": "3406276a-d57c-43aa-b5e3-8074d8c4f183",
   "metadata": {},
   "outputs": [
    {
     "data": {
      "text/html": [
       "<div>\n",
       "<style scoped>\n",
       "    .dataframe tbody tr th:only-of-type {\n",
       "        vertical-align: middle;\n",
       "    }\n",
       "\n",
       "    .dataframe tbody tr th {\n",
       "        vertical-align: top;\n",
       "    }\n",
       "\n",
       "    .dataframe thead th {\n",
       "        text-align: right;\n",
       "    }\n",
       "</style>\n",
       "<table border=\"1\" class=\"dataframe\">\n",
       "  <thead>\n",
       "    <tr style=\"text-align: right;\">\n",
       "      <th></th>\n",
       "      <th>F1</th>\n",
       "      <th>F2</th>\n",
       "    </tr>\n",
       "  </thead>\n",
       "  <tbody>\n",
       "    <tr>\n",
       "      <th>Alfred</th>\n",
       "      <td>-4.427436</td>\n",
       "      <td>-1.587820</td>\n",
       "    </tr>\n",
       "    <tr>\n",
       "      <th>Mandy</th>\n",
       "      <td>-9.019710</td>\n",
       "      <td>-3.437908</td>\n",
       "    </tr>\n",
       "    <tr>\n",
       "      <th>Lenny</th>\n",
       "      <td>-1.015713</td>\n",
       "      <td>-0.936057</td>\n",
       "    </tr>\n",
       "    <tr>\n",
       "      <th>Joan</th>\n",
       "      <td>-0.932923</td>\n",
       "      <td>-5.595791</td>\n",
       "    </tr>\n",
       "    <tr>\n",
       "      <th>Tino</th>\n",
       "      <td>-2.538133</td>\n",
       "      <td>-0.043783</td>\n",
       "    </tr>\n",
       "  </tbody>\n",
       "</table>\n",
       "</div>"
      ],
      "text/plain": [
       "              F1        F2\n",
       "Alfred -4.427436 -1.587820\n",
       "Mandy  -9.019710 -3.437908\n",
       "Lenny  -1.015713 -0.936057\n",
       "Joan   -0.932923 -5.595791\n",
       "Tino   -2.538133 -0.043783"
      ]
     },
     "execution_count": 7,
     "metadata": {},
     "output_type": "execute_result"
    }
   ],
   "source": [
    "P.head() #user factors"
   ]
  },
  {
   "cell_type": "markdown",
   "id": "b6bb27ee-216d-46b9-8b71-2c94b3c7783f",
   "metadata": {},
   "source": [
    "### Problem 1\n",
    "\n",
    "#### Making Predictions\n",
    "\n",
    "To make predictions you multiply a given row of $P$ by a column of $Q$.  Perform this operation for all users and items and assign a DataFrame of predicted values to `pred_df` below.  Try to do this using matrix multiplication rather than a nested loop."
   ]
  },
  {
   "cell_type": "code",
   "execution_count": 9,
   "id": "6d7bff1f-ac74-4b24-82cb-b241b172b843",
   "metadata": {},
   "outputs": [
    {
     "data": {
      "text/html": [
       "<div>\n",
       "<style scoped>\n",
       "    .dataframe tbody tr th:only-of-type {\n",
       "        vertical-align: middle;\n",
       "    }\n",
       "\n",
       "    .dataframe tbody tr th {\n",
       "        vertical-align: top;\n",
       "    }\n",
       "\n",
       "    .dataframe thead th {\n",
       "        text-align: right;\n",
       "    }\n",
       "</style>\n",
       "<table border=\"1\" class=\"dataframe\">\n",
       "  <thead>\n",
       "    <tr style=\"text-align: right;\">\n",
       "      <th></th>\n",
       "      <th>Michael Jackson</th>\n",
       "      <th>Clint Black</th>\n",
       "      <th>Dropdead</th>\n",
       "      <th>Anti-Cimex</th>\n",
       "      <th>Cardi B</th>\n",
       "    </tr>\n",
       "  </thead>\n",
       "  <tbody>\n",
       "    <tr>\n",
       "      <th>Alfred</th>\n",
       "      <td>3.021214</td>\n",
       "      <td>4.320545</td>\n",
       "      <td>34.002121</td>\n",
       "      <td>3.149535</td>\n",
       "      <td>4.274625</td>\n",
       "    </tr>\n",
       "    <tr>\n",
       "      <th>Mandy</th>\n",
       "      <td>6.252507</td>\n",
       "      <td>9.457719</td>\n",
       "      <td>69.341043</td>\n",
       "      <td>6.524669</td>\n",
       "      <td>8.995648</td>\n",
       "    </tr>\n",
       "    <tr>\n",
       "      <th>Lenny</th>\n",
       "      <td>0.967803</td>\n",
       "      <td>2.836922</td>\n",
       "      <td>8.000000</td>\n",
       "      <td>1.027474</td>\n",
       "      <td>1.789148</td>\n",
       "    </tr>\n",
       "    <tr>\n",
       "      <th>Joan</th>\n",
       "      <td>3.164175</td>\n",
       "      <td>17.893550</td>\n",
       "      <td>9.000000</td>\n",
       "      <td>3.469398</td>\n",
       "      <td>8.339908</td>\n",
       "    </tr>\n",
       "    <tr>\n",
       "      <th>Tino</th>\n",
       "      <td>1.315717</td>\n",
       "      <td>-0.320110</td>\n",
       "      <td>19.190270</td>\n",
       "      <td>1.343466</td>\n",
       "      <td>1.225366</td>\n",
       "    </tr>\n",
       "  </tbody>\n",
       "</table>\n",
       "</div>"
      ],
      "text/plain": [
       "        Michael Jackson  Clint Black   Dropdead  Anti-Cimex   Cardi B\n",
       "Alfred         3.021214     4.320545  34.002121    3.149535  4.274625\n",
       "Mandy          6.252507     9.457719  69.341043    6.524669  8.995648\n",
       "Lenny          0.967803     2.836922   8.000000    1.027474  1.789148\n",
       "Joan           3.164175    17.893550   9.000000    3.469398  8.339908\n",
       "Tino           1.315717    -0.320110  19.190270    1.343466  1.225366"
      ]
     },
     "execution_count": 9,
     "metadata": {},
     "output_type": "execute_result"
    }
   ],
   "source": [
    "pred_df = P@Q.T\n",
    "pred_df"
   ]
  },
  {
   "cell_type": "markdown",
   "id": "a1df700a-a0df-40d8-ab4b-962766b33bcc",
   "metadata": {},
   "source": [
    "### Problem 2\n",
    "\n",
    "#### Measuring Error\n",
    "\n",
    "Use your prediction for Mandy in terms of Clint Black to determine the error squared.  Assign this value to `ans2` below."
   ]
  },
  {
   "cell_type": "code",
   "execution_count": 10,
   "id": "939ff684-4aa3-47f6-b41d-5d130cd552f8",
   "metadata": {},
   "outputs": [
    {
     "data": {
      "text/plain": [
       "np.float64(0.20950654368339033)"
      ]
     },
     "execution_count": 10,
     "metadata": {},
     "output_type": "execute_result"
    }
   ],
   "source": [
    "ans2 = (reviews.iloc[1,1] - pred_df.iloc[1,1])**2\n",
    "ans2"
   ]
  },
  {
   "cell_type": "markdown",
   "id": "958f5285-3525-4f68-9221-76df14348cb1",
   "metadata": {},
   "source": [
    "### Problem 3\n",
    "\n",
    "#### Error for all Mandy Predictions\n",
    "\n",
    "Now, compute the error squared for each of Mandy's ratings where she had them -- Clint Black, Anti-Cimex, and Cardi B.  Assign these as a numpy array to `ans3`."
   ]
  },
  {
   "cell_type": "code",
   "execution_count": 11,
   "id": "a8808057-af26-4dd5-b20c-7fdbfa1e5e3a",
   "metadata": {},
   "outputs": [
    {
     "data": {
      "text/plain": [
       "Clint Black    9.0\n",
       "Anti-Cimex     3.0\n",
       "Cardi B        8.0\n",
       "Name: Mandy, dtype: float64"
      ]
     },
     "execution_count": 11,
     "metadata": {},
     "output_type": "execute_result"
    }
   ],
   "source": [
    "reviews.iloc[1].dropna()"
   ]
  },
  {
   "cell_type": "code",
   "execution_count": 12,
   "id": "46415e53-f4b5-422a-b5f4-6606b3888aef",
   "metadata": {},
   "outputs": [
    {
     "data": {
      "text/plain": [
       "Michael Jackson     6.252507\n",
       "Clint Black         9.457719\n",
       "Dropdead           69.341043\n",
       "Anti-Cimex          6.524669\n",
       "Cardi B             8.995648\n",
       "Name: Mandy, dtype: float64"
      ]
     },
     "execution_count": 12,
     "metadata": {},
     "output_type": "execute_result"
    }
   ],
   "source": [
    "pred_df.iloc[1]"
   ]
  },
  {
   "cell_type": "code",
   "execution_count": 13,
   "id": "73631255-db17-43f1-9016-9ee3f4d93d94",
   "metadata": {},
   "outputs": [
    {
     "data": {
      "text/plain": [
       "Clint Black    9.457719\n",
       "Anti-Cimex     6.524669\n",
       "Cardi B        8.995648\n",
       "Name: Mandy, dtype: float64"
      ]
     },
     "execution_count": 13,
     "metadata": {},
     "output_type": "execute_result"
    }
   ],
   "source": [
    "pred_df.iloc[1].loc[reviews.iloc[1].notnull()]"
   ]
  },
  {
   "cell_type": "code",
   "execution_count": 15,
   "id": "5114c31e-e2c5-4b37-a647-61ce92685a46",
   "metadata": {},
   "outputs": [
    {
     "data": {
      "text/plain": [
       "array([ 0.20950654, 12.42328982,  0.99131421])"
      ]
     },
     "execution_count": 15,
     "metadata": {},
     "output_type": "execute_result"
    }
   ],
   "source": [
    "ans3 = (reviews.iloc[1].dropna() - pred_df.iloc[1].loc[reviews.iloc[1].notnull()] )**2\n",
    "ans3.values"
   ]
  },
  {
   "cell_type": "markdown",
   "id": "210f2df6-a6b2-4aa5-847b-27e7e1204645",
   "metadata": {},
   "source": [
    "### Problem 4\n",
    "\n",
    "#### Updating the Values\n",
    "\n",
    "Now, perform the update for matrix $P$ based on the rule:\n",
    "\n",
    "$$P_{a,b} := P_{a,b} - \\alpha \\sum_{j \\in R_a}^N e_{a,j}Q_{b,j}$$\n",
    "\n",
    "You will do this for the first factor of Mandy.  This means:\n",
    "\n",
    "$$P_{1, 0} = -9.019710 - \\alpha(e_{1, 1}Q_{1, 0} + e_{1, 3}Q_{3, 0} + e_{1, 4}Q_{4, 0})$$\n",
    "\n",
    "Use $\\alpha = 0.1$, and assign this new value as a float to `P_new`."
   ]
  },
  {
   "cell_type": "code",
   "execution_count": 16,
   "id": "2480c534-213b-4e32-ae20-4cca12adfcea",
   "metadata": {},
   "outputs": [
    {
     "name": "stdout",
     "output_type": "stream",
     "text": [
      "-8.799069116040613\n"
     ]
    }
   ],
   "source": [
    "P_new = -9.019710 - 0.1*ans3**0.5@Q.loc[reviews.iloc[1].notnull()]['F1']\n",
    "\n",
    "print(P_new)"
   ]
  },
  {
   "cell_type": "markdown",
   "id": "673142b2-9ab7-4a41-afc3-d919e2ded615",
   "metadata": {},
   "source": [
    "As an extra exercise, consider how to modularize this for each value of $P$.  Further, the update for $Q$ that occurs consistent with that of $P$ -- consider working through the full update process and modularizing the update process."
   ]
  },
  {
   "cell_type": "code",
   "execution_count": null,
   "id": "ddea571e-e471-4df0-892c-c8f9e97bc593",
   "metadata": {},
   "outputs": [],
   "source": []
  }
 ],
 "metadata": {
  "kernelspec": {
   "display_name": "Python 3 (ipykernel)",
   "language": "python",
   "name": "python3"
  },
  "language_info": {
   "codemirror_mode": {
    "name": "ipython",
    "version": 3
   },
   "file_extension": ".py",
   "mimetype": "text/x-python",
   "name": "python",
   "nbconvert_exporter": "python",
   "pygments_lexer": "ipython3",
   "version": "3.13.2"
  }
 },
 "nbformat": 4,
 "nbformat_minor": 5
}
