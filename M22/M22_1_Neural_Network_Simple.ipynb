{
 "cells": [
  {
   "cell_type": "markdown",
   "id": "7f17c0b2-7f84-4d2b-a04f-d217aac0225e",
   "metadata": {},
   "source": [
    "### Codio Activity 22.1: A Simple Network\n",
    "\n",
    "This activity focuses on the basics of an artificial neural network.  Using the titanic dataset you will work through the basic steps of the neural network's forward pass.  This means adding a bias feature, creating weights, applying the weights and activation function, and making predictions using the results of a sigmoid activation. \n",
    "\n",
    "#### Index\n",
    "\n",
    "- [Problem 1](#-Problem-1)\n",
    "- [Problem 2](#-Problem-2)\n",
    "- [Problem 3](#-Problem-3)\n",
    "- [Problem 4](#-Problem-4)\n",
    "- [Problem 5](#-Problem-5)"
   ]
  },
  {
   "cell_type": "code",
   "execution_count": 1,
   "id": "683cb0b9-b250-405f-9c0f-853d39d69b63",
   "metadata": {},
   "outputs": [],
   "source": [
    "import numpy as np\n",
    "import pandas as pd\n",
    "import matplotlib.pyplot as plt"
   ]
  },
  {
   "cell_type": "markdown",
   "id": "35c4d05e-2685-4e8f-9563-fead9b8babbc",
   "metadata": {},
   "source": [
    "### Creating the Data\n",
    "\n",
    "Below, we load in the titanic dataset from `seaborn`.  Note that this dataset has missing values in the `age` column that are subsequently dropped.  In this exercise we will only use the top five rows as that dataset in order to clarify the initial workings of the Artificial Neural Network.\n"
   ]
  },
  {
   "cell_type": "code",
   "execution_count": 2,
   "id": "0e938a4f-28cd-44f4-9f2d-c66faf901fe8",
   "metadata": {},
   "outputs": [],
   "source": [
    "import seaborn as sns"
   ]
  },
  {
   "cell_type": "code",
   "execution_count": 6,
   "id": "10b6b36a-0844-47ff-8a89-d5318e40ffec",
   "metadata": {},
   "outputs": [],
   "source": [
    "titanic = sns.load_dataset('titanic').dropna(subset = ['age'])"
   ]
  },
  {
   "cell_type": "code",
   "execution_count": 7,
   "id": "d85d09bd-2881-45a6-bf8f-47f2e1534893",
   "metadata": {},
   "outputs": [],
   "source": [
    "X = titanic[['age','fare']].head()\n",
    "y = titanic['survived'].head()"
   ]
  },
  {
   "cell_type": "markdown",
   "id": "60a346c0-2311-4bc2-a5d2-1c5e8285d50c",
   "metadata": {},
   "source": [
    "### Problem 1\n",
    "\n",
    "#### Adding the Bias Feature\n",
    "\n",
    "The first step is to add a column of ones to act as the bias feature for the data.  As a convention, we will add the bias column as the first column in the dataset.  Below, complete the function that adds a bias feature as the first column to the input array `X`."
   ]
  },
  {
   "cell_type": "code",
   "execution_count": 13,
   "id": "e5df37ed-2f2c-4c6f-b638-12ecda627ef0",
   "metadata": {},
   "outputs": [
    {
     "data": {
      "text/html": [
       "<div>\n",
       "<style scoped>\n",
       "    .dataframe tbody tr th:only-of-type {\n",
       "        vertical-align: middle;\n",
       "    }\n",
       "\n",
       "    .dataframe tbody tr th {\n",
       "        vertical-align: top;\n",
       "    }\n",
       "\n",
       "    .dataframe thead th {\n",
       "        text-align: right;\n",
       "    }\n",
       "</style>\n",
       "<table border=\"1\" class=\"dataframe\">\n",
       "  <thead>\n",
       "    <tr style=\"text-align: right;\">\n",
       "      <th></th>\n",
       "      <th>bias</th>\n",
       "      <th>age</th>\n",
       "      <th>fare</th>\n",
       "    </tr>\n",
       "  </thead>\n",
       "  <tbody>\n",
       "    <tr>\n",
       "      <th>0</th>\n",
       "      <td>1.0</td>\n",
       "      <td>22.0</td>\n",
       "      <td>7.2500</td>\n",
       "    </tr>\n",
       "    <tr>\n",
       "      <th>1</th>\n",
       "      <td>1.0</td>\n",
       "      <td>38.0</td>\n",
       "      <td>71.2833</td>\n",
       "    </tr>\n",
       "    <tr>\n",
       "      <th>2</th>\n",
       "      <td>1.0</td>\n",
       "      <td>26.0</td>\n",
       "      <td>7.9250</td>\n",
       "    </tr>\n",
       "    <tr>\n",
       "      <th>3</th>\n",
       "      <td>1.0</td>\n",
       "      <td>35.0</td>\n",
       "      <td>53.1000</td>\n",
       "    </tr>\n",
       "    <tr>\n",
       "      <th>4</th>\n",
       "      <td>1.0</td>\n",
       "      <td>35.0</td>\n",
       "      <td>8.0500</td>\n",
       "    </tr>\n",
       "  </tbody>\n",
       "</table>\n",
       "</div>"
      ],
      "text/plain": [
       "   bias   age     fare\n",
       "0   1.0  22.0   7.2500\n",
       "1   1.0  38.0  71.2833\n",
       "2   1.0  26.0   7.9250\n",
       "3   1.0  35.0  53.1000\n",
       "4   1.0  35.0   8.0500"
      ]
     },
     "execution_count": 13,
     "metadata": {},
     "output_type": "execute_result"
    }
   ],
   "source": [
    "def add_bias(X):\n",
    "    bias = pd.Series(np.ones(len(X)), name = 'bias')\n",
    "    #print(bias)\n",
    "    ans = pd.concat([bias,X], axis = 1)\n",
    "    return ans\n",
    "#print(add_bias(X))\n",
    "X_with_bias = add_bias(X)\n",
    "X_with_bias.head()"
   ]
  },
  {
   "cell_type": "markdown",
   "id": "8fabbcba-937d-4583-80b1-8d6d840682e9",
   "metadata": {},
   "source": [
    "### Problem 2\n",
    "\n",
    "#### A Single Node Weights\n",
    "\n",
    "The first step in the ANN is to assign a weight for each input for each node.  If we use a single node, this amounts to creating three initial weights -- one for the bias and one weight for each feature.  Below, create such weights using `NumPy` and its random normal random number generator.  \n",
    "\n",
    "Below, use a `random.seed(42)` to generate a `(3,)` array of weights for the bias and features.  Assign this to `weights`."
   ]
  },
  {
   "cell_type": "code",
   "execution_count": 11,
   "id": "03748589-46ea-4469-ab33-81c36123392e",
   "metadata": {},
   "outputs": [
    {
     "name": "stdout",
     "output_type": "stream",
     "text": [
      "(3,)\n",
      "[ 0.49671415 -0.1382643   0.64768854]\n"
     ]
    }
   ],
   "source": [
    "np.random.seed(42)\n",
    "weights = np.random.normal(size = 3)\n",
    "print(weights.shape)\n",
    "print(weights)"
   ]
  },
  {
   "cell_type": "markdown",
   "id": "4f233964-e46d-49cd-b8fd-368f4c46fdd8",
   "metadata": {},
   "source": [
    "### Problem 3\n",
    "\n",
    "#### Computing the weighted sum\n",
    "\n",
    "Next, you are to use the weights to apply them to the features and bias.  This can be done using matrix multiplication or a loop -- matrix multiplication should be preferred.  Apply the weights to your data with the bias feature added and assign the results to `weighted_sum` below."
   ]
  },
  {
   "cell_type": "code",
   "execution_count": 14,
   "id": "24a2d365-801e-40eb-a229-9bf393912115",
   "metadata": {},
   "outputs": [
    {
     "data": {
      "text/plain": [
       "0     2.150641\n",
       "1    41.412047\n",
       "2     2.034774\n",
       "3    30.049725\n",
       "4     0.871356\n",
       "dtype: float64"
      ]
     },
     "execution_count": 14,
     "metadata": {},
     "output_type": "execute_result"
    }
   ],
   "source": [
    "weighted_sum = X_with_bias@weights\n",
    "weighted_sum"
   ]
  },
  {
   "cell_type": "markdown",
   "id": "60461fc1-6767-4854-9622-1127fa04a0f4",
   "metadata": {},
   "source": [
    "### Problem 4\n",
    "\n",
    "#### Sigmoid Activation\n",
    "\n",
    "After computing the weighted sum for the data you are to apply a sigmoid activation function.  Below, complete the `sigmoid` function to take in an array of values and return the result of applying the transformation:\n",
    "\n",
    "$$f(x) = \\frac{1}{1 + e^{-x}}$$\n",
    "\n",
    "Assign the results of applying the sigmoid to the weighted sum as `output`."
   ]
  },
  {
   "cell_type": "code",
   "execution_count": 16,
   "id": "793bdf6e-0f6e-4ecc-abf0-7f0179b0d5ee",
   "metadata": {},
   "outputs": [
    {
     "data": {
      "text/plain": [
       "0    0.895729\n",
       "1    1.000000\n",
       "2    0.884400\n",
       "3    1.000000\n",
       "4    0.705028\n",
       "dtype: float64"
      ]
     },
     "execution_count": 16,
     "metadata": {},
     "output_type": "execute_result"
    }
   ],
   "source": [
    "def sigmoid(X):\n",
    "    return 1/(1 + np.exp(-X))\n",
    "output = sigmoid(weighted_sum)\n",
    "output"
   ]
  },
  {
   "cell_type": "markdown",
   "id": "2e398043-0616-4065-912f-291114995b1a",
   "metadata": {},
   "source": [
    "### Problem 5\n",
    "\n",
    "#### Making Predictions\n",
    "\n",
    "Recall that the output of the sigmoid can be interpreted as a probability of being a member of the positive class -- survived.   Use the `output` to make predictions for your first pass through the neural network.  What is the accuracy of your predictions?  Assign the predictions as `preds` and accuracy as `starting_acc`. "
   ]
  },
  {
   "cell_type": "code",
   "execution_count": 18,
   "id": "0ad255be-7015-4855-a96c-649dc3ed636d",
   "metadata": {},
   "outputs": [
    {
     "data": {
      "text/plain": [
       "array([1, 1, 1, 1, 1])"
      ]
     },
     "execution_count": 18,
     "metadata": {},
     "output_type": "execute_result"
    }
   ],
   "source": [
    "preds = np.where(output >0.5, 1, 0)\n",
    "\n",
    "preds"
   ]
  },
  {
   "cell_type": "code",
   "execution_count": 19,
   "id": "48020c9a-9ea3-4696-b29f-d955cbe6b449",
   "metadata": {},
   "outputs": [
    {
     "data": {
      "text/plain": [
       "0.6"
      ]
     },
     "execution_count": 19,
     "metadata": {},
     "output_type": "execute_result"
    }
   ],
   "source": [
    "starting_acc = sum(preds == y)/ len(y)\n",
    "starting_acc"
   ]
  },
  {
   "cell_type": "markdown",
   "id": "7a01cc42-99d8-4af1-9e97-99d56fe54a22",
   "metadata": {},
   "source": [
    "Great job!  Next you will examine a more complex network."
   ]
  },
  {
   "cell_type": "code",
   "execution_count": null,
   "id": "d6ccf25e-2d12-4367-b436-60fc20154124",
   "metadata": {},
   "outputs": [],
   "source": []
  }
 ],
 "metadata": {
  "kernelspec": {
   "display_name": "Python 3 (ipykernel)",
   "language": "python",
   "name": "python3"
  },
  "language_info": {
   "codemirror_mode": {
    "name": "ipython",
    "version": 3
   },
   "file_extension": ".py",
   "mimetype": "text/x-python",
   "name": "python",
   "nbconvert_exporter": "python",
   "pygments_lexer": "ipython3",
   "version": "3.13.2"
  }
 },
 "nbformat": 4,
 "nbformat_minor": 5
}
