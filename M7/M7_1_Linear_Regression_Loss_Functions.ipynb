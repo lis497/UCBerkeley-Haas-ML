{
 "cells": [
  {
   "cell_type": "markdown",
   "id": "ffe1c0a3-6629-4397-8a89-345066ea2364",
   "metadata": {},
   "source": [
    "## Codio Activity 7.1: Fitting a Simple Regression Line Using Plotly and Scikit-Learn\n",
    "\n",
    "This activity focuses on using `sklearn` to build a `LinearRegression` estimator.  For the dataset, another built-in Seaborn dataset with information on geyser explosions is used.  Using this dataset, you are to build a regression model using the wait time to predict the duration of the explosion.\n",
    "\n",
    "## Index:\n",
    "\n",
    "- [Problem 1](#Problem-1)\n",
    "- [Problem 2](#Problem-2)\n",
    "- [Problem 3](#Problem-3)\n",
    "- [Problem 4](#Problem-4)"
   ]
  },
  {
   "cell_type": "code",
   "execution_count": 1,
   "id": "26419e8a-2804-492e-ba6b-c7f4bbd5deca",
   "metadata": {},
   "outputs": [],
   "source": [
    "import numpy as np\n",
    "import pandas as pd\n",
    "import matplotlib.pyplot as plt\n",
    "import seaborn as sns\n",
    "from sklearn.linear_model import LinearRegression"
   ]
  },
  {
   "cell_type": "markdown",
   "id": "80fab2bc-bcb4-453c-a908-22ef372f0e99",
   "metadata": {},
   "source": [
    "### The Geyser Data\n",
    "\n",
    "The dataset contains information on the waiting time for a geyser explosion, the duration of the explosion, and a categorization of the explosion duration.  This data comes from the Seaborn built-in datasets."
   ]
  },
  {
   "cell_type": "code",
   "execution_count": 2,
   "id": "67f9ccc9-af81-4e90-9db9-c5e1872c83eb",
   "metadata": {},
   "outputs": [
    {
     "data": {
      "text/html": [
       "<div>\n",
       "<style scoped>\n",
       "    .dataframe tbody tr th:only-of-type {\n",
       "        vertical-align: middle;\n",
       "    }\n",
       "\n",
       "    .dataframe tbody tr th {\n",
       "        vertical-align: top;\n",
       "    }\n",
       "\n",
       "    .dataframe thead th {\n",
       "        text-align: right;\n",
       "    }\n",
       "</style>\n",
       "<table border=\"1\" class=\"dataframe\">\n",
       "  <thead>\n",
       "    <tr style=\"text-align: right;\">\n",
       "      <th></th>\n",
       "      <th>duration</th>\n",
       "      <th>waiting</th>\n",
       "      <th>kind</th>\n",
       "    </tr>\n",
       "  </thead>\n",
       "  <tbody>\n",
       "    <tr>\n",
       "      <th>0</th>\n",
       "      <td>3.600</td>\n",
       "      <td>79</td>\n",
       "      <td>long</td>\n",
       "    </tr>\n",
       "    <tr>\n",
       "      <th>1</th>\n",
       "      <td>1.800</td>\n",
       "      <td>54</td>\n",
       "      <td>short</td>\n",
       "    </tr>\n",
       "    <tr>\n",
       "      <th>2</th>\n",
       "      <td>3.333</td>\n",
       "      <td>74</td>\n",
       "      <td>long</td>\n",
       "    </tr>\n",
       "    <tr>\n",
       "      <th>3</th>\n",
       "      <td>2.283</td>\n",
       "      <td>62</td>\n",
       "      <td>short</td>\n",
       "    </tr>\n",
       "    <tr>\n",
       "      <th>4</th>\n",
       "      <td>4.533</td>\n",
       "      <td>85</td>\n",
       "      <td>long</td>\n",
       "    </tr>\n",
       "  </tbody>\n",
       "</table>\n",
       "</div>"
      ],
      "text/plain": [
       "   duration  waiting   kind\n",
       "0     3.600       79   long\n",
       "1     1.800       54  short\n",
       "2     3.333       74   long\n",
       "3     2.283       62  short\n",
       "4     4.533       85   long"
      ]
     },
     "execution_count": 2,
     "metadata": {},
     "output_type": "execute_result"
    }
   ],
   "source": [
    "geyser = sns.load_dataset('geyser')\n",
    "geyser.head()"
   ]
  },
  {
   "cell_type": "code",
   "execution_count": 3,
   "id": "b815ddcb-c560-41ba-a626-df85f9d89c53",
   "metadata": {},
   "outputs": [
    {
     "name": "stdout",
     "output_type": "stream",
     "text": [
      "<class 'pandas.core.frame.DataFrame'>\n",
      "RangeIndex: 272 entries, 0 to 271\n",
      "Data columns (total 3 columns):\n",
      " #   Column    Non-Null Count  Dtype  \n",
      "---  ------    --------------  -----  \n",
      " 0   duration  272 non-null    float64\n",
      " 1   waiting   272 non-null    int64  \n",
      " 2   kind      272 non-null    object \n",
      "dtypes: float64(1), int64(1), object(1)\n",
      "memory usage: 6.5+ KB\n"
     ]
    }
   ],
   "source": [
    "geyser.info()"
   ]
  },
  {
   "cell_type": "markdown",
   "id": "e1e17b84-0e69-4f76-96d9-aa724fb1f4e1",
   "metadata": {},
   "source": [
    "## Problem 1\n",
    "\n",
    "### Declaring `X` and `y`.  \n",
    "\n",
    "Assign the column `waiting` as a DataFrame to the variable `X` and the column `duration` as a series to the variable `y` below.  "
   ]
  },
  {
   "cell_type": "code",
   "execution_count": 4,
   "id": "085724cf-ebb5-48a1-8cc4-ee2cb6959138",
   "metadata": {},
   "outputs": [],
   "source": [
    "X = geyser[['waiting']]\n",
    "y = geyser['duration']"
   ]
  },
  {
   "cell_type": "markdown",
   "id": "e0ec879a-d3bc-4ccc-81b5-ba1762f03653",
   "metadata": {},
   "source": [
    "## Problem 2\n",
    "\n",
    "### Building a model with `LinearRegression` \n",
    "\n",
    "Below, instatiate a linear regression model using the `LinearRegression()` function. The chain the `fit()` function and with the arguments `X` and `y` from above.  Make sure to use only the default settings.  Assign your regressor to the variable `linreg` below.  "
   ]
  },
  {
   "cell_type": "code",
   "execution_count": 5,
   "id": "dd75b738-1391-4779-8ed0-72e2ed3b16c3",
   "metadata": {},
   "outputs": [
    {
     "data": {
      "text/html": [
       "<style>#sk-container-id-1 {\n",
       "  /* Definition of color scheme common for light and dark mode */\n",
       "  --sklearn-color-text: #000;\n",
       "  --sklearn-color-text-muted: #666;\n",
       "  --sklearn-color-line: gray;\n",
       "  /* Definition of color scheme for unfitted estimators */\n",
       "  --sklearn-color-unfitted-level-0: #fff5e6;\n",
       "  --sklearn-color-unfitted-level-1: #f6e4d2;\n",
       "  --sklearn-color-unfitted-level-2: #ffe0b3;\n",
       "  --sklearn-color-unfitted-level-3: chocolate;\n",
       "  /* Definition of color scheme for fitted estimators */\n",
       "  --sklearn-color-fitted-level-0: #f0f8ff;\n",
       "  --sklearn-color-fitted-level-1: #d4ebff;\n",
       "  --sklearn-color-fitted-level-2: #b3dbfd;\n",
       "  --sklearn-color-fitted-level-3: cornflowerblue;\n",
       "\n",
       "  /* Specific color for light theme */\n",
       "  --sklearn-color-text-on-default-background: var(--sg-text-color, var(--theme-code-foreground, var(--jp-content-font-color1, black)));\n",
       "  --sklearn-color-background: var(--sg-background-color, var(--theme-background, var(--jp-layout-color0, white)));\n",
       "  --sklearn-color-border-box: var(--sg-text-color, var(--theme-code-foreground, var(--jp-content-font-color1, black)));\n",
       "  --sklearn-color-icon: #696969;\n",
       "\n",
       "  @media (prefers-color-scheme: dark) {\n",
       "    /* Redefinition of color scheme for dark theme */\n",
       "    --sklearn-color-text-on-default-background: var(--sg-text-color, var(--theme-code-foreground, var(--jp-content-font-color1, white)));\n",
       "    --sklearn-color-background: var(--sg-background-color, var(--theme-background, var(--jp-layout-color0, #111)));\n",
       "    --sklearn-color-border-box: var(--sg-text-color, var(--theme-code-foreground, var(--jp-content-font-color1, white)));\n",
       "    --sklearn-color-icon: #878787;\n",
       "  }\n",
       "}\n",
       "\n",
       "#sk-container-id-1 {\n",
       "  color: var(--sklearn-color-text);\n",
       "}\n",
       "\n",
       "#sk-container-id-1 pre {\n",
       "  padding: 0;\n",
       "}\n",
       "\n",
       "#sk-container-id-1 input.sk-hidden--visually {\n",
       "  border: 0;\n",
       "  clip: rect(1px 1px 1px 1px);\n",
       "  clip: rect(1px, 1px, 1px, 1px);\n",
       "  height: 1px;\n",
       "  margin: -1px;\n",
       "  overflow: hidden;\n",
       "  padding: 0;\n",
       "  position: absolute;\n",
       "  width: 1px;\n",
       "}\n",
       "\n",
       "#sk-container-id-1 div.sk-dashed-wrapped {\n",
       "  border: 1px dashed var(--sklearn-color-line);\n",
       "  margin: 0 0.4em 0.5em 0.4em;\n",
       "  box-sizing: border-box;\n",
       "  padding-bottom: 0.4em;\n",
       "  background-color: var(--sklearn-color-background);\n",
       "}\n",
       "\n",
       "#sk-container-id-1 div.sk-container {\n",
       "  /* jupyter's `normalize.less` sets `[hidden] { display: none; }`\n",
       "     but bootstrap.min.css set `[hidden] { display: none !important; }`\n",
       "     so we also need the `!important` here to be able to override the\n",
       "     default hidden behavior on the sphinx rendered scikit-learn.org.\n",
       "     See: https://github.com/scikit-learn/scikit-learn/issues/21755 */\n",
       "  display: inline-block !important;\n",
       "  position: relative;\n",
       "}\n",
       "\n",
       "#sk-container-id-1 div.sk-text-repr-fallback {\n",
       "  display: none;\n",
       "}\n",
       "\n",
       "div.sk-parallel-item,\n",
       "div.sk-serial,\n",
       "div.sk-item {\n",
       "  /* draw centered vertical line to link estimators */\n",
       "  background-image: linear-gradient(var(--sklearn-color-text-on-default-background), var(--sklearn-color-text-on-default-background));\n",
       "  background-size: 2px 100%;\n",
       "  background-repeat: no-repeat;\n",
       "  background-position: center center;\n",
       "}\n",
       "\n",
       "/* Parallel-specific style estimator block */\n",
       "\n",
       "#sk-container-id-1 div.sk-parallel-item::after {\n",
       "  content: \"\";\n",
       "  width: 100%;\n",
       "  border-bottom: 2px solid var(--sklearn-color-text-on-default-background);\n",
       "  flex-grow: 1;\n",
       "}\n",
       "\n",
       "#sk-container-id-1 div.sk-parallel {\n",
       "  display: flex;\n",
       "  align-items: stretch;\n",
       "  justify-content: center;\n",
       "  background-color: var(--sklearn-color-background);\n",
       "  position: relative;\n",
       "}\n",
       "\n",
       "#sk-container-id-1 div.sk-parallel-item {\n",
       "  display: flex;\n",
       "  flex-direction: column;\n",
       "}\n",
       "\n",
       "#sk-container-id-1 div.sk-parallel-item:first-child::after {\n",
       "  align-self: flex-end;\n",
       "  width: 50%;\n",
       "}\n",
       "\n",
       "#sk-container-id-1 div.sk-parallel-item:last-child::after {\n",
       "  align-self: flex-start;\n",
       "  width: 50%;\n",
       "}\n",
       "\n",
       "#sk-container-id-1 div.sk-parallel-item:only-child::after {\n",
       "  width: 0;\n",
       "}\n",
       "\n",
       "/* Serial-specific style estimator block */\n",
       "\n",
       "#sk-container-id-1 div.sk-serial {\n",
       "  display: flex;\n",
       "  flex-direction: column;\n",
       "  align-items: center;\n",
       "  background-color: var(--sklearn-color-background);\n",
       "  padding-right: 1em;\n",
       "  padding-left: 1em;\n",
       "}\n",
       "\n",
       "\n",
       "/* Toggleable style: style used for estimator/Pipeline/ColumnTransformer box that is\n",
       "clickable and can be expanded/collapsed.\n",
       "- Pipeline and ColumnTransformer use this feature and define the default style\n",
       "- Estimators will overwrite some part of the style using the `sk-estimator` class\n",
       "*/\n",
       "\n",
       "/* Pipeline and ColumnTransformer style (default) */\n",
       "\n",
       "#sk-container-id-1 div.sk-toggleable {\n",
       "  /* Default theme specific background. It is overwritten whether we have a\n",
       "  specific estimator or a Pipeline/ColumnTransformer */\n",
       "  background-color: var(--sklearn-color-background);\n",
       "}\n",
       "\n",
       "/* Toggleable label */\n",
       "#sk-container-id-1 label.sk-toggleable__label {\n",
       "  cursor: pointer;\n",
       "  display: flex;\n",
       "  width: 100%;\n",
       "  margin-bottom: 0;\n",
       "  padding: 0.5em;\n",
       "  box-sizing: border-box;\n",
       "  text-align: center;\n",
       "  align-items: start;\n",
       "  justify-content: space-between;\n",
       "  gap: 0.5em;\n",
       "}\n",
       "\n",
       "#sk-container-id-1 label.sk-toggleable__label .caption {\n",
       "  font-size: 0.6rem;\n",
       "  font-weight: lighter;\n",
       "  color: var(--sklearn-color-text-muted);\n",
       "}\n",
       "\n",
       "#sk-container-id-1 label.sk-toggleable__label-arrow:before {\n",
       "  /* Arrow on the left of the label */\n",
       "  content: \"▸\";\n",
       "  float: left;\n",
       "  margin-right: 0.25em;\n",
       "  color: var(--sklearn-color-icon);\n",
       "}\n",
       "\n",
       "#sk-container-id-1 label.sk-toggleable__label-arrow:hover:before {\n",
       "  color: var(--sklearn-color-text);\n",
       "}\n",
       "\n",
       "/* Toggleable content - dropdown */\n",
       "\n",
       "#sk-container-id-1 div.sk-toggleable__content {\n",
       "  max-height: 0;\n",
       "  max-width: 0;\n",
       "  overflow: hidden;\n",
       "  text-align: left;\n",
       "  /* unfitted */\n",
       "  background-color: var(--sklearn-color-unfitted-level-0);\n",
       "}\n",
       "\n",
       "#sk-container-id-1 div.sk-toggleable__content.fitted {\n",
       "  /* fitted */\n",
       "  background-color: var(--sklearn-color-fitted-level-0);\n",
       "}\n",
       "\n",
       "#sk-container-id-1 div.sk-toggleable__content pre {\n",
       "  margin: 0.2em;\n",
       "  border-radius: 0.25em;\n",
       "  color: var(--sklearn-color-text);\n",
       "  /* unfitted */\n",
       "  background-color: var(--sklearn-color-unfitted-level-0);\n",
       "}\n",
       "\n",
       "#sk-container-id-1 div.sk-toggleable__content.fitted pre {\n",
       "  /* unfitted */\n",
       "  background-color: var(--sklearn-color-fitted-level-0);\n",
       "}\n",
       "\n",
       "#sk-container-id-1 input.sk-toggleable__control:checked~div.sk-toggleable__content {\n",
       "  /* Expand drop-down */\n",
       "  max-height: 200px;\n",
       "  max-width: 100%;\n",
       "  overflow: auto;\n",
       "}\n",
       "\n",
       "#sk-container-id-1 input.sk-toggleable__control:checked~label.sk-toggleable__label-arrow:before {\n",
       "  content: \"▾\";\n",
       "}\n",
       "\n",
       "/* Pipeline/ColumnTransformer-specific style */\n",
       "\n",
       "#sk-container-id-1 div.sk-label input.sk-toggleable__control:checked~label.sk-toggleable__label {\n",
       "  color: var(--sklearn-color-text);\n",
       "  background-color: var(--sklearn-color-unfitted-level-2);\n",
       "}\n",
       "\n",
       "#sk-container-id-1 div.sk-label.fitted input.sk-toggleable__control:checked~label.sk-toggleable__label {\n",
       "  background-color: var(--sklearn-color-fitted-level-2);\n",
       "}\n",
       "\n",
       "/* Estimator-specific style */\n",
       "\n",
       "/* Colorize estimator box */\n",
       "#sk-container-id-1 div.sk-estimator input.sk-toggleable__control:checked~label.sk-toggleable__label {\n",
       "  /* unfitted */\n",
       "  background-color: var(--sklearn-color-unfitted-level-2);\n",
       "}\n",
       "\n",
       "#sk-container-id-1 div.sk-estimator.fitted input.sk-toggleable__control:checked~label.sk-toggleable__label {\n",
       "  /* fitted */\n",
       "  background-color: var(--sklearn-color-fitted-level-2);\n",
       "}\n",
       "\n",
       "#sk-container-id-1 div.sk-label label.sk-toggleable__label,\n",
       "#sk-container-id-1 div.sk-label label {\n",
       "  /* The background is the default theme color */\n",
       "  color: var(--sklearn-color-text-on-default-background);\n",
       "}\n",
       "\n",
       "/* On hover, darken the color of the background */\n",
       "#sk-container-id-1 div.sk-label:hover label.sk-toggleable__label {\n",
       "  color: var(--sklearn-color-text);\n",
       "  background-color: var(--sklearn-color-unfitted-level-2);\n",
       "}\n",
       "\n",
       "/* Label box, darken color on hover, fitted */\n",
       "#sk-container-id-1 div.sk-label.fitted:hover label.sk-toggleable__label.fitted {\n",
       "  color: var(--sklearn-color-text);\n",
       "  background-color: var(--sklearn-color-fitted-level-2);\n",
       "}\n",
       "\n",
       "/* Estimator label */\n",
       "\n",
       "#sk-container-id-1 div.sk-label label {\n",
       "  font-family: monospace;\n",
       "  font-weight: bold;\n",
       "  display: inline-block;\n",
       "  line-height: 1.2em;\n",
       "}\n",
       "\n",
       "#sk-container-id-1 div.sk-label-container {\n",
       "  text-align: center;\n",
       "}\n",
       "\n",
       "/* Estimator-specific */\n",
       "#sk-container-id-1 div.sk-estimator {\n",
       "  font-family: monospace;\n",
       "  border: 1px dotted var(--sklearn-color-border-box);\n",
       "  border-radius: 0.25em;\n",
       "  box-sizing: border-box;\n",
       "  margin-bottom: 0.5em;\n",
       "  /* unfitted */\n",
       "  background-color: var(--sklearn-color-unfitted-level-0);\n",
       "}\n",
       "\n",
       "#sk-container-id-1 div.sk-estimator.fitted {\n",
       "  /* fitted */\n",
       "  background-color: var(--sklearn-color-fitted-level-0);\n",
       "}\n",
       "\n",
       "/* on hover */\n",
       "#sk-container-id-1 div.sk-estimator:hover {\n",
       "  /* unfitted */\n",
       "  background-color: var(--sklearn-color-unfitted-level-2);\n",
       "}\n",
       "\n",
       "#sk-container-id-1 div.sk-estimator.fitted:hover {\n",
       "  /* fitted */\n",
       "  background-color: var(--sklearn-color-fitted-level-2);\n",
       "}\n",
       "\n",
       "/* Specification for estimator info (e.g. \"i\" and \"?\") */\n",
       "\n",
       "/* Common style for \"i\" and \"?\" */\n",
       "\n",
       ".sk-estimator-doc-link,\n",
       "a:link.sk-estimator-doc-link,\n",
       "a:visited.sk-estimator-doc-link {\n",
       "  float: right;\n",
       "  font-size: smaller;\n",
       "  line-height: 1em;\n",
       "  font-family: monospace;\n",
       "  background-color: var(--sklearn-color-background);\n",
       "  border-radius: 1em;\n",
       "  height: 1em;\n",
       "  width: 1em;\n",
       "  text-decoration: none !important;\n",
       "  margin-left: 0.5em;\n",
       "  text-align: center;\n",
       "  /* unfitted */\n",
       "  border: var(--sklearn-color-unfitted-level-1) 1pt solid;\n",
       "  color: var(--sklearn-color-unfitted-level-1);\n",
       "}\n",
       "\n",
       ".sk-estimator-doc-link.fitted,\n",
       "a:link.sk-estimator-doc-link.fitted,\n",
       "a:visited.sk-estimator-doc-link.fitted {\n",
       "  /* fitted */\n",
       "  border: var(--sklearn-color-fitted-level-1) 1pt solid;\n",
       "  color: var(--sklearn-color-fitted-level-1);\n",
       "}\n",
       "\n",
       "/* On hover */\n",
       "div.sk-estimator:hover .sk-estimator-doc-link:hover,\n",
       ".sk-estimator-doc-link:hover,\n",
       "div.sk-label-container:hover .sk-estimator-doc-link:hover,\n",
       ".sk-estimator-doc-link:hover {\n",
       "  /* unfitted */\n",
       "  background-color: var(--sklearn-color-unfitted-level-3);\n",
       "  color: var(--sklearn-color-background);\n",
       "  text-decoration: none;\n",
       "}\n",
       "\n",
       "div.sk-estimator.fitted:hover .sk-estimator-doc-link.fitted:hover,\n",
       ".sk-estimator-doc-link.fitted:hover,\n",
       "div.sk-label-container:hover .sk-estimator-doc-link.fitted:hover,\n",
       ".sk-estimator-doc-link.fitted:hover {\n",
       "  /* fitted */\n",
       "  background-color: var(--sklearn-color-fitted-level-3);\n",
       "  color: var(--sklearn-color-background);\n",
       "  text-decoration: none;\n",
       "}\n",
       "\n",
       "/* Span, style for the box shown on hovering the info icon */\n",
       ".sk-estimator-doc-link span {\n",
       "  display: none;\n",
       "  z-index: 9999;\n",
       "  position: relative;\n",
       "  font-weight: normal;\n",
       "  right: .2ex;\n",
       "  padding: .5ex;\n",
       "  margin: .5ex;\n",
       "  width: min-content;\n",
       "  min-width: 20ex;\n",
       "  max-width: 50ex;\n",
       "  color: var(--sklearn-color-text);\n",
       "  box-shadow: 2pt 2pt 4pt #999;\n",
       "  /* unfitted */\n",
       "  background: var(--sklearn-color-unfitted-level-0);\n",
       "  border: .5pt solid var(--sklearn-color-unfitted-level-3);\n",
       "}\n",
       "\n",
       ".sk-estimator-doc-link.fitted span {\n",
       "  /* fitted */\n",
       "  background: var(--sklearn-color-fitted-level-0);\n",
       "  border: var(--sklearn-color-fitted-level-3);\n",
       "}\n",
       "\n",
       ".sk-estimator-doc-link:hover span {\n",
       "  display: block;\n",
       "}\n",
       "\n",
       "/* \"?\"-specific style due to the `<a>` HTML tag */\n",
       "\n",
       "#sk-container-id-1 a.estimator_doc_link {\n",
       "  float: right;\n",
       "  font-size: 1rem;\n",
       "  line-height: 1em;\n",
       "  font-family: monospace;\n",
       "  background-color: var(--sklearn-color-background);\n",
       "  border-radius: 1rem;\n",
       "  height: 1rem;\n",
       "  width: 1rem;\n",
       "  text-decoration: none;\n",
       "  /* unfitted */\n",
       "  color: var(--sklearn-color-unfitted-level-1);\n",
       "  border: var(--sklearn-color-unfitted-level-1) 1pt solid;\n",
       "}\n",
       "\n",
       "#sk-container-id-1 a.estimator_doc_link.fitted {\n",
       "  /* fitted */\n",
       "  border: var(--sklearn-color-fitted-level-1) 1pt solid;\n",
       "  color: var(--sklearn-color-fitted-level-1);\n",
       "}\n",
       "\n",
       "/* On hover */\n",
       "#sk-container-id-1 a.estimator_doc_link:hover {\n",
       "  /* unfitted */\n",
       "  background-color: var(--sklearn-color-unfitted-level-3);\n",
       "  color: var(--sklearn-color-background);\n",
       "  text-decoration: none;\n",
       "}\n",
       "\n",
       "#sk-container-id-1 a.estimator_doc_link.fitted:hover {\n",
       "  /* fitted */\n",
       "  background-color: var(--sklearn-color-fitted-level-3);\n",
       "}\n",
       "</style><div id=\"sk-container-id-1\" class=\"sk-top-container\"><div class=\"sk-text-repr-fallback\"><pre>LinearRegression()</pre><b>In a Jupyter environment, please rerun this cell to show the HTML representation or trust the notebook. <br />On GitHub, the HTML representation is unable to render, please try loading this page with nbviewer.org.</b></div><div class=\"sk-container\" hidden><div class=\"sk-item\"><div class=\"sk-estimator fitted sk-toggleable\"><input class=\"sk-toggleable__control sk-hidden--visually\" id=\"sk-estimator-id-1\" type=\"checkbox\" checked><label for=\"sk-estimator-id-1\" class=\"sk-toggleable__label fitted sk-toggleable__label-arrow\"><div><div>LinearRegression</div></div><div><a class=\"sk-estimator-doc-link fitted\" rel=\"noreferrer\" target=\"_blank\" href=\"https://scikit-learn.org/1.6/modules/generated/sklearn.linear_model.LinearRegression.html\">?<span>Documentation for LinearRegression</span></a><span class=\"sk-estimator-doc-link fitted\">i<span>Fitted</span></span></div></label><div class=\"sk-toggleable__content fitted\"><pre>LinearRegression()</pre></div> </div></div></div></div>"
      ],
      "text/plain": [
       "LinearRegression()"
      ]
     },
     "execution_count": 5,
     "metadata": {},
     "output_type": "execute_result"
    }
   ],
   "source": [
    "linreg = LinearRegression().fit(X,y)\n",
    "linreg"
   ]
  },
  {
   "cell_type": "markdown",
   "id": "c121736c-0a15-415d-9b5c-d60aba94bc56",
   "metadata": {},
   "source": [
    "## Problem 3\n",
    "\n",
    "### Adding a prediction column\n",
    "\n",
    "Add a column, `prediction`, to the `geyser` DataFrame. To this column assign `linreg.predict(X)`.\n",
    "\n",
    "MAke sure to check that your DataFrame geyser contains the new column. \n"
   ]
  },
  {
   "cell_type": "code",
   "execution_count": 6,
   "id": "fae8c6e5-738c-4a3f-8e6f-dcd39be6f390",
   "metadata": {},
   "outputs": [
    {
     "data": {
      "text/html": [
       "<div>\n",
       "<style scoped>\n",
       "    .dataframe tbody tr th:only-of-type {\n",
       "        vertical-align: middle;\n",
       "    }\n",
       "\n",
       "    .dataframe tbody tr th {\n",
       "        vertical-align: top;\n",
       "    }\n",
       "\n",
       "    .dataframe thead th {\n",
       "        text-align: right;\n",
       "    }\n",
       "</style>\n",
       "<table border=\"1\" class=\"dataframe\">\n",
       "  <thead>\n",
       "    <tr style=\"text-align: right;\">\n",
       "      <th></th>\n",
       "      <th>duration</th>\n",
       "      <th>waiting</th>\n",
       "      <th>kind</th>\n",
       "      <th>prediction</th>\n",
       "    </tr>\n",
       "  </thead>\n",
       "  <tbody>\n",
       "    <tr>\n",
       "      <th>0</th>\n",
       "      <td>3.600</td>\n",
       "      <td>79</td>\n",
       "      <td>long</td>\n",
       "      <td>4.100592</td>\n",
       "    </tr>\n",
       "    <tr>\n",
       "      <th>1</th>\n",
       "      <td>1.800</td>\n",
       "      <td>54</td>\n",
       "      <td>short</td>\n",
       "      <td>2.209893</td>\n",
       "    </tr>\n",
       "    <tr>\n",
       "      <th>2</th>\n",
       "      <td>3.333</td>\n",
       "      <td>74</td>\n",
       "      <td>long</td>\n",
       "      <td>3.722452</td>\n",
       "    </tr>\n",
       "    <tr>\n",
       "      <th>3</th>\n",
       "      <td>2.283</td>\n",
       "      <td>62</td>\n",
       "      <td>short</td>\n",
       "      <td>2.814917</td>\n",
       "    </tr>\n",
       "    <tr>\n",
       "      <th>4</th>\n",
       "      <td>4.533</td>\n",
       "      <td>85</td>\n",
       "      <td>long</td>\n",
       "      <td>4.554360</td>\n",
       "    </tr>\n",
       "  </tbody>\n",
       "</table>\n",
       "</div>"
      ],
      "text/plain": [
       "   duration  waiting   kind  prediction\n",
       "0     3.600       79   long    4.100592\n",
       "1     1.800       54  short    2.209893\n",
       "2     3.333       74   long    3.722452\n",
       "3     2.283       62  short    2.814917\n",
       "4     4.533       85   long    4.554360"
      ]
     },
     "execution_count": 6,
     "metadata": {},
     "output_type": "execute_result"
    }
   ],
   "source": [
    "geyser['prediction'] = linreg.predict(X)\n",
    "geyser.head()"
   ]
  },
  {
   "cell_type": "markdown",
   "id": "18d5b0c8-e7ca-4883-9687-a096ef9d3dd3",
   "metadata": {},
   "source": [
    "## Problem 4\n",
    "\n",
    "### Equation of line\n",
    "\n",
    "The equation of the line will be of the form\n",
    "\n",
    "$$\\text{duration} = \\text{waiting}\\times \\text{slope} + \\text{intercept}$$\n",
    "\n",
    "Use the `coef_` attribute on `linreg` to assign the slope of the solution as a float correct to two decimal places to the variable `slope`.\n",
    "\n",
    "Use the `intercept_` attribute on `linreg` to assign the intercept of the solution as a float correct to two decimal places to the variable `intercept`."
   ]
  },
  {
   "cell_type": "code",
   "execution_count": 8,
   "id": "aaf66e06-e310-47e6-b13a-a8435da76203",
   "metadata": {},
   "outputs": [
    {
     "name": "stderr",
     "output_type": "stream",
     "text": [
      "/var/folders/s9/ml6qrgdx03zdn76qyj8422mh0000gn/T/ipykernel_1596/2687618228.py:1: DeprecationWarning: Conversion of an array with ndim > 0 to a scalar is deprecated, and will error in future. Ensure you extract a single element from your array before performing this operation. (Deprecated NumPy 1.25.)\n",
      "  slope = round(float(linreg.coef_),2)\n"
     ]
    },
    {
     "data": {
      "text/plain": [
       "0.08"
      ]
     },
     "execution_count": 8,
     "metadata": {},
     "output_type": "execute_result"
    }
   ],
   "source": [
    "slope = round(float(linreg.coef_),2)\n",
    "slope"
   ]
  },
  {
   "cell_type": "code",
   "execution_count": 9,
   "id": "567dbad3-5194-439f-bc80-92d43033cc06",
   "metadata": {},
   "outputs": [
    {
     "data": {
      "text/plain": [
       "-1.87"
      ]
     },
     "execution_count": 9,
     "metadata": {},
     "output_type": "execute_result"
    }
   ],
   "source": [
    "intercept = round(float(linreg.intercept_),2)\n",
    "intercept"
   ]
  },
  {
   "cell_type": "code",
   "execution_count": null,
   "id": "52d3e0ca-42c9-411a-ab28-12b739c36e70",
   "metadata": {},
   "outputs": [],
   "source": []
  },
  {
   "cell_type": "markdown",
   "id": "4b69a8ee-b086-4e40-818a-b2ec8ea5b8aa",
   "metadata": {},
   "source": [
    "## Codio Activity 7.2: Defining, Computing, and Optimizing Loss\n",
    "\n",
    "This activity focuses on computing and minimizing the L2 loss for different values of theta and identifying the theta that minimizes the L2 loss.  \n",
    "\n",
    "## Index:\n",
    "\n",
    "- [Problem 1](#Problem-1)\n",
    "- [Problem 2](#Problem-2)\n",
    "- [Problem 3](#Problem-3)\n",
    "- [Problem 4](#Problem-4)\n",
    "- [Problem 5](#Problem-5)"
   ]
  },
  {
   "cell_type": "code",
   "execution_count": 10,
   "id": "41882002-5c87-4013-92a1-e619a5a6887c",
   "metadata": {},
   "outputs": [],
   "source": [
    "from sklearn.linear_model import LinearRegression\n",
    "from sklearn.metrics import mean_squared_error"
   ]
  },
  {
   "cell_type": "markdown",
   "id": "a7a1d1b1-2d38-483a-afa3-42212ee49f4a",
   "metadata": {},
   "source": [
    "### The Dataset\n",
    "\n",
    "The geyser data from seaborn is loaded below.  You are to  build a model using the waiting time to predict the geyser explosion duration.\n",
    "\n",
    "Note that this this model will not have an intercept term.  "
   ]
  },
  {
   "cell_type": "code",
   "execution_count": 11,
   "id": "edff83bb-d88f-40a6-be12-31db066609ad",
   "metadata": {},
   "outputs": [
    {
     "data": {
      "text/html": [
       "<div>\n",
       "<style scoped>\n",
       "    .dataframe tbody tr th:only-of-type {\n",
       "        vertical-align: middle;\n",
       "    }\n",
       "\n",
       "    .dataframe tbody tr th {\n",
       "        vertical-align: top;\n",
       "    }\n",
       "\n",
       "    .dataframe thead th {\n",
       "        text-align: right;\n",
       "    }\n",
       "</style>\n",
       "<table border=\"1\" class=\"dataframe\">\n",
       "  <thead>\n",
       "    <tr style=\"text-align: right;\">\n",
       "      <th></th>\n",
       "      <th>duration</th>\n",
       "      <th>waiting</th>\n",
       "      <th>kind</th>\n",
       "      <th>prediction</th>\n",
       "    </tr>\n",
       "  </thead>\n",
       "  <tbody>\n",
       "    <tr>\n",
       "      <th>0</th>\n",
       "      <td>3.600</td>\n",
       "      <td>79</td>\n",
       "      <td>long</td>\n",
       "      <td>4.100592</td>\n",
       "    </tr>\n",
       "    <tr>\n",
       "      <th>1</th>\n",
       "      <td>1.800</td>\n",
       "      <td>54</td>\n",
       "      <td>short</td>\n",
       "      <td>2.209893</td>\n",
       "    </tr>\n",
       "    <tr>\n",
       "      <th>2</th>\n",
       "      <td>3.333</td>\n",
       "      <td>74</td>\n",
       "      <td>long</td>\n",
       "      <td>3.722452</td>\n",
       "    </tr>\n",
       "    <tr>\n",
       "      <th>3</th>\n",
       "      <td>2.283</td>\n",
       "      <td>62</td>\n",
       "      <td>short</td>\n",
       "      <td>2.814917</td>\n",
       "    </tr>\n",
       "    <tr>\n",
       "      <th>4</th>\n",
       "      <td>4.533</td>\n",
       "      <td>85</td>\n",
       "      <td>long</td>\n",
       "      <td>4.554360</td>\n",
       "    </tr>\n",
       "  </tbody>\n",
       "</table>\n",
       "</div>"
      ],
      "text/plain": [
       "   duration  waiting   kind  prediction\n",
       "0     3.600       79   long    4.100592\n",
       "1     1.800       54  short    2.209893\n",
       "2     3.333       74   long    3.722452\n",
       "3     2.283       62  short    2.814917\n",
       "4     4.533       85   long    4.554360"
      ]
     },
     "execution_count": 11,
     "metadata": {},
     "output_type": "execute_result"
    }
   ],
   "source": [
    "geyser.head()"
   ]
  },
  {
   "cell_type": "markdown",
   "id": "5c35ff67-70bf-432a-a5c9-f6305e110466",
   "metadata": {},
   "source": [
    "## Problem 1\n",
    "\n",
    "### Creating an array of $\\theta$'s\n",
    "\n",
    "Below, create an array of 100 equally spaced values between -1 and 1.  Use the `np.linspace` method demonstrated in the lectures and assign your answer as a numpy array to `thetas` below."
   ]
  },
  {
   "cell_type": "code",
   "execution_count": 12,
   "id": "8041e4fd-89d7-44d6-b176-087c0070c28c",
   "metadata": {},
   "outputs": [
    {
     "data": {
      "text/plain": [
       "array([-1.        , -0.97979798, -0.95959596, -0.93939394, -0.91919192,\n",
       "       -0.8989899 , -0.87878788, -0.85858586, -0.83838384, -0.81818182,\n",
       "       -0.7979798 , -0.77777778, -0.75757576, -0.73737374, -0.71717172,\n",
       "       -0.6969697 , -0.67676768, -0.65656566, -0.63636364, -0.61616162,\n",
       "       -0.5959596 , -0.57575758, -0.55555556, -0.53535354, -0.51515152,\n",
       "       -0.49494949, -0.47474747, -0.45454545, -0.43434343, -0.41414141,\n",
       "       -0.39393939, -0.37373737, -0.35353535, -0.33333333, -0.31313131,\n",
       "       -0.29292929, -0.27272727, -0.25252525, -0.23232323, -0.21212121,\n",
       "       -0.19191919, -0.17171717, -0.15151515, -0.13131313, -0.11111111,\n",
       "       -0.09090909, -0.07070707, -0.05050505, -0.03030303, -0.01010101,\n",
       "        0.01010101,  0.03030303,  0.05050505,  0.07070707,  0.09090909,\n",
       "        0.11111111,  0.13131313,  0.15151515,  0.17171717,  0.19191919,\n",
       "        0.21212121,  0.23232323,  0.25252525,  0.27272727,  0.29292929,\n",
       "        0.31313131,  0.33333333,  0.35353535,  0.37373737,  0.39393939,\n",
       "        0.41414141,  0.43434343,  0.45454545,  0.47474747,  0.49494949,\n",
       "        0.51515152,  0.53535354,  0.55555556,  0.57575758,  0.5959596 ,\n",
       "        0.61616162,  0.63636364,  0.65656566,  0.67676768,  0.6969697 ,\n",
       "        0.71717172,  0.73737374,  0.75757576,  0.77777778,  0.7979798 ,\n",
       "        0.81818182,  0.83838384,  0.85858586,  0.87878788,  0.8989899 ,\n",
       "        0.91919192,  0.93939394,  0.95959596,  0.97979798,  1.        ])"
      ]
     },
     "execution_count": 12,
     "metadata": {},
     "output_type": "execute_result"
    }
   ],
   "source": [
    "thetas = np.linspace(-1,1,100)\n",
    "thetas"
   ]
  },
  {
   "cell_type": "markdown",
   "id": "7d23f63f-3ed5-4800-a655-71967a8d9846",
   "metadata": {},
   "source": [
    "## Problem 2\n",
    "\n",
    "### The Model\n",
    "\n",
    "In this assignment, our model takes the form:\n",
    "\n",
    "$$\\text{duration} = \\text{waiting} \\times \\theta$$\n",
    "\n",
    "Multiply the values in the `waiting` column of the `geyser` dataset by `0.8` to create a prediction for the case of $\\theta = 0.8$. Assign them as a Series to the variable `prediction` below."
   ]
  },
  {
   "cell_type": "code",
   "execution_count": 14,
   "id": "151d800d-7da1-4fb7-b445-1e1945a1f79f",
   "metadata": {},
   "outputs": [
    {
     "data": {
      "text/plain": [
       "0      63.2\n",
       "1      43.2\n",
       "2      59.2\n",
       "3      49.6\n",
       "4      68.0\n",
       "       ... \n",
       "267    64.8\n",
       "268    36.8\n",
       "269    72.0\n",
       "270    36.8\n",
       "271    59.2\n",
       "Name: waiting, Length: 272, dtype: float64"
      ]
     },
     "execution_count": 14,
     "metadata": {},
     "output_type": "execute_result"
    }
   ],
   "source": [
    "prediction = 0.8 * geyser['waiting']\n",
    "prediction"
   ]
  },
  {
   "cell_type": "markdown",
   "id": "63ded4ab-c459-4497-a36b-9ca75320a401",
   "metadata": {},
   "source": [
    "## Problem 3\n",
    "\n",
    "### Determining Mean Squared Error\n",
    "\n",
    "Use the `mean_squared_error` function to calculate the MSE between the `duration` column of the `geyser` DataFrame and the `0.8*geyser['waiting']` data.\n",
    "\n",
    "Use the function `float` to convert your result to floats. \n",
    "\n",
    "Assign your result as a float to `mse` below."
   ]
  },
  {
   "cell_type": "code",
   "execution_count": 16,
   "id": "7ab698b5-52ab-4fcc-87c3-0cd2438f69bd",
   "metadata": {},
   "outputs": [
    {
     "data": {
      "text/plain": [
       "2930.2861285845593"
      ]
     },
     "execution_count": 16,
     "metadata": {},
     "output_type": "execute_result"
    }
   ],
   "source": [
    "mse = float(mean_squared_error(geyser['duration'],0.8*geyser['waiting']))\n",
    "mse"
   ]
  },
  {
   "cell_type": "markdown",
   "id": "e2987747-086e-4762-bf49-8e4641f955e0",
   "metadata": {},
   "source": [
    "## Problem 4\n",
    "\n",
    "### Computing the Mean Squared Error for `thetas`\n",
    "\n",
    "Use a `for` loop over `thetas` to compute the MSE between the column `geyser['duration']` and the column `geyser['waiting']`multiplied by each value of `theta`.  Assign these values in order to the list `mses` below."
   ]
  },
  {
   "cell_type": "code",
   "execution_count": 25,
   "id": "ea741c21-7ca9-4cca-a366-96ad98f589a7",
   "metadata": {},
   "outputs": [
    {
     "name": "stdout",
     "output_type": "stream",
     "text": [
      "[5746.399297702205, 5527.445557830223, 5312.744883371734, 5102.29727432674, 4896.102730695238, 4694.161252477228, 4496.472839672713, 4303.037492281691, 4113.855210304161, 3928.925993740124, 3748.2498425895824, 3571.8267568525325, 3399.6567365289766, 3231.7397816189127, 3068.0758921223423, 2908.6650680392668, 2753.507309369682, 2602.6026161135924, 2455.9509882709954, 2313.552425841892, 2175.40692882628, 2041.5144972241628, 1911.8751310355394, 1786.4888302604077, 1665.3555948987703, 1548.4754249506257, 1435.8483204159743, 1327.474281294816, 1223.353307587151, 1123.48539929298, 1027.8705564123015, 936.5087789451162, 849.4000668914241, 766.5444202512253, 687.9418390245196, 613.5923232113072, 543.4958728115885, 477.65248782536247, 416.0621682526297, 358.7249140933903, 305.64072534764404, 256.80960201539096, 212.23154409663135, 171.90655159136477, 135.8346244995914, 104.01576282131126, 76.44996655652436, 53.13723570523066, 34.0775702674303, 19.27097024312305, 8.717435632309025, 2.416966434988211, 0.3695626511606713, 2.5752242808263137, 9.033951323985233, 19.745743780637287, 34.71060165078271, 53.928524934421176, 77.39951363155284, 105.12356774217797, 137.10068726629603, 173.3308722039077, 213.81412255501218, 258.55043831961035, 307.5398194977012, 360.78226608928526, 418.27777809436316, 480.02635551293366, 546.027998344998, 616.2827065905549, 690.7904802496059, 769.5513193221491, 852.5652238081856, 939.8321937077162, 1031.352229020739, 1127.1253297472563, 1227.1514958872656, 1331.4307274407681, 1439.9630244077653, 1552.7483867882538, 1669.7868145822372, 1791.0783077897124, 1916.6228664106825, 2046.4204904451447, 2180.471179893099, 2318.7749347545487, 2461.3317550294896, 2608.1416407179263, 2759.2045918198537, 2914.5206083352764, 3074.0896902641907, 3237.9118376065985, 3405.9870503625007, 3578.3153285318945, 3754.896672114783, 3935.7310811111633, 4120.818555521036, 4310.159095344406, 4503.752700581265, 4701.5993712316185]\n"
     ]
    }
   ],
   "source": [
    "mses = []\n",
    "for i in thetas:\n",
    "    mse = float(mean_squared_error(geyser['duration'], i*geyser['waiting']))\n",
    "    mses.append(mse)\n",
    "print(mses)"
   ]
  },
  {
   "cell_type": "markdown",
   "id": "755e1fc3-9db2-4b54-bb47-461f57a3e6d9",
   "metadata": {},
   "source": [
    "## Problem 5\n",
    "\n",
    "### Which $\\theta$ minimizes Mean Squared Error\n",
    "\n",
    "Using the list of `mses`, determine the value for $\\theta$ that minimized the mean squared error.  You may want to ammend your loop above to check for the smallest value as the loop proceeds.  Assign your answer as a float to `theta_min` below."
   ]
  },
  {
   "cell_type": "code",
   "execution_count": 22,
   "id": "ffdcd15c-50d4-45f9-b7e3-b9f09c33e900",
   "metadata": {},
   "outputs": [
    {
     "name": "stdout",
     "output_type": "stream",
     "text": [
      "0.3695626511606713 0.05050505050505061\n"
     ]
    }
   ],
   "source": [
    "mse_min = -1\n",
    "theta_min = 0\n",
    "\n",
    "for i in thetas:\n",
    "    mse = float(mean_squared_error(geyser['duration'], i*geyser['waiting']))\n",
    "    if mse_min <0:\n",
    "        mse_min = mse\n",
    "    elif mse_min > mse:\n",
    "        mse_min = min(mse_min,mse)\n",
    "        theta_min = i\n",
    "print(mse_min,theta_min)"
   ]
  },
  {
   "cell_type": "markdown",
   "id": "920620eb-2f06-4e28-8bcb-61c8c4853fc6",
   "metadata": {},
   "source": [
    "Note that again the shape of the Mean Squared Error is a parabola.  The plot below shows the values of thetas againt their mean squared error.  "
   ]
  },
  {
   "cell_type": "code",
   "execution_count": 32,
   "id": "01d8287d-97f9-4a28-bdc2-9eb6b65b3306",
   "metadata": {},
   "outputs": [
    {
     "data": {
      "image/png": "[encoded data removed]",
      "text/plain": [
       "<Figure size 640x480 with 1 Axes>"
      ]
     },
     "metadata": {},
     "output_type": "display_data"
    }
   ],
   "source": [
    "plt.plot(thetas, mses)\n",
    "plt.plot(thetas[np.argmin(mses)], min(mses), 'ro', label = 'Minimum')\n",
    "plt.legend()\n",
    "plt.title('Minimum MSE')\n",
    "plt.xlabel(r'$\\theta$')\n",
    "plt.ylabel('MSE')\n",
    "plt.grid()\n",
    "# plt.savefig('images/mse_min.png')"
   ]
  },
  {
   "cell_type": "code",
   "execution_count": null,
   "id": "d78a2c65-7fc3-406d-8306-1bf410ba2b55",
   "metadata": {},
   "outputs": [],
   "source": []
  },
  {
   "cell_type": "markdown",
   "id": "c2b5e749-b683-47aa-9a93-44da99da8271",
   "metadata": {},
   "source": [
    "## Codio Activity 7.3: Using SciPy Optimize To Optimize L2 Loss\n",
    "\n",
    "This assignment focuses on using `scipy.optimize` to minimize the mean squared error for a linear model.  For this example,  a synthetic dataset is created using `sklearn`.  \n",
    "\n",
    "## Index:\n",
    "\n",
    "- [Problem 1](#Problem-1)\n",
    "- [Problem 2](#Problem-2)\n",
    "- [Problem 3](#Problem-3)"
   ]
  },
  {
   "cell_type": "code",
   "execution_count": 1,
   "id": "884a31cc-1e26-4330-b54c-9ecdb40ccb24",
   "metadata": {},
   "outputs": [],
   "source": [
    "import numpy as np\n",
    "import pandas as pd\n",
    "import matplotlib.pyplot as plt\n",
    "from scipy.optimize import minimize"
   ]
  },
  {
   "cell_type": "markdown",
   "id": "a757d8e4-fb30-459b-bea1-0fd441ba63ec",
   "metadata": {},
   "source": [
    "### Creating Data\n",
    "\n",
    "To create the dataset, a linear function with known slope is created, and gaussian noise is added to each point at random.  This allows comparison to the results and helps to see if the minimum solution is reasonable. \n",
    "\n",
    "$$y = 4.2x + \\sigma$$"
   ]
  },
  {
   "cell_type": "code",
   "execution_count": 4,
   "id": "1de1b370-872e-4aa0-8b96-bb950e6241ab",
   "metadata": {},
   "outputs": [
    {
     "data": {
      "text/plain": [
       "<matplotlib.collections.PathCollection at 0x14609a120>"
      ]
     },
     "execution_count": 4,
     "metadata": {},
     "output_type": "execute_result"
    },
    {
     "data": {
      "image/png": "[encoded data removed]",
      "text/plain": [
       "<Figure size 640x480 with 1 Axes>"
      ]
     },
     "metadata": {},
     "output_type": "display_data"
    }
   ],
   "source": [
    "np.random.seed(42)\n",
    "x = np.linspace(0,1,100)\n",
    "y = 4.2*x + np.random.normal(size = 100)\n",
    "plt.scatter(x,y)"
   ]
  },
  {
   "cell_type": "markdown",
   "id": "08092069-c346-4645-9a2d-28b969484c30",
   "metadata": {},
   "source": [
    "## Problem 1\n",
    "\n",
    "### Array of $\\theta$'s\n",
    "\n",
    "Below, create an array of possible $\\theta$ values using `np.linspace`.  Create 100 values starting at 3 and ending at 5.  Assign your solution as an array to `thetas` below."
   ]
  },
  {
   "cell_type": "code",
   "execution_count": 5,
   "id": "eb69b525-2c80-444f-b29d-a7436aae2331",
   "metadata": {},
   "outputs": [
    {
     "data": {
      "text/plain": [
       "array([3.        , 3.02020202, 3.04040404, 3.06060606, 3.08080808,\n",
       "       3.1010101 , 3.12121212, 3.14141414, 3.16161616, 3.18181818,\n",
       "       3.2020202 , 3.22222222, 3.24242424, 3.26262626, 3.28282828,\n",
       "       3.3030303 , 3.32323232, 3.34343434, 3.36363636, 3.38383838,\n",
       "       3.4040404 , 3.42424242, 3.44444444, 3.46464646, 3.48484848,\n",
       "       3.50505051, 3.52525253, 3.54545455, 3.56565657, 3.58585859,\n",
       "       3.60606061, 3.62626263, 3.64646465, 3.66666667, 3.68686869,\n",
       "       3.70707071, 3.72727273, 3.74747475, 3.76767677, 3.78787879,\n",
       "       3.80808081, 3.82828283, 3.84848485, 3.86868687, 3.88888889,\n",
       "       3.90909091, 3.92929293, 3.94949495, 3.96969697, 3.98989899,\n",
       "       4.01010101, 4.03030303, 4.05050505, 4.07070707, 4.09090909,\n",
       "       4.11111111, 4.13131313, 4.15151515, 4.17171717, 4.19191919,\n",
       "       4.21212121, 4.23232323, 4.25252525, 4.27272727, 4.29292929,\n",
       "       4.31313131, 4.33333333, 4.35353535, 4.37373737, 4.39393939,\n",
       "       4.41414141, 4.43434343, 4.45454545, 4.47474747, 4.49494949,\n",
       "       4.51515152, 4.53535354, 4.55555556, 4.57575758, 4.5959596 ,\n",
       "       4.61616162, 4.63636364, 4.65656566, 4.67676768, 4.6969697 ,\n",
       "       4.71717172, 4.73737374, 4.75757576, 4.77777778, 4.7979798 ,\n",
       "       4.81818182, 4.83838384, 4.85858586, 4.87878788, 4.8989899 ,\n",
       "       4.91919192, 4.93939394, 4.95959596, 4.97979798, 5.        ])"
      ]
     },
     "execution_count": 5,
     "metadata": {},
     "output_type": "execute_result"
    }
   ],
   "source": [
    "thetas = np.linspace(3,5,100)\n",
    "thetas"
   ]
  },
  {
   "cell_type": "markdown",
   "id": "7a26575f-a9e8-4dbc-9b0c-861c9cc25748",
   "metadata": {},
   "source": [
    "## Problem 2\n",
    "\n",
    "### Loss Function\n",
    "\n",
    "Now, complete the function `l2_loss` below that accepts a single `theta` value as input and calculates the mean squared error based on the true y-values and the given theta.\n",
    "\n",
    "The function should return a single float value representing the mean squared error."
   ]
  },
  {
   "cell_type": "code",
   "execution_count": 6,
   "id": "65100e4a-d5b1-4ebc-b995-e791b7bd07c1",
   "metadata": {},
   "outputs": [],
   "source": [
    "def l2_loss(theta):\n",
    "  \"\"\"\n",
    "  This function accepts a single theta value\n",
    "  and calculates the mean squared error based\n",
    "  on (theta*x - y)^2\n",
    "\n",
    "  Arguments\n",
    "  ---------\n",
    "  theta: float\n",
    "    The value to use for the parameter of the\n",
    "    regression model.\n",
    "\n",
    "  Returns\n",
    "  -------\n",
    "  mse: float\n",
    "    Mean Squared Error\n",
    "  \"\"\""
   ]
  },
  {
   "cell_type": "code",
   "execution_count": 7,
   "id": "03b750bb-7b86-4734-9582-9fe48fa0e569",
   "metadata": {},
   "outputs": [
    {
     "data": {
      "text/plain": [
       "np.float64(5.970444002663118)"
      ]
     },
     "execution_count": 7,
     "metadata": {},
     "output_type": "execute_result"
    }
   ],
   "source": [
    "def l2_loss(theta):\n",
    "    mse = np.mean((theta*x - y)**2)\n",
    "    return mse\n",
    "l2_loss(8)"
   ]
  },
  {
   "cell_type": "markdown",
   "id": "87e1a717-a792-4010-a112-6c655c2e1916",
   "metadata": {},
   "source": [
    "## Problem 3\n",
    "\n",
    "### Using `scipy` to minimize `l2_loss`\n",
    "\n",
    "Use the `minimize` function that has been imported from `scipy.optimize` to find the minimum value of `l2_loss` using `x0 = 4`.  Assign your results to the `minimum_theta` variable below.  \n",
    "\n",
    "Next, use the `minimum_theta.x` attribute to examine the solution and assign as a numpy array to `theta_solution` below."
   ]
  },
  {
   "cell_type": "code",
   "execution_count": 10,
   "id": "d82d6133-3be9-4a6c-87d8-69496aa9da25",
   "metadata": {},
   "outputs": [
    {
     "name": "stdout",
     "output_type": "stream",
     "text": [
      "  message: Optimization terminated successfully.\n",
      "  success: True\n",
      "   status: 0\n",
      "      fun: 0.8224833379603176\n",
      "        x: [ 4.080e+00]\n",
      "      nit: 2\n",
      "      jac: [-2.235e-08]\n",
      " hess_inv: [[ 1.492e+00]]\n",
      "     nfev: 6\n",
      "     njev: 3\n"
     ]
    },
    {
     "data": {
      "text/plain": [
       "array([4.08001601])"
      ]
     },
     "execution_count": 10,
     "metadata": {},
     "output_type": "execute_result"
    }
   ],
   "source": [
    "minimum_theta = minimize(l2_loss, x0 = 4)\n",
    "theta_solution = minimum_theta.x\n",
    "print(minimun_theta)\n",
    "theta_solution"
   ]
  },
  {
   "cell_type": "markdown",
   "id": "aefdac1c-a78e-44dd-ba8e-22ef0d0f96cf",
   "metadata": {},
   "source": [
    "Now that you have found the minimum value, you can uncomment the code below and visualize the mean squared error along with the minimum value based on `scipy`.  "
   ]
  },
  {
   "cell_type": "code",
   "execution_count": 11,
   "id": "a7cd32cf-f00c-4454-8820-692708a70bed",
   "metadata": {},
   "outputs": [
    {
     "data": {
      "image/png": "[encoded data removed]",
      "text/plain": [
       "<Figure size 640x480 with 1 Axes>"
      ]
     },
     "metadata": {},
     "output_type": "display_data"
    }
   ],
   "source": [
    "plt.plot(thetas, [l2_loss(i) for i in thetas])\n",
    "plt.plot(theta_solution, l2_loss(theta_solution), 'ro', label = f'solution: {np.round(theta_solution[0], 3)}')\n",
    "plt.legend();\n",
    "plt.title(r'Minimizing Mean Squared Error given $\\theta$');\n",
    "plt.xlabel(r'$\\theta$')\n",
    "plt.ylabel('MSE');"
   ]
  },
  {
   "cell_type": "markdown",
   "id": "e033e3b6-51f3-44db-8ca5-3fd28f53bd23",
   "metadata": {},
   "source": [
    "## Codio Activity 7.4: Mean Absolute Loss (MAE)\n",
    "\n",
    "This assignment focuses on minimizing the mean absolute value loss function defined as:\n",
    "\n",
    "$${\\displaystyle \\mathrm {MAE} ={\\frac {\\sum _{i=1}^{n}\\left|y_{i}-x_{i}\\right|}{n}}}$$\n",
    "\n",
    "## Index:\n",
    "\n",
    "- [Problem 1](#Problem-1)\n",
    "- [Problem 2](#Problem-2)\n",
    "- [Problem 3](#Problem-3)"
   ]
  },
  {
   "cell_type": "markdown",
   "id": "f4bb9e0b-6357-491b-bdaf-2b99ac8de183",
   "metadata": {},
   "source": [
    "Using the same dataset as with our `l2_loss` function, you are to compute the value for $\\theta$ that minimizes the MAE.  "
   ]
  },
  {
   "cell_type": "code",
   "execution_count": 12,
   "id": "5703b294-b9fd-42d3-a39b-e8ade967cca8",
   "metadata": {},
   "outputs": [],
   "source": [
    "import numpy as np\n",
    "import matplotlib.pyplot as plt\n",
    "import plotly.express as px\n",
    "from scipy.optimize import minimize"
   ]
  },
  {
   "cell_type": "markdown",
   "id": "7c7d3b48-8f2e-4bf7-bfdf-04e7e704f76b",
   "metadata": {},
   "source": [
    "### The Dataset\n",
    "\n",
    "Again, a synthetic dataset is created as\n",
    "\n",
    "$$y = 4.2x + \\sigma$$"
   ]
  },
  {
   "cell_type": "code",
   "execution_count": 14,
   "id": "8f88906a-48e9-4eb3-9c0e-ff741533ea83",
   "metadata": {},
   "outputs": [
    {
     "data": {
      "text/plain": [
       "<matplotlib.collections.PathCollection at 0x147da9090>"
      ]
     },
     "execution_count": 14,
     "metadata": {},
     "output_type": "execute_result"
    },
    {
     "data": {
      "image/png": "[encoded data removed]",
      "text/plain": [
       "<Figure size 640x480 with 1 Axes>"
      ]
     },
     "metadata": {},
     "output_type": "display_data"
    }
   ],
   "source": [
    "np.random.seed(42)\n",
    "x = np.linspace(0,1,100)\n",
    "y = 4.2*x + np.random.normal(size =100)\n",
    "plt.scatter(x,y)"
   ]
  },
  {
   "cell_type": "markdown",
   "id": "653f88ac-1da7-4592-a8da-18cc83f74530",
   "metadata": {},
   "source": [
    "## Problem 1\n",
    "\n",
    "### A MAE loss function\n",
    "\n",
    "Complete the `mae` function below that takes in a value for $\\theta$.\n",
    "\n",
    "Your functio should compute and and return the mean absolute error based on the model $y = \\theta*x$.  "
   ]
  },
  {
   "cell_type": "code",
   "execution_count": 15,
   "id": "0b74facf-5e6b-41d6-8987-9f832306c194",
   "metadata": {},
   "outputs": [],
   "source": [
    "def mae_loss(theta):\n",
    "    \"\"\"\n",
    "    This function accepts an array of thetas\n",
    "    and returns the mean absolute error based\n",
    "    on np.mean(|(theta*xi - yi)|)\n",
    "    \n",
    "    Arguments\n",
    "    ---------\n",
    "    theta: float\n",
    "           Values to use for parameter\n",
    "           of regression model.\n",
    "            \n",
    "    Returns\n",
    "    -------\n",
    "    mse: np.float\n",
    "         Mean Absolute Error\n",
    "    \"\"\""
   ]
  },
  {
   "cell_type": "code",
   "execution_count": 16,
   "id": "cd956d90-0e84-4785-b763-ac66e99858a8",
   "metadata": {},
   "outputs": [],
   "source": [
    "def mae_loss(theta):\n",
    "    return np.mean(np.abs(theta*x - y))"
   ]
  },
  {
   "cell_type": "code",
   "execution_count": 17,
   "id": "a6fb1ea6-1136-4037-8214-6f2444caab5b",
   "metadata": {},
   "outputs": [
    {
     "data": {
      "text/plain": [
       "np.float64(2.12145907129924)"
      ]
     },
     "execution_count": 17,
     "metadata": {},
     "output_type": "execute_result"
    }
   ],
   "source": [
    "mae = mae_loss(8)\n",
    "mae"
   ]
  },
  {
   "cell_type": "markdown",
   "id": "a8e206ed-42a7-484a-9ee3-cb78fd86680a",
   "metadata": {},
   "source": [
    "## Problem 2\n",
    "\n",
    "### Minimizing the MAE Loss\n",
    "\n",
    "Use the `minimize` function imported from `scipy.optimize` to determine the value for `mae_loss` that minimizes the Mean Absolute Error loss function starting at `x0 = 4`.  Assign this result to `minimum_theta `.\n",
    "\n",
    "Next, use the `minimum_theta.x[0]` attribute to assign the solution as a float to `theta_mae` below."
   ]
  },
  {
   "cell_type": "code",
   "execution_count": 20,
   "id": "dc812010-6124-46cc-b93c-8b7dab0f9de3",
   "metadata": {},
   "outputs": [
    {
     "data": {
      "text/plain": [
       "np.float64(4.094949416816235)"
      ]
     },
     "execution_count": 20,
     "metadata": {},
     "output_type": "execute_result"
    }
   ],
   "source": [
    "minimum_theta = minimize(mae_loss,x0 = 4)\n",
    "minimum_theta\n",
    "theta_mae = minimum_theta.x[0]\n",
    "theta_mae"
   ]
  },
  {
   "cell_type": "markdown",
   "id": "419fce76-c0ab-4219-85d6-60b23c385cde",
   "metadata": {},
   "source": [
    "## Problem 3\n",
    "\n",
    "### Uncovering the true $\\theta$\n",
    "\n",
    "Assuming that the true relationship between $x$ and $y$ was determined by a model with $\\theta = 4.2$, which loss function better approximated the true value for $\\theta$ here?  Enter your answer as a string -- either 'mse' or 'mae' -- below to the variable `better_loss`."
   ]
  },
  {
   "cell_type": "code",
   "execution_count": 21,
   "id": "97aacd49-fb7f-44df-bb89-e258df78f569",
   "metadata": {},
   "outputs": [],
   "source": [
    "better_loss = 'mae'"
   ]
  },
  {
   "cell_type": "code",
   "execution_count": null,
   "id": "9703624e-4064-4dd5-9030-6fe3f2cdbcc2",
   "metadata": {},
   "outputs": [],
   "source": []
  },
  {
   "cell_type": "markdown",
   "id": "5fb9bd76-1d3a-47c7-9fca-7397a7c03c34",
   "metadata": {},
   "source": [
    "## Codio Activity 7.5: Calculating Multiple Loss Functions\n",
    "\n",
    "A third loss function mentioned is the Huber loss function.  This is notable for its resistance to extreme values and is defined as a piecewise function:\n",
    "\n",
    "$${\\displaystyle L_{\\delta }(y,f(x))={\\begin{cases}{\\frac {1}{2}}(y-f(x))^{2}&{\\textrm {for}}|y-f(x)|\\leq \\delta ,\\\\\\delta \\,(|y-f(x)|-{\\frac {1}{2}}\\delta ),&{\\textrm {otherwise.}}\\end{cases}}}$$\n",
    "\n",
    "In this activity, you will compute and compare the results of minimizing the mean squared error, mean absolute error, and huber loss functions.  \n",
    "\n",
    "NOTE: If the formula is not rendering correctly (overlapping text), double-click in this cell and then Shift-Enter to reload the cell.\n",
    "\n",
    "\n",
    "## Index:\n",
    "\n",
    "- [Problem 1](#Problem-1)\n",
    "- [Problem 2](#Problem-2)\n",
    "- [Problem 3](#Problem-3)"
   ]
  },
  {
   "cell_type": "code",
   "execution_count": 22,
   "id": "4e6ae1a2-19d6-4f93-8a78-d9d5ac98eed6",
   "metadata": {},
   "outputs": [],
   "source": [
    "import seaborn as sns\n",
    "import pandas as pd\n",
    "import numpy as np\n",
    "import matplotlib.pyplot as plt\n",
    "import plotly.express as px\n",
    "import plotly.graph_objects as go\n",
    "from scipy.optimize import minimize"
   ]
  },
  {
   "cell_type": "markdown",
   "id": "a2562659-2cff-41de-a58c-b8a130e93952",
   "metadata": {},
   "source": [
    "### The tips data\n",
    "\n",
    "For this exercise, the tips dataset from the lectures will be used, and you are to predict the tip amount given the total bill.  "
   ]
  },
  {
   "cell_type": "code",
   "execution_count": 24,
   "id": "d6a8c51d-e4c1-4b1d-b760-64d2a159eef6",
   "metadata": {},
   "outputs": [
    {
     "data": {
      "text/html": [
       "<div>\n",
       "<style scoped>\n",
       "    .dataframe tbody tr th:only-of-type {\n",
       "        vertical-align: middle;\n",
       "    }\n",
       "\n",
       "    .dataframe tbody tr th {\n",
       "        vertical-align: top;\n",
       "    }\n",
       "\n",
       "    .dataframe thead th {\n",
       "        text-align: right;\n",
       "    }\n",
       "</style>\n",
       "<table border=\"1\" class=\"dataframe\">\n",
       "  <thead>\n",
       "    <tr style=\"text-align: right;\">\n",
       "      <th></th>\n",
       "      <th>total_bill</th>\n",
       "      <th>tip</th>\n",
       "      <th>sex</th>\n",
       "      <th>smoker</th>\n",
       "      <th>day</th>\n",
       "      <th>time</th>\n",
       "      <th>size</th>\n",
       "    </tr>\n",
       "  </thead>\n",
       "  <tbody>\n",
       "    <tr>\n",
       "      <th>0</th>\n",
       "      <td>16.99</td>\n",
       "      <td>1.01</td>\n",
       "      <td>Female</td>\n",
       "      <td>No</td>\n",
       "      <td>Sun</td>\n",
       "      <td>Dinner</td>\n",
       "      <td>2</td>\n",
       "    </tr>\n",
       "    <tr>\n",
       "      <th>1</th>\n",
       "      <td>10.34</td>\n",
       "      <td>1.66</td>\n",
       "      <td>Male</td>\n",
       "      <td>No</td>\n",
       "      <td>Sun</td>\n",
       "      <td>Dinner</td>\n",
       "      <td>3</td>\n",
       "    </tr>\n",
       "    <tr>\n",
       "      <th>2</th>\n",
       "      <td>21.01</td>\n",
       "      <td>3.50</td>\n",
       "      <td>Male</td>\n",
       "      <td>No</td>\n",
       "      <td>Sun</td>\n",
       "      <td>Dinner</td>\n",
       "      <td>3</td>\n",
       "    </tr>\n",
       "    <tr>\n",
       "      <th>3</th>\n",
       "      <td>23.68</td>\n",
       "      <td>3.31</td>\n",
       "      <td>Male</td>\n",
       "      <td>No</td>\n",
       "      <td>Sun</td>\n",
       "      <td>Dinner</td>\n",
       "      <td>2</td>\n",
       "    </tr>\n",
       "    <tr>\n",
       "      <th>4</th>\n",
       "      <td>24.59</td>\n",
       "      <td>3.61</td>\n",
       "      <td>Female</td>\n",
       "      <td>No</td>\n",
       "      <td>Sun</td>\n",
       "      <td>Dinner</td>\n",
       "      <td>4</td>\n",
       "    </tr>\n",
       "  </tbody>\n",
       "</table>\n",
       "</div>"
      ],
      "text/plain": [
       "   total_bill   tip     sex smoker  day    time  size\n",
       "0       16.99  1.01  Female     No  Sun  Dinner     2\n",
       "1       10.34  1.66    Male     No  Sun  Dinner     3\n",
       "2       21.01  3.50    Male     No  Sun  Dinner     3\n",
       "3       23.68  3.31    Male     No  Sun  Dinner     2\n",
       "4       24.59  3.61  Female     No  Sun  Dinner     4"
      ]
     },
     "execution_count": 24,
     "metadata": {},
     "output_type": "execute_result"
    }
   ],
   "source": [
    "tips = sns.load_dataset('tips')\n",
    "tips.head()"
   ]
  },
  {
   "cell_type": "code",
   "execution_count": 25,
   "id": "903bffe5-5489-4529-af09-2b22a6f7a240",
   "metadata": {},
   "outputs": [],
   "source": [
    "X = tips['total_bill']\n",
    "y = tips['tip']"
   ]
  },
  {
   "cell_type": "markdown",
   "id": "b41d48d2-d0cc-4f56-a8e0-735555024356",
   "metadata": {},
   "source": [
    "## Problem 1\n",
    "\n",
    "### Create a Huber Loss function\n",
    "\n",
    "Using the formula repeated below for the Huber loss, complete the function that returns the sum of the Huber Loss equation.\n",
    "\n",
    "$${\\displaystyle L_{\\delta }(y,f(x))={\\begin{cases}{\\frac {1}{2}}(y-f(x))^{2}&{\\textrm {for}}|y-f(x)|\\leq \\delta ,\\\\\\delta \\,(|y-f(x)|-{\\frac {1}{2}}\\delta ),&{\\textrm {otherwise.}}\\end{cases}}}$$\n",
    "\n",
    "\n",
    "The `huber_loss` function should take as input, two arguments: \n",
    "        - `theta`: a float value to use for parameter of regression model.\n",
    "        - `delta`: the delta value in the Huber loss. Set this parameter equal to `1.5`.\n",
    "        \n",
    "Inside the function, define `y_pred` as the product of `theta` and `X`. Next, define `y_err` and the absolute value of the difference between `y` and `y_pred`.\n",
    "\n",
    "Use the code below to return the value of the error from the Huber loss formula:\n",
    "\n",
    "```\n",
    "sum(np.where(y_err <= delta, 1/2*(y_err)**2, delta*(y_err - 1/2*delta)))\n",
    "```\n"
   ]
  },
  {
   "cell_type": "code",
   "execution_count": 26,
   "id": "137423a6-3ed5-4e9f-baca-12da57d3eb30",
   "metadata": {},
   "outputs": [],
   "source": [
    "def huber_loss(theta, delta):\n",
    "    \"\"\"\n",
    "    This function accepts a value for theta\n",
    "    and returns the sum of the huber loss.\n",
    "    \n",
    "    Arguments\n",
    "    ---------\n",
    "    theta: float\n",
    "           Values to use for parameter\n",
    "           of regression model.\n",
    "           \n",
    "    delta: float\n",
    "           Value for delta in Huber Loss\n",
    "            \n",
    "    Returns\n",
    "    -------\n",
    "    huber: np.float\n",
    "         Sum of huber loss\n",
    "    \"\"\""
   ]
  },
  {
   "cell_type": "code",
   "execution_count": 28,
   "id": "ddca3828-77c7-454f-8a32-1b8793ed0cdd",
   "metadata": {},
   "outputs": [
    {
     "data": {
      "text/plain": [
       "np.float64(56561.369999999995)"
      ]
     },
     "execution_count": 28,
     "metadata": {},
     "output_type": "execute_result"
    }
   ],
   "source": [
    "def huber_loss(theta, delta=1.5):\n",
    "    y_pred = theta*X\n",
    "    y_err = np.abs(y - y_pred)\n",
    "    return sum(np.where(y_err <= delta, 1/2*(y_err)**2, delta*(y_err - 1/2*delta)))\n",
    "huber_loss(8)"
   ]
  },
  {
   "cell_type": "markdown",
   "id": "9083b203-02a0-4a82-a9f2-7b5c2b995bfe",
   "metadata": {},
   "source": [
    "## Problem 2\n",
    "\n",
    "### Minimizing Huber Loss\n",
    "\n",
    "Use the `minimize` function imported from `scipy.optimize` to determine the optimal value of `huber_loss` with with `x0 = .5`. Assign your result to `minimum_theta`.\n",
    "\n",
    "Next, use the the attribute `minimum_theta.x[0]` together with `np.float` calculate the value of `theta_huber` below   \n"
   ]
  },
  {
   "cell_type": "code",
   "execution_count": 30,
   "id": "242d1bf6-985c-450c-b761-305672a98f25",
   "metadata": {},
   "outputs": [
    {
     "data": {
      "text/plain": [
       "0.14626752601211537"
      ]
     },
     "execution_count": 30,
     "metadata": {},
     "output_type": "execute_result"
    }
   ],
   "source": [
    "minimum_theta = minimize(huber_loss,x0 = 0.5)\n",
    "theta_huber = float(minimum_theta.x[0])\n",
    "theta_huber"
   ]
  },
  {
   "cell_type": "code",
   "execution_count": null,
   "id": "1e39c867-afda-459c-99c7-090a584bcd16",
   "metadata": {},
   "outputs": [],
   "source": []
  }
 ],
 "metadata": {
  "kernelspec": {
   "display_name": "Python 3 (ipykernel)",
   "language": "python",
   "name": "python3"
  },
  "language_info": {
   "codemirror_mode": {
    "name": "ipython",
    "version": 3
   },
   "file_extension": ".py",
   "mimetype": "text/x-python",
   "name": "python",
   "nbconvert_exporter": "python",
   "pygments_lexer": "ipython3",
   "version": "3.13.2"
  }
 },
 "nbformat": 4,
 "nbformat_minor": 5
}
