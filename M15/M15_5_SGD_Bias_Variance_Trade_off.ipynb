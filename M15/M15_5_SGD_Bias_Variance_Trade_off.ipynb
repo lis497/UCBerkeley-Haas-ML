{
 "cells": [
  {
   "cell_type": "markdown",
   "id": "23f887a4-82f2-44d8-ab10-e309b7b6d5ba",
   "metadata": {},
   "source": [
    "### Codio Activity 15.9: Stochastic Gradient Descent\n",
    "\n",
    "This activity explores the use of the `SGDRegressor` from scikitlearn.  While there is not a standard gradient descent estimator, the more efficient example of stochastic gradient descent is available.  You will use the earlier credit dataset to explore its use and learn an important lesson about scaling your data with gradient descent methods. \n",
    "\n",
    "#### Index\n",
    "\n",
    "- [Problem 1](#-Problem-1)\n",
    "- [Problem 2](#-Problem-2)\n",
    "- [Problem 3](#-Problem-3)"
   ]
  },
  {
   "cell_type": "code",
   "execution_count": 1,
   "id": "fbb3a553-4842-4e3d-ade8-6dac5561f2d1",
   "metadata": {},
   "outputs": [],
   "source": [
    "import numpy as np\n",
    "import pandas as pd\n",
    "import matplotlib.pyplot as plt\n",
    "\n",
    "from sklearn.linear_model import SGDRegressor, LinearRegression\n",
    "from sklearn.model_selection import train_test_split\n",
    "from sklearn.metrics import mean_squared_error"
   ]
  },
  {
   "cell_type": "code",
   "execution_count": 3,
   "id": "78b35141-e19b-4749-8a8f-5f4e8d93b323",
   "metadata": {},
   "outputs": [],
   "source": [
    "credit = pd.read_csv('codio_15_3_solution/data/Credit.csv', index_col=0)"
   ]
  },
  {
   "cell_type": "code",
   "execution_count": 4,
   "id": "c8bc57e8-dbc8-40df-b999-3385d68cca62",
   "metadata": {},
   "outputs": [
    {
     "data": {
      "text/html": [
       "<div>\n",
       "<style scoped>\n",
       "    .dataframe tbody tr th:only-of-type {\n",
       "        vertical-align: middle;\n",
       "    }\n",
       "\n",
       "    .dataframe tbody tr th {\n",
       "        vertical-align: top;\n",
       "    }\n",
       "\n",
       "    .dataframe thead th {\n",
       "        text-align: right;\n",
       "    }\n",
       "</style>\n",
       "<table border=\"1\" class=\"dataframe\">\n",
       "  <thead>\n",
       "    <tr style=\"text-align: right;\">\n",
       "      <th></th>\n",
       "      <th>Income</th>\n",
       "      <th>Limit</th>\n",
       "      <th>Rating</th>\n",
       "      <th>Cards</th>\n",
       "      <th>Age</th>\n",
       "      <th>Education</th>\n",
       "      <th>Gender</th>\n",
       "      <th>Student</th>\n",
       "      <th>Married</th>\n",
       "      <th>Ethnicity</th>\n",
       "      <th>Balance</th>\n",
       "    </tr>\n",
       "  </thead>\n",
       "  <tbody>\n",
       "    <tr>\n",
       "      <th>1</th>\n",
       "      <td>14.891</td>\n",
       "      <td>3606</td>\n",
       "      <td>283</td>\n",
       "      <td>2</td>\n",
       "      <td>34</td>\n",
       "      <td>11</td>\n",
       "      <td>Male</td>\n",
       "      <td>No</td>\n",
       "      <td>Yes</td>\n",
       "      <td>Caucasian</td>\n",
       "      <td>333</td>\n",
       "    </tr>\n",
       "    <tr>\n",
       "      <th>2</th>\n",
       "      <td>106.025</td>\n",
       "      <td>6645</td>\n",
       "      <td>483</td>\n",
       "      <td>3</td>\n",
       "      <td>82</td>\n",
       "      <td>15</td>\n",
       "      <td>Female</td>\n",
       "      <td>Yes</td>\n",
       "      <td>Yes</td>\n",
       "      <td>Asian</td>\n",
       "      <td>903</td>\n",
       "    </tr>\n",
       "    <tr>\n",
       "      <th>3</th>\n",
       "      <td>104.593</td>\n",
       "      <td>7075</td>\n",
       "      <td>514</td>\n",
       "      <td>4</td>\n",
       "      <td>71</td>\n",
       "      <td>11</td>\n",
       "      <td>Male</td>\n",
       "      <td>No</td>\n",
       "      <td>No</td>\n",
       "      <td>Asian</td>\n",
       "      <td>580</td>\n",
       "    </tr>\n",
       "    <tr>\n",
       "      <th>4</th>\n",
       "      <td>148.924</td>\n",
       "      <td>9504</td>\n",
       "      <td>681</td>\n",
       "      <td>3</td>\n",
       "      <td>36</td>\n",
       "      <td>11</td>\n",
       "      <td>Female</td>\n",
       "      <td>No</td>\n",
       "      <td>No</td>\n",
       "      <td>Asian</td>\n",
       "      <td>964</td>\n",
       "    </tr>\n",
       "    <tr>\n",
       "      <th>5</th>\n",
       "      <td>55.882</td>\n",
       "      <td>4897</td>\n",
       "      <td>357</td>\n",
       "      <td>2</td>\n",
       "      <td>68</td>\n",
       "      <td>16</td>\n",
       "      <td>Male</td>\n",
       "      <td>No</td>\n",
       "      <td>Yes</td>\n",
       "      <td>Caucasian</td>\n",
       "      <td>331</td>\n",
       "    </tr>\n",
       "  </tbody>\n",
       "</table>\n",
       "</div>"
      ],
      "text/plain": [
       "    Income  Limit  Rating  Cards  Age  Education  Gender Student Married  \\\n",
       "1   14.891   3606     283      2   34         11    Male      No     Yes   \n",
       "2  106.025   6645     483      3   82         15  Female     Yes     Yes   \n",
       "3  104.593   7075     514      4   71         11    Male      No      No   \n",
       "4  148.924   9504     681      3   36         11  Female      No      No   \n",
       "5   55.882   4897     357      2   68         16    Male      No     Yes   \n",
       "\n",
       "   Ethnicity  Balance  \n",
       "1  Caucasian      333  \n",
       "2      Asian      903  \n",
       "3      Asian      580  \n",
       "4      Asian      964  \n",
       "5  Caucasian      331  "
      ]
     },
     "execution_count": 4,
     "metadata": {},
     "output_type": "execute_result"
    }
   ],
   "source": [
    "credit.head()"
   ]
  },
  {
   "cell_type": "code",
   "execution_count": 5,
   "id": "4e444a73-6b20-4a68-90c6-dad1a11de126",
   "metadata": {},
   "outputs": [],
   "source": [
    "X = credit[['Income', 'Limit']]\n",
    "y = credit['Balance']"
   ]
  },
  {
   "cell_type": "code",
   "execution_count": 6,
   "id": "686f7188-627f-4f58-8946-93e787cbb671",
   "metadata": {},
   "outputs": [],
   "source": [
    "X_train, X_test, y_train, y_test = train_test_split(X, y, random_state=42)"
   ]
  },
  {
   "cell_type": "markdown",
   "id": "0bba0f68-053b-4e5c-a35c-5a10276ec4f9",
   "metadata": {},
   "source": [
    "### Problem 1\n",
    "\n",
    "#### Fitting a basic Linear Regression model\n",
    "\n",
    "To begin, use the `LinearRegression` with all default parameters to build a model on the training data and evaluate this on the testing data.  Assign the estimator to `lr` below and training and testing error to `train_mse` and `test_mse` respectively."
   ]
  },
  {
   "cell_type": "code",
   "execution_count": 7,
   "id": "ae20c867-546f-41c9-b747-3cea02a61d52",
   "metadata": {},
   "outputs": [],
   "source": [
    "lr = LinearRegression().fit(X_train, y_train)\n",
    "train_mse = mean_squared_error(y_train, lr.predict(X_train))\n",
    "test_mse = mean_squared_error(y_test, lr.predict(X_test))"
   ]
  },
  {
   "cell_type": "code",
   "execution_count": 8,
   "id": "10d694ee-d8aa-4263-a2b9-222d36effae5",
   "metadata": {},
   "outputs": [
    {
     "name": "stdout",
     "output_type": "stream",
     "text": [
      "25672.74539586416\n",
      "31919.424629039913\n"
     ]
    }
   ],
   "source": [
    "print(train_mse)\n",
    "print(test_mse)"
   ]
  },
  {
   "cell_type": "markdown",
   "id": "9e85047c-24dd-4579-bbfd-97959ee5db05",
   "metadata": {},
   "source": [
    "### Problem 2\n",
    "\n",
    "#### Fitting a basic SGD model\n",
    "\n",
    "To begin, use the `SGDRegressor` with all default parameters **except** `random_state = 42` to build a model on the training data and evaluate this on the testing data.  Assign the estimator to `sgd_defaults` below."
   ]
  },
  {
   "cell_type": "code",
   "execution_count": 9,
   "id": "3edaee46-dea7-46d9-aa45-9a3c5cc3ea3b",
   "metadata": {},
   "outputs": [
    {
     "name": "stdout",
     "output_type": "stream",
     "text": [
      "SGDRegressor(random_state=42)\n",
      "3.6275553225769765e+30\n",
      "3.398878498272584e+30\n"
     ]
    }
   ],
   "source": [
    "sgd_defaults = SGDRegressor(random_state=42).fit(X_train, y_train)\n",
    "train_mse = mean_squared_error(y_train, sgd_defaults.predict(X_train))\n",
    "test_mse = mean_squared_error(y_test, sgd_defaults.predict(X_test))\n",
    "\n",
    "print(sgd_defaults)\n",
    "print(train_mse)\n",
    "print(test_mse)"
   ]
  },
  {
   "cell_type": "markdown",
   "id": "8efc7e7b-51ce-407c-99c3-ae1383c6f7fb",
   "metadata": {},
   "source": [
    "### Problem 3\n",
    "\n",
    "#### Scaling the Data\n",
    "\n",
    "An important message in gradient descent methods is that scaling the data and using regularization helps to constrain the solution path.  You should be able to see the effect of providing the `SGDRegressor` scaled data below.  Fit a second model using the scaled data below and compare the mean squared error to that of the standard `LinearRegression` estimator.  Assign the estimator with `random_state` to `sgd_scaled` below and the train and test mean squared error to `train_mse` and `test_mse` respectively."
   ]
  },
  {
   "cell_type": "code",
   "execution_count": 10,
   "id": "88e6cc22-28b2-43a5-9e0a-b7045a9ab1c1",
   "metadata": {},
   "outputs": [],
   "source": [
    "from sklearn.preprocessing import StandardScaler"
   ]
  },
  {
   "cell_type": "code",
   "execution_count": 11,
   "id": "19634fa7-6e11-4ef7-b512-3ebe897191e4",
   "metadata": {},
   "outputs": [],
   "source": [
    "scaler = StandardScaler()\n",
    "X_tr_scaled = scaler.fit_transform(X_train)\n",
    "X_ts_scaled = scaler.transform(X_test)"
   ]
  },
  {
   "cell_type": "code",
   "execution_count": 12,
   "id": "2b058c8a-b4f3-4e1f-ae7d-390c0abe079d",
   "metadata": {},
   "outputs": [],
   "source": [
    "sgd_scaled = SGDRegressor(random_state = 42).fit(X_tr_scaled, y_train)\n",
    "train_mse = mean_squared_error(y_train, sgd_scaled.predict(X_tr_scaled))\n",
    "test_mse = mean_squared_error(y_test, sgd_scaled.predict(X_ts_scaled))"
   ]
  },
  {
   "cell_type": "code",
   "execution_count": 13,
   "id": "46287e6c-dbc8-4796-9956-d5a3cd3c2f7f",
   "metadata": {},
   "outputs": [
    {
     "name": "stdout",
     "output_type": "stream",
     "text": [
      "SGDRegressor(random_state=42)\n",
      "25685.3994812086\n",
      "32139.44899835043\n"
     ]
    }
   ],
   "source": [
    "print(sgd_scaled)\n",
    "print(train_mse)\n",
    "print(test_mse)"
   ]
  },
  {
   "cell_type": "markdown",
   "id": "2fa57e75-7850-4194-966c-95069d2a6d7b",
   "metadata": {},
   "source": [
    "You can return to your earlier examples and see if scaling your data made any differences in the gradient descent convergence, this is important to all models using a gradient descent method and you will see this again with neural networks."
   ]
  },
  {
   "cell_type": "code",
   "execution_count": null,
   "id": "61a0e57f-176e-435b-92ae-5bef7da19935",
   "metadata": {},
   "outputs": [],
   "source": []
  },
  {
   "cell_type": "markdown",
   "id": "72c8b269-8c82-4542-ae28-0e9074bb9c98",
   "metadata": {},
   "source": [
    "### Codio Activity 15.10: Comparing Gradient Descent to Stochastic Gradient Descent\n",
    "\n",
    "This activity focuses on comparing the convergence and speed of gradient descent and stochastic gradient descent.  First, you will use a synthetic dataset to explore the convergence with naive implementations.  \n",
    "\n",
    "#### Index\n",
    "\n",
    "- [Problem 1](#-Problem-1)\n",
    "- [Problem 2](#-Problem-2)\n",
    "- [Problem 3](#-Problem-3)\n",
    "- [Problem 4](#-Problem-4)"
   ]
  },
  {
   "cell_type": "code",
   "execution_count": 1,
   "id": "175c84e1-e4ee-4f33-a355-77b69b27c860",
   "metadata": {},
   "outputs": [],
   "source": [
    "import numpy as np\n",
    "import matplotlib.pyplot as plt\n",
    "import pandas as pd\n",
    "\n",
    "from sklearn.linear_model import LinearRegression, SGDRegressor\n",
    "import warnings\n",
    "warnings.simplefilter(action='ignore')"
   ]
  },
  {
   "cell_type": "markdown",
   "id": "f3c1c020-fe3a-4826-94ff-14faad8b2a23",
   "metadata": {},
   "source": [
    "### Functions and Data\n",
    "\n",
    "Below you are given an `mse` and `df` functions for computing the gradient descent update.  Also, a simple linear dataset is built around the line $y = 3x$ with gaussian noise added.  You are to explore the convergence behavior of both stochastic gradient descent and gradient descent to the \"true\" coefficient $\\beta_0 = 3$. "
   ]
  },
  {
   "cell_type": "code",
   "execution_count": 5,
   "id": "6378e878-28cb-4645-9d01-20c83d2d4645",
   "metadata": {},
   "outputs": [
    {
     "data": {
      "text/html": [
       "<div>\n",
       "<style scoped>\n",
       "    .dataframe tbody tr th:only-of-type {\n",
       "        vertical-align: middle;\n",
       "    }\n",
       "\n",
       "    .dataframe tbody tr th {\n",
       "        vertical-align: top;\n",
       "    }\n",
       "\n",
       "    .dataframe thead th {\n",
       "        text-align: right;\n",
       "    }\n",
       "</style>\n",
       "<table border=\"1\" class=\"dataframe\">\n",
       "  <thead>\n",
       "    <tr style=\"text-align: right;\">\n",
       "      <th></th>\n",
       "      <th>0</th>\n",
       "    </tr>\n",
       "  </thead>\n",
       "  <tbody>\n",
       "    <tr>\n",
       "      <th>0</th>\n",
       "      <td>2.483571</td>\n",
       "    </tr>\n",
       "    <tr>\n",
       "      <th>1</th>\n",
       "      <td>-0.388291</td>\n",
       "    </tr>\n",
       "    <tr>\n",
       "      <th>2</th>\n",
       "      <td>3.844503</td>\n",
       "    </tr>\n",
       "    <tr>\n",
       "      <th>3</th>\n",
       "      <td>8.524240</td>\n",
       "    </tr>\n",
       "    <tr>\n",
       "      <th>4</th>\n",
       "      <td>0.041354</td>\n",
       "    </tr>\n",
       "    <tr>\n",
       "      <th>...</th>\n",
       "      <td>...</td>\n",
       "    </tr>\n",
       "    <tr>\n",
       "      <th>95</th>\n",
       "      <td>21.470304</td>\n",
       "    </tr>\n",
       "    <tr>\n",
       "      <th>96</th>\n",
       "      <td>30.571510</td>\n",
       "    </tr>\n",
       "    <tr>\n",
       "      <th>97</th>\n",
       "      <td>30.699216</td>\n",
       "    </tr>\n",
       "    <tr>\n",
       "      <th>98</th>\n",
       "      <td>29.722537</td>\n",
       "    </tr>\n",
       "    <tr>\n",
       "      <th>99</th>\n",
       "      <td>28.827064</td>\n",
       "    </tr>\n",
       "  </tbody>\n",
       "</table>\n",
       "<p>100 rows × 1 columns</p>\n",
       "</div>"
      ],
      "text/plain": [
       "            0\n",
       "0    2.483571\n",
       "1   -0.388291\n",
       "2    3.844503\n",
       "3    8.524240\n",
       "4    0.041354\n",
       "..        ...\n",
       "95  21.470304\n",
       "96  30.571510\n",
       "97  30.699216\n",
       "98  29.722537\n",
       "99  28.827064\n",
       "\n",
       "[100 rows x 1 columns]"
      ]
     },
     "execution_count": 5,
     "metadata": {},
     "output_type": "execute_result"
    }
   ],
   "source": [
    "#synthetic dataset y = 3x\n",
    "np.random.seed(42)\n",
    "X = pd.DataFrame(np.linspace(0,10,100))\n",
    "y = 3*X + np.random.normal(scale = 5, size = 100).reshape(-1,1)\n",
    "X.head()\n",
    "y"
   ]
  },
  {
   "cell_type": "code",
   "execution_count": 6,
   "id": "720f5837-cafe-4a0d-8845-644ec4b92706",
   "metadata": {},
   "outputs": [],
   "source": [
    "#mean squared error function\n",
    "def mse(theta, X = X, y = y):\n",
    "    return np.mean((y- theta*X)**2)"
   ]
  },
  {
   "cell_type": "code",
   "execution_count": 7,
   "id": "21cf8666-3b5c-4a38-bf2e-510d402fcda5",
   "metadata": {},
   "outputs": [],
   "source": [
    "#derivative function for mse\n",
    "def df(theta, X = X, y = y):\n",
    "    return (mse(theta + 0.001, X = X, y = y) - mse(theta,X = X, y = y))/0.001"
   ]
  },
  {
   "cell_type": "code",
   "execution_count": 8,
   "id": "1aa6b1b7-7e37-413e-8622-198d9027e732",
   "metadata": {},
   "outputs": [
    {
     "data": {
      "image/png": "[encoded data removed]",
      "text/plain": [
       "<Figure size 640x480 with 1 Axes>"
      ]
     },
     "metadata": {},
     "output_type": "display_data"
    }
   ],
   "source": [
    "#dataset and \"true\" line\n",
    "xs = np.linspace(0, 10, 100)\n",
    "plt.scatter(X, y)\n",
    "plt.plot(xs, 3*xs, color = 'red', label = r'Trend: $y = 3x$')\n",
    "plt.title('Synthetic Dataset')\n",
    "plt.grid()\n",
    "plt.legend();"
   ]
  },
  {
   "cell_type": "markdown",
   "id": "39408249-60aa-4aee-a3b7-b6c79f23f7a9",
   "metadata": {},
   "source": [
    "### Problem 1\n",
    "\n",
    "#### Gradient Descent\n",
    "\n",
    "Below, complete the update to determine `theta_next` using gradient descent and a step size of 0.001.  Note to leave the `%time` magic command that will time your final execution of the loop."
   ]
  },
  {
   "cell_type": "code",
   "execution_count": 14,
   "id": "21dbc67f-c143-4cc8-990d-27c4d336f39a",
   "metadata": {},
   "outputs": [],
   "source": [
    "thetas = [5]\n",
    "for i in range(200):\n",
    "    # complete the gradient descent update\n",
    "    theta_next = thetas[-1] - 0.001*df(theta = thetas[-1])\n",
    "    #print(theta_next)\n",
    "    #break\n",
    "    thetas.append(theta_next)"
   ]
  },
  {
   "cell_type": "code",
   "execution_count": 15,
   "id": "1b7bc526-16e0-4da6-9cfb-c249d0beb12d",
   "metadata": {},
   "outputs": [
    {
     "name": "stdout",
     "output_type": "stream",
     "text": [
      "[np.float64(2.9395105740065013), np.float64(2.939510401596465), np.float64(2.9395102407384748), np.float64(2.939510090658519), np.float64(2.93950995063442)]\n"
     ]
    },
    {
     "data": {
      "image/png": "[encoded data removed]",
      "text/plain": [
       "<Figure size 640x480 with 1 Axes>"
      ]
     },
     "metadata": {},
     "output_type": "display_data"
    }
   ],
   "source": [
    "print(thetas[-5:])\n",
    "plt.plot(thetas[::10], '--o')\n",
    "plt.axhline(3, color = 'red')\n",
    "plt.grid()\n",
    "plt.title('Gradient Descent with step size 0.001');"
   ]
  },
  {
   "cell_type": "markdown",
   "id": "da5c1bc3-d476-485a-b23c-3407b0185401",
   "metadata": {},
   "source": [
    "### Problem 2\n",
    "\n",
    "#### SGD implementation\n",
    "\n",
    "Below, complete the gradient descent update using SGD where the sample is determined by the variable `x_sample`.  Use this and `y_sample` to compute the update and append this to `thetas_sgd`. Note the execution time."
   ]
  },
  {
   "cell_type": "code",
   "execution_count": 17,
   "id": "f377c40a-22d0-4ae3-9568-5a3657602a59",
   "metadata": {},
   "outputs": [
    {
     "data": {
      "image/png": "[encoded data removed]",
      "text/plain": [
       "<Figure size 640x480 with 1 Axes>"
      ]
     },
     "metadata": {},
     "output_type": "display_data"
    }
   ],
   "source": [
    "thetas_sgd = [5]\n",
    "for i in range(200):\n",
    "    x_sample = X.sample(1, random_state = i)\n",
    "    y_sample = y.iloc[x_sample.index.values]\n",
    "    x_next = thetas_sgd[-1] - 0.001*df(theta = thetas_sgd[-1], X = x_sample, y = y_sample)\n",
    "    thetas_sgd.append(x_next)\n",
    "\n",
    "plt.plot(thetas_sgd[::10], '--o', label = 'SGD')\n",
    "plt.axhline(3, color = 'red')\n",
    "plt.grid()\n",
    "plt.legend();"
   ]
  },
  {
   "cell_type": "markdown",
   "id": "b177d7b4-f468-4777-a113-8bcccb8377df",
   "metadata": {},
   "source": [
    "### Problem 3\n",
    "\n",
    "#### Comparing Convergence\n",
    "\n",
    "Below, examine the plot comparing our SGD vs. Gradient Descent implementations.  Which of the following seems to be true?\n",
    "\n",
    "```\n",
    "a. Both methods converge and took similar time\n",
    "b. Both methods converge but SGD is much faster\n",
    "c. Neither method converged\n",
    "d. Only SGD converged.\n",
    "```"
   ]
  },
  {
   "cell_type": "code",
   "execution_count": 18,
   "id": "9df0795c-a666-44d9-944e-b8e3fd570328",
   "metadata": {},
   "outputs": [
    {
     "data": {
      "image/png": "[encoded data removed]",
      "text/plain": [
       "<Figure size 640x480 with 1 Axes>"
      ]
     },
     "metadata": {},
     "output_type": "display_data"
    }
   ],
   "source": [
    "plt.plot(thetas_sgd[::10], '--o', label = 'SGD')\n",
    "plt.plot(thetas[::10], '--o', label = 'Gradient Descent')\n",
    "plt.axhline(3, color = 'red')\n",
    "plt.grid()\n",
    "plt.legend();"
   ]
  },
  {
   "cell_type": "code",
   "execution_count": 19,
   "id": "8dfa5179-bb26-4de2-b7bf-2df0b984fc02",
   "metadata": {},
   "outputs": [],
   "source": [
    "ans3 = 'a'"
   ]
  },
  {
   "cell_type": "markdown",
   "id": "d710dc54-d102-4244-88a7-e7cb808145fd",
   "metadata": {},
   "source": [
    "### Problem 4\n",
    "\n",
    "#### Why isn't `SGD` faster?\n",
    "\n",
    "It may have surprised you that using the SGD approach did not result in much of a speed difference.  This is mainly due to the size of the array and scale of the problem.  As stated in the scikitlearn `SGDRegressor` user guide [here](https://scikit-learn.org/stable/modules/sgd.html#regression), SGD will usually require a larger number of observations to be noticeably faster.  How many samples does `sklearn` suggest this is?\n",
    "\n",
    "```\n",
    "a. > 1000\n",
    "b. > 10,000\n",
    "c. > 100,000\n",
    "d. > 1,000,000\n",
    "```"
   ]
  },
  {
   "cell_type": "code",
   "execution_count": 20,
   "id": "4cde8ed1-6072-43f1-b198-c6b10d0588a3",
   "metadata": {},
   "outputs": [],
   "source": [
    "ans4 = 'b'"
   ]
  },
  {
   "cell_type": "code",
   "execution_count": null,
   "id": "cf0e456b-97b7-48a2-b8e4-2c692f2a1dd1",
   "metadata": {},
   "outputs": [],
   "source": []
  },
  {
   "cell_type": "markdown",
   "id": "8fcd5265-05f4-4f63-9c15-fac8d66622b2",
   "metadata": {},
   "source": [
    "### Bias Variance Trade Off\n",
    "\n",
    "This activity focuses on using the `SGDRegressor` to train differing complexity models.  You will compare models on a synthetic dataset and determine if these are high or low bias and high or low variance based on the residuals of the model.  In this assignment it is important to visualize histograms of the residuals as a method to determine the nature of bias and variance as well as the scatterplot against the model prediction plots provided.\n",
    "\n",
    "\n",
    "#### Index\n",
    "\n",
    "- [Problem 1](#-Problem-1)\n",
    "- [Problem 2](#-Problem-2)\n",
    "- [Problem 3](#-Problem-3)"
   ]
  },
  {
   "cell_type": "code",
   "execution_count": 21,
   "id": "5d41a823-026d-4a7f-bd09-739ac4799202",
   "metadata": {},
   "outputs": [],
   "source": [
    "import numpy as np\n",
    "import matplotlib.pyplot as plt\n",
    "import pandas as pd\n",
    "\n",
    "from sklearn.linear_model import SGDRegressor\n",
    "from sklearn.preprocessing import StandardScaler, PolynomialFeatures\n",
    "from sklearn.model_selection import train_test_split\n",
    "from sklearn.pipeline import Pipeline"
   ]
  },
  {
   "cell_type": "markdown",
   "id": "695103c8-08de-45b1-afe8-afc41efaebd9",
   "metadata": {},
   "source": [
    "### The Data\n",
    "\n",
    "Below a fifth degree polynomial function is created and noise added.  You are to compare the error of different model complexities and determine the nature of bias and variance in the model. \n",
    "\n",
    "**NOTE**: You are provided the feature data as polynomials for each problem -- there are no interaction terms necessary here and scikitlearn does not have an easy way of eliminating these terms using `PolynomialFeatures`. Also, when evaluating the model please use the test data for describing the variance of the estimator."
   ]
  },
  {
   "cell_type": "code",
   "execution_count": 22,
   "id": "a4f5b4c3-a5b6-4ace-9f7e-2382fdc4cdd8",
   "metadata": {},
   "outputs": [],
   "source": [
    "def f(x): \n",
    "    np.random.seed(42)\n",
    "    return 14.2*(x + 1)*x*(x - 1)**3 + np.random.normal(scale = 1, size = len(x))"
   ]
  },
  {
   "cell_type": "code",
   "execution_count": 23,
   "id": "198f7bca-8a2a-42fc-b1a2-d1263d008625",
   "metadata": {},
   "outputs": [],
   "source": [
    "X = np.linspace(-1, 1, 100)"
   ]
  },
  {
   "cell_type": "code",
   "execution_count": 24,
   "id": "462686a0-d040-43bc-bdeb-56227acca273",
   "metadata": {},
   "outputs": [],
   "source": [
    "X_train, X_test, y_train, y_test = train_test_split(X, f(X).reshape(-1, 1), random_state=42)\n",
    "scaler = StandardScaler()\n",
    "X_tr_scaled = scaler.fit_transform(X_train.reshape(-1, 1))\n",
    "X_ts_scaled = scaler.transform(X_test.reshape(-1, 1))"
   ]
  },
  {
   "cell_type": "code",
   "execution_count": 25,
   "id": "a39b3e02-032f-4ef1-987d-e726dafc48c8",
   "metadata": {},
   "outputs": [
    {
     "data": {
      "text/plain": [
       "<matplotlib.collections.PathCollection at 0x152632850>"
      ]
     },
     "execution_count": 25,
     "metadata": {},
     "output_type": "execute_result"
    },
    {
     "data": {
      "image/png": "[encoded data removed]",
      "text/plain": [
       "<Figure size 640x480 with 1 Axes>"
      ]
     },
     "metadata": {},
     "output_type": "display_data"
    }
   ],
   "source": [
    "plt.scatter(X, f(X))"
   ]
  },
  {
   "cell_type": "code",
   "execution_count": 26,
   "id": "4a93b22f-d8eb-4535-8478-9125300c29c6",
   "metadata": {},
   "outputs": [],
   "source": [
    "X_train = X_train.reshape(-1, 1)\n",
    "X_test = X_test.reshape(-1, 1)\n",
    "y_train = y_train.reshape(len(y_train),)\n",
    "y_test = y_test.reshape(len(y_test),)"
   ]
  },
  {
   "cell_type": "markdown",
   "id": "24a84584-5d78-401f-8b7e-ba100a73fb9d",
   "metadata": {},
   "source": [
    "### Problem 1\n",
    "\n",
    "#### Linear Model and Error\n",
    "\n",
    "Below, build a first degree model using the scaled data and the `SGDRegressor`.  Plot the results and visualize the errors.  Is this model high bias?  Also, be sure to note the variance of the model.  Enter your solutions as a string corresponding to the correct answer choice for the resulting model.\n",
    "\n",
    "```\n",
    "a. High Bias\n",
    "b. Low Bias\n",
    "```"
   ]
  },
  {
   "cell_type": "code",
   "execution_count": 27,
   "id": "50f81575-32e1-4b0b-9d12-295c60992116",
   "metadata": {},
   "outputs": [],
   "source": [
    "scaler = StandardScaler()\n",
    "#train and test data\n",
    "X_tr_scaled = scaler.fit_transform(X_train)\n",
    "X_ts_scaled = scaler.transform(X_test)"
   ]
  },
  {
   "cell_type": "code",
   "execution_count": 36,
   "id": "fbf7c945-f022-49e8-ad62-f044feebdfb9",
   "metadata": {},
   "outputs": [
    {
     "data": {
      "text/plain": [
       "<matplotlib.collections.PathCollection at 0x15681ccd0>"
      ]
     },
     "execution_count": 36,
     "metadata": {},
     "output_type": "execute_result"
    },
    {
     "data": {
      "image/png": "[encoded data removed]",
      "text/plain": [
       "<Figure size 640x480 with 1 Axes>"
      ]
     },
     "metadata": {},
     "output_type": "display_data"
    }
   ],
   "source": [
    "plt.scatter(X_tr_scaled,y_train)\n",
    "#print(X_ts_scaled)"
   ]
  },
  {
   "cell_type": "code",
   "execution_count": 28,
   "id": "f45b9232-017e-40fc-8f30-386f90b25772",
   "metadata": {},
   "outputs": [],
   "source": [
    "ans1 = 'b'"
   ]
  },
  {
   "cell_type": "markdown",
   "id": "b4501d1a-4ff0-48eb-affe-3b4e2ee13be9",
   "metadata": {},
   "source": [
    "### Problem 2\n",
    "\n",
    "#### Quadratic Model and Error\n",
    "\n",
    "Below, build a second degree model using the scaled data and the `SGDRegressor`.  Plot the results and visualize the errors.  Is this model high bias?  Is this model higher, lower, or similar variance to that of the linear model?  Enter your solutions as `ans2` as a string corresponding to the correct answer choice for the resulting model.\n",
    "\n",
    "```\n",
    "a. High Bias and Higher Variance\n",
    "b. High Bias and Lower Variance\n",
    "c. Low Bias and Higher Variance\n",
    "d. Low Bias and Lower Variance\n",
    "e. High Bias and Simlilar Variance\n",
    "f. Low Bias and Similar Variance\n",
    "```"
   ]
  },
  {
   "cell_type": "code",
   "execution_count": 29,
   "id": "dfc42cf3-fe3c-4e74-860a-21d610ba1470",
   "metadata": {},
   "outputs": [],
   "source": [
    "k = 2\n",
    "X_train_quad = np.hstack([X_tr_scaled**(i+1) for i in range(1, k)])\n",
    "X_test_quad = np.hstack([X_ts_scaled**(i+1) for i in range(1, k)])"
   ]
  },
  {
   "cell_type": "code",
   "execution_count": 30,
   "id": "08a49978-e957-42f1-bbe2-e97d4747f70f",
   "metadata": {},
   "outputs": [],
   "source": [
    "ans = 'c'"
   ]
  },
  {
   "cell_type": "markdown",
   "id": "c201e042-274f-4c39-8ac3-3eeb8fae4d6c",
   "metadata": {},
   "source": [
    "### Problem 3\n",
    "\n",
    "#### $5^{th}$ degree Model and Error\n",
    "\n",
    "Below, build a fifth degree model using the scaled data and the `SGDRegressor`.  Plot the results and visualize the errors.  Is this model high or low bias?  Is this model higher, lower, or similar variance to that of the **linear model**?  Enter your solutions as a string corresponding to the correct answer choice for the resulting model.\n",
    "\n",
    "```\n",
    "a. High Bias and Higher Variance\n",
    "b. High Bias and Lower Variance\n",
    "c. Low Bias and Higher Variance\n",
    "d. Low Bias and Lower Variance\n",
    "e. High Bias and Simlilar Variance\n",
    "f. Low Bias and Similar Variance\n",
    "```"
   ]
  },
  {
   "cell_type": "code",
   "execution_count": 31,
   "id": "4848908d-2254-42d1-a238-5824c3b189a6",
   "metadata": {},
   "outputs": [],
   "source": [
    "k = 5\n",
    "X_train_5 = np.hstack([X_tr_scaled**(i+1) for i in range(1, k)])\n",
    "X_test_5 = np.hstack([X_ts_scaled**(i+1) for i in range(1, k)])"
   ]
  },
  {
   "cell_type": "code",
   "execution_count": 32,
   "id": "a0eeb8da-0dd2-4038-a4b1-7d5ddfd94f0f",
   "metadata": {},
   "outputs": [],
   "source": [
    "ans3 = 'd'"
   ]
  },
  {
   "cell_type": "markdown",
   "id": "cfcc2c44-89e0-4e95-8edf-48eb6359f159",
   "metadata": {},
   "source": [
    "In this example, we manufactured a cubic polynomial and seem to have arrived at a higher complexity model as the optimal choice.  This seems to demonstrate a bit of the idea that going beyond the model complexity may find variance dipping again.  However, please note it took some work to get the parameters of the polynomial in the right place for this to happen -- so sometimes less complexity may be better and sometimes more.  Of greater importance is that you consider how to evaluate and compare the bias and variance in multiple models while building regressors."
   ]
  },
  {
   "cell_type": "code",
   "execution_count": null,
   "id": "5228532d-7ec4-4885-8541-fdfc9b212e61",
   "metadata": {},
   "outputs": [],
   "source": []
  }
 ],
 "metadata": {
  "kernelspec": {
   "display_name": "Python 3 (ipykernel)",
   "language": "python",
   "name": "python3"
  },
  "language_info": {
   "codemirror_mode": {
    "name": "ipython",
    "version": 3
   },
   "file_extension": ".py",
   "mimetype": "text/x-python",
   "name": "python",
   "nbconvert_exporter": "python",
   "pygments_lexer": "ipython3",
   "version": "3.13.2"
  }
 },
 "nbformat": 4,
 "nbformat_minor": 5
}
