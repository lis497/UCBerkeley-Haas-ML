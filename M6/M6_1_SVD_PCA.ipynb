{
 "cells": [
  {
   "cell_type": "markdown",
   "id": "a6d74cef-ff03-45bd-9c3c-91de0657ede0",
   "metadata": {},
   "source": [
    "## Codio Activity 6.1: Applying Singular Value Decomposition (SVD)\n",
    "\n",
    "This assignment targets the use of singular value decomposition (SVD). As demonstrated in the video lectures, you will use `scipy.linalg` to perform the SVD. However, rather than the Boston dataset, you will use image data to explore the information contained in the singular values of $\\Sigma$. The data come from another built-in dataset in sklearn called the `olivetti_faces`. Each image in the dataset is a 64 pixel by 64 pixel photo of a person’s face.\n",
    "\n",
    "## Index:\n",
    "\n",
    "- [Problem 1](#Problem-1)\n",
    "- [Problem 2](#Problem-2)\n",
    "- [Problem 3](#Problem-3)\n",
    "- [Problem 4](#Problem-4)\n",
    "- [Problem 5](#Problem-5)"
   ]
  },
  {
   "cell_type": "code",
   "execution_count": 1,
   "id": "e3f0d98c-375b-451c-8b5c-1fb26cbee2b4",
   "metadata": {},
   "outputs": [],
   "source": [
    "import numpy as np\n",
    "import pandas as pd\n",
    "import matplotlib.pyplot as plt\n",
    "import seaborn as sns\n",
    "from scipy.linalg import svd\n",
    "from sklearn.datasets import fetch_olivetti_faces"
   ]
  },
  {
   "cell_type": "markdown",
   "id": "450cab17-db39-4416-bb1e-f65d6c0bcdef",
   "metadata": {},
   "source": [
    "### Loading the Dataset\n",
    "\n",
    "The data can be accessed by calling the `fetch_olivetti_faces` function.  It is delivered in multiple pieces as a collection of flattened images, so after loading we select the tenth image and reshape it to `64 x 64`. "
   ]
  },
  {
   "cell_type": "code",
   "execution_count": 2,
   "id": "dde5d106-1a50-43ea-bcb9-3a26684a01f1",
   "metadata": {},
   "outputs": [],
   "source": [
    "#accessing the data\n",
    "data = fetch_olivetti_faces(data_home='data')\n",
    "X = data.data"
   ]
  },
  {
   "cell_type": "code",
   "execution_count": 3,
   "id": "c5c3ac2a-21db-4b7e-ba52-6dc292f18e95",
   "metadata": {},
   "outputs": [
    {
     "data": {
      "text/plain": [
       "<matplotlib.image.AxesImage at 0x14fa18050>"
      ]
     },
     "execution_count": 3,
     "metadata": {},
     "output_type": "execute_result"
    },
    {
     "data": {
      "image/png": "[encoded data removed]",
      "text/plain": [
       "<Figure size 640x480 with 1 Axes>"
      ]
     },
     "metadata": {},
     "output_type": "display_data"
    }
   ],
   "source": [
    "#what the reshaped image looks like\n",
    "plt.imshow(X[10].reshape(64, 64))"
   ]
  },
  {
   "cell_type": "code",
   "execution_count": 4,
   "id": "85a9b4a9-5fdd-44e7-bdb9-b8bc2b117e9c",
   "metadata": {},
   "outputs": [],
   "source": [
    "#assign to image variable\n",
    "image = X[10].reshape(64, 64)"
   ]
  },
  {
   "cell_type": "markdown",
   "id": "d1a4517f-cc8b-45da-9e52-64a447f64ea9",
   "metadata": {},
   "source": [
    "## Problem 1\n",
    "\n",
    "### Scaling the Image\n",
    "\n",
    "Use the same strategy as the video to scale the `image` by subtracting the mean and dividing by the standard deviation.  Use `numpy` methods to find the `mean` and `std`.  Assign your results to `ans1` below.  Note that the image should look identical after the scaling."
   ]
  },
  {
   "cell_type": "code",
   "execution_count": 5,
   "id": "4e674deb-ee14-4927-9431-e42fb9fe7e15",
   "metadata": {},
   "outputs": [
    {
     "data": {
      "text/plain": [
       "numpy.ndarray"
      ]
     },
     "execution_count": 5,
     "metadata": {},
     "output_type": "execute_result"
    }
   ],
   "source": [
    "#Normalize the data\n",
    "ans1 = (image - image.mean())/image.std()\n",
    "type(ans1)"
   ]
  },
  {
   "cell_type": "code",
   "execution_count": 6,
   "id": "184abfe8-76ff-4580-8efc-81fbf0ccb99f",
   "metadata": {},
   "outputs": [
    {
     "data": {
      "text/plain": [
       "array([[-0.15727723,  0.18584998,  0.5913641 , ..., -0.12608357,\n",
       "        -0.06369712, -0.03250346],\n",
       "       [-0.06369712,  0.40420341,  0.7161374 , ...,  0.09226988,\n",
       "         0.15465677,  0.12346309],\n",
       "       [ 0.12346309,  0.6849442 ,  0.8721044 , ...,  0.06107665,\n",
       "         0.31062332,  0.2794301 ],\n",
       "       ...,\n",
       "       [-3.2766142 , -3.2142277 , -3.2142277 , ..., -3.5573545 ,\n",
       "        -3.3701944 , -3.432581  ],\n",
       "       [-3.2454207 , -3.2142277 , -3.2454207 , ..., -3.5261612 ,\n",
       "        -3.4013877 , -3.432581  ],\n",
       "       [-3.2142277 , -3.2454207 , -3.2142277 , ..., -3.5261612 ,\n",
       "        -3.4013877 , -3.4013877 ]], shape=(64, 64), dtype=float32)"
      ]
     },
     "execution_count": 6,
     "metadata": {},
     "output_type": "execute_result"
    }
   ],
   "source": [
    "ans1"
   ]
  },
  {
   "cell_type": "markdown",
   "id": "b929d72a-b85c-4c73-8d98-dbb3c1444415",
   "metadata": {},
   "source": [
    "## Problem 2\n",
    "\n",
    "### SVD of Scaled Image\n",
    "\n",
    "Below, use the `svd` `scipy` function to factor the scaled image.  Assign your factors to variables `U`, `sigma`, and `VT` respectively.  Remember to set the argument `full_matrices` equal to `False`. "
   ]
  },
  {
   "cell_type": "code",
   "execution_count": 7,
   "id": "4fb7e56a-6cb6-4ccf-86d3-32cd7498a1fb",
   "metadata": {},
   "outputs": [],
   "source": [
    "norm_image = (image - image.mean())/image.std()\n",
    "U,sigma,VT = svd(norm_image, full_matrices = False)"
   ]
  },
  {
   "cell_type": "markdown",
   "id": "a29fee85-6fec-4855-bc11-a011b623d9a9",
   "metadata": {},
   "source": [
    "## Problem 3\n",
    "\n",
    "### Converting $\\Sigma$\n",
    "\n",
    "As noted, `scipy` returns a single dimension vector that is the main diagonal of $\\Sigma$. \n",
    "\n",
    "Use the `np.diag` function with argument `sigma` to create a diagonal matrix with the singular values as the main diagonal.  Assign your answer to the variable `Sigma` below."
   ]
  },
  {
   "cell_type": "code",
   "execution_count": 8,
   "id": "98c0156a-e0c8-4f4e-8663-229746c7c097",
   "metadata": {},
   "outputs": [
    {
     "data": {
      "text/plain": [
       "array([[3.6854446e+01, 0.0000000e+00, 0.0000000e+00, ..., 0.0000000e+00,\n",
       "        0.0000000e+00, 0.0000000e+00],\n",
       "       [0.0000000e+00, 3.0636713e+01, 0.0000000e+00, ..., 0.0000000e+00,\n",
       "        0.0000000e+00, 0.0000000e+00],\n",
       "       [0.0000000e+00, 0.0000000e+00, 2.4717436e+01, ..., 0.0000000e+00,\n",
       "        0.0000000e+00, 0.0000000e+00],\n",
       "       ...,\n",
       "       [0.0000000e+00, 0.0000000e+00, 0.0000000e+00, ..., 2.6606100e-02,\n",
       "        0.0000000e+00, 0.0000000e+00],\n",
       "       [0.0000000e+00, 0.0000000e+00, 0.0000000e+00, ..., 0.0000000e+00,\n",
       "        7.9660378e-03, 0.0000000e+00],\n",
       "       [0.0000000e+00, 0.0000000e+00, 0.0000000e+00, ..., 0.0000000e+00,\n",
       "        0.0000000e+00, 3.1715699e-03]], shape=(64, 64), dtype=float32)"
      ]
     },
     "execution_count": 8,
     "metadata": {},
     "output_type": "execute_result"
    }
   ],
   "source": [
    "Sigma = np.diag(sigma)\n",
    "Sigma"
   ]
  },
  {
   "cell_type": "markdown",
   "id": "1c6cabd7-b670-4279-80b0-671305e273a1",
   "metadata": {},
   "source": [
    "## Problem 4\n",
    "\n",
    "### Reconstructing the Image\n",
    "\n",
    "Using the decomposed elements `U` and `VT` and the updated `Sigma` array, multiply the factored elements together using the `@` operator to reconstruct the original image.  Assign your results to `ans4` below. Note that the reconstructed image should look like the original image."
   ]
  },
  {
   "cell_type": "code",
   "execution_count": 9,
   "id": "44963f65-0db7-4957-beab-3d84cb939774",
   "metadata": {},
   "outputs": [
    {
     "data": {
      "text/plain": [
       "array([[-0.1572778 ,  0.18585128,  0.5913633 , ..., -0.12608275,\n",
       "        -0.06369691, -0.03250362],\n",
       "       [-0.06369687,  0.40420353,  0.716136  , ...,  0.09226981,\n",
       "         0.15465729,  0.12346389],\n",
       "       [ 0.12346327,  0.6849446 ,  0.8721029 , ...,  0.06107725,\n",
       "         0.31062415,  0.27943107],\n",
       "       ...,\n",
       "       [-3.2766175 , -3.2142313 , -3.2142293 , ..., -3.5573568 ,\n",
       "        -3.3701956 , -3.432584  ],\n",
       "       [-3.245424  , -3.2142298 , -3.2454228 , ..., -3.526163  ,\n",
       "        -3.4013898 , -3.4325833 ],\n",
       "       [-3.2142296 , -3.2454247 , -3.214229  , ..., -3.526164  ,\n",
       "        -3.4013903 , -3.4013898 ]], shape=(64, 64), dtype=float32)"
      ]
     },
     "execution_count": 9,
     "metadata": {},
     "output_type": "execute_result"
    }
   ],
   "source": [
    "ans4 = U @ Sigma @ VT\n",
    "ans4"
   ]
  },
  {
   "cell_type": "code",
   "execution_count": 10,
   "id": "db76b5b7-3bb9-4dee-a2af-067b8ddd43bd",
   "metadata": {},
   "outputs": [
    {
     "data": {
      "text/plain": [
       "<matplotlib.image.AxesImage at 0x14faee710>"
      ]
     },
     "execution_count": 10,
     "metadata": {},
     "output_type": "execute_result"
    },
    {
     "data": {
      "image/png": "[encoded data removed]",
      "text/plain": [
       "<Figure size 640x480 with 1 Axes>"
      ]
     },
     "metadata": {},
     "output_type": "display_data"
    }
   ],
   "source": [
    "plt.imshow(ans4)"
   ]
  },
  {
   "cell_type": "code",
   "execution_count": 11,
   "id": "277ee431-e3cf-49b6-aa96-1bd325741ff9",
   "metadata": {},
   "outputs": [
    {
     "data": {
      "text/plain": [
       "False"
      ]
     },
     "execution_count": 11,
     "metadata": {},
     "output_type": "execute_result"
    }
   ],
   "source": [
    "np.allclose(norm_image,ans4)"
   ]
  },
  {
   "cell_type": "markdown",
   "id": "654521b2-f8b7-4dc6-9205-ae40836c1792",
   "metadata": {},
   "source": [
    "## Problem 5\n",
    "\n",
    "### Examining Singular Values\n",
    "\n",
    "Extract the first ten singular values (first two rows and columns) of `Sigma`.  Assign these to the variable `top_10` below.  \n",
    "\n",
    "Standardize the singular values stored in `top_10`  by dividing each by the sum of the main diagonal (`Sigma.sum()`).  Assign the result to `ans5` below.  "
   ]
  },
  {
   "cell_type": "code",
   "execution_count": 12,
   "id": "2dc4d4a0-725a-4a8a-bc57-f93048274f34",
   "metadata": {},
   "outputs": [],
   "source": [
    "top_10 = Sigma[:10,:10]\n",
    "ans5 = top_10/Sigma.sum()"
   ]
  },
  {
   "cell_type": "code",
   "execution_count": 13,
   "id": "f8b43c38-9174-4c36-9a68-9bdce7b39823",
   "metadata": {},
   "outputs": [
    {
     "data": {
      "text/plain": [
       "<Axes: >"
      ]
     },
     "execution_count": 13,
     "metadata": {},
     "output_type": "execute_result"
    },
    {
     "data": {
      "image/png": "[encoded data removed]",
      "text/plain": [
       "<Figure size 640x480 with 2 Axes>"
      ]
     },
     "metadata": {},
     "output_type": "display_data"
    }
   ],
   "source": [
    "sns.heatmap(ans5,annot = True)"
   ]
  },
  {
   "cell_type": "markdown",
   "id": "1f938038-f156-43c6-978a-f817a6ca6b56",
   "metadata": {},
   "source": []
  },
  {
   "cell_type": "markdown",
   "id": "0aecda2f-f100-4e2e-b61b-61a512ead820",
   "metadata": {},
   "source": [
    "### Codio Activity 6.2: Analyzing the Results of PCA\n",
    "\n",
    "This activity explores principal component analysis through two examples -- image data and tabular data. These examples are meant to demonstrate how PCA extracts important information from the data while reducing its dimensionality.\n",
    "\n",
    "### Index:\n",
    "\n",
    "- [Problem 1](#Problem-1)\n",
    "- [Problem 2](#Problem-2)\n",
    "- [Problem 3](#Problem-3)\n",
    "- [Problem 4](#Problem-4)\n",
    "- [Problem 5](#Problem-5)"
   ]
  },
  {
   "cell_type": "code",
   "execution_count": 14,
   "id": "5105894b-062f-478a-ab62-73f0182512a8",
   "metadata": {},
   "outputs": [],
   "source": [
    "from sklearn.datasets import fetch_olivetti_faces, fetch_california_housing"
   ]
  },
  {
   "cell_type": "markdown",
   "id": "1bd516b0-eea2-4c8d-b9c5-7366be958dd1",
   "metadata": {},
   "source": [
    "#### The Datasets\n",
    "\n",
    "Both datasets are built in to the `sklearn` library.  The first is a familiar set of faces as 1-Dimensional Arrays, and the second is a dataset on housing prices in california neighborhoods.  The image data is limited to a single image and assigned to the variable `image` below.  The housing data is displayed as a DataFrame with the `.frame` attribute after setting `as_frame = True`. "
   ]
  },
  {
   "cell_type": "code",
   "execution_count": 15,
   "id": "9d164110-16b0-406c-82fb-c971e737bef7",
   "metadata": {},
   "outputs": [],
   "source": [
    "faces_data = pd.read_csv('data/face.csv')\n",
    "cali_housing = fetch_california_housing(return_X_y=False, as_frame=True, data_home='data')"
   ]
  },
  {
   "cell_type": "code",
   "execution_count": 16,
   "id": "411a2f07-59ec-4156-97d2-382272ca89f9",
   "metadata": {},
   "outputs": [
    {
     "data": {
      "text/html": [
       "<div>\n",
       "<style scoped>\n",
       "    .dataframe tbody tr th:only-of-type {\n",
       "        vertical-align: middle;\n",
       "    }\n",
       "\n",
       "    .dataframe tbody tr th {\n",
       "        vertical-align: top;\n",
       "    }\n",
       "\n",
       "    .dataframe thead th {\n",
       "        text-align: right;\n",
       "    }\n",
       "</style>\n",
       "<table border=\"1\" class=\"dataframe\">\n",
       "  <thead>\n",
       "    <tr style=\"text-align: right;\">\n",
       "      <th></th>\n",
       "      <th>Unnamed: 0</th>\n",
       "      <th>0</th>\n",
       "      <th>1</th>\n",
       "      <th>2</th>\n",
       "      <th>3</th>\n",
       "      <th>4</th>\n",
       "      <th>5</th>\n",
       "      <th>6</th>\n",
       "      <th>7</th>\n",
       "      <th>8</th>\n",
       "      <th>...</th>\n",
       "      <th>54</th>\n",
       "      <th>55</th>\n",
       "      <th>56</th>\n",
       "      <th>57</th>\n",
       "      <th>58</th>\n",
       "      <th>59</th>\n",
       "      <th>60</th>\n",
       "      <th>61</th>\n",
       "      <th>62</th>\n",
       "      <th>63</th>\n",
       "    </tr>\n",
       "  </thead>\n",
       "  <tbody>\n",
       "    <tr>\n",
       "      <th>0</th>\n",
       "      <td>0</td>\n",
       "      <td>0.500000</td>\n",
       "      <td>0.545455</td>\n",
       "      <td>0.582645</td>\n",
       "      <td>0.623967</td>\n",
       "      <td>0.648760</td>\n",
       "      <td>0.690083</td>\n",
       "      <td>0.694215</td>\n",
       "      <td>0.714876</td>\n",
       "      <td>0.723140</td>\n",
       "      <td>...</td>\n",
       "      <td>0.673554</td>\n",
       "      <td>0.590909</td>\n",
       "      <td>0.433884</td>\n",
       "      <td>0.351240</td>\n",
       "      <td>0.227273</td>\n",
       "      <td>0.219008</td>\n",
       "      <td>0.210744</td>\n",
       "      <td>0.223140</td>\n",
       "      <td>0.223140</td>\n",
       "      <td>0.223140</td>\n",
       "    </tr>\n",
       "    <tr>\n",
       "      <th>1</th>\n",
       "      <td>1</td>\n",
       "      <td>0.479339</td>\n",
       "      <td>0.512397</td>\n",
       "      <td>0.582645</td>\n",
       "      <td>0.628099</td>\n",
       "      <td>0.665289</td>\n",
       "      <td>0.690083</td>\n",
       "      <td>0.694215</td>\n",
       "      <td>0.706612</td>\n",
       "      <td>0.719008</td>\n",
       "      <td>...</td>\n",
       "      <td>0.681818</td>\n",
       "      <td>0.623967</td>\n",
       "      <td>0.454545</td>\n",
       "      <td>0.371901</td>\n",
       "      <td>0.214876</td>\n",
       "      <td>0.223140</td>\n",
       "      <td>0.206612</td>\n",
       "      <td>0.202479</td>\n",
       "      <td>0.202479</td>\n",
       "      <td>0.202479</td>\n",
       "    </tr>\n",
       "    <tr>\n",
       "      <th>2</th>\n",
       "      <td>2</td>\n",
       "      <td>0.491736</td>\n",
       "      <td>0.541322</td>\n",
       "      <td>0.595041</td>\n",
       "      <td>0.648760</td>\n",
       "      <td>0.673554</td>\n",
       "      <td>0.685950</td>\n",
       "      <td>0.685950</td>\n",
       "      <td>0.706612</td>\n",
       "      <td>0.714876</td>\n",
       "      <td>...</td>\n",
       "      <td>0.685950</td>\n",
       "      <td>0.623967</td>\n",
       "      <td>0.471074</td>\n",
       "      <td>0.413223</td>\n",
       "      <td>0.227273</td>\n",
       "      <td>0.210744</td>\n",
       "      <td>0.210744</td>\n",
       "      <td>0.214876</td>\n",
       "      <td>0.214876</td>\n",
       "      <td>0.214876</td>\n",
       "    </tr>\n",
       "    <tr>\n",
       "      <th>3</th>\n",
       "      <td>3</td>\n",
       "      <td>0.491736</td>\n",
       "      <td>0.557851</td>\n",
       "      <td>0.607438</td>\n",
       "      <td>0.665289</td>\n",
       "      <td>0.669422</td>\n",
       "      <td>0.690083</td>\n",
       "      <td>0.685950</td>\n",
       "      <td>0.673554</td>\n",
       "      <td>0.719008</td>\n",
       "      <td>...</td>\n",
       "      <td>0.702479</td>\n",
       "      <td>0.632231</td>\n",
       "      <td>0.495868</td>\n",
       "      <td>0.417355</td>\n",
       "      <td>0.293388</td>\n",
       "      <td>0.206612</td>\n",
       "      <td>0.210744</td>\n",
       "      <td>0.214876</td>\n",
       "      <td>0.219008</td>\n",
       "      <td>0.219008</td>\n",
       "    </tr>\n",
       "    <tr>\n",
       "      <th>4</th>\n",
       "      <td>4</td>\n",
       "      <td>0.495868</td>\n",
       "      <td>0.561983</td>\n",
       "      <td>0.632231</td>\n",
       "      <td>0.669422</td>\n",
       "      <td>0.644628</td>\n",
       "      <td>0.685950</td>\n",
       "      <td>0.685950</td>\n",
       "      <td>0.681818</td>\n",
       "      <td>0.706612</td>\n",
       "      <td>...</td>\n",
       "      <td>0.702479</td>\n",
       "      <td>0.652893</td>\n",
       "      <td>0.504132</td>\n",
       "      <td>0.400826</td>\n",
       "      <td>0.289256</td>\n",
       "      <td>0.206612</td>\n",
       "      <td>0.210744</td>\n",
       "      <td>0.210744</td>\n",
       "      <td>0.210744</td>\n",
       "      <td>0.210744</td>\n",
       "    </tr>\n",
       "  </tbody>\n",
       "</table>\n",
       "<p>5 rows × 65 columns</p>\n",
       "</div>"
      ],
      "text/plain": [
       "   Unnamed: 0         0         1         2         3         4         5  \\\n",
       "0           0  0.500000  0.545455  0.582645  0.623967  0.648760  0.690083   \n",
       "1           1  0.479339  0.512397  0.582645  0.628099  0.665289  0.690083   \n",
       "2           2  0.491736  0.541322  0.595041  0.648760  0.673554  0.685950   \n",
       "3           3  0.491736  0.557851  0.607438  0.665289  0.669422  0.690083   \n",
       "4           4  0.495868  0.561983  0.632231  0.669422  0.644628  0.685950   \n",
       "\n",
       "          6         7         8  ...        54        55        56        57  \\\n",
       "0  0.694215  0.714876  0.723140  ...  0.673554  0.590909  0.433884  0.351240   \n",
       "1  0.694215  0.706612  0.719008  ...  0.681818  0.623967  0.454545  0.371901   \n",
       "2  0.685950  0.706612  0.714876  ...  0.685950  0.623967  0.471074  0.413223   \n",
       "3  0.685950  0.673554  0.719008  ...  0.702479  0.632231  0.495868  0.417355   \n",
       "4  0.685950  0.681818  0.706612  ...  0.702479  0.652893  0.504132  0.400826   \n",
       "\n",
       "         58        59        60        61        62        63  \n",
       "0  0.227273  0.219008  0.210744  0.223140  0.223140  0.223140  \n",
       "1  0.214876  0.223140  0.206612  0.202479  0.202479  0.202479  \n",
       "2  0.227273  0.210744  0.210744  0.214876  0.214876  0.214876  \n",
       "3  0.293388  0.206612  0.210744  0.214876  0.219008  0.219008  \n",
       "4  0.289256  0.206612  0.210744  0.210744  0.210744  0.210744  \n",
       "\n",
       "[5 rows x 65 columns]"
      ]
     },
     "execution_count": 16,
     "metadata": {},
     "output_type": "execute_result"
    }
   ],
   "source": [
    "faces_data.head()"
   ]
  },
  {
   "cell_type": "code",
   "execution_count": 17,
   "id": "9b9e7474-08df-476c-a0e9-0c8cf83c23e0",
   "metadata": {},
   "outputs": [],
   "source": [
    "faces_data.set_index('Unnamed: 0',inplace = True)"
   ]
  },
  {
   "cell_type": "code",
   "execution_count": 18,
   "id": "9a60b42d-3809-4950-a6f2-7929c1949dfd",
   "metadata": {},
   "outputs": [
    {
     "data": {
      "text/plain": [
       "<matplotlib.image.AxesImage at 0x14fd4ce10>"
      ]
     },
     "execution_count": 18,
     "metadata": {},
     "output_type": "execute_result"
    },
    {
     "data": {
      "image/png": "[encoded data removed]",
      "text/plain": [
       "<Figure size 640x480 with 1 Axes>"
      ]
     },
     "metadata": {},
     "output_type": "display_data"
    }
   ],
   "source": [
    "image = faces_data.values.reshape(64, 64)\n",
    "plt.imshow(image)"
   ]
  },
  {
   "cell_type": "code",
   "execution_count": 19,
   "id": "ffb14cfb-f052-4ff3-9134-01112e5fe1c3",
   "metadata": {},
   "outputs": [
    {
     "data": {
      "text/plain": [
       "<matplotlib.image.AxesImage at 0x14fdabb10>"
      ]
     },
     "execution_count": 19,
     "metadata": {},
     "output_type": "execute_result"
    },
    {
     "data": {
      "image/png": "[encoded data removed]",
      "text/plain": [
       "<Figure size 640x480 with 1 Axes>"
      ]
     },
     "metadata": {},
     "output_type": "display_data"
    }
   ],
   "source": [
    "temp = np.array([[0.234, 0.234876778], [0.345, 0.995]])\n",
    "plt.imshow(temp)"
   ]
  },
  {
   "cell_type": "code",
   "execution_count": 27,
   "id": "de859f55-23b5-4bb4-affd-dcacad82955a",
   "metadata": {},
   "outputs": [
    {
     "data": {
      "text/plain": [
       "dict_keys(['data', 'target', 'frame', 'target_names', 'feature_names', 'DESCR'])"
      ]
     },
     "execution_count": 27,
     "metadata": {},
     "output_type": "execute_result"
    }
   ],
   "source": [
    "# cali_housing's type is Bunch of sklearn, which is dictionary subclass.\n",
    "cali_housing.keys()\n"
   ]
  },
  {
   "cell_type": "code",
   "execution_count": 25,
   "id": "09abc440-771f-463a-a7eb-c18edb167bd1",
   "metadata": {},
   "outputs": [
    {
     "data": {
      "text/plain": [
       "sklearn.utils._bunch.Bunch"
      ]
     },
     "execution_count": 25,
     "metadata": {},
     "output_type": "execute_result"
    }
   ],
   "source": [
    "type(cali_housing)"
   ]
  },
  {
   "cell_type": "code",
   "execution_count": 26,
   "id": "31217ac8-40ff-4922-bd45-cb7cd8c584d4",
   "metadata": {},
   "outputs": [
    {
     "data": {
      "text/plain": [
       "True"
      ]
     },
     "execution_count": 26,
     "metadata": {},
     "output_type": "execute_result"
    }
   ],
   "source": [
    "isinstance(cali_housing, dict)"
   ]
  },
  {
   "cell_type": "code",
   "execution_count": 31,
   "id": "1d94a474-2bc3-46e7-95b9-8bc3772d9ef7",
   "metadata": {},
   "outputs": [
    {
     "data": {
      "text/html": [
       "<div>\n",
       "<style scoped>\n",
       "    .dataframe tbody tr th:only-of-type {\n",
       "        vertical-align: middle;\n",
       "    }\n",
       "\n",
       "    .dataframe tbody tr th {\n",
       "        vertical-align: top;\n",
       "    }\n",
       "\n",
       "    .dataframe thead th {\n",
       "        text-align: right;\n",
       "    }\n",
       "</style>\n",
       "<table border=\"1\" class=\"dataframe\">\n",
       "  <thead>\n",
       "    <tr style=\"text-align: right;\">\n",
       "      <th></th>\n",
       "      <th>MedInc</th>\n",
       "      <th>HouseAge</th>\n",
       "      <th>AveRooms</th>\n",
       "      <th>AveBedrms</th>\n",
       "      <th>Population</th>\n",
       "      <th>AveOccup</th>\n",
       "      <th>Latitude</th>\n",
       "      <th>Longitude</th>\n",
       "      <th>MedHouseVal</th>\n",
       "    </tr>\n",
       "  </thead>\n",
       "  <tbody>\n",
       "    <tr>\n",
       "      <th>0</th>\n",
       "      <td>8.3252</td>\n",
       "      <td>41.0</td>\n",
       "      <td>6.984127</td>\n",
       "      <td>1.023810</td>\n",
       "      <td>322.0</td>\n",
       "      <td>2.555556</td>\n",
       "      <td>37.88</td>\n",
       "      <td>-122.23</td>\n",
       "      <td>4.526</td>\n",
       "    </tr>\n",
       "    <tr>\n",
       "      <th>1</th>\n",
       "      <td>8.3014</td>\n",
       "      <td>21.0</td>\n",
       "      <td>6.238137</td>\n",
       "      <td>0.971880</td>\n",
       "      <td>2401.0</td>\n",
       "      <td>2.109842</td>\n",
       "      <td>37.86</td>\n",
       "      <td>-122.22</td>\n",
       "      <td>3.585</td>\n",
       "    </tr>\n",
       "    <tr>\n",
       "      <th>2</th>\n",
       "      <td>7.2574</td>\n",
       "      <td>52.0</td>\n",
       "      <td>8.288136</td>\n",
       "      <td>1.073446</td>\n",
       "      <td>496.0</td>\n",
       "      <td>2.802260</td>\n",
       "      <td>37.85</td>\n",
       "      <td>-122.24</td>\n",
       "      <td>3.521</td>\n",
       "    </tr>\n",
       "    <tr>\n",
       "      <th>3</th>\n",
       "      <td>5.6431</td>\n",
       "      <td>52.0</td>\n",
       "      <td>5.817352</td>\n",
       "      <td>1.073059</td>\n",
       "      <td>558.0</td>\n",
       "      <td>2.547945</td>\n",
       "      <td>37.85</td>\n",
       "      <td>-122.25</td>\n",
       "      <td>3.413</td>\n",
       "    </tr>\n",
       "    <tr>\n",
       "      <th>4</th>\n",
       "      <td>3.8462</td>\n",
       "      <td>52.0</td>\n",
       "      <td>6.281853</td>\n",
       "      <td>1.081081</td>\n",
       "      <td>565.0</td>\n",
       "      <td>2.181467</td>\n",
       "      <td>37.85</td>\n",
       "      <td>-122.25</td>\n",
       "      <td>3.422</td>\n",
       "    </tr>\n",
       "    <tr>\n",
       "      <th>...</th>\n",
       "      <td>...</td>\n",
       "      <td>...</td>\n",
       "      <td>...</td>\n",
       "      <td>...</td>\n",
       "      <td>...</td>\n",
       "      <td>...</td>\n",
       "      <td>...</td>\n",
       "      <td>...</td>\n",
       "      <td>...</td>\n",
       "    </tr>\n",
       "    <tr>\n",
       "      <th>20635</th>\n",
       "      <td>1.5603</td>\n",
       "      <td>25.0</td>\n",
       "      <td>5.045455</td>\n",
       "      <td>1.133333</td>\n",
       "      <td>845.0</td>\n",
       "      <td>2.560606</td>\n",
       "      <td>39.48</td>\n",
       "      <td>-121.09</td>\n",
       "      <td>0.781</td>\n",
       "    </tr>\n",
       "    <tr>\n",
       "      <th>20636</th>\n",
       "      <td>2.5568</td>\n",
       "      <td>18.0</td>\n",
       "      <td>6.114035</td>\n",
       "      <td>1.315789</td>\n",
       "      <td>356.0</td>\n",
       "      <td>3.122807</td>\n",
       "      <td>39.49</td>\n",
       "      <td>-121.21</td>\n",
       "      <td>0.771</td>\n",
       "    </tr>\n",
       "    <tr>\n",
       "      <th>20637</th>\n",
       "      <td>1.7000</td>\n",
       "      <td>17.0</td>\n",
       "      <td>5.205543</td>\n",
       "      <td>1.120092</td>\n",
       "      <td>1007.0</td>\n",
       "      <td>2.325635</td>\n",
       "      <td>39.43</td>\n",
       "      <td>-121.22</td>\n",
       "      <td>0.923</td>\n",
       "    </tr>\n",
       "    <tr>\n",
       "      <th>20638</th>\n",
       "      <td>1.8672</td>\n",
       "      <td>18.0</td>\n",
       "      <td>5.329513</td>\n",
       "      <td>1.171920</td>\n",
       "      <td>741.0</td>\n",
       "      <td>2.123209</td>\n",
       "      <td>39.43</td>\n",
       "      <td>-121.32</td>\n",
       "      <td>0.847</td>\n",
       "    </tr>\n",
       "    <tr>\n",
       "      <th>20639</th>\n",
       "      <td>2.3886</td>\n",
       "      <td>16.0</td>\n",
       "      <td>5.254717</td>\n",
       "      <td>1.162264</td>\n",
       "      <td>1387.0</td>\n",
       "      <td>2.616981</td>\n",
       "      <td>39.37</td>\n",
       "      <td>-121.24</td>\n",
       "      <td>0.894</td>\n",
       "    </tr>\n",
       "  </tbody>\n",
       "</table>\n",
       "<p>20640 rows × 9 columns</p>\n",
       "</div>"
      ],
      "text/plain": [
       "       MedInc  HouseAge  AveRooms  AveBedrms  Population  AveOccup  Latitude  \\\n",
       "0      8.3252      41.0  6.984127   1.023810       322.0  2.555556     37.88   \n",
       "1      8.3014      21.0  6.238137   0.971880      2401.0  2.109842     37.86   \n",
       "2      7.2574      52.0  8.288136   1.073446       496.0  2.802260     37.85   \n",
       "3      5.6431      52.0  5.817352   1.073059       558.0  2.547945     37.85   \n",
       "4      3.8462      52.0  6.281853   1.081081       565.0  2.181467     37.85   \n",
       "...       ...       ...       ...        ...         ...       ...       ...   \n",
       "20635  1.5603      25.0  5.045455   1.133333       845.0  2.560606     39.48   \n",
       "20636  2.5568      18.0  6.114035   1.315789       356.0  3.122807     39.49   \n",
       "20637  1.7000      17.0  5.205543   1.120092      1007.0  2.325635     39.43   \n",
       "20638  1.8672      18.0  5.329513   1.171920       741.0  2.123209     39.43   \n",
       "20639  2.3886      16.0  5.254717   1.162264      1387.0  2.616981     39.37   \n",
       "\n",
       "       Longitude  MedHouseVal  \n",
       "0        -122.23        4.526  \n",
       "1        -122.22        3.585  \n",
       "2        -122.24        3.521  \n",
       "3        -122.25        3.413  \n",
       "4        -122.25        3.422  \n",
       "...          ...          ...  \n",
       "20635    -121.09        0.781  \n",
       "20636    -121.21        0.771  \n",
       "20637    -121.22        0.923  \n",
       "20638    -121.32        0.847  \n",
       "20639    -121.24        0.894  \n",
       "\n",
       "[20640 rows x 9 columns]"
      ]
     },
     "execution_count": 31,
     "metadata": {},
     "output_type": "execute_result"
    }
   ],
   "source": [
    "# cali_housing.frame == cali_housing['frame']\n",
    "cali_housing['frame']"
   ]
  },
  {
   "cell_type": "code",
   "execution_count": 32,
   "id": "c65c55bc-d2c1-4416-9f99-ff9a4d339836",
   "metadata": {},
   "outputs": [
    {
     "data": {
      "text/html": [
       "<div>\n",
       "<style scoped>\n",
       "    .dataframe tbody tr th:only-of-type {\n",
       "        vertical-align: middle;\n",
       "    }\n",
       "\n",
       "    .dataframe tbody tr th {\n",
       "        vertical-align: top;\n",
       "    }\n",
       "\n",
       "    .dataframe thead th {\n",
       "        text-align: right;\n",
       "    }\n",
       "</style>\n",
       "<table border=\"1\" class=\"dataframe\">\n",
       "  <thead>\n",
       "    <tr style=\"text-align: right;\">\n",
       "      <th></th>\n",
       "      <th>MedInc</th>\n",
       "      <th>HouseAge</th>\n",
       "      <th>AveRooms</th>\n",
       "      <th>AveBedrms</th>\n",
       "      <th>Population</th>\n",
       "      <th>AveOccup</th>\n",
       "      <th>Latitude</th>\n",
       "      <th>Longitude</th>\n",
       "      <th>MedHouseVal</th>\n",
       "    </tr>\n",
       "  </thead>\n",
       "  <tbody>\n",
       "    <tr>\n",
       "      <th>0</th>\n",
       "      <td>8.3252</td>\n",
       "      <td>41.0</td>\n",
       "      <td>6.984127</td>\n",
       "      <td>1.023810</td>\n",
       "      <td>322.0</td>\n",
       "      <td>2.555556</td>\n",
       "      <td>37.88</td>\n",
       "      <td>-122.23</td>\n",
       "      <td>4.526</td>\n",
       "    </tr>\n",
       "    <tr>\n",
       "      <th>1</th>\n",
       "      <td>8.3014</td>\n",
       "      <td>21.0</td>\n",
       "      <td>6.238137</td>\n",
       "      <td>0.971880</td>\n",
       "      <td>2401.0</td>\n",
       "      <td>2.109842</td>\n",
       "      <td>37.86</td>\n",
       "      <td>-122.22</td>\n",
       "      <td>3.585</td>\n",
       "    </tr>\n",
       "    <tr>\n",
       "      <th>2</th>\n",
       "      <td>7.2574</td>\n",
       "      <td>52.0</td>\n",
       "      <td>8.288136</td>\n",
       "      <td>1.073446</td>\n",
       "      <td>496.0</td>\n",
       "      <td>2.802260</td>\n",
       "      <td>37.85</td>\n",
       "      <td>-122.24</td>\n",
       "      <td>3.521</td>\n",
       "    </tr>\n",
       "    <tr>\n",
       "      <th>3</th>\n",
       "      <td>5.6431</td>\n",
       "      <td>52.0</td>\n",
       "      <td>5.817352</td>\n",
       "      <td>1.073059</td>\n",
       "      <td>558.0</td>\n",
       "      <td>2.547945</td>\n",
       "      <td>37.85</td>\n",
       "      <td>-122.25</td>\n",
       "      <td>3.413</td>\n",
       "    </tr>\n",
       "    <tr>\n",
       "      <th>4</th>\n",
       "      <td>3.8462</td>\n",
       "      <td>52.0</td>\n",
       "      <td>6.281853</td>\n",
       "      <td>1.081081</td>\n",
       "      <td>565.0</td>\n",
       "      <td>2.181467</td>\n",
       "      <td>37.85</td>\n",
       "      <td>-122.25</td>\n",
       "      <td>3.422</td>\n",
       "    </tr>\n",
       "  </tbody>\n",
       "</table>\n",
       "</div>"
      ],
      "text/plain": [
       "   MedInc  HouseAge  AveRooms  AveBedrms  Population  AveOccup  Latitude  \\\n",
       "0  8.3252      41.0  6.984127   1.023810       322.0  2.555556     37.88   \n",
       "1  8.3014      21.0  6.238137   0.971880      2401.0  2.109842     37.86   \n",
       "2  7.2574      52.0  8.288136   1.073446       496.0  2.802260     37.85   \n",
       "3  5.6431      52.0  5.817352   1.073059       558.0  2.547945     37.85   \n",
       "4  3.8462      52.0  6.281853   1.081081       565.0  2.181467     37.85   \n",
       "\n",
       "   Longitude  MedHouseVal  \n",
       "0    -122.23        4.526  \n",
       "1    -122.22        3.585  \n",
       "2    -122.24        3.521  \n",
       "3    -122.25        3.413  \n",
       "4    -122.25        3.422  "
      ]
     },
     "execution_count": 32,
     "metadata": {},
     "output_type": "execute_result"
    }
   ],
   "source": [
    "df_cali = cali_housing.frame.head(50)\n",
    "df_cali.head()"
   ]
  },
  {
   "cell_type": "markdown",
   "id": "d7ffda92-e7b4-404a-b7a0-961427208924",
   "metadata": {},
   "source": [
    "### Principal Component Analysis \n",
    "\n",
    "Recall the steps to perform Principal Component Analysis on an array.  \n",
    "\n",
    "```\n",
    "- standardize the data\n",
    "- perform SVD\n",
    "- select how many components to keep\n",
    "```\n",
    "\n",
    "From here, depending on the goal you will either eliminate all but the top `r` values in $\\Sigma$ or evaluate the product of $U_r \\dot \\Sigma_r$."
   ]
  },
  {
   "cell_type": "markdown",
   "id": "71a74131-c450-4585-b3ea-561fdf82aecc",
   "metadata": {},
   "source": [
    "## Problem 1\n",
    "\n",
    "### Function to Standardize and Factor\n",
    "\n",
    "Complete the function `svd_norm` according to the instructions below:\n",
    "\n",
    "- The function should take, as input, an array `X`.\n",
    "- The function should scale the array `X` using its mean and standard deviation and assign the result to ` x_norm`.\n",
    "- The function should use the `svd` function to factor `x_norm` using `full_matrices` equal to `False` and assign the result to `U`, `sigma`, and `VT`.\n",
    "- The function should use `np.diag()` to define a diagonal matrix with the singular values on main diagonal anfd assign the result to `Sigma`.\n",
    "- The function should returns three arrays `U`, `Sigma` and `VT`.\n"
   ]
  },
  {
   "cell_type": "markdown",
   "id": "5666b989-3fa0-4db5-bef3-427128897c9c",
   "metadata": {},
   "source": [
    "def svd_norm(X):\n",
    "    \"\"\"This function takes in an array X, scales it according \n",
    "    to the transformation X - mu / sigma where mu is the mean\n",
    "    and sigma the standard deviation of the dataset.\n",
    "\n",
    "    Parameters\n",
    "    ----------\n",
    "    X: type `np.array`, shape (N, M)\n",
    "        \n",
    "    Returns\n",
    "    -------\n",
    "    A tuple (U, Sigma, VT) where\n",
    "        U: type `np.ndarray`, shape (N, M)\n",
    "            Numpy arrays with N rows, M columns \n",
    "        Sigma: type `np.ndarray`, shape (M, M)\n",
    "            Numpy arrays with M rows and M columns\n",
    "            A Diagonal matrix with the singular values on main diagonal\n",
    "        VT: type `np.ndarray`, shape (M, M)\n",
    "            Numpy array with M rows and M columns representing V Transpose\n",
    "    \"\"\"\n",
    "    return None"
   ]
  },
  {
   "cell_type": "code",
   "execution_count": 33,
   "id": "c3d99b0d-57e3-4166-9be9-64f1d7fd027b",
   "metadata": {},
   "outputs": [
    {
     "name": "stdout",
     "output_type": "stream",
     "text": [
      "(64, 64) (64, 64) (64, 64)\n"
     ]
    }
   ],
   "source": [
    "def svd_norm(X):\n",
    "    x_norm = (X-X.mean())/X.std()\n",
    "    U,sigma,VT = svd(x_norm, full_matrices = False)\n",
    "    Sigma = np.diag(sigma)\n",
    "    return U,Sigma,VT\n",
    "U,Sigma,VT = svd_norm(image)\n",
    "print(U.shape,Sigma.shape,VT.shape)"
   ]
  },
  {
   "cell_type": "markdown",
   "id": "4abce49a-4cf6-4204-9562-c6a7f0ccb656",
   "metadata": {},
   "source": [
    "## Problem 2\n",
    "\n",
    "### Reconstructing the Image\n",
    "\n",
    "To complete this problem, follow the instructions below:\n",
    "\n",
    "- Apply the `svd_norm` function you defined in Problem 1 to `image` and assign the result to `U`, `Sigma`, and `VT`.\n",
    "- Use the `np.copy` function with argument `Sigma` to make a copy of the $\\Sigma$ matrix and assign  the result to `Sigma_copy`.\n",
    "- Set all but the first 5 singular values of `Sigma_copy` (first 25 values - 5x5 matrix) to zero.\n",
    "-  Reconstruct the original image by multiplying $U \\Sigma_{copy} VT$ with the `@` operator and assign the result to `simpler_image`. \n",
    "\n",
    "Note how much information from the image is captured in the first five singular values!"
   ]
  },
  {
   "cell_type": "code",
   "execution_count": 45,
   "id": "19238593-da99-4a6d-8608-0e88b7d2e811",
   "metadata": {},
   "outputs": [],
   "source": [
    "U,Sigma,VT = svd_norm(image)\n",
    "Sigma_copy = np.copy(Sigma)\n",
    "Sigma_copy[5:,5:] = 0\n"
   ]
  },
  {
   "cell_type": "code",
   "execution_count": 46,
   "id": "3ca122e1-2b52-4bb2-aef0-1a047b123a05",
   "metadata": {},
   "outputs": [
    {
     "data": {
      "text/plain": [
       "Text(0.5, 1.0, 'Image reconstructed from first 5 singular values')"
      ]
     },
     "execution_count": 46,
     "metadata": {},
     "output_type": "execute_result"
    },
    {
     "data": {
      "image/png": "[encoded data removed]",
      "text/plain": [
       "<Figure size 640x480 with 1 Axes>"
      ]
     },
     "metadata": {},
     "output_type": "display_data"
    }
   ],
   "source": [
    "simpler_image = U@Sigma_copy@VT\n",
    "plt.imshow(simpler_image)\n",
    "plt.title('Image reconstructed from first 5 singular values')"
   ]
  },
  {
   "cell_type": "markdown",
   "id": "2d33c11a-e81d-490f-9752-53edbd5a24e3",
   "metadata": {},
   "source": [
    "## Problem 3\n",
    "\n",
    "### Repeat for Tabular Data\n",
    "\n",
    "As the example above demonstrates, using Principal Component Analysis is a way of extracting important information from the data through the SVD.  Now, you are to extract the matrix factorization from the SVD using the housing data `df`.  The earlier `svd_norm` function should work to factor a DataFrame.  Use your function to extract $U, \\Sigma, VT$ from the DataFrame.  Assign your results to `U, Sigma, VT` below."
   ]
  },
  {
   "cell_type": "code",
   "execution_count": 40,
   "id": "2fdd3fb6-189e-400f-a0d7-90881b8712d5",
   "metadata": {},
   "outputs": [
    {
     "name": "stdout",
     "output_type": "stream",
     "text": [
      "(50, 9) (9, 9) (9, 9)\n"
     ]
    }
   ],
   "source": [
    "U,Sigma,VT = svd_norm(df_cali)\n",
    "print(U.shape,Sigma.shape,VT.shape)"
   ]
  },
  {
   "cell_type": "markdown",
   "id": "3177fced-a0fc-4655-a3d7-20989171c781",
   "metadata": {},
   "source": [
    "## Problem 4\n",
    "\n",
    "## Function to project into lower dimension `r`\n",
    "\n",
    "Complete the function `pca` below according to the instructions below:\n",
    "\n",
    "- The function takes two arguments, `X` and `r` where `X` is an array or DataFrame and `r` is dimension to project the data down into.\n",
    "- The function should scale the array `X` using its mean and standard deviation and assign the result to ` x_norm`.\n",
    "- The function should use the `svd` function to factor `x_norm` using `full_matrices` equal to `False` and assign the result to `U`, `sigma`, and `VT`.\n",
    "- The function should use `np.diag()` to define a diagonal matrix with the singular values on main diagonal anfd assign the result to `Sigma`.\n",
    "- The function should extract all the rows and the first `r` columns of `U` and assign the result to `Ur`.\n",
    "- The function should extract the first `r` rows and columns of `Sigma` and assign the result to `Sigma_r`.\n",
    "- The function should returns a DataFrame of shape `(N, r)` with columns labeled `pca_1`, `pca_2`, ..., `pca_r`. To achieve this use the code `pd.DataFrame(Ur @ Sigma_r, columns = [f'pca_{i}' for i in range(1, r + 1)])`\n"
   ]
  },
  {
   "cell_type": "code",
   "execution_count": 48,
   "id": "b6fdaa17-7aba-4ff6-8248-645a952f7e91",
   "metadata": {},
   "outputs": [
    {
     "name": "stdout",
     "output_type": "stream",
     "text": [
      "(50, 2)\n"
     ]
    },
    {
     "data": {
      "text/html": [
       "<div>\n",
       "<style scoped>\n",
       "    .dataframe tbody tr th:only-of-type {\n",
       "        vertical-align: middle;\n",
       "    }\n",
       "\n",
       "    .dataframe tbody tr th {\n",
       "        vertical-align: top;\n",
       "    }\n",
       "\n",
       "    .dataframe thead th {\n",
       "        text-align: right;\n",
       "    }\n",
       "</style>\n",
       "<table border=\"1\" class=\"dataframe\">\n",
       "  <thead>\n",
       "    <tr style=\"text-align: right;\">\n",
       "      <th></th>\n",
       "      <th>pca_1</th>\n",
       "      <th>pca_2</th>\n",
       "    </tr>\n",
       "  </thead>\n",
       "  <tbody>\n",
       "    <tr>\n",
       "      <th>0</th>\n",
       "      <td>-6.733861</td>\n",
       "      <td>-1.878247</td>\n",
       "    </tr>\n",
       "    <tr>\n",
       "      <th>1</th>\n",
       "      <td>-6.997582</td>\n",
       "      <td>3.186467</td>\n",
       "    </tr>\n",
       "    <tr>\n",
       "      <th>2</th>\n",
       "      <td>-4.629262</td>\n",
       "      <td>-2.940347</td>\n",
       "    </tr>\n",
       "    <tr>\n",
       "      <th>3</th>\n",
       "      <td>-2.755903</td>\n",
       "      <td>-1.310675</td>\n",
       "    </tr>\n",
       "    <tr>\n",
       "      <th>4</th>\n",
       "      <td>-2.389522</td>\n",
       "      <td>-0.580863</td>\n",
       "    </tr>\n",
       "  </tbody>\n",
       "</table>\n",
       "</div>"
      ],
      "text/plain": [
       "      pca_1     pca_2\n",
       "0 -6.733861 -1.878247\n",
       "1 -6.997582  3.186467\n",
       "2 -4.629262 -2.940347\n",
       "3 -2.755903 -1.310675\n",
       "4 -2.389522 -0.580863"
      ]
     },
     "execution_count": 48,
     "metadata": {},
     "output_type": "execute_result"
    }
   ],
   "source": [
    "def pca(X,r):\n",
    "    x_norm = (X - X.mean())/X.std()\n",
    "    U,sigma,VT = svd(x_norm, full_matrices = False)\n",
    "    Sigma = np.diag(sigma)\n",
    "    Ur = U[:,:r]\n",
    "    Sigma_r = Sigma[:r,:r]\n",
    "    return pd.DataFrame(Ur@Sigma_r, columns = [f'pca_{i}' for i in range(1, r+1)])\n",
    "XT = pca(df_cali,2)\n",
    "print(XT.shape)\n",
    "XT.head()"
   ]
  },
  {
   "cell_type": "markdown",
   "id": "77ed23f4-f395-47ae-8406-53f26e3dca68",
   "metadata": {},
   "source": [
    "## Problem 5\n",
    "\n",
    "### Converting a New Datapoint\n",
    "\n",
    "Suppose we have a new house given by the DataFrame below:\n",
    "\n",
    "<table border=\"1\" class=\"dataframe\">  <thead>    <tr style=\"text-align: right;\">      <th></th>      <th>MedInc</th>      <th>HouseAge</th>      <th>AveRooms</th>      <th>AveBedrms</th>      <th>Population</th>      <th>AveOccup</th>      <th>Latitude</th>      <th>Longitude</th>      <th>MedHouseVal</th>    </tr>  </thead>  <tbody>    <tr>      <th>0</th>      <td>3.87</td>      <td>28.64</td>      <td>5.43</td>      <td>1.1</td>      <td>1425.48</td>      <td>3.07</td>      <td>35.63</td>      <td>-119.57</td>      <td>2.07</td>    </tr>  </tbody></table>\n",
    "\n",
    "Use your `pca` function to project this new house into 2 dimensions.  First, scale your data according to the mean and standard deviation of `df`.  Assign the normalized data to `normed_newhome` below.  Assign the results of the pca transformation on the scaled house data as a DataFrame with columns `pca_1` and `pca_2` to `ans5` below.\n",
    "\n",
    "Hint: Refer to dr. Gomes’s video (Video 6.3 and 6.4)"
   ]
  },
  {
   "cell_type": "code",
   "execution_count": 50,
   "id": "5633b71a-9a0a-4b24-9dbf-83011f80361d",
   "metadata": {},
   "outputs": [
    {
     "data": {
      "text/html": [
       "<div>\n",
       "<style scoped>\n",
       "    .dataframe tbody tr th:only-of-type {\n",
       "        vertical-align: middle;\n",
       "    }\n",
       "\n",
       "    .dataframe tbody tr th {\n",
       "        vertical-align: top;\n",
       "    }\n",
       "\n",
       "    .dataframe thead th {\n",
       "        text-align: right;\n",
       "    }\n",
       "</style>\n",
       "<table border=\"1\" class=\"dataframe\">\n",
       "  <thead>\n",
       "    <tr style=\"text-align: right;\">\n",
       "      <th></th>\n",
       "      <th>MedInc</th>\n",
       "      <th>HouseAge</th>\n",
       "      <th>AveRooms</th>\n",
       "      <th>AveBedrms</th>\n",
       "      <th>Population</th>\n",
       "      <th>AveOccup</th>\n",
       "      <th>Latitude</th>\n",
       "      <th>Longitude</th>\n",
       "      <th>MedHouseVal</th>\n",
       "    </tr>\n",
       "  </thead>\n",
       "  <tbody>\n",
       "    <tr>\n",
       "      <th>0</th>\n",
       "      <td>3.87</td>\n",
       "      <td>28.64</td>\n",
       "      <td>5.43</td>\n",
       "      <td>1.1</td>\n",
       "      <td>1425.48</td>\n",
       "      <td>3.07</td>\n",
       "      <td>35.63</td>\n",
       "      <td>-119.57</td>\n",
       "      <td>2.07</td>\n",
       "    </tr>\n",
       "  </tbody>\n",
       "</table>\n",
       "</div>"
      ],
      "text/plain": [
       "   MedInc  HouseAge  AveRooms  AveBedrms  Population  AveOccup  Latitude  \\\n",
       "0    3.87     28.64      5.43        1.1     1425.48      3.07     35.63   \n",
       "\n",
       "   Longitude  MedHouseVal  \n",
       "0    -119.57         2.07  "
      ]
     },
     "execution_count": 50,
     "metadata": {},
     "output_type": "execute_result"
    }
   ],
   "source": [
    "newhome = pd.DataFrame([[3.87, 28.64, 5.43, 1.1, 1425.48, 3.07, 35.63, -119.57, 2.07]], columns = df_cali.columns)\n",
    "newhome"
   ]
  },
  {
   "cell_type": "code",
   "execution_count": 51,
   "id": "1171d027-3f6c-4433-8204-d03a477763db",
   "metadata": {},
   "outputs": [
    {
     "data": {
      "text/html": [
       "<div>\n",
       "<style scoped>\n",
       "    .dataframe tbody tr th:only-of-type {\n",
       "        vertical-align: middle;\n",
       "    }\n",
       "\n",
       "    .dataframe tbody tr th {\n",
       "        vertical-align: top;\n",
       "    }\n",
       "\n",
       "    .dataframe thead th {\n",
       "        text-align: right;\n",
       "    }\n",
       "</style>\n",
       "<table border=\"1\" class=\"dataframe\">\n",
       "  <thead>\n",
       "    <tr style=\"text-align: right;\">\n",
       "      <th></th>\n",
       "      <th>MedInc</th>\n",
       "      <th>HouseAge</th>\n",
       "      <th>AveRooms</th>\n",
       "      <th>AveBedrms</th>\n",
       "      <th>Population</th>\n",
       "      <th>AveOccup</th>\n",
       "      <th>Latitude</th>\n",
       "      <th>Longitude</th>\n",
       "      <th>MedHouseVal</th>\n",
       "    </tr>\n",
       "  </thead>\n",
       "  <tbody>\n",
       "    <tr>\n",
       "      <th>0</th>\n",
       "      <td>0.710264</td>\n",
       "      <td>-3.61066</td>\n",
       "      <td>0.658465</td>\n",
       "      <td>0.440151</td>\n",
       "      <td>1.50288</td>\n",
       "      <td>2.777652</td>\n",
       "      <td>-200.324049</td>\n",
       "      <td>215.010643</td>\n",
       "      <td>0.325954</td>\n",
       "    </tr>\n",
       "  </tbody>\n",
       "</table>\n",
       "</div>"
      ],
      "text/plain": [
       "     MedInc  HouseAge  AveRooms  AveBedrms  Population  AveOccup    Latitude  \\\n",
       "0  0.710264  -3.61066  0.658465   0.440151     1.50288  2.777652 -200.324049   \n",
       "\n",
       "    Longitude  MedHouseVal  \n",
       "0  215.010643     0.325954  "
      ]
     },
     "execution_count": 51,
     "metadata": {},
     "output_type": "execute_result"
    }
   ],
   "source": [
    "normed_newhome = (newhome - df_cali.mean())/df_cali.std()\n",
    "normed_newhome"
   ]
  },
  {
   "cell_type": "code",
   "execution_count": 54,
   "id": "88cde150-199c-4df2-8173-540995ca4ce7",
   "metadata": {},
   "outputs": [],
   "source": [
    "U,Sigma,VT = svd_norm(df_cali)"
   ]
  },
  {
   "cell_type": "code",
   "execution_count": 55,
   "id": "7d476d3e-0a17-4a80-83af-2f9f34229314",
   "metadata": {},
   "outputs": [
    {
     "data": {
      "text/html": [
       "<div>\n",
       "<style scoped>\n",
       "    .dataframe tbody tr th:only-of-type {\n",
       "        vertical-align: middle;\n",
       "    }\n",
       "\n",
       "    .dataframe tbody tr th {\n",
       "        vertical-align: top;\n",
       "    }\n",
       "\n",
       "    .dataframe thead th {\n",
       "        text-align: right;\n",
       "    }\n",
       "</style>\n",
       "<table border=\"1\" class=\"dataframe\">\n",
       "  <thead>\n",
       "    <tr style=\"text-align: right;\">\n",
       "      <th></th>\n",
       "      <th>pca_1</th>\n",
       "      <th>pca_2</th>\n",
       "    </tr>\n",
       "  </thead>\n",
       "  <tbody>\n",
       "    <tr>\n",
       "      <th>0</th>\n",
       "      <td>-18.728782</td>\n",
       "      <td>88.013992</td>\n",
       "    </tr>\n",
       "  </tbody>\n",
       "</table>\n",
       "</div>"
      ],
      "text/plain": [
       "       pca_1      pca_2\n",
       "0 -18.728782  88.013992"
      ]
     },
     "execution_count": 55,
     "metadata": {},
     "output_type": "execute_result"
    }
   ],
   "source": [
    "ans5 = normed_newhome@VT.T[:,:2]\n",
    "ans5.columns = ['pca_1', 'pca_2']\n",
    "ans5"
   ]
  },
  {
   "cell_type": "markdown",
   "id": "8da6691a-73c8-4371-bb01-1f9b19cb7565",
   "metadata": {},
   "source": [
    "Both of these examples offer insight to how PCA can reduce the dimensionality of your data while keeping important information about underlying relationships in tact.  "
   ]
  },
  {
   "cell_type": "code",
   "execution_count": null,
   "id": "bfbe38d4-79f4-478a-83f4-181421bd1f1c",
   "metadata": {},
   "outputs": [],
   "source": []
  },
  {
   "cell_type": "markdown",
   "id": "6e1190d7-cffd-4ff3-a75d-38b65b99dd39",
   "metadata": {},
   "source": [
    "### Codio Activity 6.3: Plotting and Interpreting Singular Values\n",
    "\n",
    "This activity focuses on building a scree plot with Python.  A scree plot can be used to determine how many Principal Components to keep in a given dataset.  Using an `sklearn` built in housing dataset, you will plot the values of $\\Sigma$ in decreasing order -- this is a scree plot.  For more on scree plots see [here](https://en.wikipedia.org/wiki/Scree_plot#:~:text=In%20multivariate%20statistics%2C%20a%20scree,principal%20component%20analysis%20(PCA).).\n",
    "\n",
    "## Index:\n",
    "\n",
    "- [Problem 1](#Problem-1)\n",
    "- [Problem 2](#Problem-2)"
   ]
  },
  {
   "cell_type": "code",
   "execution_count": 56,
   "id": "5ef11bb2-c36f-4e55-834a-a7cab38a1902",
   "metadata": {},
   "outputs": [],
   "source": [
    "import matplotlib.pyplot as plt\n",
    "import numpy as np\n",
    "import pandas as pd\n",
    "from sklearn.datasets import fetch_california_housing\n",
    "import seaborn as sns\n",
    "from scipy.linalg import svd\n",
    "from sklearn.datasets import make_regression"
   ]
  },
  {
   "cell_type": "code",
   "execution_count": 57,
   "id": "e76a8c62-3364-4455-9b2f-be594a64322d",
   "metadata": {},
   "outputs": [
    {
     "data": {
      "text/plain": [
       "{'data':        MedInc  HouseAge  AveRooms  AveBedrms  Population  AveOccup  Latitude  \\\n",
       " 0      8.3252      41.0  6.984127   1.023810       322.0  2.555556     37.88   \n",
       " 1      8.3014      21.0  6.238137   0.971880      2401.0  2.109842     37.86   \n",
       " 2      7.2574      52.0  8.288136   1.073446       496.0  2.802260     37.85   \n",
       " 3      5.6431      52.0  5.817352   1.073059       558.0  2.547945     37.85   \n",
       " 4      3.8462      52.0  6.281853   1.081081       565.0  2.181467     37.85   \n",
       " ...       ...       ...       ...        ...         ...       ...       ...   \n",
       " 20635  1.5603      25.0  5.045455   1.133333       845.0  2.560606     39.48   \n",
       " 20636  2.5568      18.0  6.114035   1.315789       356.0  3.122807     39.49   \n",
       " 20637  1.7000      17.0  5.205543   1.120092      1007.0  2.325635     39.43   \n",
       " 20638  1.8672      18.0  5.329513   1.171920       741.0  2.123209     39.43   \n",
       " 20639  2.3886      16.0  5.254717   1.162264      1387.0  2.616981     39.37   \n",
       " \n",
       "        Longitude  \n",
       " 0        -122.23  \n",
       " 1        -122.22  \n",
       " 2        -122.24  \n",
       " 3        -122.25  \n",
       " 4        -122.25  \n",
       " ...          ...  \n",
       " 20635    -121.09  \n",
       " 20636    -121.21  \n",
       " 20637    -121.22  \n",
       " 20638    -121.32  \n",
       " 20639    -121.24  \n",
       " \n",
       " [20640 rows x 8 columns],\n",
       " 'target': 0        4.526\n",
       " 1        3.585\n",
       " 2        3.521\n",
       " 3        3.413\n",
       " 4        3.422\n",
       "          ...  \n",
       " 20635    0.781\n",
       " 20636    0.771\n",
       " 20637    0.923\n",
       " 20638    0.847\n",
       " 20639    0.894\n",
       " Name: MedHouseVal, Length: 20640, dtype: float64,\n",
       " 'frame':        MedInc  HouseAge  AveRooms  AveBedrms  Population  AveOccup  Latitude  \\\n",
       " 0      8.3252      41.0  6.984127   1.023810       322.0  2.555556     37.88   \n",
       " 1      8.3014      21.0  6.238137   0.971880      2401.0  2.109842     37.86   \n",
       " 2      7.2574      52.0  8.288136   1.073446       496.0  2.802260     37.85   \n",
       " 3      5.6431      52.0  5.817352   1.073059       558.0  2.547945     37.85   \n",
       " 4      3.8462      52.0  6.281853   1.081081       565.0  2.181467     37.85   \n",
       " ...       ...       ...       ...        ...         ...       ...       ...   \n",
       " 20635  1.5603      25.0  5.045455   1.133333       845.0  2.560606     39.48   \n",
       " 20636  2.5568      18.0  6.114035   1.315789       356.0  3.122807     39.49   \n",
       " 20637  1.7000      17.0  5.205543   1.120092      1007.0  2.325635     39.43   \n",
       " 20638  1.8672      18.0  5.329513   1.171920       741.0  2.123209     39.43   \n",
       " 20639  2.3886      16.0  5.254717   1.162264      1387.0  2.616981     39.37   \n",
       " \n",
       "        Longitude  MedHouseVal  \n",
       " 0        -122.23        4.526  \n",
       " 1        -122.22        3.585  \n",
       " 2        -122.24        3.521  \n",
       " 3        -122.25        3.413  \n",
       " 4        -122.25        3.422  \n",
       " ...          ...          ...  \n",
       " 20635    -121.09        0.781  \n",
       " 20636    -121.21        0.771  \n",
       " 20637    -121.22        0.923  \n",
       " 20638    -121.32        0.847  \n",
       " 20639    -121.24        0.894  \n",
       " \n",
       " [20640 rows x 9 columns],\n",
       " 'target_names': ['MedHouseVal'],\n",
       " 'feature_names': ['MedInc',\n",
       "  'HouseAge',\n",
       "  'AveRooms',\n",
       "  'AveBedrms',\n",
       "  'Population',\n",
       "  'AveOccup',\n",
       "  'Latitude',\n",
       "  'Longitude'],\n",
       " 'DESCR': '.. _california_housing_dataset:\\n\\nCalifornia Housing dataset\\n--------------------------\\n\\n**Data Set Characteristics:**\\n\\n:Number of Instances: 20640\\n\\n:Number of Attributes: 8 numeric, predictive attributes and the target\\n\\n:Attribute Information:\\n    - MedInc        median income in block group\\n    - HouseAge      median house age in block group\\n    - AveRooms      average number of rooms per household\\n    - AveBedrms     average number of bedrooms per household\\n    - Population    block group population\\n    - AveOccup      average number of household members\\n    - Latitude      block group latitude\\n    - Longitude     block group longitude\\n\\n:Missing Attribute Values: None\\n\\nThis dataset was obtained from the StatLib repository.\\nhttps://www.dcc.fc.up.pt/~ltorgo/Regression/cal_housing.html\\n\\nThe target variable is the median house value for California districts,\\nexpressed in hundreds of thousands of dollars ($100,000).\\n\\nThis dataset was derived from the 1990 U.S. census, using one row per census\\nblock group. A block group is the smallest geographical unit for which the U.S.\\nCensus Bureau publishes sample data (a block group typically has a population\\nof 600 to 3,000 people).\\n\\nA household is a group of people residing within a home. Since the average\\nnumber of rooms and bedrooms in this dataset are provided per household, these\\ncolumns may take surprisingly large values for block groups with few households\\nand many empty houses, such as vacation resorts.\\n\\nIt can be downloaded/loaded using the\\n:func:`sklearn.datasets.fetch_california_housing` function.\\n\\n.. rubric:: References\\n\\n- Pace, R. Kelley and Ronald Barry, Sparse Spatial Autoregressions,\\n  Statistics and Probability Letters, 33 (1997) 291-297\\n'}"
      ]
     },
     "execution_count": 57,
     "metadata": {},
     "output_type": "execute_result"
    }
   ],
   "source": [
    "housing = fetch_california_housing(as_frame = True, data_home = 'data')\n",
    "housing"
   ]
  },
  {
   "cell_type": "code",
   "execution_count": 58,
   "id": "f1b7e923-4ed2-4e97-9d07-9df6100c3cd7",
   "metadata": {},
   "outputs": [
    {
     "data": {
      "text/html": [
       "<div>\n",
       "<style scoped>\n",
       "    .dataframe tbody tr th:only-of-type {\n",
       "        vertical-align: middle;\n",
       "    }\n",
       "\n",
       "    .dataframe tbody tr th {\n",
       "        vertical-align: top;\n",
       "    }\n",
       "\n",
       "    .dataframe thead th {\n",
       "        text-align: right;\n",
       "    }\n",
       "</style>\n",
       "<table border=\"1\" class=\"dataframe\">\n",
       "  <thead>\n",
       "    <tr style=\"text-align: right;\">\n",
       "      <th></th>\n",
       "      <th>MedInc</th>\n",
       "      <th>HouseAge</th>\n",
       "      <th>AveRooms</th>\n",
       "      <th>AveBedrms</th>\n",
       "      <th>Population</th>\n",
       "      <th>AveOccup</th>\n",
       "      <th>Latitude</th>\n",
       "      <th>Longitude</th>\n",
       "    </tr>\n",
       "  </thead>\n",
       "  <tbody>\n",
       "    <tr>\n",
       "      <th>0</th>\n",
       "      <td>8.3252</td>\n",
       "      <td>41.0</td>\n",
       "      <td>6.984127</td>\n",
       "      <td>1.023810</td>\n",
       "      <td>322.0</td>\n",
       "      <td>2.555556</td>\n",
       "      <td>37.88</td>\n",
       "      <td>-122.23</td>\n",
       "    </tr>\n",
       "    <tr>\n",
       "      <th>1</th>\n",
       "      <td>8.3014</td>\n",
       "      <td>21.0</td>\n",
       "      <td>6.238137</td>\n",
       "      <td>0.971880</td>\n",
       "      <td>2401.0</td>\n",
       "      <td>2.109842</td>\n",
       "      <td>37.86</td>\n",
       "      <td>-122.22</td>\n",
       "    </tr>\n",
       "    <tr>\n",
       "      <th>2</th>\n",
       "      <td>7.2574</td>\n",
       "      <td>52.0</td>\n",
       "      <td>8.288136</td>\n",
       "      <td>1.073446</td>\n",
       "      <td>496.0</td>\n",
       "      <td>2.802260</td>\n",
       "      <td>37.85</td>\n",
       "      <td>-122.24</td>\n",
       "    </tr>\n",
       "    <tr>\n",
       "      <th>3</th>\n",
       "      <td>5.6431</td>\n",
       "      <td>52.0</td>\n",
       "      <td>5.817352</td>\n",
       "      <td>1.073059</td>\n",
       "      <td>558.0</td>\n",
       "      <td>2.547945</td>\n",
       "      <td>37.85</td>\n",
       "      <td>-122.25</td>\n",
       "    </tr>\n",
       "    <tr>\n",
       "      <th>4</th>\n",
       "      <td>3.8462</td>\n",
       "      <td>52.0</td>\n",
       "      <td>6.281853</td>\n",
       "      <td>1.081081</td>\n",
       "      <td>565.0</td>\n",
       "      <td>2.181467</td>\n",
       "      <td>37.85</td>\n",
       "      <td>-122.25</td>\n",
       "    </tr>\n",
       "  </tbody>\n",
       "</table>\n",
       "</div>"
      ],
      "text/plain": [
       "   MedInc  HouseAge  AveRooms  AveBedrms  Population  AveOccup  Latitude  \\\n",
       "0  8.3252      41.0  6.984127   1.023810       322.0  2.555556     37.88   \n",
       "1  8.3014      21.0  6.238137   0.971880      2401.0  2.109842     37.86   \n",
       "2  7.2574      52.0  8.288136   1.073446       496.0  2.802260     37.85   \n",
       "3  5.6431      52.0  5.817352   1.073059       558.0  2.547945     37.85   \n",
       "4  3.8462      52.0  6.281853   1.081081       565.0  2.181467     37.85   \n",
       "\n",
       "   Longitude  \n",
       "0    -122.23  \n",
       "1    -122.22  \n",
       "2    -122.24  \n",
       "3    -122.25  \n",
       "4    -122.25  "
      ]
     },
     "execution_count": 58,
     "metadata": {},
     "output_type": "execute_result"
    }
   ],
   "source": [
    "df_housing = housing.frame.head(50).drop('MedHouseVal', axis = 1) #limits due to computation \n",
    "df_housing.head()"
   ]
  },
  {
   "cell_type": "code",
   "execution_count": 61,
   "id": "531a2ce6-1cb5-48f6-81fb-ab9a07fb540a",
   "metadata": {},
   "outputs": [
    {
     "data": {
      "text/plain": [
       "(50, 8)"
      ]
     },
     "execution_count": 61,
     "metadata": {},
     "output_type": "execute_result"
    }
   ],
   "source": [
    "df_housing.shape"
   ]
  },
  {
   "cell_type": "code",
   "execution_count": null,
   "id": "fa18359b-ae54-4b13-ac5e-8c3220777741",
   "metadata": {},
   "outputs": [],
   "source": []
  },
  {
   "cell_type": "markdown",
   "id": "23848a5c-b4db-43e4-a62f-8a48579f889a",
   "metadata": {},
   "source": [
    "## Problem 1\n",
    "\n",
    "### Extracting $\\Sigma$\n",
    "\n",
    "Complete the function `singular_values` according to the instructions below:\n",
    "\n",
    "- The function takes, as input, an aray `X`, and a booloean flag `scale`, describing whether you want to scale the array `X` or not.\n",
    "- Using an `if` statement, check if `scale` is `True`. If it is, scale `X` using its mean and standard deviation.\n",
    "- If `scale` is not `True`, use the `svd` function to factor `X` into  `u`, `sigma`, and `vt`.\n",
    "- The function should return the numpy array of singular values of X, `sigma`.\n"
   ]
  },
  {
   "cell_type": "markdown",
   "id": "a40f7aae-7856-4720-9798-0565d594698b",
   "metadata": {},
   "source": [
    "def singular_values(X, scale = False):\n",
    "    \"\"\"Return the singular values resulting from \n",
    "    SVD decomposition.  \n",
    "\n",
    "    Parameters\n",
    "    ----------\n",
    "    X: np.array or pd.DataFrame\n",
    "        An array of data\n",
    "    scale: boolean\n",
    "        Boolean determines whether data needs to be scaled\n",
    "\n",
    "    Returns an numpy array of singular values of X\n",
    "    \"\"\""
   ]
  },
  {
   "cell_type": "code",
   "execution_count": 62,
   "id": "342616af-8c73-40d1-9b80-9fe794209457",
   "metadata": {},
   "outputs": [],
   "source": [
    "def singular_values(X, scale = False):\n",
    "    if scale:\n",
    "        X = (X - X.mean())/X.std()\n",
    "    u,sigma,vt = svd(X)\n",
    "    return sigma"
   ]
  },
  {
   "cell_type": "code",
   "execution_count": 80,
   "id": "f4cea51a-f8d6-4277-b862-9d8f1a4ff654",
   "metadata": {},
   "outputs": [
    {
     "name": "stdout",
     "output_type": "stream",
     "text": [
      "(8,)\n"
     ]
    },
    {
     "data": {
      "text/plain": [
       "array([6.60167785e+03, 4.02993766e+02, 3.56009932e+01, 1.19618311e+01,\n",
       "       4.11982067e+00, 1.36597020e+00, 3.87851125e-01, 5.13333826e-02])"
      ]
     },
     "execution_count": 80,
     "metadata": {},
     "output_type": "execute_result"
    }
   ],
   "source": [
    "sigma = singular_values(df_housing)\n",
    "print(sigma.shape)\n",
    "sigma"
   ]
  },
  {
   "cell_type": "code",
   "execution_count": null,
   "id": "7b00352d-efa8-418a-a011-0c55fa2c1c39",
   "metadata": {},
   "outputs": [],
   "source": []
  },
  {
   "cell_type": "markdown",
   "id": "24ef3569-d278-45a3-8367-affd3c0aabd5",
   "metadata": {},
   "source": [
    "## Problem 2\n",
    "\n",
    "### Plotting $\\Sigma$\n",
    "\n",
    "Using the function above, build a plot of the singular values. Use your plot to determine how many principal components you should keep from the dataframe `df`.  Assign your solution as an integer to `ans2` below."
   ]
  },
  {
   "cell_type": "code",
   "execution_count": 86,
   "id": "5ef21d69-d8f1-4e47-8fbe-de7f2d9a8a62",
   "metadata": {},
   "outputs": [
    {
     "data": {
      "text/plain": [
       "<BarContainer object of 8 artists>"
      ]
     },
     "execution_count": 86,
     "metadata": {},
     "output_type": "execute_result"
    },
    {
     "data": {
      "image/png": "[encoded data removed]",
      "text/plain": [
       "<Figure size 640x480 with 1 Axes>"
      ]
     },
     "metadata": {},
     "output_type": "display_data"
    }
   ],
   "source": [
    "plt.bar(x=range(len(sigma)), height=sigma)"
   ]
  },
  {
   "cell_type": "code",
   "execution_count": 131,
   "id": "fcc5b5c3-3202-4cf2-8a27-2079134b9cd2",
   "metadata": {},
   "outputs": [
    {
     "data": {
      "image/png": "[encoded data removed]",
      "text/plain": [
       "<Figure size 640x480 with 1 Axes>"
      ]
     },
     "metadata": {},
     "output_type": "display_data"
    }
   ],
   "source": [
    "y = sigma / sigma.sum()\n",
    "x = range(8)\n",
    "plt.bar(x = range(8), height = sigma / sigma.sum(), color=\"lightblue\")\n",
    "plt.plot(range(8), sigma / sigma.sum(), marker=\"*\", markersize = 15, color=\"black\", markerfacecolor=\"red\", linestyle=\":\")\n",
    "plt.yticks([0,.2,.4,.6,.8], [\"0%\", \"20%\", \"40%\", \"60%\", \"80%\"])\n",
    "plt.ylabel(\"Importance of PCA\")\n",
    "plt.xticks(range(8), [\"PC\"+str(i) for i in range(1, 9)])\n",
    "plt.title(\"Scree plot\")\n",
    "plt.grid()\n",
    "for i, value in enumerate(sigma / sigma.sum()):\n",
    "    plt.annotate(f\"{value:.3%}\", (x[i], y[i]),  ha=\"left\", xytext= (x[i]+ 0.05, y[i]+0.03))\n",
    "plt.show()"
   ]
  },
  {
   "cell_type": "code",
   "execution_count": null,
   "id": "a9f3cb59-d14f-44db-a539-55054fca2436",
   "metadata": {},
   "outputs": [],
   "source": []
  },
  {
   "cell_type": "markdown",
   "id": "e7d710d8-8dff-4310-ac30-3233b30912fb",
   "metadata": {},
   "source": [
    "## Codio Activity 6.4: Adjusting Parameters for Variance\n",
    "\n",
    "This activity focuses on using the $\\Sigma$ matrix to limit the principal components based on how much variance should be kept.  In the last activity, a screen plot was used to see when the difference in variance explained slows. \n",
    "\n",
    "Here, you will determine how many components are required to explain a proportion of variance.  The dataset is a larger example of a housing dataset related to individual houses and features in Ames Iowa.  For our purposes the non-null numeric data is selected.\n",
    "\n",
    "## Index:\n",
    "\n",
    "- [Problem 1](#Problem-1)\n",
    "- [Problem 2](#Problem-2)\n",
    "- [Problem 3](#Problem-3)\n",
    "- [Problem 4](#Problem-4)"
   ]
  },
  {
   "cell_type": "code",
   "execution_count": 64,
   "id": "59865ae4-1c0a-4d21-9877-ff02e9a45d0f",
   "metadata": {},
   "outputs": [],
   "source": [
    "\n",
    "from sklearn.datasets import fetch_openml"
   ]
  },
  {
   "cell_type": "code",
   "execution_count": 65,
   "id": "e20b2ba4-bc39-44f9-a2f3-10883857c118",
   "metadata": {},
   "outputs": [],
   "source": [
    "#fetching the data\n",
    "open_housing = fetch_openml(name=\"house_prices\", as_frame=True, data_home='data')"
   ]
  },
  {
   "cell_type": "code",
   "execution_count": 66,
   "id": "5d2ddda6-011b-45b4-9acf-545521ed611f",
   "metadata": {},
   "outputs": [
    {
     "data": {
      "text/html": [
       "<div>\n",
       "<style scoped>\n",
       "    .dataframe tbody tr th:only-of-type {\n",
       "        vertical-align: middle;\n",
       "    }\n",
       "\n",
       "    .dataframe tbody tr th {\n",
       "        vertical-align: top;\n",
       "    }\n",
       "\n",
       "    .dataframe thead th {\n",
       "        text-align: right;\n",
       "    }\n",
       "</style>\n",
       "<table border=\"1\" class=\"dataframe\">\n",
       "  <thead>\n",
       "    <tr style=\"text-align: right;\">\n",
       "      <th></th>\n",
       "      <th>Id</th>\n",
       "      <th>MSSubClass</th>\n",
       "      <th>MSZoning</th>\n",
       "      <th>LotFrontage</th>\n",
       "      <th>LotArea</th>\n",
       "      <th>Street</th>\n",
       "      <th>Alley</th>\n",
       "      <th>LotShape</th>\n",
       "      <th>LandContour</th>\n",
       "      <th>Utilities</th>\n",
       "      <th>...</th>\n",
       "      <th>PoolArea</th>\n",
       "      <th>PoolQC</th>\n",
       "      <th>Fence</th>\n",
       "      <th>MiscFeature</th>\n",
       "      <th>MiscVal</th>\n",
       "      <th>MoSold</th>\n",
       "      <th>YrSold</th>\n",
       "      <th>SaleType</th>\n",
       "      <th>SaleCondition</th>\n",
       "      <th>SalePrice</th>\n",
       "    </tr>\n",
       "  </thead>\n",
       "  <tbody>\n",
       "    <tr>\n",
       "      <th>0</th>\n",
       "      <td>1</td>\n",
       "      <td>60</td>\n",
       "      <td>RL</td>\n",
       "      <td>65.0</td>\n",
       "      <td>8450</td>\n",
       "      <td>Pave</td>\n",
       "      <td>NaN</td>\n",
       "      <td>Reg</td>\n",
       "      <td>Lvl</td>\n",
       "      <td>AllPub</td>\n",
       "      <td>...</td>\n",
       "      <td>0</td>\n",
       "      <td>NaN</td>\n",
       "      <td>NaN</td>\n",
       "      <td>NaN</td>\n",
       "      <td>0</td>\n",
       "      <td>2</td>\n",
       "      <td>2008</td>\n",
       "      <td>WD</td>\n",
       "      <td>Normal</td>\n",
       "      <td>208500</td>\n",
       "    </tr>\n",
       "    <tr>\n",
       "      <th>1</th>\n",
       "      <td>2</td>\n",
       "      <td>20</td>\n",
       "      <td>RL</td>\n",
       "      <td>80.0</td>\n",
       "      <td>9600</td>\n",
       "      <td>Pave</td>\n",
       "      <td>NaN</td>\n",
       "      <td>Reg</td>\n",
       "      <td>Lvl</td>\n",
       "      <td>AllPub</td>\n",
       "      <td>...</td>\n",
       "      <td>0</td>\n",
       "      <td>NaN</td>\n",
       "      <td>NaN</td>\n",
       "      <td>NaN</td>\n",
       "      <td>0</td>\n",
       "      <td>5</td>\n",
       "      <td>2007</td>\n",
       "      <td>WD</td>\n",
       "      <td>Normal</td>\n",
       "      <td>181500</td>\n",
       "    </tr>\n",
       "    <tr>\n",
       "      <th>2</th>\n",
       "      <td>3</td>\n",
       "      <td>60</td>\n",
       "      <td>RL</td>\n",
       "      <td>68.0</td>\n",
       "      <td>11250</td>\n",
       "      <td>Pave</td>\n",
       "      <td>NaN</td>\n",
       "      <td>IR1</td>\n",
       "      <td>Lvl</td>\n",
       "      <td>AllPub</td>\n",
       "      <td>...</td>\n",
       "      <td>0</td>\n",
       "      <td>NaN</td>\n",
       "      <td>NaN</td>\n",
       "      <td>NaN</td>\n",
       "      <td>0</td>\n",
       "      <td>9</td>\n",
       "      <td>2008</td>\n",
       "      <td>WD</td>\n",
       "      <td>Normal</td>\n",
       "      <td>223500</td>\n",
       "    </tr>\n",
       "    <tr>\n",
       "      <th>3</th>\n",
       "      <td>4</td>\n",
       "      <td>70</td>\n",
       "      <td>RL</td>\n",
       "      <td>60.0</td>\n",
       "      <td>9550</td>\n",
       "      <td>Pave</td>\n",
       "      <td>NaN</td>\n",
       "      <td>IR1</td>\n",
       "      <td>Lvl</td>\n",
       "      <td>AllPub</td>\n",
       "      <td>...</td>\n",
       "      <td>0</td>\n",
       "      <td>NaN</td>\n",
       "      <td>NaN</td>\n",
       "      <td>NaN</td>\n",
       "      <td>0</td>\n",
       "      <td>2</td>\n",
       "      <td>2006</td>\n",
       "      <td>WD</td>\n",
       "      <td>Abnorml</td>\n",
       "      <td>140000</td>\n",
       "    </tr>\n",
       "    <tr>\n",
       "      <th>4</th>\n",
       "      <td>5</td>\n",
       "      <td>60</td>\n",
       "      <td>RL</td>\n",
       "      <td>84.0</td>\n",
       "      <td>14260</td>\n",
       "      <td>Pave</td>\n",
       "      <td>NaN</td>\n",
       "      <td>IR1</td>\n",
       "      <td>Lvl</td>\n",
       "      <td>AllPub</td>\n",
       "      <td>...</td>\n",
       "      <td>0</td>\n",
       "      <td>NaN</td>\n",
       "      <td>NaN</td>\n",
       "      <td>NaN</td>\n",
       "      <td>0</td>\n",
       "      <td>12</td>\n",
       "      <td>2008</td>\n",
       "      <td>WD</td>\n",
       "      <td>Normal</td>\n",
       "      <td>250000</td>\n",
       "    </tr>\n",
       "    <tr>\n",
       "      <th>...</th>\n",
       "      <td>...</td>\n",
       "      <td>...</td>\n",
       "      <td>...</td>\n",
       "      <td>...</td>\n",
       "      <td>...</td>\n",
       "      <td>...</td>\n",
       "      <td>...</td>\n",
       "      <td>...</td>\n",
       "      <td>...</td>\n",
       "      <td>...</td>\n",
       "      <td>...</td>\n",
       "      <td>...</td>\n",
       "      <td>...</td>\n",
       "      <td>...</td>\n",
       "      <td>...</td>\n",
       "      <td>...</td>\n",
       "      <td>...</td>\n",
       "      <td>...</td>\n",
       "      <td>...</td>\n",
       "      <td>...</td>\n",
       "      <td>...</td>\n",
       "    </tr>\n",
       "    <tr>\n",
       "      <th>1455</th>\n",
       "      <td>1456</td>\n",
       "      <td>60</td>\n",
       "      <td>RL</td>\n",
       "      <td>62.0</td>\n",
       "      <td>7917</td>\n",
       "      <td>Pave</td>\n",
       "      <td>NaN</td>\n",
       "      <td>Reg</td>\n",
       "      <td>Lvl</td>\n",
       "      <td>AllPub</td>\n",
       "      <td>...</td>\n",
       "      <td>0</td>\n",
       "      <td>NaN</td>\n",
       "      <td>NaN</td>\n",
       "      <td>NaN</td>\n",
       "      <td>0</td>\n",
       "      <td>8</td>\n",
       "      <td>2007</td>\n",
       "      <td>WD</td>\n",
       "      <td>Normal</td>\n",
       "      <td>175000</td>\n",
       "    </tr>\n",
       "    <tr>\n",
       "      <th>1456</th>\n",
       "      <td>1457</td>\n",
       "      <td>20</td>\n",
       "      <td>RL</td>\n",
       "      <td>85.0</td>\n",
       "      <td>13175</td>\n",
       "      <td>Pave</td>\n",
       "      <td>NaN</td>\n",
       "      <td>Reg</td>\n",
       "      <td>Lvl</td>\n",
       "      <td>AllPub</td>\n",
       "      <td>...</td>\n",
       "      <td>0</td>\n",
       "      <td>NaN</td>\n",
       "      <td>MnPrv</td>\n",
       "      <td>NaN</td>\n",
       "      <td>0</td>\n",
       "      <td>2</td>\n",
       "      <td>2010</td>\n",
       "      <td>WD</td>\n",
       "      <td>Normal</td>\n",
       "      <td>210000</td>\n",
       "    </tr>\n",
       "    <tr>\n",
       "      <th>1457</th>\n",
       "      <td>1458</td>\n",
       "      <td>70</td>\n",
       "      <td>RL</td>\n",
       "      <td>66.0</td>\n",
       "      <td>9042</td>\n",
       "      <td>Pave</td>\n",
       "      <td>NaN</td>\n",
       "      <td>Reg</td>\n",
       "      <td>Lvl</td>\n",
       "      <td>AllPub</td>\n",
       "      <td>...</td>\n",
       "      <td>0</td>\n",
       "      <td>NaN</td>\n",
       "      <td>GdPrv</td>\n",
       "      <td>Shed</td>\n",
       "      <td>2500</td>\n",
       "      <td>5</td>\n",
       "      <td>2010</td>\n",
       "      <td>WD</td>\n",
       "      <td>Normal</td>\n",
       "      <td>266500</td>\n",
       "    </tr>\n",
       "    <tr>\n",
       "      <th>1458</th>\n",
       "      <td>1459</td>\n",
       "      <td>20</td>\n",
       "      <td>RL</td>\n",
       "      <td>68.0</td>\n",
       "      <td>9717</td>\n",
       "      <td>Pave</td>\n",
       "      <td>NaN</td>\n",
       "      <td>Reg</td>\n",
       "      <td>Lvl</td>\n",
       "      <td>AllPub</td>\n",
       "      <td>...</td>\n",
       "      <td>0</td>\n",
       "      <td>NaN</td>\n",
       "      <td>NaN</td>\n",
       "      <td>NaN</td>\n",
       "      <td>0</td>\n",
       "      <td>4</td>\n",
       "      <td>2010</td>\n",
       "      <td>WD</td>\n",
       "      <td>Normal</td>\n",
       "      <td>142125</td>\n",
       "    </tr>\n",
       "    <tr>\n",
       "      <th>1459</th>\n",
       "      <td>1460</td>\n",
       "      <td>20</td>\n",
       "      <td>RL</td>\n",
       "      <td>75.0</td>\n",
       "      <td>9937</td>\n",
       "      <td>Pave</td>\n",
       "      <td>NaN</td>\n",
       "      <td>Reg</td>\n",
       "      <td>Lvl</td>\n",
       "      <td>AllPub</td>\n",
       "      <td>...</td>\n",
       "      <td>0</td>\n",
       "      <td>NaN</td>\n",
       "      <td>NaN</td>\n",
       "      <td>NaN</td>\n",
       "      <td>0</td>\n",
       "      <td>6</td>\n",
       "      <td>2008</td>\n",
       "      <td>WD</td>\n",
       "      <td>Normal</td>\n",
       "      <td>147500</td>\n",
       "    </tr>\n",
       "  </tbody>\n",
       "</table>\n",
       "<p>1460 rows × 81 columns</p>\n",
       "</div>"
      ],
      "text/plain": [
       "        Id  MSSubClass MSZoning  LotFrontage  LotArea Street Alley LotShape  \\\n",
       "0        1          60       RL         65.0     8450   Pave   NaN      Reg   \n",
       "1        2          20       RL         80.0     9600   Pave   NaN      Reg   \n",
       "2        3          60       RL         68.0    11250   Pave   NaN      IR1   \n",
       "3        4          70       RL         60.0     9550   Pave   NaN      IR1   \n",
       "4        5          60       RL         84.0    14260   Pave   NaN      IR1   \n",
       "...    ...         ...      ...          ...      ...    ...   ...      ...   \n",
       "1455  1456          60       RL         62.0     7917   Pave   NaN      Reg   \n",
       "1456  1457          20       RL         85.0    13175   Pave   NaN      Reg   \n",
       "1457  1458          70       RL         66.0     9042   Pave   NaN      Reg   \n",
       "1458  1459          20       RL         68.0     9717   Pave   NaN      Reg   \n",
       "1459  1460          20       RL         75.0     9937   Pave   NaN      Reg   \n",
       "\n",
       "     LandContour Utilities  ... PoolArea PoolQC  Fence MiscFeature MiscVal  \\\n",
       "0            Lvl    AllPub  ...        0    NaN    NaN         NaN       0   \n",
       "1            Lvl    AllPub  ...        0    NaN    NaN         NaN       0   \n",
       "2            Lvl    AllPub  ...        0    NaN    NaN         NaN       0   \n",
       "3            Lvl    AllPub  ...        0    NaN    NaN         NaN       0   \n",
       "4            Lvl    AllPub  ...        0    NaN    NaN         NaN       0   \n",
       "...          ...       ...  ...      ...    ...    ...         ...     ...   \n",
       "1455         Lvl    AllPub  ...        0    NaN    NaN         NaN       0   \n",
       "1456         Lvl    AllPub  ...        0    NaN  MnPrv         NaN       0   \n",
       "1457         Lvl    AllPub  ...        0    NaN  GdPrv        Shed    2500   \n",
       "1458         Lvl    AllPub  ...        0    NaN    NaN         NaN       0   \n",
       "1459         Lvl    AllPub  ...        0    NaN    NaN         NaN       0   \n",
       "\n",
       "     MoSold YrSold  SaleType  SaleCondition  SalePrice  \n",
       "0         2   2008        WD         Normal     208500  \n",
       "1         5   2007        WD         Normal     181500  \n",
       "2         9   2008        WD         Normal     223500  \n",
       "3         2   2006        WD        Abnorml     140000  \n",
       "4        12   2008        WD         Normal     250000  \n",
       "...     ...    ...       ...            ...        ...  \n",
       "1455      8   2007        WD         Normal     175000  \n",
       "1456      2   2010        WD         Normal     210000  \n",
       "1457      5   2010        WD         Normal     266500  \n",
       "1458      4   2010        WD         Normal     142125  \n",
       "1459      6   2008        WD         Normal     147500  \n",
       "\n",
       "[1460 rows x 81 columns]"
      ]
     },
     "execution_count": 66,
     "metadata": {},
     "output_type": "execute_result"
    }
   ],
   "source": [
    "open_housing.frame"
   ]
  },
  {
   "cell_type": "code",
   "execution_count": 68,
   "id": "5b6079de-2edf-42fb-949b-ce13d5236410",
   "metadata": {},
   "outputs": [],
   "source": [
    "#select numeric data and drop missing values\n",
    "df_open = open_housing.frame.select_dtypes(['float', 'int']).dropna(axis = 1)\n",
    "#.select_dtypes(['int', 'float'])"
   ]
  },
  {
   "cell_type": "code",
   "execution_count": 69,
   "id": "c9db64bb-8774-4469-ad45-18e22b9fb71a",
   "metadata": {},
   "outputs": [
    {
     "data": {
      "text/plain": [
       "(1460, 35)"
      ]
     },
     "execution_count": 69,
     "metadata": {},
     "output_type": "execute_result"
    }
   ],
   "source": [
    "df_open.shape"
   ]
  },
  {
   "cell_type": "markdown",
   "id": "23affcb2-3825-4635-b161-d56cb7c4400c",
   "metadata": {},
   "source": [
    "## Problem 1\n",
    "\n",
    "### Scale the data\n",
    "\n",
    "Scale the `df` data using its mean and standard deviation so that it is ready for SVD.  Assign the scaled data to `df_scaled` below.  "
   ]
  },
  {
   "cell_type": "code",
   "execution_count": 70,
   "id": "6e019e4c-7828-41ff-b548-e7396f8fea62",
   "metadata": {},
   "outputs": [],
   "source": [
    "df_scaled_open = (df_open - df_open.mean())/df_open.std()"
   ]
  },
  {
   "cell_type": "code",
   "execution_count": 71,
   "id": "17efcc31-975b-4569-9b13-3f8c2cfe9cd2",
   "metadata": {},
   "outputs": [
    {
     "data": {
      "text/html": [
       "<div>\n",
       "<style scoped>\n",
       "    .dataframe tbody tr th:only-of-type {\n",
       "        vertical-align: middle;\n",
       "    }\n",
       "\n",
       "    .dataframe tbody tr th {\n",
       "        vertical-align: top;\n",
       "    }\n",
       "\n",
       "    .dataframe thead th {\n",
       "        text-align: right;\n",
       "    }\n",
       "</style>\n",
       "<table border=\"1\" class=\"dataframe\">\n",
       "  <thead>\n",
       "    <tr style=\"text-align: right;\">\n",
       "      <th></th>\n",
       "      <th>Id</th>\n",
       "      <th>MSSubClass</th>\n",
       "      <th>LotArea</th>\n",
       "      <th>OverallQual</th>\n",
       "      <th>OverallCond</th>\n",
       "      <th>YearBuilt</th>\n",
       "      <th>YearRemodAdd</th>\n",
       "      <th>BsmtFinSF1</th>\n",
       "      <th>BsmtFinSF2</th>\n",
       "      <th>BsmtUnfSF</th>\n",
       "      <th>...</th>\n",
       "      <th>WoodDeckSF</th>\n",
       "      <th>OpenPorchSF</th>\n",
       "      <th>EnclosedPorch</th>\n",
       "      <th>3SsnPorch</th>\n",
       "      <th>ScreenPorch</th>\n",
       "      <th>PoolArea</th>\n",
       "      <th>MiscVal</th>\n",
       "      <th>MoSold</th>\n",
       "      <th>YrSold</th>\n",
       "      <th>SalePrice</th>\n",
       "    </tr>\n",
       "  </thead>\n",
       "  <tbody>\n",
       "    <tr>\n",
       "      <th>0</th>\n",
       "      <td>-1.730272</td>\n",
       "      <td>0.073350</td>\n",
       "      <td>-0.207071</td>\n",
       "      <td>0.651256</td>\n",
       "      <td>-0.517023</td>\n",
       "      <td>1.050634</td>\n",
       "      <td>0.878367</td>\n",
       "      <td>0.575228</td>\n",
       "      <td>-0.288554</td>\n",
       "      <td>-0.944267</td>\n",
       "      <td>...</td>\n",
       "      <td>-0.751918</td>\n",
       "      <td>0.216429</td>\n",
       "      <td>-0.359202</td>\n",
       "      <td>-0.116299</td>\n",
       "      <td>-0.270116</td>\n",
       "      <td>-0.068668</td>\n",
       "      <td>-0.087658</td>\n",
       "      <td>-1.598563</td>\n",
       "      <td>0.138730</td>\n",
       "      <td>0.347154</td>\n",
       "    </tr>\n",
       "    <tr>\n",
       "      <th>1</th>\n",
       "      <td>-1.727900</td>\n",
       "      <td>-0.872264</td>\n",
       "      <td>-0.091855</td>\n",
       "      <td>-0.071812</td>\n",
       "      <td>2.178881</td>\n",
       "      <td>0.156680</td>\n",
       "      <td>-0.429430</td>\n",
       "      <td>1.171591</td>\n",
       "      <td>-0.288554</td>\n",
       "      <td>-0.641008</td>\n",
       "      <td>...</td>\n",
       "      <td>1.625638</td>\n",
       "      <td>-0.704242</td>\n",
       "      <td>-0.359202</td>\n",
       "      <td>-0.116299</td>\n",
       "      <td>-0.270116</td>\n",
       "      <td>-0.068668</td>\n",
       "      <td>-0.087658</td>\n",
       "      <td>-0.488943</td>\n",
       "      <td>-0.614228</td>\n",
       "      <td>0.007286</td>\n",
       "    </tr>\n",
       "    <tr>\n",
       "      <th>2</th>\n",
       "      <td>-1.725528</td>\n",
       "      <td>0.073350</td>\n",
       "      <td>0.073455</td>\n",
       "      <td>0.651256</td>\n",
       "      <td>-0.517023</td>\n",
       "      <td>0.984415</td>\n",
       "      <td>0.829930</td>\n",
       "      <td>0.092875</td>\n",
       "      <td>-0.288554</td>\n",
       "      <td>-0.301540</td>\n",
       "      <td>...</td>\n",
       "      <td>-0.751918</td>\n",
       "      <td>-0.070337</td>\n",
       "      <td>-0.359202</td>\n",
       "      <td>-0.116299</td>\n",
       "      <td>-0.270116</td>\n",
       "      <td>-0.068668</td>\n",
       "      <td>-0.087658</td>\n",
       "      <td>0.990552</td>\n",
       "      <td>0.138730</td>\n",
       "      <td>0.535970</td>\n",
       "    </tr>\n",
       "    <tr>\n",
       "      <th>3</th>\n",
       "      <td>-1.723156</td>\n",
       "      <td>0.309753</td>\n",
       "      <td>-0.096864</td>\n",
       "      <td>0.651256</td>\n",
       "      <td>-0.517023</td>\n",
       "      <td>-1.862993</td>\n",
       "      <td>-0.720051</td>\n",
       "      <td>-0.499103</td>\n",
       "      <td>-0.288554</td>\n",
       "      <td>-0.061648</td>\n",
       "      <td>...</td>\n",
       "      <td>-0.751918</td>\n",
       "      <td>-0.175988</td>\n",
       "      <td>4.091122</td>\n",
       "      <td>-0.116299</td>\n",
       "      <td>-0.270116</td>\n",
       "      <td>-0.068668</td>\n",
       "      <td>-0.087658</td>\n",
       "      <td>-1.598563</td>\n",
       "      <td>-1.367186</td>\n",
       "      <td>-0.515105</td>\n",
       "    </tr>\n",
       "    <tr>\n",
       "      <th>4</th>\n",
       "      <td>-1.720785</td>\n",
       "      <td>0.073350</td>\n",
       "      <td>0.375020</td>\n",
       "      <td>1.374324</td>\n",
       "      <td>-0.517023</td>\n",
       "      <td>0.951306</td>\n",
       "      <td>0.733056</td>\n",
       "      <td>0.463410</td>\n",
       "      <td>-0.288554</td>\n",
       "      <td>-0.174805</td>\n",
       "      <td>...</td>\n",
       "      <td>0.779930</td>\n",
       "      <td>0.563567</td>\n",
       "      <td>-0.359202</td>\n",
       "      <td>-0.116299</td>\n",
       "      <td>-0.270116</td>\n",
       "      <td>-0.068668</td>\n",
       "      <td>-0.087658</td>\n",
       "      <td>2.100173</td>\n",
       "      <td>0.138730</td>\n",
       "      <td>0.869545</td>\n",
       "    </tr>\n",
       "  </tbody>\n",
       "</table>\n",
       "<p>5 rows × 35 columns</p>\n",
       "</div>"
      ],
      "text/plain": [
       "         Id  MSSubClass   LotArea  OverallQual  OverallCond  YearBuilt  \\\n",
       "0 -1.730272    0.073350 -0.207071     0.651256    -0.517023   1.050634   \n",
       "1 -1.727900   -0.872264 -0.091855    -0.071812     2.178881   0.156680   \n",
       "2 -1.725528    0.073350  0.073455     0.651256    -0.517023   0.984415   \n",
       "3 -1.723156    0.309753 -0.096864     0.651256    -0.517023  -1.862993   \n",
       "4 -1.720785    0.073350  0.375020     1.374324    -0.517023   0.951306   \n",
       "\n",
       "   YearRemodAdd  BsmtFinSF1  BsmtFinSF2  BsmtUnfSF  ...  WoodDeckSF  \\\n",
       "0      0.878367    0.575228   -0.288554  -0.944267  ...   -0.751918   \n",
       "1     -0.429430    1.171591   -0.288554  -0.641008  ...    1.625638   \n",
       "2      0.829930    0.092875   -0.288554  -0.301540  ...   -0.751918   \n",
       "3     -0.720051   -0.499103   -0.288554  -0.061648  ...   -0.751918   \n",
       "4      0.733056    0.463410   -0.288554  -0.174805  ...    0.779930   \n",
       "\n",
       "   OpenPorchSF  EnclosedPorch  3SsnPorch  ScreenPorch  PoolArea   MiscVal  \\\n",
       "0     0.216429      -0.359202  -0.116299    -0.270116 -0.068668 -0.087658   \n",
       "1    -0.704242      -0.359202  -0.116299    -0.270116 -0.068668 -0.087658   \n",
       "2    -0.070337      -0.359202  -0.116299    -0.270116 -0.068668 -0.087658   \n",
       "3    -0.175988       4.091122  -0.116299    -0.270116 -0.068668 -0.087658   \n",
       "4     0.563567      -0.359202  -0.116299    -0.270116 -0.068668 -0.087658   \n",
       "\n",
       "     MoSold    YrSold  SalePrice  \n",
       "0 -1.598563  0.138730   0.347154  \n",
       "1 -0.488943 -0.614228   0.007286  \n",
       "2  0.990552  0.138730   0.535970  \n",
       "3 -1.598563 -1.367186  -0.515105  \n",
       "4  2.100173  0.138730   0.869545  \n",
       "\n",
       "[5 rows x 35 columns]"
      ]
     },
     "execution_count": 71,
     "metadata": {},
     "output_type": "execute_result"
    }
   ],
   "source": [
    "df_scaled_open.head()"
   ]
  },
  {
   "cell_type": "markdown",
   "id": "ebf245cd-26f8-4818-936f-6fda3abc5f0b",
   "metadata": {},
   "source": [
    "## Problem 2\n",
    "\n",
    "### Extracting $\\Sigma$\n",
    "\n",
    "Using the scaled data, extract the singular values from the data using the `scipy.linalg` function `svd`.  Assign your results to `U`, `sigma`, and `VT` below. "
   ]
  },
  {
   "cell_type": "code",
   "execution_count": 72,
   "id": "1068ea3d-3ace-407d-a33c-9fb56e49ddaf",
   "metadata": {},
   "outputs": [
    {
     "name": "stdout",
     "output_type": "stream",
     "text": [
      "[[-1.24308723e-02 -8.49597033e-03 -1.24977189e-02 ...  4.40574439e-02\n",
      "   3.36826607e-02  3.87628901e-02]\n",
      " [-5.35971129e-04  1.82715003e-02  1.70668788e-02 ...  1.48131247e-02\n",
      "  -1.85195102e-02 -2.33556957e-02]\n",
      " [-1.53082723e-02 -5.84118149e-03 -1.44934224e-02 ...  4.88296851e-03\n",
      "   1.13925356e-02  1.41736893e-02]\n",
      " ...\n",
      " [-1.41681935e-02 -4.26182668e-02  2.83441547e-02 ...  9.58033512e-01\n",
      "  -1.43835572e-03  6.59938315e-03]\n",
      " [ 2.51563070e-02  3.25371796e-02  3.66568846e-02 ... -1.04497637e-03\n",
      "   9.60465319e-01 -1.64946224e-02]\n",
      " [ 7.73849326e-03  2.44572609e-02  3.41745938e-02 ...  6.03878627e-03\n",
      "  -1.53828546e-02  9.68027011e-01]] [1.02276226e+02 6.79507307e+01 5.59929230e+01 5.37214715e+01\n",
      " 4.64515403e+01 4.16348739e+01 4.10246248e+01 4.02572608e+01\n",
      " 3.96356232e+01 3.94426877e+01 3.89853671e+01 3.82111679e+01\n",
      " 3.80907565e+01 3.76108201e+01 3.70474408e+01 3.59398871e+01\n",
      " 3.54620900e+01 3.43417001e+01 3.41869428e+01 3.34888389e+01\n",
      " 3.22079259e+01 3.00653729e+01 2.92738204e+01 2.62366212e+01\n",
      " 2.44392254e+01 2.14328514e+01 2.05799541e+01 1.95500103e+01\n",
      " 1.68543989e+01 1.52796824e+01 1.44631500e+01 1.37323511e+01\n",
      " 1.19761788e+01 4.54197684e-14 7.58978102e-15] [[ 1.47988380e-03  1.47914853e-02 -1.11246489e-01 ... -2.41869878e-02\n",
      "   1.48384905e-02 -3.33788166e-01]\n",
      " [-1.73014286e-02 -1.85595909e-01  6.33682244e-02 ... -2.67460469e-02\n",
      "   3.52251886e-02  4.66822856e-02]\n",
      " [ 1.23409442e-02 -7.34394433e-02  2.82515006e-01 ... -2.25094696e-02\n",
      "   1.14288950e-02  1.07092869e-02]\n",
      " ...\n",
      " [-9.69805961e-04 -4.62506340e-02  3.50413311e-03 ... -6.67762094e-03\n",
      "   6.99287287e-03 -1.42754699e-01]\n",
      " [-1.16524025e-17 -9.12830005e-17 -6.52598276e-17 ... -2.70508442e-17\n",
      "   0.00000000e+00 -1.11022302e-16]\n",
      " [ 0.00000000e+00  8.12346974e-17  2.62719734e-16 ...  8.32454799e-17\n",
      "  -1.11022302e-16 -1.11022302e-16]]\n"
     ]
    }
   ],
   "source": [
    "U,sigma,VT = svd(df_scaled_open)\n",
    "print(U,sigma,VT)"
   ]
  },
  {
   "cell_type": "markdown",
   "id": "5c260422-9189-4d56-9e7f-7f97bfa81b36",
   "metadata": {},
   "source": [
    "## Problem 3\n",
    "\n",
    "### Percent Variance Explained\n",
    "\n",
    "Divide `sigma` by the sum of the singular values to compute the percent variance explained. Assign your result as a percents array to `percent_variance_explained` below.  \n",
    "\n",
    "Note that due to rounding this percent won't sum to exactly 1.  "
   ]
  },
  {
   "cell_type": "code",
   "execution_count": 74,
   "id": "9d34464e-3b89-4f2a-8a27-9fb16db9a770",
   "metadata": {},
   "outputs": [
    {
     "name": "stdout",
     "output_type": "stream",
     "text": [
      "0.9999999999999999\n"
     ]
    },
    {
     "data": {
      "text/plain": [
       "array([8.75769203e-02, 5.81847410e-02, 4.79455289e-02, 4.60005341e-02,\n",
       "       3.97754492e-02, 3.56510420e-02, 3.51284989e-02, 3.44714217e-02,\n",
       "       3.39391269e-02, 3.37739204e-02, 3.33823266e-02, 3.27193966e-02,\n",
       "       3.26162909e-02, 3.22053318e-02, 3.17229223e-02, 3.07745480e-02,\n",
       "       3.03654206e-02, 2.94060550e-02, 2.92735397e-02, 2.86757685e-02,\n",
       "       2.75789503e-02, 2.57443285e-02, 2.50665392e-02, 2.24658513e-02,\n",
       "       2.09267801e-02, 1.83524871e-02, 1.76221696e-02, 1.67402510e-02,\n",
       "       1.44320573e-02, 1.30836615e-02, 1.23844825e-02, 1.17587153e-02,\n",
       "       1.02549429e-02, 3.88919653e-17, 6.49896533e-18])"
      ]
     },
     "execution_count": 74,
     "metadata": {},
     "output_type": "execute_result"
    }
   ],
   "source": [
    "percent_variance_explained = sigma/sigma.sum()\n",
    "print(percent_variance_explained.sum())\n",
    "percent_variance_explained"
   ]
  },
  {
   "cell_type": "markdown",
   "id": "aa2fba1a-8207-420c-a616-a8a28ed56ff4",
   "metadata": {},
   "source": [
    "## Problem 4\n",
    "\n",
    "### Cumulative Variance Explained\n",
    "\n",
    "Using the solution to problem 3, how many principal components are necessary to retain up to 80% of the explained variance if we consider them in descending order?  Assign your response to `ans4` below as an integer. \n",
    "\n",
    "**HINT**: explore the `np.cumsum` function."
   ]
  },
  {
   "cell_type": "code",
   "execution_count": 75,
   "id": "07fdc174-6a14-47b2-866c-037877b551bb",
   "metadata": {},
   "outputs": [
    {
     "data": {
      "text/plain": [
       "21"
      ]
     },
     "execution_count": 75,
     "metadata": {},
     "output_type": "execute_result"
    }
   ],
   "source": [
    "ans44 = int((np.cumsum(percent_variance_explained) < .8).sum())\n",
    "ans44"
   ]
  },
  {
   "cell_type": "code",
   "execution_count": 76,
   "id": "fcbca709-4294-4fd5-9a47-d98c381416f4",
   "metadata": {},
   "outputs": [
    {
     "data": {
      "text/plain": [
       "array([0.08757692, 0.14576166, 0.19370719, 0.23970772, 0.27948317,\n",
       "       0.31513422, 0.35026271, 0.38473414, 0.41867326, 0.45244718,\n",
       "       0.48582951, 0.51854891, 0.5511652 , 0.58337053, 0.61509345,\n",
       "       0.645868  , 0.67623342, 0.70563948, 0.73491301, 0.76358878,\n",
       "       0.79116773, 0.81691206, 0.8419786 , 0.86444445, 0.88537123,\n",
       "       0.90372372, 0.92134589, 0.93808614, 0.9525182 , 0.96560186,\n",
       "       0.97798634, 0.98974506, 1.        , 1.        , 1.        ])"
      ]
     },
     "execution_count": 76,
     "metadata": {},
     "output_type": "execute_result"
    }
   ],
   "source": [
    "np.cumsum(percent_variance_explained)"
   ]
  },
  {
   "cell_type": "code",
   "execution_count": 77,
   "id": "6b694892-ec61-4f07-b1e8-11de7e63b165",
   "metadata": {},
   "outputs": [
    {
     "data": {
      "text/plain": [
       "array([ True,  True,  True,  True,  True,  True,  True,  True,  True,\n",
       "        True,  True,  True,  True,  True,  True,  True,  True,  True,\n",
       "        True,  True,  True, False, False, False, False, False, False,\n",
       "       False, False, False, False, False, False, False, False])"
      ]
     },
     "execution_count": 77,
     "metadata": {},
     "output_type": "execute_result"
    }
   ],
   "source": [
    "np.cumsum(percent_variance_explained)<0.8"
   ]
  },
  {
   "cell_type": "code",
   "execution_count": 79,
   "id": "c6d500aa-fb56-4fdc-b67f-1e1e4d91a95b",
   "metadata": {},
   "outputs": [
    {
     "data": {
      "text/plain": [
       "(35,)"
      ]
     },
     "execution_count": 79,
     "metadata": {},
     "output_type": "execute_result"
    }
   ],
   "source": [
    "percent_variance_explained.shape"
   ]
  },
  {
   "cell_type": "code",
   "execution_count": null,
   "id": "f22f6d4f-765f-4b97-b140-93bee9dfbb94",
   "metadata": {},
   "outputs": [],
   "source": []
  }
 ],
 "metadata": {
  "kernelspec": {
   "display_name": "Python 3 (ipykernel)",
   "language": "python",
   "name": "python3"
  },
  "language_info": {
   "codemirror_mode": {
    "name": "ipython",
    "version": 3
   },
   "file_extension": ".py",
   "mimetype": "text/x-python",
   "name": "python",
   "nbconvert_exporter": "python",
   "pygments_lexer": "ipython3",
   "version": "3.13.2"
  }
 },
 "nbformat": 4,
 "nbformat_minor": 5
}
