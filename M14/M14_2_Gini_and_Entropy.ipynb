{
 "cells": [
  {
   "cell_type": "markdown",
   "id": "6fcf0440-8fa8-496c-b637-e7d1b8dabd2f",
   "metadata": {},
   "source": [
    "### Examining Purity\n",
    "\n",
    "By default, the metric in the `DecisionTreeClassifier` is the Gini Criterion.  This assigment introduces its use through a basic example.  Your goal is to minimize the impurity based on a range of split options.  In the following assignment you will explore the alternative notion of `entropy` that can also be used as a criterion.  \n",
    "\n",
    "\n",
    "#### Index\n",
    "\n",
    "- [Problem 1](#-Problem-1)\n",
    "- [Problem 2](#-Problem-2)\n",
    "- [Problem 3](#-Problem-3)\n",
    "- [Problem 4](#-Problem-4)\n",
    "- [Problem 5](#-Problem-5)"
   ]
  },
  {
   "cell_type": "markdown",
   "id": "e117573f-2bac-40e0-a67b-a3b729050174",
   "metadata": {},
   "source": [
    "### Gini Impurity\n",
    "\n",
    "The Gini Criterion is used to identify the optimal place to make a decision for classification based on the purity of the results.  This is measured by a weighted sum of the node size and gini impurity of each split node defined as:\n",
    "\n",
    "$$\\sum_{k}p_{mk}(1 - p_{mk})$$\n",
    "\n",
    "where \n",
    "\n",
    "$$p_{mk} = \\frac{1}{N_m} \\sum_{y \\in Q_m} I(y = k)$$\n",
    "\n",
    "and $Q_m$ is the data at node $m$ with $N_m$ samples.  [source](https://scikit-learn.org/stable/modules/tree.html#mathematical-formulation)"
   ]
  },
  {
   "cell_type": "markdown",
   "id": "de585910-0685-4726-b70d-bc20a292afb0",
   "metadata": {},
   "source": [
    "### The Data\n",
    "\n",
    "Below, a small sample from the built in `titanic` dataset is loaded and displayed.  The classification problem is to predict survival on the ship.  You will use the `age` (age of passenger) and `pclass` (passenger class) features to explore the gini splitting criterion."
   ]
  },
  {
   "cell_type": "code",
   "execution_count": 2,
   "id": "4a80e1a4-1c88-4a47-adce-cf77ae3c5576",
   "metadata": {},
   "outputs": [],
   "source": [
    "import pandas as pd\n",
    "import numpy as np\n",
    "import matplotlib.pyplot as plt\n",
    "import seaborn as sns\n",
    "\n",
    "from sklearn.tree import DecisionTreeClassifier, export_text, plot_tree\n",
    "from sklearn.model_selection import train_test_split"
   ]
  },
  {
   "cell_type": "code",
   "execution_count": 3,
   "id": "90940f0c-9a85-4cdc-a167-184167285f90",
   "metadata": {},
   "outputs": [],
   "source": [
    "titanic = sns.load_dataset('titanic')[['age', 'pclass', 'survived']].head()\n"
   ]
  },
  {
   "cell_type": "code",
   "execution_count": 4,
   "id": "45672edf-e5b1-46f6-9bbd-96579c2753e5",
   "metadata": {},
   "outputs": [
    {
     "data": {
      "text/html": [
       "<div>\n",
       "<style scoped>\n",
       "    .dataframe tbody tr th:only-of-type {\n",
       "        vertical-align: middle;\n",
       "    }\n",
       "\n",
       "    .dataframe tbody tr th {\n",
       "        vertical-align: top;\n",
       "    }\n",
       "\n",
       "    .dataframe thead th {\n",
       "        text-align: right;\n",
       "    }\n",
       "</style>\n",
       "<table border=\"1\" class=\"dataframe\">\n",
       "  <thead>\n",
       "    <tr style=\"text-align: right;\">\n",
       "      <th></th>\n",
       "      <th>age</th>\n",
       "      <th>pclass</th>\n",
       "      <th>survived</th>\n",
       "    </tr>\n",
       "  </thead>\n",
       "  <tbody>\n",
       "    <tr>\n",
       "      <th>0</th>\n",
       "      <td>22.0</td>\n",
       "      <td>3</td>\n",
       "      <td>0</td>\n",
       "    </tr>\n",
       "    <tr>\n",
       "      <th>1</th>\n",
       "      <td>38.0</td>\n",
       "      <td>1</td>\n",
       "      <td>1</td>\n",
       "    </tr>\n",
       "    <tr>\n",
       "      <th>2</th>\n",
       "      <td>26.0</td>\n",
       "      <td>3</td>\n",
       "      <td>1</td>\n",
       "    </tr>\n",
       "    <tr>\n",
       "      <th>3</th>\n",
       "      <td>35.0</td>\n",
       "      <td>1</td>\n",
       "      <td>1</td>\n",
       "    </tr>\n",
       "    <tr>\n",
       "      <th>4</th>\n",
       "      <td>35.0</td>\n",
       "      <td>3</td>\n",
       "      <td>0</td>\n",
       "    </tr>\n",
       "  </tbody>\n",
       "</table>\n",
       "</div>"
      ],
      "text/plain": [
       "    age  pclass  survived\n",
       "0  22.0       3         0\n",
       "1  38.0       1         1\n",
       "2  26.0       3         1\n",
       "3  35.0       1         1\n",
       "4  35.0       3         0"
      ]
     },
     "execution_count": 4,
     "metadata": {},
     "output_type": "execute_result"
    }
   ],
   "source": [
    "titanic"
   ]
  },
  {
   "cell_type": "markdown",
   "id": "8623312b-8b5f-4ca4-8293-1beb1b8a8adc",
   "metadata": {},
   "source": [
    "The **GINI IMPURITY** of the original data is:\n",
    "\n",
    "$$ 1 - (\\frac{3}{5})^2 - (\\frac{2}{5})^2$$"
   ]
  },
  {
   "cell_type": "code",
   "execution_count": 5,
   "id": "5be9a89b-fe80-4ffd-b0c1-144af628fcec",
   "metadata": {},
   "outputs": [
    {
     "data": {
      "text/plain": [
       "0.48"
      ]
     },
     "execution_count": 5,
     "metadata": {},
     "output_type": "execute_result"
    }
   ],
   "source": [
    "1 - (3/5)**2 - (2/5)**2"
   ]
  },
  {
   "cell_type": "markdown",
   "id": "047a749c-c9fc-4e02-b178-8f02d315ea52",
   "metadata": {},
   "source": [
    "### Problem 1\n",
    "\n",
    "#### Split on Passenger Class\n",
    "\n",
    "To begin, consider the information in the data based on splitting the `pclass` column.  Compute the Gini Impurity of the left and right side of the split as `gini_pclass1` and `gini_pclass3` below.  Remember that to compute the gini impurity means:\n",
    "\n",
    "$$1 - P(\\text{survived})^2 - P(\\text{neither survived})^2$$"
   ]
  },
  {
   "cell_type": "code",
   "execution_count": 6,
   "id": "b1c7e45c-df90-4829-ba88-dad2d4bfc422",
   "metadata": {},
   "outputs": [],
   "source": [
    "gini_pclass1 = 1 - 1 - 0\n",
    "gini_pclass3 = 1 - (1/3)**2 - (2/3)**2"
   ]
  },
  {
   "cell_type": "code",
   "execution_count": 7,
   "id": "d8b95a8a-4c6d-46c7-ab62-7b473f16211d",
   "metadata": {},
   "outputs": [
    {
     "name": "stdout",
     "output_type": "stream",
     "text": [
      "Left node:  0.00\n",
      "Right Node:  0.44\n"
     ]
    }
   ],
   "source": [
    "print(f'Left node: {gini_pclass1: .2f}\\nRight Node: {gini_pclass3: .2f}')"
   ]
  },
  {
   "cell_type": "markdown",
   "id": "90d87795-37ca-48f5-890a-774140d88e06",
   "metadata": {},
   "source": [
    "### Problem 2\n",
    "\n",
    "#### Computing the Gini Impurity for Passenger Class\n",
    "\n",
    "Now, to compute the Gini Impurity of the split we find a weighted average of the gini impurities for each leaf node.  These represent the proportion of data in each node times the gini impurity.  \n",
    "\n",
    "$$\\text{Gini Impurity} = \\text{Proporition in pclass1}\\times\\text{gini_pclass1} + \\text{Proporition in pclass3}\\times\\text{gini_pclass3} $$"
   ]
  },
  {
   "cell_type": "code",
   "execution_count": 8,
   "id": "95c01f6e-66a4-4ef9-bcbf-a302c98d1b74",
   "metadata": {},
   "outputs": [],
   "source": [
    "gini_pclass1 = 1 - 1 - 0\n",
    "gini_pclass3 = 1 - (1/3)**2 - (2/3)**2\n",
    "gini_imp_pclass = 2/5*gini_pclass1 + 3/5*gini_pclass3"
   ]
  },
  {
   "cell_type": "code",
   "execution_count": 9,
   "id": "c0395279-074c-4a10-b1ab-90b3a5e77c60",
   "metadata": {},
   "outputs": [
    {
     "name": "stdout",
     "output_type": "stream",
     "text": [
      "0.26666666666666666\n"
     ]
    }
   ],
   "source": [
    "print(gini_imp_pclass)"
   ]
  },
  {
   "cell_type": "markdown",
   "id": "db513221-8a50-439e-ad0b-fab901ec8c8c",
   "metadata": {},
   "source": [
    "### Problem 3\n",
    "\n",
    "#### Splitting on `age` < 23\n",
    "\n",
    "Compute the gini impurity for each node below and determine the gini impurity of the split by the comparison `age < 23`.  Assign your answers as `under_23_gini`, `over_23_gini`, and `gini_imp_age` below."
   ]
  },
  {
   "cell_type": "code",
   "execution_count": 10,
   "id": "e1b05e56-85fb-4e4e-bf3e-bd1c20b34fa7",
   "metadata": {},
   "outputs": [],
   "source": [
    "under_23_gini = 1 - 0**2 - 1**2\n",
    "over_23_gini = 1 - (3/4)**2 - (1/4)**2\n",
    "gini_imp_age = 1/5*under_23_gini + 4/5*over_23_gini"
   ]
  },
  {
   "cell_type": "code",
   "execution_count": 11,
   "id": "b5fa1176-6c29-44d3-89cf-99657e12c5a5",
   "metadata": {},
   "outputs": [
    {
     "name": "stdout",
     "output_type": "stream",
     "text": [
      "0.30000000000000004\n"
     ]
    }
   ],
   "source": [
    "print(gini_imp_age)"
   ]
  },
  {
   "cell_type": "markdown",
   "id": "cc84a9d8-5fed-4b65-b62d-21a167e41267",
   "metadata": {},
   "source": [
    "### Problem 4\n",
    "\n",
    "#### Minimizing Impurity\n",
    "\n",
    "Compare your impurities and determine which decision rule has a lower impurtiy.  Assign your answer to `min_impurity` as `pclass` or `age_23` below."
   ]
  },
  {
   "cell_type": "code",
   "execution_count": 12,
   "id": "5c0c1312-c5b4-47be-b04b-f53357c4444b",
   "metadata": {},
   "outputs": [],
   "source": [
    "min_impurity = 'pclass'"
   ]
  },
  {
   "cell_type": "markdown",
   "id": "800f9737-0a66-499e-a37d-faaf1ad228dd",
   "metadata": {},
   "source": [
    "### Problem 5\n",
    "\n",
    "#### Comparing to `DecisionTreeClassifier`\n",
    "\n",
    "To identify the *best* split, we would have to consider the other possible age splits.  We will let the `DecisionTreeClassifier` determine this below.  Plot the results of a decision tree of depth 1 below and note the ideal splitting criteria value. Plot the tree and assign to `dtree_graph` below, note the best split.  Does this line up with your earlier computations?"
   ]
  },
  {
   "cell_type": "code",
   "execution_count": 13,
   "id": "9a9e5253-51e3-42c4-9f90-edb41f31280b",
   "metadata": {},
   "outputs": [
    {
     "data": {
      "image/png": "[encoded data removed]",
      "text/plain": [
       "<Figure size 640x480 with 1 Axes>"
      ]
     },
     "metadata": {},
     "output_type": "display_data"
    }
   ],
   "source": [
    "dtree = DecisionTreeClassifier(max_depth = 1).fit(titanic.drop('survived', axis = 1), titanic.survived)\n",
    "dtree_graph = plot_tree(dtree, feature_names=titanic.drop('survived', axis = 1).columns)"
   ]
  },
  {
   "cell_type": "code",
   "execution_count": null,
   "id": "6e734990-617e-4bdf-974c-80f71184be6d",
   "metadata": {},
   "outputs": [],
   "source": []
  },
  {
   "cell_type": "markdown",
   "id": "626eedfe-8c86-41a2-a000-5c1e0c6a91a8",
   "metadata": {},
   "source": [
    "### Codio Activity 14.4:  Using Entropy\n",
    "\n",
    "This activity focuses on using *entropy* to split nodes in a Decision Tree.  First, you will compute entropy by hand on a small example dataset.  Next, you will use the `DecisionTreeClassifier` to split based on an entropy criteria. \n",
    "\n",
    "\n",
    "$$\\displaystyle H=-\\sum _{i}p_{i}\\log p_{i}$$\n",
    "\n",
    "#### Index\n",
    "\n",
    "- [Problem 1](#-Problem-1)\n",
    "- [Problem 2](#-Problem-2)\n",
    "- [Problem 3](#-Problem-3)\n",
    "- [Problem 4](#-Problem-4)\n",
    "- [Problem 5](#-Problem-5)"
   ]
  },
  {
   "cell_type": "code",
   "execution_count": 14,
   "id": "6180a32e-2675-41c3-ad81-604e015745e8",
   "metadata": {},
   "outputs": [],
   "source": [
    "import pandas as pd\n",
    "import numpy as np\n",
    "import matplotlib.pyplot as plt\n",
    "import seaborn as sns\n",
    "\n",
    "from sklearn.tree import DecisionTreeClassifier, export_text, plot_tree\n",
    "from sklearn.model_selection import train_test_split"
   ]
  },
  {
   "cell_type": "markdown",
   "id": "e0e875fc-5764-47c5-ae79-e7cc024c021f",
   "metadata": {},
   "source": [
    "### Sample Data\n",
    "\n",
    "Below, the same small titanic dataset is created for your with five rows, and assigned as `titanic` below."
   ]
  },
  {
   "cell_type": "code",
   "execution_count": 15,
   "id": "d61e3e94-cf5a-4018-82b3-7a3e445cd75d",
   "metadata": {},
   "outputs": [],
   "source": [
    "titanic = sns.load_dataset('titanic')[['age', 'pclass', 'survived']].head()"
   ]
  },
  {
   "cell_type": "code",
   "execution_count": 16,
   "id": "5dbf0fdd-644d-405d-b082-089aebd8a0ce",
   "metadata": {},
   "outputs": [
    {
     "data": {
      "text/html": [
       "<div>\n",
       "<style scoped>\n",
       "    .dataframe tbody tr th:only-of-type {\n",
       "        vertical-align: middle;\n",
       "    }\n",
       "\n",
       "    .dataframe tbody tr th {\n",
       "        vertical-align: top;\n",
       "    }\n",
       "\n",
       "    .dataframe thead th {\n",
       "        text-align: right;\n",
       "    }\n",
       "</style>\n",
       "<table border=\"1\" class=\"dataframe\">\n",
       "  <thead>\n",
       "    <tr style=\"text-align: right;\">\n",
       "      <th></th>\n",
       "      <th>age</th>\n",
       "      <th>pclass</th>\n",
       "      <th>survived</th>\n",
       "    </tr>\n",
       "  </thead>\n",
       "  <tbody>\n",
       "    <tr>\n",
       "      <th>0</th>\n",
       "      <td>22.0</td>\n",
       "      <td>3</td>\n",
       "      <td>0</td>\n",
       "    </tr>\n",
       "    <tr>\n",
       "      <th>1</th>\n",
       "      <td>38.0</td>\n",
       "      <td>1</td>\n",
       "      <td>1</td>\n",
       "    </tr>\n",
       "    <tr>\n",
       "      <th>2</th>\n",
       "      <td>26.0</td>\n",
       "      <td>3</td>\n",
       "      <td>1</td>\n",
       "    </tr>\n",
       "    <tr>\n",
       "      <th>3</th>\n",
       "      <td>35.0</td>\n",
       "      <td>1</td>\n",
       "      <td>1</td>\n",
       "    </tr>\n",
       "    <tr>\n",
       "      <th>4</th>\n",
       "      <td>35.0</td>\n",
       "      <td>3</td>\n",
       "      <td>0</td>\n",
       "    </tr>\n",
       "  </tbody>\n",
       "</table>\n",
       "</div>"
      ],
      "text/plain": [
       "    age  pclass  survived\n",
       "0  22.0       3         0\n",
       "1  38.0       1         1\n",
       "2  26.0       3         1\n",
       "3  35.0       1         1\n",
       "4  35.0       3         0"
      ]
     },
     "execution_count": 16,
     "metadata": {},
     "output_type": "execute_result"
    }
   ],
   "source": [
    "titanic"
   ]
  },
  {
   "cell_type": "code",
   "execution_count": 17,
   "id": "155950a4-fd8e-4c17-9552-3de25256f7b0",
   "metadata": {},
   "outputs": [],
   "source": [
    "X, y = titanic.drop('survived', axis = 1), titanic.survived"
   ]
  },
  {
   "cell_type": "markdown",
   "id": "2e30f2cd-c491-4c31-ace9-aae396907206",
   "metadata": {},
   "source": [
    "### Problem 1\n",
    "\n",
    "#### Computing the Entropy\n",
    "\n",
    "To begin, the entropy of the data is determined by computing the probability for each class and plugging it into the `entropy` formula.  Use the data in `df` to compute the entropy for all the data and assign it as a float to `all_entropy` below. \n",
    "\n",
    "**NOTE**:  use `np.log2` to compute the logarithm. "
   ]
  },
  {
   "cell_type": "code",
   "execution_count": 18,
   "id": "553baa89-95f8-45ac-8f6f-6289e7e88848",
   "metadata": {},
   "outputs": [
    {
     "data": {
      "text/plain": [
       "np.float64(0.9709505944546686)"
      ]
     },
     "execution_count": 18,
     "metadata": {},
     "output_type": "execute_result"
    }
   ],
   "source": [
    "all_entropy = - 0.4* np.log2(0.4) - 0.6* np.log2(0.6)\n",
    "all_entropy"
   ]
  },
  {
   "cell_type": "markdown",
   "id": "0b1064b9-2ebc-4647-9e45-ee3d13cab773",
   "metadata": {},
   "source": [
    "### Problem 2\n",
    "\n",
    "#### Splitting Data\n",
    "\n",
    "Now, consider splitting the data where `pclass = 1`.   \n",
    "\n",
    "Compute the entropy for each dataframe as `ent_pclass1` where `pclass < 2` is `True` and `ent_pclass3` respectively.  "
   ]
  },
  {
   "cell_type": "code",
   "execution_count": 19,
   "id": "7e6fc549-e297-4538-91c7-836714032b69",
   "metadata": {},
   "outputs": [],
   "source": [
    "ent_pclass1 = -1*np.log2(1)\n",
    "ent_pclass3 = -(2/3*np.log2(2/3) + 1/3*np.log2(1/3))"
   ]
  },
  {
   "cell_type": "code",
   "execution_count": 20,
   "id": "4662cd82-55a4-4f74-b367-70ff27a7d535",
   "metadata": {},
   "outputs": [
    {
     "name": "stdout",
     "output_type": "stream",
     "text": [
      "Left node: -0.00\n",
      "Right Node:  0.92\n"
     ]
    }
   ],
   "source": [
    "print(f'Left node: {ent_pclass1: .2f}\\nRight Node: {ent_pclass3: .2f}')"
   ]
  },
  {
   "cell_type": "markdown",
   "id": "62967467-7a48-401c-a0c1-34f469a26e88",
   "metadata": {},
   "source": [
    "### Problem 3\n",
    "\n",
    "#### Weighting the Entropy\n",
    "\n",
    "Because the split doesn't produce equal sized groups, we want to weight the entropy based on the size of the data in the node.  Use the proportion of data in the respective nodes to compute the total entropy by summing the weighted entropy values below. Assign as a float to `pclass_entropy` below. "
   ]
  },
  {
   "cell_type": "code",
   "execution_count": 21,
   "id": "a856318a-ecab-48b3-8dac-13d0fea58761",
   "metadata": {},
   "outputs": [],
   "source": [
    "ent_pclass1 = -1*np.log2(1)\n",
    "ent_pclass3 = -(2/3*np.log2(2/3) + 1/3*np.log2(1/3))\n",
    "pclass_entropy = (2/5) * ent_pclass1 + (3/5) * ent_pclass3"
   ]
  },
  {
   "cell_type": "code",
   "execution_count": 22,
   "id": "dcf1fbc1-ffce-456c-b792-d09a215d3a0d",
   "metadata": {},
   "outputs": [
    {
     "name": "stdout",
     "output_type": "stream",
     "text": [
      "Entropy for passenger class:  0.55\n"
     ]
    }
   ],
   "source": [
    "print(f'Entropy for passenger class: {pclass_entropy: .2f}')"
   ]
  },
  {
   "cell_type": "markdown",
   "id": "1134c52a-41ad-43d0-bda5-b325ac73d9f0",
   "metadata": {},
   "source": [
    "### Problem 4\n",
    "\n",
    "#### Entropy based on `age < 23`\n",
    "\n",
    "Compute the weighted sum of the entropy based on splitting based on `age < 23`.  Assign this to `entropy_age` below.  "
   ]
  },
  {
   "cell_type": "code",
   "execution_count": 23,
   "id": "1325cbf1-16e3-4ded-af9e-d0e6bf287089",
   "metadata": {},
   "outputs": [
    {
     "data": {
      "text/html": [
       "<div>\n",
       "<style scoped>\n",
       "    .dataframe tbody tr th:only-of-type {\n",
       "        vertical-align: middle;\n",
       "    }\n",
       "\n",
       "    .dataframe tbody tr th {\n",
       "        vertical-align: top;\n",
       "    }\n",
       "\n",
       "    .dataframe thead th {\n",
       "        text-align: right;\n",
       "    }\n",
       "</style>\n",
       "<table border=\"1\" class=\"dataframe\">\n",
       "  <thead>\n",
       "    <tr style=\"text-align: right;\">\n",
       "      <th></th>\n",
       "      <th>age</th>\n",
       "      <th>pclass</th>\n",
       "      <th>survived</th>\n",
       "    </tr>\n",
       "  </thead>\n",
       "  <tbody>\n",
       "    <tr>\n",
       "      <th>0</th>\n",
       "      <td>22.0</td>\n",
       "      <td>3</td>\n",
       "      <td>0</td>\n",
       "    </tr>\n",
       "    <tr>\n",
       "      <th>1</th>\n",
       "      <td>38.0</td>\n",
       "      <td>1</td>\n",
       "      <td>1</td>\n",
       "    </tr>\n",
       "    <tr>\n",
       "      <th>2</th>\n",
       "      <td>26.0</td>\n",
       "      <td>3</td>\n",
       "      <td>1</td>\n",
       "    </tr>\n",
       "    <tr>\n",
       "      <th>3</th>\n",
       "      <td>35.0</td>\n",
       "      <td>1</td>\n",
       "      <td>1</td>\n",
       "    </tr>\n",
       "    <tr>\n",
       "      <th>4</th>\n",
       "      <td>35.0</td>\n",
       "      <td>3</td>\n",
       "      <td>0</td>\n",
       "    </tr>\n",
       "  </tbody>\n",
       "</table>\n",
       "</div>"
      ],
      "text/plain": [
       "    age  pclass  survived\n",
       "0  22.0       3         0\n",
       "1  38.0       1         1\n",
       "2  26.0       3         1\n",
       "3  35.0       1         1\n",
       "4  35.0       3         0"
      ]
     },
     "execution_count": 23,
     "metadata": {},
     "output_type": "execute_result"
    }
   ],
   "source": [
    "titanic"
   ]
  },
  {
   "cell_type": "code",
   "execution_count": 24,
   "id": "6d28dbe3-1971-4c92-93c6-c67e9f97bf3d",
   "metadata": {},
   "outputs": [],
   "source": [
    "ent_age1 = 0\n",
    "ent_age2 = -(1/4*np.log2(1/4) + 3/4*np.log2(3/4))\n",
    "entropy_age = 4/5*ent_age2 + 1/5*ent_age1"
   ]
  },
  {
   "cell_type": "code",
   "execution_count": 25,
   "id": "bbd88d0f-a92c-49e5-bbe7-6a0b4c4ddce2",
   "metadata": {},
   "outputs": [
    {
     "name": "stdout",
     "output_type": "stream",
     "text": [
      "0.6490224995673063\n"
     ]
    }
   ],
   "source": [
    "print(entropy_age)"
   ]
  },
  {
   "cell_type": "markdown",
   "id": "e1d0fdca-02a6-499a-b289-98898f873f71",
   "metadata": {},
   "source": [
    "### Problem 5\n",
    "\n",
    "#### Minimizing Entropy\n",
    "\n",
    "Use the `DecisionTreeClassifier` to fit the data with `max_depth = 1` and `criterion = 'entropy'`.  What does the estimator identify as the optimal splitting criterion? Assign the plot of the tree including the feature names and nodes filled to `entropy_tree` below.  "
   ]
  },
  {
   "cell_type": "code",
   "execution_count": 26,
   "id": "376deb7f-b4be-4a03-ab7e-7cf377a66c0c",
   "metadata": {},
   "outputs": [
    {
     "data": {
      "image/png": "[encoded data removed]",
      "text/plain": [
       "<Figure size 640x480 with 1 Axes>"
      ]
     },
     "metadata": {},
     "output_type": "display_data"
    }
   ],
   "source": [
    "dtree = DecisionTreeClassifier(criterion='entropy', max_depth = 1).fit(X, y)\n",
    "entropy_tree = plot_tree(dtree, feature_names=X.columns, filled = True)"
   ]
  },
  {
   "cell_type": "code",
   "execution_count": 27,
   "id": "13b6773f-701f-4e61-bc58-ba53a9ee2e07",
   "metadata": {},
   "outputs": [
    {
     "data": {
      "text/plain": [
       "[Text(0.5, 0.75, 'pclass <= 2.0\\nentropy = 0.971\\nsamples = 5\\nvalue = [2, 3]'),\n",
       " Text(0.25, 0.25, 'entropy = 0.0\\nsamples = 2\\nvalue = [0, 2]'),\n",
       " Text(0.375, 0.5, 'True  '),\n",
       " Text(0.75, 0.25, 'entropy = 0.918\\nsamples = 3\\nvalue = [2, 1]'),\n",
       " Text(0.625, 0.5, '  False')]"
      ]
     },
     "execution_count": 27,
     "metadata": {},
     "output_type": "execute_result"
    }
   ],
   "source": [
    "entropy_tree"
   ]
  },
  {
   "cell_type": "code",
   "execution_count": null,
   "id": "233ecd84-5267-4db3-9cc9-4fd06e1dac64",
   "metadata": {},
   "outputs": [],
   "source": []
  }
 ],
 "metadata": {
  "kernelspec": {
   "display_name": "Python 3 (ipykernel)",
   "language": "python",
   "name": "python3"
  },
  "language_info": {
   "codemirror_mode": {
    "name": "ipython",
    "version": 3
   },
   "file_extension": ".py",
   "mimetype": "text/x-python",
   "name": "python",
   "nbconvert_exporter": "python",
   "pygments_lexer": "ipython3",
   "version": "3.13.2"
  }
 },
 "nbformat": 4,
 "nbformat_minor": 5
}
